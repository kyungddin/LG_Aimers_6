{
 "cells": [
  {
   "cell_type": "markdown",
   "id": "54f2609a-5ee9-4f3a-bf03-c679a4e38380",
   "metadata": {
    "id": "54f2609a-5ee9-4f3a-bf03-c679a4e38380"
   },
   "source": [
    "# Import + CSV"
   ]
  },
  {
   "cell_type": "code",
   "execution_count": 2,
   "id": "d0e0e423-e6b7-4f50-92d6-536980fbd366",
   "metadata": {
    "id": "d0e0e423-e6b7-4f50-92d6-536980fbd366"
   },
   "outputs": [],
   "source": [
    "import pandas as pd\n",
    "import numpy as np\n",
    "import matplotlib.pyplot as plt\n",
    "import seaborn as sns\n",
    "import prince\n",
    "\n",
    "from sklearn.ensemble import ExtraTreesClassifier\n",
    "from sklearn.preprocessing import OrdinalEncoder, OneHotEncoder\n",
    "\n",
    "import lightgbm as lgb\n",
    "from sklearn.model_selection import train_test_split\n",
    "from sklearn.metrics import roc_auc_score\n",
    "\n",
    "train = pd.read_csv('./train.csv').drop(columns=['ID'])\n",
    "test = pd.read_csv('./test.csv').drop(columns=['ID'])"
   ]
  },
  {
   "cell_type": "markdown",
   "id": "66944d04-6344-41c4-8d9f-02a2e59cd491",
   "metadata": {
    "id": "66944d04-6344-41c4-8d9f-02a2e59cd491"
   },
   "source": [
    "# EDA"
   ]
  },
  {
   "cell_type": "markdown",
   "id": "6ba3ebe7-19eb-416f-af5f-2283812d4037",
   "metadata": {
    "id": "6ba3ebe7-19eb-416f-af5f-2283812d4037"
   },
   "source": [
    "### 단순 drop (수정: 그냥 결측치 많은 거 전부 제거 + 난자 채취 경과일 살리기)"
   ]
  },
  {
   "cell_type": "code",
   "execution_count": 5,
   "id": "5d0616f1-9905-40fe-86be-9bf7c395524d",
   "metadata": {
    "id": "5d0616f1-9905-40fe-86be-9bf7c395524d"
   },
   "outputs": [],
   "source": [
    "train.drop(columns=['임신 시도 또는 마지막 임신 경과 연수'], inplace=True)\n",
    "test.drop(columns=['임신 시도 또는 마지막 임신 경과 연수'], inplace=True)\n",
    "\n",
    "train.drop(columns=['착상 전 유전 검사 사용 여부'], inplace=True)\n",
    "test.drop(columns=['착상 전 유전 검사 사용 여부'], inplace=True)\n",
    "\n",
    "train.drop(columns=['난자 해동 경과일'], inplace=True)\n",
    "test.drop(columns=['난자 해동 경과일'], inplace=True)\n",
    "\n",
    "train.drop(columns=['배아 해동 경과일'], inplace=True)\n",
    "test.drop(columns=['배아 해동 경과일'], inplace=True)\n",
    "\n",
    "train.drop(columns=['PGS 시술 여부'], inplace=True)\n",
    "test.drop(columns=['PGS 시술 여부'], inplace=True)\n",
    "\n",
    "train.drop(columns=['PGD 시술 여부'], inplace=True)\n",
    "test.drop(columns=['PGD 시술 여부'], inplace=True)\n",
    "\n",
    "train.drop(columns=['동결 배아 사용 여부'], inplace=True)\n",
    "test.drop(columns=['동결 배아 사용 여부'], inplace=True)\n",
    "\n",
    "train.drop(columns=['난자 채취 경과일'], inplace=True)\n",
    "test.drop(columns=['난자 채취 경과일'], inplace=True)\n",
    "\n",
    "train.drop(columns=['난자 혼합 경과일'], inplace=True)\n",
    "test.drop(columns=['난자 혼합 경과일'], inplace=True)\n",
    "\n",
    "train.drop(columns=['배아 이식 경과일'], inplace=True)\n",
    "test.drop(columns=['배아 이식 경과일'], inplace=True)"
   ]
  },
  {
   "cell_type": "markdown",
   "id": "397c5b7d-e395-46ec-b350-7b38833206d4",
   "metadata": {
    "id": "397c5b7d-e395-46ec-b350-7b38833206d4"
   },
   "source": [
    "### DI 시술 여부일 때 결측치 -1 처리"
   ]
  },
  {
   "cell_type": "code",
   "execution_count": 7,
   "id": "82e53a1a-018c-43a6-b38e-5207f7e24873",
   "metadata": {
    "id": "82e53a1a-018c-43a6-b38e-5207f7e24873"
   },
   "outputs": [],
   "source": [
    "train.drop(columns=['미세주입된 난자 수'], inplace=True)\n",
    "test.drop(columns=['미세주입된 난자 수'], inplace=True)\n",
    "\n",
    "train.drop(columns=['미세주입 배아 이식 수'], inplace=True)\n",
    "test.drop(columns=['미세주입 배아 이식 수'], inplace=True)\n",
    "\n",
    "train.drop(columns=['미세주입 후 저장된 배아 수'], inplace=True)\n",
    "test.drop(columns=['미세주입 후 저장된 배아 수'], inplace=True)\n",
    "\n",
    "train.drop(columns=['미세주입에서 생성된 배아 수'], inplace=True)\n",
    "test.drop(columns=['미세주입에서 생성된 배아 수'], inplace=True)\n",
    "\n",
    "train.drop(columns=['혼합된 난자 수'], inplace=True)\n",
    "test.drop(columns=['혼합된 난자 수'], inplace=True)\n",
    "\n",
    "train.drop(columns=['파트너 정자와 혼합된 난자 수'], inplace=True)\n",
    "test.drop(columns=['파트너 정자와 혼합된 난자 수'], inplace=True)\n",
    "\n",
    "train.drop(columns=['기증자 정자와 혼합된 난자 수'], inplace=True)\n",
    "test.drop(columns=['기증자 정자와 혼합된 난자 수'], inplace=True)\n",
    "\n",
    "features = ['총 생성 배아 수', '이식된 배아 수', '저장된 배아 수',\n",
    "            '해동된 배아 수', '해동 난자 수', '수집된 신선 난자 수', '저장된 신선 난자 수']\n",
    "\n",
    "train[features] = train[features].fillna(-1)\n",
    "test[features] = test[features].fillna(-1)"
   ]
  },
  {
   "cell_type": "markdown",
   "id": "9b539b30-547c-4b95-b22a-c4fcd3be196c",
   "metadata": {
    "id": "9b539b30-547c-4b95-b22a-c4fcd3be196c"
   },
   "source": [
    "### DI 시술 여부일 때 결측치 -1 처리 후 원 핫 인코딩 (추가됨)"
   ]
  },
  {
   "cell_type": "code",
   "execution_count": 9,
   "id": "c326fb44-a655-4888-8144-5e9f9183bab1",
   "metadata": {
    "id": "c326fb44-a655-4888-8144-5e9f9183bab1"
   },
   "outputs": [],
   "source": [
    "# 결측치를 -1로 채우기\n",
    "cols_to_fill = ['신선 배아 사용 여부', '기증 배아 사용 여부', '단일 배아 이식 여부']\n",
    "\n",
    "train[cols_to_fill] = train[cols_to_fill].fillna(-1)\n",
    "\n",
    "train.drop(columns=['대리모 여부'], inplace=True)\n",
    "test.drop(columns=['대리모 여부'], inplace=True)\n",
    "\n",
    "train.drop(columns=['착상 전 유전 진단 사용 여부'], inplace=True)\n",
    "test.drop(columns=['착상 전 유전 진단 사용 여부'], inplace=True)\n",
    "\n",
    "# 원핫인코딩 적용\n",
    "train_encoded = pd.get_dummies(train, columns=cols_to_fill)\n",
    "\n",
    "# 기존 열을 삭제한 train 데이터프레임\n",
    "train = train_encoded\n",
    "\n",
    "# 결측치를 -1로 채우기\n",
    "cols_to_fill = ['신선 배아 사용 여부', '기증 배아 사용 여부', '단일 배아 이식 여부']\n",
    "\n",
    "test[cols_to_fill] = test[cols_to_fill].fillna(-1)\n",
    "\n",
    "# 원핫인코딩 적용\n",
    "test_encoded = pd.get_dummies(test, columns=cols_to_fill)\n",
    "\n",
    "# 기존 열을 삭제한 test 데이터프레임\n",
    "test = test_encoded\n"
   ]
  },
  {
   "cell_type": "markdown",
   "id": "54df48d2-68b2-4ae6-b086-bdc0ebb77639",
   "metadata": {
    "id": "54df48d2-68b2-4ae6-b086-bdc0ebb77639"
   },
   "source": [
    "### 주/부 count feature 추가"
   ]
  },
  {
   "cell_type": "code",
   "execution_count": 11,
   "id": "60f1e4f8-a251-4792-bece-743354b9335d",
   "metadata": {
    "id": "60f1e4f8-a251-4792-bece-743354b9335d"
   },
   "outputs": [],
   "source": [
    "train[\"주 불임 원인 개수\"] = (\n",
    "    train[\"남성 주 불임 원인\"] + train[\"여성 주 불임 원인\"] + train[\"부부 주 불임 원인\"]\n",
    ")\n",
    "test[\"주 불임 원인 개수\"] = (\n",
    "    test[\"남성 주 불임 원인\"] + test[\"여성 주 불임 원인\"] + test[\"부부 주 불임 원인\"]\n",
    ")\n",
    "\n",
    "train[\"부 불임 원인 개수\"] = (\n",
    "    train[\"남성 부 불임 원인\"] + train[\"여성 부 불임 원인\"] + train[\"부부 부 불임 원인\"]\n",
    ")\n",
    "test[\"부 불임 원인 개수\"] = (\n",
    "    test[\"남성 부 불임 원인\"] + test[\"여성 부 불임 원인\"] + test[\"부부 부 불임 원인\"]\n",
    ")\n",
    "\n",
    "train.drop(columns=['남성 주 불임 원인'], inplace=True)\n",
    "test.drop(columns=['남성 주 불임 원인'], inplace=True)\n",
    "\n",
    "train.drop(columns=['남성 부 불임 원인'], inplace=True)\n",
    "test.drop(columns=['남성 부 불임 원인'], inplace=True)\n",
    "\n",
    "train.drop(columns=['여성 주 불임 원인'], inplace=True)\n",
    "test.drop(columns=['여성 주 불임 원인'], inplace=True)\n",
    "\n",
    "train.drop(columns=['여성 부 불임 원인'], inplace=True)\n",
    "test.drop(columns=['여성 부 불임 원인'], inplace=True)\n",
    "\n",
    "train.drop(columns=['부부 주 불임 원인'], inplace=True)\n",
    "test.drop(columns=['부부 주 불임 원인'], inplace=True)\n",
    "\n",
    "train.drop(columns=['부부 부 불임 원인'], inplace=True)\n",
    "test.drop(columns=['부부 부 불임 원인'], inplace=True)"
   ]
  },
  {
   "cell_type": "markdown",
   "id": "04e55434-423e-4457-8c45-ac4094c97367",
   "metadata": {
    "id": "04e55434-423e-4457-8c45-ac4094c97367"
   },
   "source": [
    "### 여성 요인 합체 (이건 원본에도 반영해주자)"
   ]
  },
  {
   "cell_type": "code",
   "execution_count": 13,
   "id": "70a401f6-4d4f-4fe0-8eeb-43202b003478",
   "metadata": {
    "id": "70a401f6-4d4f-4fe0-8eeb-43202b003478"
   },
   "outputs": [],
   "source": [
    "train[\"불임 원인 - 여성 요인\"] = (\n",
    "    train[\"불임 원인 - 자궁내막증\"] + train[\"불임 원인 - 자궁경부 문제\"] + train[\"불임 원인 - 난관 질환\"] + train[\"불임 원인 - 배란 장애\"]\n",
    ")\n",
    "test[\"불임 원인 - 여성 요인\"] = (\n",
    "    test[\"불임 원인 - 자궁내막증\"] + test[\"불임 원인 - 자궁경부 문제\"] + test[\"불임 원인 - 난관 질환\"] + test[\"불임 원인 - 배란 장애\"]\n",
    ")\n",
    "\n",
    "train.drop(columns=['불임 원인 - 자궁내막증'], inplace=True)\n",
    "test.drop(columns=['불임 원인 - 자궁내막증'], inplace=True)\n",
    "\n",
    "train.drop(columns=['불임 원인 - 자궁경부 문제'], inplace=True)\n",
    "test.drop(columns=['불임 원인 - 자궁경부 문제'], inplace=True)\n",
    "\n",
    "train.drop(columns=['불임 원인 - 난관 질환'], inplace=True)\n",
    "test.drop(columns=['불임 원인 - 난관 질환'], inplace=True)\n",
    "\n",
    "train.drop(columns=['불임 원인 - 배란 장애'], inplace=True)\n",
    "test.drop(columns=['불임 원인 - 배란 장애'], inplace=True)"
   ]
  },
  {
   "cell_type": "markdown",
   "id": "f88fc4c1-1851-469e-b456-979ed272d8c6",
   "metadata": {
    "id": "f88fc4c1-1851-469e-b456-979ed272d8c6"
   },
   "source": [
    "### 남성 요인 개수 feature 추가"
   ]
  },
  {
   "cell_type": "code",
   "execution_count": 15,
   "id": "7d7e6442-daae-4f09-9e8f-d3ad2415cfa0",
   "metadata": {
    "id": "7d7e6442-daae-4f09-9e8f-d3ad2415cfa0"
   },
   "outputs": [],
   "source": [
    "train[\"불임 원인 - 남성 요인 개수\"] = (\n",
    "    train[\"불임 원인 - 정자 형태\"] +\n",
    "    train[\"불임 원인 - 정자 운동성\"] +\n",
    "    train[\"불임 원인 - 정자 면역학적 요인\"] +\n",
    "    train[\"불임 원인 - 정자 농도\"]\n",
    ")\n",
    "\n",
    "test[\"불임 원인 - 남성 요인 개수\"] = (\n",
    "    test[\"불임 원인 - 정자 형태\"] +\n",
    "    test[\"불임 원인 - 정자 운동성\"] +\n",
    "    test[\"불임 원인 - 정자 면역학적 요인\"] +\n",
    "    test[\"불임 원인 - 정자 농도\"]\n",
    ")\n",
    "\n",
    "train.drop(columns=[\"불임 원인 - 정자 형태\"], inplace=True)\n",
    "test.drop(columns=[\"불임 원인 - 정자 형태\"], inplace=True)\n",
    "\n",
    "train.drop(columns=['불임 원인 - 정자 운동성'], inplace=True)\n",
    "test.drop(columns=['불임 원인 - 정자 운동성'], inplace=True)\n",
    "\n",
    "train.drop(columns=['불임 원인 - 정자 면역학적 요인'], inplace=True)\n",
    "test.drop(columns=['불임 원인 - 정자 면역학적 요인'], inplace=True)\n",
    "\n",
    "train.drop(columns=['불임 원인 - 정자 농도'], inplace=True)\n",
    "test.drop(columns=['불임 원인 - 정자 농도'], inplace=True)"
   ]
  },
  {
   "cell_type": "markdown",
   "id": "b1e1fadc-716e-4db5-8417-384dc473af4f",
   "metadata": {
    "id": "b1e1fadc-716e-4db5-8417-384dc473af4f"
   },
   "source": [
    "### 배아 생성 주요 이유 (원핫)"
   ]
  },
  {
   "cell_type": "code",
   "execution_count": 17,
   "id": "76a95020-6ed4-45e4-b4ba-aa36737e59e6",
   "metadata": {
    "id": "76a95020-6ed4-45e4-b4ba-aa36737e59e6",
    "outputId": "7630c0e6-15e3-4f6b-8043-6c3fa51a4e6d"
   },
   "outputs": [],
   "source": [
    "train.drop(columns=['배아 생성 주요 이유'], inplace=True)\n",
    "test.drop(columns=['배아 생성 주요 이유'], inplace=True)"
   ]
  },
  {
   "cell_type": "markdown",
   "id": "a276543c-ae79-498f-9cdf-65073d92fb29",
   "metadata": {
    "id": "a276543c-ae79-498f-9cdf-65073d92fb29"
   },
   "source": [
    "### 시술 횟수 관련"
   ]
  },
  {
   "cell_type": "code",
   "execution_count": 19,
   "id": "23c9d99d-c8fa-456e-ab9d-1111a7630018",
   "metadata": {
    "id": "23c9d99d-c8fa-456e-ab9d-1111a7630018"
   },
   "outputs": [],
   "source": [
    "valid_values = ['0회', '1회', '2회', '3회', '4회', '5회', '6회 이상']\n",
    "\n",
    "## train ##\n",
    "train = train[\n",
    "    (train['총 시술 횟수'].isin(valid_values)) &\n",
    "    (train['클리닉 내 총 시술 횟수'].isin(valid_values)) &\n",
    "    (train['IVF 시술 횟수'].isin(valid_values)) &\n",
    "    (train['DI 시술 횟수'].isin(valid_values)) &\n",
    "    (train['총 출산 횟수'].isin(valid_values)) &\n",
    "    (train['IVF 출산 횟수'].isin(valid_values)) &\n",
    "    (train['DI 출산 횟수'].isin(valid_values)) &\n",
    "    (train['총 임신 횟수'].isin(valid_values)) &\n",
    "    (train['IVF 임신 횟수'].isin(valid_values)) &\n",
    "    (train['DI 임신 횟수'].isin(valid_values))\n",
    "]\n",
    "\n",
    "for col in ['총 시술 횟수', '클리닉 내 총 시술 횟수', 'IVF 시술 횟수', 'DI 시술 횟수', '총 임신 횟수', 'IVF 임신 횟수', 'DI 임신 횟수', '총 출산 횟수', 'IVF 출산 횟수', 'DI 출산 횟수']:\n",
    "    train[col] = train[col].replace('6회 이상', '6')\n",
    "    train[col] = train[col].str.replace('회', '', regex=True).astype(int)\n",
    "\n",
    "train['총 시술 횟수'] = train['IVF 시술 횟수'] + train['DI 시술 횟수']\n",
    "\n",
    "## test ##\n",
    "test = test[\n",
    "    (test['총 시술 횟수'].isin(valid_values)) &\n",
    "    (test['클리닉 내 총 시술 횟수'].isin(valid_values)) &\n",
    "    (test['IVF 시술 횟수'].isin(valid_values)) &\n",
    "    (test['DI 시술 횟수'].isin(valid_values)) &\n",
    "    (test['총 출산 횟수'].isin(valid_values)) &\n",
    "    (test['IVF 출산 횟수'].isin(valid_values)) &\n",
    "    (test['DI 출산 횟수'].isin(valid_values)) &\n",
    "    (test['총 임신 횟수'].isin(valid_values)) &\n",
    "    (test['IVF 임신 횟수'].isin(valid_values)) &\n",
    "    (test['DI 임신 횟수'].isin(valid_values))\n",
    "]\n",
    "\n",
    "for col in ['총 시술 횟수', '클리닉 내 총 시술 횟수', 'IVF 시술 횟수', 'DI 시술 횟수', '총 임신 횟수', 'IVF 임신 횟수', 'DI 임신 횟수', '총 출산 횟수', 'IVF 출산 횟수', 'DI 출산 횟수']:\n",
    "    test[col] = test[col].replace('6회 이상', '6')\n",
    "    test[col] = test[col].str.replace('회', '', regex=True).astype(int)\n",
    "\n",
    "test['총 시술 횟수'] = test['IVF 시술 횟수'] + test['DI 시술 횟수']\n",
    "\n",
    "train.drop(columns=['클리닉 내 총 시술 횟수'], inplace=True)\n",
    "test.drop(columns=['클리닉 내 총 시술 횟수'], inplace=True)\n",
    "\n",
    "train.drop(columns=['IVF 시술 횟수'], inplace=True)\n",
    "test.drop(columns=['IVF 시술 횟수'], inplace=True)\n",
    "\n",
    "train.drop(columns=['DI 시술 횟수'], inplace=True)\n",
    "test.drop(columns=['DI 시술 횟수'], inplace=True)\n",
    "\n",
    "train.drop(columns=['DI 임신 횟수'], inplace=True)\n",
    "test.drop(columns=['DI 임신 횟수'], inplace=True)\n",
    "\n",
    "train.drop(columns=['IVF 임신 횟수'], inplace=True)\n",
    "test.drop(columns=['IVF 임신 횟수'], inplace=True)\n",
    "\n",
    "train.drop(columns=['DI 출산 횟수'], inplace=True)\n",
    "test.drop(columns=['DI 출산 횟수'], inplace=True)\n",
    "\n",
    "train.drop(columns=['IVF 출산 횟수'], inplace=True)\n",
    "test.drop(columns=['IVF 출산 횟수'], inplace=True)"
   ]
  },
  {
   "cell_type": "markdown",
   "id": "19517ef8-4bf1-40b8-813e-2d65de3313be",
   "metadata": {
    "id": "19517ef8-4bf1-40b8-813e-2d65de3313be"
   },
   "source": [
    "### 특정 시술 유형 그룹화 + 원핫"
   ]
  },
  {
   "cell_type": "code",
   "execution_count": 21,
   "id": "664150f2-520a-4456-bae8-8a744b710399",
   "metadata": {
    "id": "664150f2-520a-4456-bae8-8a744b710399"
   },
   "outputs": [],
   "source": [
    "train.drop(columns=['특정 시술 유형'], inplace=True)\n",
    "test.drop(columns=['특정 시술 유형'], inplace=True)"
   ]
  },
  {
   "cell_type": "markdown",
   "id": "a090f3e8-a8a0-49ab-92f4-0dd7269b8ea5",
   "metadata": {
    "id": "a090f3e8-a8a0-49ab-92f4-0dd7269b8ea5"
   },
   "source": [
    "### 배란 유도 유형 정상화"
   ]
  },
  {
   "cell_type": "code",
   "execution_count": 23,
   "id": "19775264-2011-46bd-aa85-a1138a2823a3",
   "metadata": {
    "id": "19775264-2011-46bd-aa85-a1138a2823a3",
    "outputId": "bb977fc2-abf4-405e-e0e2-d8a129a92467"
   },
   "outputs": [],
   "source": [
    "train.drop(columns=['배란 유도 유형'], inplace=True)\n",
    "test.drop(columns=['배란 유도 유형'], inplace=True)"
   ]
  },
  {
   "cell_type": "markdown",
   "id": "24bd5f10-0b16-493a-9c48-68a67ea77caa",
   "metadata": {
    "id": "24bd5f10-0b16-493a-9c48-68a67ea77caa"
   },
   "source": [
    "### 난자출처/정자출처 원핫인코딩"
   ]
  },
  {
   "cell_type": "code",
   "execution_count": 25,
   "id": "45d936c2-bedd-4449-933e-dd0c6f1fcfe8",
   "metadata": {
    "id": "45d936c2-bedd-4449-933e-dd0c6f1fcfe8"
   },
   "outputs": [],
   "source": [
    "train.drop(columns=['난자 출처'], inplace=True)\n",
    "test.drop(columns=['난자 출처'], inplace=True)\n",
    "\n",
    "train.drop(columns=['정자 출처'], inplace=True)\n",
    "test.drop(columns=['정자 출처'], inplace=True)"
   ]
  },
  {
   "cell_type": "markdown",
   "id": "f4c77de7-9835-4cad-94d2-2d622e9dcbe2",
   "metadata": {
    "id": "f4c77de7-9835-4cad-94d2-2d622e9dcbe2"
   },
   "source": [
    "### 난자/정자 기증자 나이 라벨 인코딩 (수정: 오타 해결 + 결측치 -1 처리)"
   ]
  },
  {
   "cell_type": "code",
   "execution_count": 27,
   "id": "5a529b42-935f-40c6-800b-9e563989d810",
   "metadata": {
    "id": "5a529b42-935f-40c6-800b-9e563989d810",
    "outputId": "b0fadcfb-6de1-4e7b-87a0-4ac0b37266c3"
   },
   "outputs": [
    {
     "name": "stderr",
     "output_type": "stream",
     "text": [
      "C:\\Users\\USER\\AppData\\Local\\Temp\\ipykernel_8636\\293370775.py:4: FutureWarning: A value is trying to be set on a copy of a DataFrame or Series through chained assignment using an inplace method.\n",
      "The behavior will change in pandas 3.0. This inplace method will never work because the intermediate object on which we are setting values always behaves as a copy.\n",
      "\n",
      "For example, when doing 'df[col].method(value, inplace=True)', try using 'df.method({col: value}, inplace=True)' or df[col] = df[col].method(value) instead, to perform the operation inplace on the original object.\n",
      "\n",
      "\n",
      "  train[\"난자 기증자 나이\"].fillna(\"-1\", inplace=True)\n",
      "C:\\Users\\USER\\AppData\\Local\\Temp\\ipykernel_8636\\293370775.py:5: FutureWarning: A value is trying to be set on a copy of a DataFrame or Series through chained assignment using an inplace method.\n",
      "The behavior will change in pandas 3.0. This inplace method will never work because the intermediate object on which we are setting values always behaves as a copy.\n",
      "\n",
      "For example, when doing 'df[col].method(value, inplace=True)', try using 'df.method({col: value}, inplace=True)' or df[col] = df[col].method(value) instead, to perform the operation inplace on the original object.\n",
      "\n",
      "\n",
      "  test[\"난자 기증자 나이\"].fillna(\"-1\", inplace=True)\n"
     ]
    }
   ],
   "source": [
    "from sklearn.preprocessing import LabelEncoder\n",
    "\n",
    "# 결측치를 -1로 처리 (난자 기증자 나이, 정자 기증자 나이)\n",
    "train[\"난자 기증자 나이\"].fillna(\"-1\", inplace=True)\n",
    "test[\"난자 기증자 나이\"].fillna(\"-1\", inplace=True)\n",
    "\n",
    "# 라벨 인코딩 매핑 딕셔너리\n",
    "age_mapping_nanja = {\n",
    "    \"만20세 이하\": 0,\n",
    "    \"만21-25세\": 1,\n",
    "    \"만26-30세\": 2,\n",
    "    \"만31-35세\": 3,\n",
    "    \"알 수 없음\": -1\n",
    "}\n",
    "\n",
    "# 라벨 인코딩 적용(난자)\n",
    "train[\"난자 기증자 나이 (라벨 인코딩)\"] = train[\"난자 기증자 나이\"].map(age_mapping_nanja)\n",
    "test[\"난자 기증자 나이 (라벨 인코딩)\"] = test[\"난자 기증자 나이\"].map(age_mapping_nanja)\n",
    "\n",
    "# 원본 \"난자 기증자 나이\" 컬럼 제거(난자)\n",
    "train.drop(columns=[\"난자 기증자 나이\"], inplace=True)\n",
    "test.drop(columns=[\"난자 기증자 나이\"], inplace=True)\n",
    "\n",
    "# 원본 \"정자 기증자 나이\" 컬럼 제거(정자)\n",
    "train.drop(columns=[\"정자 기증자 나이\"], inplace=True)\n",
    "test.drop(columns=[\"정자 기증자 나이\"], inplace=True)"
   ]
  },
  {
   "cell_type": "markdown",
   "id": "47af2c47-71be-46ee-8611-ea2b6daa9e74",
   "metadata": {
    "id": "47af2c47-71be-46ee-8611-ea2b6daa9e74"
   },
   "source": [
    "### 시술 당시 나이 라벨 인코딩"
   ]
  },
  {
   "cell_type": "code",
   "execution_count": 29,
   "id": "fb646b2b-b10a-48f6-8a88-5bf5be2ea7ee",
   "metadata": {
    "id": "fb646b2b-b10a-48f6-8a88-5bf5be2ea7ee"
   },
   "outputs": [],
   "source": [
    "# 라벨 인코딩 매핑 딕셔너리 (나이가 작은 순으로 매핑)\n",
    "age_mapping_treatment = {\n",
    "    \"만18-34세\": 0,\n",
    "    \"만35-37세\": 1,\n",
    "    \"만38-39세\": 2,\n",
    "    \"만40-42세\": 3,\n",
    "    \"만43-44세\": 4,\n",
    "    \"만45-50세\": 5,\n",
    "    \"알 수 없음\": -1\n",
    "}\n",
    "\n",
    "# 라벨 인코딩 적용\n",
    "train[\"시술 당시 나이 (라벨 인코딩)\"] = train[\"시술 당시 나이\"].map(age_mapping_treatment)\n",
    "test[\"시술 당시 나이 (라벨 인코딩)\"] = test[\"시술 당시 나이\"].map(age_mapping_treatment)\n",
    "\n",
    "# 원본 \"시술 당시 나이\" 컬럼 제거\n",
    "train.drop(columns=[\"시술 당시 나이\"], inplace=True)\n",
    "test.drop(columns=[\"시술 당시 나이\"], inplace=True)"
   ]
  },
  {
   "cell_type": "markdown",
   "id": "4a66956d-8976-48ab-9278-d4cdaa955b70",
   "metadata": {
    "id": "4a66956d-8976-48ab-9278-d4cdaa955b70"
   },
   "source": [
    "### 시술 시기 코드 원 핫 인코딩"
   ]
  },
  {
   "cell_type": "code",
   "execution_count": 31,
   "id": "ece9a71e-bea0-4a78-b6c8-16e38bdc469f",
   "metadata": {
    "id": "ece9a71e-bea0-4a78-b6c8-16e38bdc469f"
   },
   "outputs": [],
   "source": [
    "train.drop(columns=['시술 시기 코드'], inplace=True)\n",
    "test.drop(columns=['시술 시기 코드'], inplace=True)"
   ]
  },
  {
   "cell_type": "code",
   "execution_count": 32,
   "id": "c5279f74-8fd4-4120-b6f8-cf2050230e49",
   "metadata": {},
   "outputs": [],
   "source": [
    "train.drop(columns=['배란 자극 여부'], inplace=True)\n",
    "test.drop(columns=['배란 자극 여부'], inplace=True)"
   ]
  },
  {
   "cell_type": "markdown",
   "id": "fbaa9ae8-29ef-405d-bdf0-56b4eedd350d",
   "metadata": {
    "id": "fbaa9ae8-29ef-405d-bdf0-56b4eedd350d"
   },
   "source": [
    "***"
   ]
  },
  {
   "cell_type": "markdown",
   "id": "c71e0801-f187-4fb0-aa52-6545da36d316",
   "metadata": {
    "id": "c71e0801-f187-4fb0-aa52-6545da36d316"
   },
   "source": [
    "# Label/One-Hot/Numeric Column List"
   ]
  },
  {
   "cell_type": "code",
   "execution_count": 35,
   "id": "bb94ffa9-38b4-4f9a-a622-29b996aa5718",
   "metadata": {
    "id": "bb94ffa9-38b4-4f9a-a622-29b996aa5718"
   },
   "outputs": [],
   "source": [
    "label_columns = ['불명확 불임 원인', '시술 유형']\n",
    "\n",
    "numeric_columns = ['임신 시도 또는 마지막 임신 경과 연수', '난자 혼합 경과일', '배아 이식 경과일'\n",
    "                  , '총 시술 횟수', '클리닉 내 총 시술 횟수', 'IVF 시술 횟수', 'DI 시술 횟수', '총 임신 횟수'\n",
    "                   , 'IVF 임신 횟수', 'DI 임신 횟수', '총 출산 횟수', 'IVF 출산 횟수', 'DI 출산 횟수' ]"
   ]
  },
  {
   "cell_type": "markdown",
   "id": "26cbe7cc-d46d-4e6f-b2c5-784ba6be1e16",
   "metadata": {
    "id": "26cbe7cc-d46d-4e6f-b2c5-784ba6be1e16"
   },
   "source": [
    "# 결측치 처리 (추가됨: 결측치가 있는 남은 세 개의 정수형 feature를 중앙값으로 채우기)"
   ]
  },
  {
   "cell_type": "markdown",
   "id": "cac7a0e2-8747-4291-8e49-c3d6f05f13df",
   "metadata": {
    "id": "cac7a0e2-8747-4291-8e49-c3d6f05f13df"
   },
   "source": [
    "# 인코딩"
   ]
  },
  {
   "cell_type": "code",
   "execution_count": 38,
   "id": "2eb58c42-0326-487b-85c4-e4c186026c56",
   "metadata": {
    "id": "2eb58c42-0326-487b-85c4-e4c186026c56"
   },
   "outputs": [],
   "source": [
    "# 카테고리형 컬럼들을 문자열로 변환\n",
    "for col in label_columns:\n",
    "    train[col] = train[col].astype(str)\n",
    "    test[col] = test[col].astype(str)\n",
    "\n",
    "ordinal_encoder = OrdinalEncoder(handle_unknown='use_encoded_value', unknown_value=-1)\n",
    "train[label_columns] = ordinal_encoder.fit_transform(train[label_columns])\n",
    "test[label_columns] = ordinal_encoder.transform(test[label_columns])"
   ]
  },
  {
   "cell_type": "markdown",
   "id": "9b34bf56-38ca-472b-8b9f-538d6fd7abbe",
   "metadata": {
    "id": "9b34bf56-38ca-472b-8b9f-538d6fd7abbe"
   },
   "source": [
    "# X와 y로 분리"
   ]
  },
  {
   "cell_type": "code",
   "execution_count": 40,
   "id": "5db9741f-ed07-49d9-8c1e-29546e8c0604",
   "metadata": {
    "id": "5db9741f-ed07-49d9-8c1e-29546e8c0604"
   },
   "outputs": [],
   "source": [
    "X = train.drop('임신 성공 여부', axis=1)\n",
    "y = train['임신 성공 여부']"
   ]
  },
  {
   "cell_type": "markdown",
   "id": "42afd9c2-eff1-4093-8aa1-9beca64d417b",
   "metadata": {
    "id": "42afd9c2-eff1-4093-8aa1-9beca64d417b"
   },
   "source": [
    "***"
   ]
  },
  {
   "cell_type": "markdown",
   "id": "afef9a8e-e044-4b0f-9470-332f67213714",
   "metadata": {
    "id": "afef9a8e-e044-4b0f-9470-332f67213714"
   },
   "source": [
    "# 하이퍼파라미터 (stacking으로 바꿈, 학습모델과 파라미터는 계속 찾아야 할 듯)"
   ]
  },
  {
   "cell_type": "code",
   "execution_count": null,
   "id": "94ac9f6e-0a96-4cf1-82d8-409685f9b152",
   "metadata": {
    "id": "94ac9f6e-0a96-4cf1-82d8-409685f9b152",
    "outputId": "c2366c0a-ba71-4090-eb77-3247adc62b6a"
   },
   "outputs": [
    {
     "name": "stderr",
     "output_type": "stream",
     "text": [
      "[I 2025-02-25 23:15:37,549] A new study created in memory with name: no-name-e247d0ae-6ef8-4eb2-968d-cf05abc99f2a\n",
      "C:\\Users\\USER\\AppData\\Local\\Temp\\ipykernel_8636\\4147431200.py:19: FutureWarning: suggest_loguniform has been deprecated in v3.0.0. This feature will be removed in v6.0.0. See https://github.com/optuna/optuna/releases/tag/v3.0.0. Use suggest_float(..., log=True) instead.\n",
      "  'learning_rate': trial.suggest_loguniform('learning_rate', 0.01, 0.1),  # 더 작은 학습률\n",
      "C:\\Users\\USER\\AppData\\Local\\Temp\\ipykernel_8636\\4147431200.py:26: FutureWarning: suggest_loguniform has been deprecated in v3.0.0. This feature will be removed in v6.0.0. See https://github.com/optuna/optuna/releases/tag/v3.0.0. Use suggest_float(..., log=True) instead.\n",
      "  'reg_alpha': trial.suggest_loguniform('reg_alpha', 1e-5, 10),  # L1 정규화\n",
      "C:\\Users\\USER\\AppData\\Local\\Temp\\ipykernel_8636\\4147431200.py:27: FutureWarning: suggest_loguniform has been deprecated in v3.0.0. This feature will be removed in v6.0.0. See https://github.com/optuna/optuna/releases/tag/v3.0.0. Use suggest_float(..., log=True) instead.\n",
      "  'reg_lambda': trial.suggest_loguniform('reg_lambda', 1e-5, 10),  # L2 정규화\n"
     ]
    },
    {
     "name": "stdout",
     "output_type": "stream",
     "text": [
      "[LightGBM] [Warning] Found whitespace in feature_names, replace with underlines\n",
      "[LightGBM] [Info] Number of positive: 151978, number of negative: 151978\n",
      "[LightGBM] [Info] Auto-choosing row-wise multi-threading, the overhead of testing was 0.023921 seconds.\n",
      "You can set `force_row_wise=true` to remove the overhead.\n",
      "And if memory is not enough, you can set `force_col_wise=true`.\n",
      "[LightGBM] [Info] Total Bins 1060\n",
      "[LightGBM] [Info] Number of data points in the train set: 303956, number of used features: 28\n",
      "[LightGBM] [Info] [binary:BoostFromScore]: pavg=0.500000 -> initscore=0.000000\n"
     ]
    },
    {
     "name": "stderr",
     "output_type": "stream",
     "text": [
      "[I 2025-02-25 23:15:58,182] Trial 0 finished with value: 0.6995532676253772 and parameters: {'learning_rate': 0.07346969833390633, 'num_leaves': 97, 'n_estimators': 851, 'subsample': 0.8486247279192718, 'colsample_bytree': 0.971909987838852, 'max_bin': 137, 'min_child_samples': 89, 'reg_alpha': 1.978060688563251, 'reg_lambda': 0.0006667494130268602}. Best is trial 0 with value: 0.6995532676253772.\n",
      "C:\\Users\\USER\\AppData\\Local\\Temp\\ipykernel_8636\\4147431200.py:19: FutureWarning: suggest_loguniform has been deprecated in v3.0.0. This feature will be removed in v6.0.0. See https://github.com/optuna/optuna/releases/tag/v3.0.0. Use suggest_float(..., log=True) instead.\n",
      "  'learning_rate': trial.suggest_loguniform('learning_rate', 0.01, 0.1),  # 더 작은 학습률\n",
      "C:\\Users\\USER\\AppData\\Local\\Temp\\ipykernel_8636\\4147431200.py:26: FutureWarning: suggest_loguniform has been deprecated in v3.0.0. This feature will be removed in v6.0.0. See https://github.com/optuna/optuna/releases/tag/v3.0.0. Use suggest_float(..., log=True) instead.\n",
      "  'reg_alpha': trial.suggest_loguniform('reg_alpha', 1e-5, 10),  # L1 정규화\n",
      "C:\\Users\\USER\\AppData\\Local\\Temp\\ipykernel_8636\\4147431200.py:27: FutureWarning: suggest_loguniform has been deprecated in v3.0.0. This feature will be removed in v6.0.0. See https://github.com/optuna/optuna/releases/tag/v3.0.0. Use suggest_float(..., log=True) instead.\n",
      "  'reg_lambda': trial.suggest_loguniform('reg_lambda', 1e-5, 10),  # L2 정규화\n"
     ]
    },
    {
     "name": "stdout",
     "output_type": "stream",
     "text": [
      "[LightGBM] [Warning] Found whitespace in feature_names, replace with underlines\n",
      "[LightGBM] [Info] Number of positive: 151978, number of negative: 151978\n",
      "[LightGBM] [Info] Auto-choosing row-wise multi-threading, the overhead of testing was 0.022429 seconds.\n",
      "You can set `force_row_wise=true` to remove the overhead.\n",
      "And if memory is not enough, you can set `force_col_wise=true`.\n",
      "[LightGBM] [Info] Total Bins 1303\n",
      "[LightGBM] [Info] Number of data points in the train set: 303956, number of used features: 28\n",
      "[LightGBM] [Info] [binary:BoostFromScore]: pavg=0.500000 -> initscore=0.000000\n"
     ]
    },
    {
     "name": "stderr",
     "output_type": "stream",
     "text": [
      "[I 2025-02-25 23:16:12,682] Trial 1 finished with value: 0.7077144864139533 and parameters: {'learning_rate': 0.037454511414079995, 'num_leaves': 54, 'n_estimators': 887, 'subsample': 0.7669405972981821, 'colsample_bytree': 0.9765130832220639, 'max_bin': 173, 'min_child_samples': 17, 'reg_alpha': 0.5413377779661189, 'reg_lambda': 0.0005718365997809682}. Best is trial 1 with value: 0.7077144864139533.\n",
      "C:\\Users\\USER\\AppData\\Local\\Temp\\ipykernel_8636\\4147431200.py:19: FutureWarning: suggest_loguniform has been deprecated in v3.0.0. This feature will be removed in v6.0.0. See https://github.com/optuna/optuna/releases/tag/v3.0.0. Use suggest_float(..., log=True) instead.\n",
      "  'learning_rate': trial.suggest_loguniform('learning_rate', 0.01, 0.1),  # 더 작은 학습률\n",
      "C:\\Users\\USER\\AppData\\Local\\Temp\\ipykernel_8636\\4147431200.py:26: FutureWarning: suggest_loguniform has been deprecated in v3.0.0. This feature will be removed in v6.0.0. See https://github.com/optuna/optuna/releases/tag/v3.0.0. Use suggest_float(..., log=True) instead.\n",
      "  'reg_alpha': trial.suggest_loguniform('reg_alpha', 1e-5, 10),  # L1 정규화\n",
      "C:\\Users\\USER\\AppData\\Local\\Temp\\ipykernel_8636\\4147431200.py:27: FutureWarning: suggest_loguniform has been deprecated in v3.0.0. This feature will be removed in v6.0.0. See https://github.com/optuna/optuna/releases/tag/v3.0.0. Use suggest_float(..., log=True) instead.\n",
      "  'reg_lambda': trial.suggest_loguniform('reg_lambda', 1e-5, 10),  # L2 정규화\n"
     ]
    },
    {
     "name": "stdout",
     "output_type": "stream",
     "text": [
      "[LightGBM] [Warning] Found whitespace in feature_names, replace with underlines\n",
      "[LightGBM] [Info] Number of positive: 151978, number of negative: 151978\n",
      "[LightGBM] [Info] Auto-choosing row-wise multi-threading, the overhead of testing was 0.020164 seconds.\n",
      "You can set `force_row_wise=true` to remove the overhead.\n",
      "And if memory is not enough, you can set `force_col_wise=true`.\n",
      "[LightGBM] [Info] Total Bins 1432\n",
      "[LightGBM] [Info] Number of data points in the train set: 303956, number of used features: 28\n",
      "[LightGBM] [Info] [binary:BoostFromScore]: pavg=0.500000 -> initscore=0.000000\n"
     ]
    },
    {
     "name": "stderr",
     "output_type": "stream",
     "text": [
      "[I 2025-02-25 23:16:18,634] Trial 2 finished with value: 0.7171111930911038 and parameters: {'learning_rate': 0.020751833255414742, 'num_leaves': 98, 'n_estimators': 204, 'subsample': 0.9211547239950457, 'colsample_bytree': 0.9417406845661712, 'max_bin': 192, 'min_child_samples': 27, 'reg_alpha': 0.8074833280567337, 'reg_lambda': 7.506252125793938e-05}. Best is trial 2 with value: 0.7171111930911038.\n",
      "C:\\Users\\USER\\AppData\\Local\\Temp\\ipykernel_8636\\4147431200.py:19: FutureWarning: suggest_loguniform has been deprecated in v3.0.0. This feature will be removed in v6.0.0. See https://github.com/optuna/optuna/releases/tag/v3.0.0. Use suggest_float(..., log=True) instead.\n",
      "  'learning_rate': trial.suggest_loguniform('learning_rate', 0.01, 0.1),  # 더 작은 학습률\n",
      "C:\\Users\\USER\\AppData\\Local\\Temp\\ipykernel_8636\\4147431200.py:26: FutureWarning: suggest_loguniform has been deprecated in v3.0.0. This feature will be removed in v6.0.0. See https://github.com/optuna/optuna/releases/tag/v3.0.0. Use suggest_float(..., log=True) instead.\n",
      "  'reg_alpha': trial.suggest_loguniform('reg_alpha', 1e-5, 10),  # L1 정규화\n",
      "C:\\Users\\USER\\AppData\\Local\\Temp\\ipykernel_8636\\4147431200.py:27: FutureWarning: suggest_loguniform has been deprecated in v3.0.0. This feature will be removed in v6.0.0. See https://github.com/optuna/optuna/releases/tag/v3.0.0. Use suggest_float(..., log=True) instead.\n",
      "  'reg_lambda': trial.suggest_loguniform('reg_lambda', 1e-5, 10),  # L2 정규화\n"
     ]
    },
    {
     "name": "stdout",
     "output_type": "stream",
     "text": [
      "[LightGBM] [Warning] Found whitespace in feature_names, replace with underlines\n",
      "[LightGBM] [Info] Number of positive: 151978, number of negative: 151978\n",
      "[LightGBM] [Info] Auto-choosing row-wise multi-threading, the overhead of testing was 0.022539 seconds.\n",
      "You can set `force_row_wise=true` to remove the overhead.\n",
      "And if memory is not enough, you can set `force_col_wise=true`.\n",
      "[LightGBM] [Info] Total Bins 1323\n",
      "[LightGBM] [Info] Number of data points in the train set: 303956, number of used features: 28\n",
      "[LightGBM] [Info] [binary:BoostFromScore]: pavg=0.500000 -> initscore=0.000000\n"
     ]
    },
    {
     "name": "stderr",
     "output_type": "stream",
     "text": [
      "[I 2025-02-25 23:16:39,134] Trial 3 finished with value: 0.7118595077561469 and parameters: {'learning_rate': 0.012334453484122144, 'num_leaves': 112, 'n_estimators': 678, 'subsample': 0.8378935707362204, 'colsample_bytree': 0.8886507314753235, 'max_bin': 176, 'min_child_samples': 34, 'reg_alpha': 0.0009593334461633794, 'reg_lambda': 0.0012204270289905752}. Best is trial 2 with value: 0.7171111930911038.\n",
      "C:\\Users\\USER\\AppData\\Local\\Temp\\ipykernel_8636\\4147431200.py:19: FutureWarning: suggest_loguniform has been deprecated in v3.0.0. This feature will be removed in v6.0.0. See https://github.com/optuna/optuna/releases/tag/v3.0.0. Use suggest_float(..., log=True) instead.\n",
      "  'learning_rate': trial.suggest_loguniform('learning_rate', 0.01, 0.1),  # 더 작은 학습률\n",
      "C:\\Users\\USER\\AppData\\Local\\Temp\\ipykernel_8636\\4147431200.py:26: FutureWarning: suggest_loguniform has been deprecated in v3.0.0. This feature will be removed in v6.0.0. See https://github.com/optuna/optuna/releases/tag/v3.0.0. Use suggest_float(..., log=True) instead.\n",
      "  'reg_alpha': trial.suggest_loguniform('reg_alpha', 1e-5, 10),  # L1 정규화\n",
      "C:\\Users\\USER\\AppData\\Local\\Temp\\ipykernel_8636\\4147431200.py:27: FutureWarning: suggest_loguniform has been deprecated in v3.0.0. This feature will be removed in v6.0.0. See https://github.com/optuna/optuna/releases/tag/v3.0.0. Use suggest_float(..., log=True) instead.\n",
      "  'reg_lambda': trial.suggest_loguniform('reg_lambda', 1e-5, 10),  # L2 정규화\n"
     ]
    },
    {
     "name": "stdout",
     "output_type": "stream",
     "text": [
      "[LightGBM] [Warning] Found whitespace in feature_names, replace with underlines\n",
      "[LightGBM] [Info] Number of positive: 151978, number of negative: 151978\n",
      "[LightGBM] [Info] Auto-choosing row-wise multi-threading, the overhead of testing was 0.021644 seconds.\n",
      "You can set `force_row_wise=true` to remove the overhead.\n",
      "And if memory is not enough, you can set `force_col_wise=true`.\n",
      "[LightGBM] [Info] Total Bins 1090\n",
      "[LightGBM] [Info] Number of data points in the train set: 303956, number of used features: 28\n",
      "[LightGBM] [Info] [binary:BoostFromScore]: pavg=0.500000 -> initscore=0.000000\n"
     ]
    },
    {
     "name": "stderr",
     "output_type": "stream",
     "text": [
      "[I 2025-02-25 23:17:09,439] Trial 4 finished with value: 0.7099268467373118 and parameters: {'learning_rate': 0.011223676314246195, 'num_leaves': 120, 'n_estimators': 965, 'subsample': 0.9664735241610237, 'colsample_bytree': 0.9155511432357062, 'max_bin': 141, 'min_child_samples': 26, 'reg_alpha': 0.0019094913063691208, 'reg_lambda': 4.509355521174025}. Best is trial 2 with value: 0.7171111930911038.\n",
      "C:\\Users\\USER\\AppData\\Local\\Temp\\ipykernel_8636\\4147431200.py:19: FutureWarning: suggest_loguniform has been deprecated in v3.0.0. This feature will be removed in v6.0.0. See https://github.com/optuna/optuna/releases/tag/v3.0.0. Use suggest_float(..., log=True) instead.\n",
      "  'learning_rate': trial.suggest_loguniform('learning_rate', 0.01, 0.1),  # 더 작은 학습률\n",
      "C:\\Users\\USER\\AppData\\Local\\Temp\\ipykernel_8636\\4147431200.py:26: FutureWarning: suggest_loguniform has been deprecated in v3.0.0. This feature will be removed in v6.0.0. See https://github.com/optuna/optuna/releases/tag/v3.0.0. Use suggest_float(..., log=True) instead.\n",
      "  'reg_alpha': trial.suggest_loguniform('reg_alpha', 1e-5, 10),  # L1 정규화\n",
      "C:\\Users\\USER\\AppData\\Local\\Temp\\ipykernel_8636\\4147431200.py:27: FutureWarning: suggest_loguniform has been deprecated in v3.0.0. This feature will be removed in v6.0.0. See https://github.com/optuna/optuna/releases/tag/v3.0.0. Use suggest_float(..., log=True) instead.\n",
      "  'reg_lambda': trial.suggest_loguniform('reg_lambda', 1e-5, 10),  # L2 정규화\n"
     ]
    },
    {
     "name": "stdout",
     "output_type": "stream",
     "text": [
      "[LightGBM] [Warning] Found whitespace in feature_names, replace with underlines\n",
      "[LightGBM] [Info] Number of positive: 151978, number of negative: 151978\n",
      "[LightGBM] [Info] Auto-choosing row-wise multi-threading, the overhead of testing was 0.023017 seconds.\n",
      "You can set `force_row_wise=true` to remove the overhead.\n",
      "And if memory is not enough, you can set `force_col_wise=true`.\n",
      "[LightGBM] [Info] Total Bins 1239\n",
      "[LightGBM] [Info] Number of data points in the train set: 303956, number of used features: 28\n",
      "[LightGBM] [Info] [binary:BoostFromScore]: pavg=0.500000 -> initscore=0.000000\n"
     ]
    }
   ],
   "source": [
    "import optuna\n",
    "import lightgbm as lgb\n",
    "from sklearn.model_selection import train_test_split\n",
    "from sklearn.metrics import roc_auc_score\n",
    "import pandas as pd\n",
    "from imblearn.over_sampling import SMOTE  # SMOTE 임포트\n",
    "\n",
    "# 데이터 분할\n",
    "X_train, X_valid, y_train, y_valid = train_test_split(X, y, test_size=0.2, random_state=42)\n",
    "\n",
    "# SMOTE 적용\n",
    "smote = SMOTE(random_state=42)\n",
    "X_train_resampled, y_train_resampled = smote.fit_resample(X_train, y_train)\n",
    "\n",
    "# Optuna 하이퍼파라미터 튜닝을 위한 목적 함수\n",
    "def objective(trial):\n",
    "    # LightGBM 하이퍼파라미터 설정\n",
    "    lgb_param = {\n",
    "        'learning_rate': trial.suggest_loguniform('learning_rate', 0.01, 0.1),  # 더 작은 학습률\n",
    "        'num_leaves': trial.suggest_int('num_leaves', 31, 127),  # 더 넓은 범위\n",
    "        'n_estimators': trial.suggest_int('n_estimators', 100, 1000),  # 더 넓은 범위\n",
    "        'subsample': trial.suggest_float('subsample', 0.7, 1.0),  # 데이터 샘플링 비율\n",
    "        'colsample_bytree': trial.suggest_float('colsample_bytree', 0.7, 1.0),  # 특성 샘플링 비율\n",
    "        'max_bin': trial.suggest_int('max_bin', 100, 300),  # 최대 bin 개수 증가\n",
    "        'min_child_samples': trial.suggest_int('min_child_samples', 10, 100),  # 과적합 방지를 위한 최소 샘플 수\n",
    "        'reg_alpha': trial.suggest_loguniform('reg_alpha', 1e-5, 10),  # L1 정규화\n",
    "        'reg_lambda': trial.suggest_loguniform('reg_lambda', 1e-5, 10),  # L2 정규화\n",
    "        'random_state': 42\n",
    "    }\n",
    "\n",
    "    # LightGBM 모델 학습\n",
    "    lgb_clf = lgb.LGBMClassifier(**lgb_param)\n",
    "    lgb_clf.fit(X_train_resampled, y_train_resampled)\n",
    "\n",
    "    # 예측 (ROC-AUC 계산)\n",
    "    y_pred = lgb_clf.predict_proba(X_valid)[:, 1]\n",
    "    score = roc_auc_score(y_valid, y_pred)\n",
    "\n",
    "    return score\n",
    "\n",
    "# Optuna 최적화\n",
    "study = optuna.create_study(direction='maximize')\n",
    "study.optimize(objective, n_trials=100)  # n_trials를 100으로 늘려서 더 많은 실험을 시도\n",
    "\n",
    "# 최적 하이퍼파라미터 출력\n",
    "print(f\"Best Trial: {study.best_trial.params}\")\n",
    "print(f\"Best ROC-AUC Score: {study.best_value}\")\n",
    "\n",
    "# 최적 하이퍼파라미터로 LightGBM 모델 학습\n",
    "best_lgb_params = study.best_trial.params\n",
    "lgb_clf_final = lgb.LGBMClassifier(**best_lgb_params)\n",
    "\n",
    "# 전체 데이터로 학습\n",
    "lgb_clf_final.fit(X, y)\n",
    "\n",
    "# test 데이터 예측\n",
    "pred_proba = lgb_clf_final.predict_proba(test)[:, 1]\n",
    "\n",
    "# 결과 저장\n",
    "sample_submission = pd.read_csv('./sample_submission.csv')\n",
    "sample_submission['probability'] = pred_proba\n",
    "sample_submission.to_csv('./final_submission.csv', index=False)\n",
    "\n",
    "print(\"✅ 최종 예측 완료! 결과 저장됨: final_submission.csv\")"
   ]
  },
  {
   "cell_type": "markdown",
   "id": "ed0dc008-59c4-4e8d-8b95-fe441a561019",
   "metadata": {
    "id": "ed0dc008-59c4-4e8d-8b95-fe441a561019"
   },
   "source": [
    "# 학습"
   ]
  }
 ],
 "metadata": {
  "colab": {
   "include_colab_link": true,
   "provenance": []
  },
  "kernelspec": {
   "display_name": "Python [conda env:base] *",
   "language": "python",
   "name": "conda-base-py"
  },
  "language_info": {
   "codemirror_mode": {
    "name": "ipython",
    "version": 3
   },
   "file_extension": ".py",
   "mimetype": "text/x-python",
   "name": "python",
   "nbconvert_exporter": "python",
   "pygments_lexer": "ipython3",
   "version": "3.12.7"
  }
 },
 "nbformat": 4,
 "nbformat_minor": 5
}
