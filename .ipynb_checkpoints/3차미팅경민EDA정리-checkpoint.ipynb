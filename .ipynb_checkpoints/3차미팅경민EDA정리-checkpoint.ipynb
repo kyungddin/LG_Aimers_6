{
 "cells": [
  {
   "cell_type": "markdown",
   "id": "6c9fbf30-a963-418d-b57d-28eea37c9596",
   "metadata": {},
   "source": [
    "## 1. 라이브러리 import"
   ]
  },
  {
   "cell_type": "code",
   "execution_count": 7,
   "id": "ff6f6d64-2cdc-4d45-b399-a56b48735ac7",
   "metadata": {},
   "outputs": [],
   "source": [
    "import pandas as pd\n",
    "import numpy as np\n",
    "from sklearn.preprocessing import  OrdinalEncoder\n",
    "from sklearn.ensemble import ExtraTreesClassifier\n",
    "import matplotlib.pyplot as plt\n",
    "import seaborn as sns\n",
    "import prince\n",
    "\n",
    "import matplotlib.font_manager as fm\n",
    "plt.rc('font', family='Malgun Gothic')\n",
    "plt.rcParams['axes.unicode_minus'] = False\n",
    "\n",
    "from sklearn.utils import resample\n",
    "from sklearn.utils import shuffle"
   ]
  },
  {
   "cell_type": "code",
   "execution_count": 8,
   "id": "34e00e95-c86b-4aa0-b470-1f458be27486",
   "metadata": {},
   "outputs": [],
   "source": [
    "train = pd.read_csv('train.csv').drop(columns=['ID'])\n",
    "test = pd.read_csv('test.csv').drop(columns=['ID'])"
   ]
  },
  {
   "cell_type": "markdown",
   "id": "1270c401-60a2-41a4-bf84-313265f70f4b",
   "metadata": {},
   "source": [
    "## 2. 남성 요인 처리 (mca)"
   ]
  },
  {
   "cell_type": "code",
   "execution_count": 11,
   "id": "7829eb81-89a0-4e25-9cab-f943a40f48a9",
   "metadata": {},
   "outputs": [],
   "source": [
    "train = train.drop('불임 원인 - 정자 면역학적 요인', axis=1)\n",
    "test = test.drop('불임 원인 - 정자 면역학적 요인', axis=1)\n",
    "\n",
    "features_male = [\"불임 원인 - 남성 요인\", \"불임 원인 - 정자 농도\", \"불임 원인 - 정자 운동성\", \"불임 원인 - 정자 형태\"]\n",
    "\n",
    "subset_train = train[features_male].copy()  # 선택한 feature만 사용\n",
    "subset_test = test[features_male].copy()\n",
    "\n",
    "# prince 라이브러리로 MCA 모델 훈련 (n_components=1로 차원 축소)\n",
    "mca = prince.MCA(n_components=1)\n",
    "\n",
    "# MCA 모델을 훈련시키고 차원 축소된 데이터 얻기\n",
    "mca_result_train = mca.fit_transform(subset_train)\n",
    "mca_result_test = mca.fit_transform(subset_test)\n",
    "\n",
    "# 기존 feature 삭제\n",
    "train = train.drop(columns=features_male)\n",
    "test = test.drop(columns=features_male)\n",
    "\n",
    "# 차원 축소된 데이터를 원본 데이터에 새로운 열로 추가\n",
    "train[\"불임 원인 - 남성 요인\"] = mca_result_train\n",
    "test[\"불임 원인 - 남성 요인\"] = mca_result_test"
   ]
  },
  {
   "cell_type": "markdown",
   "id": "bfcaef19-f3c3-456d-8f5d-932319996a59",
   "metadata": {},
   "source": [
    "## 3. 여성 요인 처리 (OR)"
   ]
  },
  {
   "cell_type": "code",
   "execution_count": 17,
   "id": "976dd0f7-af58-415b-adbc-9d4f06a7b050",
   "metadata": {},
   "outputs": [],
   "source": [
    "train['불임 원인 - 여성 요인'] = train[['불임 원인 - 난관 질환', '불임 원인 - 배란 장애', '불임 원인 - 자궁경부 문제', '불임 원인 - 자궁내막증']].any(axis=1).astype(int)\n",
    "test['불임 원인 - 여성 요인'] = test[['불임 원인 - 난관 질환', '불임 원인 - 배란 장애', '불임 원인 - 자궁경부 문제', '불임 원인 - 자궁내막증']].any(axis=1).astype(int)\n",
    "features_fe = ['불임 원인 - 난관 질환', '불임 원인 - 배란 장애', '불임 원인 - 자궁경부 문제', '불임 원인 - 자궁내막증']\n",
    "train = train.drop(columns = features_fe)\n",
    "test = test.drop(columns = features_fe)"
   ]
  }
 ],
 "metadata": {
  "kernelspec": {
   "display_name": "Python [conda env:base] *",
   "language": "python",
   "name": "conda-base-py"
  },
  "language_info": {
   "codemirror_mode": {
    "name": "ipython",
    "version": 3
   },
   "file_extension": ".py",
   "mimetype": "text/x-python",
   "name": "python",
   "nbconvert_exporter": "python",
   "pygments_lexer": "ipython3",
   "version": "3.12.7"
  }
 },
 "nbformat": 4,
 "nbformat_minor": 5
}
