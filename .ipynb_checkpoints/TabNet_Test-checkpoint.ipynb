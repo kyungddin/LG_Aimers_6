{
 "cells": [
  {
   "cell_type": "markdown",
   "id": "54f2609a-5ee9-4f3a-bf03-c679a4e38380",
   "metadata": {},
   "source": [
    "# Import + CSV"
   ]
  },
  {
   "cell_type": "code",
   "execution_count": null,
   "id": "d0e0e423-e6b7-4f50-92d6-536980fbd366",
   "metadata": {},
   "outputs": [],
   "source": [
    "import pandas as pd\n",
    "import numpy as np\n",
    "import matplotlib.pyplot as plt\n",
    "import seaborn as sns\n",
    "import prince\n",
    "\n",
    "from sklearn.ensemble import ExtraTreesClassifier\n",
    "from sklearn.preprocessing import OrdinalEncoder, OneHotEncoder\n",
    "\n",
    "import lightgbm as lgb\n",
    "from sklearn.model_selection import train_test_split\n",
    "from sklearn.metrics import roc_auc_score\n",
    "\n",
    "train = pd.read_csv('./train.csv').drop(columns=['ID'])\n",
    "test = pd.read_csv('./test.csv').drop(columns=['ID'])"
   ]
  },
  {
   "cell_type": "markdown",
   "id": "66944d04-6344-41c4-8d9f-02a2e59cd491",
   "metadata": {},
   "source": [
    "# EDA"
   ]
  },
  {
   "cell_type": "markdown",
   "id": "6ba3ebe7-19eb-416f-af5f-2283812d4037",
   "metadata": {},
   "source": [
    "### 단순 drop (수정: 그냥 결측치 많은 거 전부 제거 + 난자 채취 경과일 살리기)"
   ]
  },
  {
   "cell_type": "code",
   "execution_count": null,
   "id": "5d0616f1-9905-40fe-86be-9bf7c395524d",
   "metadata": {},
   "outputs": [],
   "source": [
    "train.drop(columns=['임신 시도 또는 마지막 임신 경과 연수'], inplace=True)\n",
    "test.drop(columns=['임신 시도 또는 마지막 임신 경과 연수'], inplace=True)\n",
    "\n",
    "train.drop(columns=['착상 전 유전 검사 사용 여부'], inplace=True)\n",
    "test.drop(columns=['착상 전 유전 검사 사용 여부'], inplace=True)\n",
    "\n",
    "train.drop(columns=['난자 해동 경과일'], inplace=True)\n",
    "test.drop(columns=['난자 해동 경과일'], inplace=True)\n",
    "\n",
    "train.drop(columns=['배아 해동 경과일'], inplace=True)\n",
    "test.drop(columns=['배아 해동 경과일'], inplace=True)\n",
    "\n",
    "train.drop(columns=['PGS 시술 여부'], inplace=True)\n",
    "test.drop(columns=['PGS 시술 여부'], inplace=True)\n",
    "\n",
    "train.drop(columns=['PGD 시술 여부'], inplace=True)\n",
    "test.drop(columns=['PGD 시술 여부'], inplace=True)\n",
    "\n",
    "train.drop(columns=['동결 배아 사용 여부'], inplace=True)\n",
    "test.drop(columns=['동결 배아 사용 여부'], inplace=True)\n",
    "\n",
    "train.drop(columns=['난자 채취 경과일'], inplace=True)\n",
    "test.drop(columns=['난자 채취 경과일'], inplace=True)"
   ]
  },
  {
   "cell_type": "markdown",
   "id": "397c5b7d-e395-46ec-b350-7b38833206d4",
   "metadata": {},
   "source": [
    "### DI 시술 여부일 때 결측치 -1 처리"
   ]
  },
  {
   "cell_type": "code",
   "execution_count": null,
   "id": "82e53a1a-018c-43a6-b38e-5207f7e24873",
   "metadata": {},
   "outputs": [],
   "source": [
    "features = ['미세주입된 난자 수', '미세주입에서 생성된 배아 수', '미세주입 배아 이식 수', '미세주입 후 저장된 배아 수',\n",
    "           '해동된 배아 수', \"총 생성 배아 수\", '해동 난자 수',  '수집된 신선 난자 수', '저장된 신선 난자 수',\n",
    "           '혼합된 난자 수', '파트너 정자와 혼합된 난자 수', '기증자 정자와 혼합된 난자 수',\n",
    "           '이식된 배아 수', '저장된 배아 수']\n",
    "\n",
    "train[features] = train[features].fillna(-1)\n",
    "test[features] = test[features].fillna(-1)"
   ]
  },
  {
   "cell_type": "markdown",
   "id": "9b539b30-547c-4b95-b22a-c4fcd3be196c",
   "metadata": {},
   "source": [
    "### DI 시술 여부일 때 결측치 -1 처리 후 원 핫 인코딩 (추가됨)"
   ]
  },
  {
   "cell_type": "code",
   "execution_count": null,
   "id": "c326fb44-a655-4888-8144-5e9f9183bab1",
   "metadata": {},
   "outputs": [],
   "source": [
    "# 결측치를 -1로 채우기\n",
    "cols_to_fill = ['신선 배아 사용 여부', '기증 배아 사용 여부', '대리모 여부', \n",
    "                '단일 배아 이식 여부', '착상 전 유전 진단 사용 여부']\n",
    "\n",
    "train[cols_to_fill] = train[cols_to_fill].fillna(-1)\n",
    "\n",
    "# 원핫인코딩 적용\n",
    "train_encoded = pd.get_dummies(train, columns=cols_to_fill)\n",
    "\n",
    "# 기존 열을 삭제한 train 데이터프레임\n",
    "train = train_encoded\n",
    "\n",
    "# 결측치를 -1로 채우기\n",
    "cols_to_fill = ['신선 배아 사용 여부', '기증 배아 사용 여부', '대리모 여부', \n",
    "                '단일 배아 이식 여부', '착상 전 유전 진단 사용 여부']\n",
    "\n",
    "test[cols_to_fill] = test[cols_to_fill].fillna(-1)\n",
    "\n",
    "# 원핫인코딩 적용\n",
    "test_encoded = pd.get_dummies(test, columns=cols_to_fill)\n",
    "\n",
    "# 기존 열을 삭제한 test 데이터프레임\n",
    "test = test_encoded\n"
   ]
  },
  {
   "cell_type": "markdown",
   "id": "54df48d2-68b2-4ae6-b086-bdc0ebb77639",
   "metadata": {},
   "source": [
    "### 주/부 count feature 추가"
   ]
  },
  {
   "cell_type": "code",
   "execution_count": null,
   "id": "60f1e4f8-a251-4792-bece-743354b9335d",
   "metadata": {},
   "outputs": [],
   "source": [
    "train[\"주 불임 원인 개수\"] = (\n",
    "    train[\"남성 주 불임 원인\"] + train[\"여성 주 불임 원인\"] + train[\"부부 주 불임 원인\"]\n",
    ")\n",
    "test[\"주 불임 원인 개수\"] = (\n",
    "    test[\"남성 주 불임 원인\"] + test[\"여성 주 불임 원인\"] + test[\"부부 주 불임 원인\"]\n",
    ")\n",
    "\n",
    "train[\"부 불임 원인 개수\"] = (\n",
    "    train[\"남성 부 불임 원인\"] + train[\"여성 부 불임 원인\"] + train[\"부부 부 불임 원인\"]\n",
    ")\n",
    "test[\"부 불임 원인 개수\"] = (\n",
    "    test[\"남성 부 불임 원인\"] + test[\"여성 부 불임 원인\"] + test[\"부부 부 불임 원인\"]\n",
    ")"
   ]
  },
  {
   "cell_type": "markdown",
   "id": "04e55434-423e-4457-8c45-ac4094c97367",
   "metadata": {},
   "source": [
    "### 여성 요인 합체"
   ]
  },
  {
   "cell_type": "code",
   "execution_count": null,
   "id": "70a401f6-4d4f-4fe0-8eeb-43202b003478",
   "metadata": {},
   "outputs": [],
   "source": [
    "train[\"불임 원인 - 여성 요인\"] = (\n",
    "    train[\"불임 원인 - 자궁내막증\"] + train[\"불임 원인 - 자궁경부 문제\"] + train[\"불임 원인 - 난관 질환\"] + train[\"불임 원인 - 배란 장애\"]\n",
    ")\n",
    "test[\"불임 원인 - 여성 요인\"] = (\n",
    "    test[\"불임 원인 - 자궁내막증\"] + test[\"불임 원인 - 자궁경부 문제\"] + test[\"불임 원인 - 배란 장애\"]\n",
    ")"
   ]
  },
  {
   "cell_type": "markdown",
   "id": "f88fc4c1-1851-469e-b456-979ed272d8c6",
   "metadata": {},
   "source": [
    "### 남성 요인 개수 feature 추가"
   ]
  },
  {
   "cell_type": "code",
   "execution_count": null,
   "id": "7d7e6442-daae-4f09-9e8f-d3ad2415cfa0",
   "metadata": {},
   "outputs": [],
   "source": [
    "train[\"불임 원인 - 남성 요인 개수\"] = (\n",
    "    train[\"불임 원인 - 정자 형태\"] + \n",
    "    train[\"불임 원인 - 정자 운동성\"] + \n",
    "    train[\"불임 원인 - 정자 면역학적 요인\"] + \n",
    "    train[\"불임 원인 - 정자 농도\"]\n",
    ")\n",
    "\n",
    "test[\"불임 원인 - 남성 요인 개수\"] = (\n",
    "    test[\"불임 원인 - 정자 형태\"] + \n",
    "    test[\"불임 원인 - 정자 운동성\"] + \n",
    "    test[\"불임 원인 - 정자 면역학적 요인\"] + \n",
    "    test[\"불임 원인 - 정자 농도\"]\n",
    ")"
   ]
  },
  {
   "cell_type": "markdown",
   "id": "b1e1fadc-716e-4db5-8417-384dc473af4f",
   "metadata": {},
   "source": [
    "### 배아 생성 주요 이유 (원핫)"
   ]
  },
  {
   "cell_type": "code",
   "execution_count": null,
   "id": "76a95020-6ed4-45e4-b4ba-aa36737e59e6",
   "metadata": {},
   "outputs": [],
   "source": [
    "# 1. '연구용' 포함 행 삭제 (결측치가 있으면 빈 문자열이므로 함께 처리)\n",
    "train = train[~train['배아 생성 주요 이유'].fillna('').str.contains('연구용')]\n",
    "test = test[~test['배아 생성 주요 이유'].fillna('').str.contains('연구용')]\n",
    "\n",
    "# 결측치 문자열 'Nan'으로 처리\n",
    "train['배아 생성 주요 이유'] = train['배아 생성 주요 이유'].fillna('Nan')\n",
    "test['배아 생성 주요 이유'] = test['배아 생성 주요 이유'].fillna('Nan')\n",
    "\n",
    "# 3. One-hot encoding: 지정된 4가지 항목에 대해 dummy 변수 생성\n",
    "reasons = ['Nan','기증용', '난자 저장용', '배아 저장용', '현재 시술용']\n",
    "\n",
    "for reason in reasons:\n",
    "    col_name = f'reason_{reason}'\n",
    "    train[col_name] = train['배아 생성 주요 이유'].apply(lambda x: 1 if isinstance(x, str) and reason in x else 0)\n",
    "    test[col_name] = test['배아 생성 주요 이유'].apply(lambda x: 1 if isinstance(x, str) and reason in x else 0)\n",
    "\n",
    "# 4. 원래 있던 '배아 생성 주요 이유' 컬럼 삭제\n",
    "train = train.drop(columns=['배아 생성 주요 이유'])\n",
    "test = test.drop(columns=['배아 생성 주요 이유'])"
   ]
  },
  {
   "cell_type": "markdown",
   "id": "a276543c-ae79-498f-9cdf-65073d92fb29",
   "metadata": {},
   "source": [
    "### 시술 횟수 관련"
   ]
  },
  {
   "cell_type": "code",
   "execution_count": null,
   "id": "23c9d99d-c8fa-456e-ab9d-1111a7630018",
   "metadata": {},
   "outputs": [],
   "source": [
    "valid_values = ['0회', '1회', '2회', '3회', '4회', '5회', '6회 이상']\n",
    "\n",
    "## train ##\n",
    "train = train[\n",
    "    (train['총 시술 횟수'].isin(valid_values)) &\n",
    "    (train['클리닉 내 총 시술 횟수'].isin(valid_values)) &\n",
    "    (train['IVF 시술 횟수'].isin(valid_values)) &\n",
    "    (train['DI 시술 횟수'].isin(valid_values)) &\n",
    "    (train['총 출산 횟수'].isin(valid_values)) &\n",
    "    (train['IVF 출산 횟수'].isin(valid_values)) &\n",
    "    (train['DI 출산 횟수'].isin(valid_values)) &\n",
    "    (train['총 임신 횟수'].isin(valid_values)) &\n",
    "    (train['IVF 임신 횟수'].isin(valid_values)) &\n",
    "    (train['DI 임신 횟수'].isin(valid_values))\n",
    "]\n",
    "\n",
    "for col in ['총 시술 횟수', '클리닉 내 총 시술 횟수', 'IVF 시술 횟수', 'DI 시술 횟수', '총 임신 횟수', 'IVF 임신 횟수', 'DI 임신 횟수', '총 출산 횟수', 'IVF 출산 횟수', 'DI 출산 횟수']:\n",
    "    train[col] = train[col].replace('6회 이상', '6')\n",
    "    train[col] = train[col].str.replace('회', '', regex=True).astype(int)\n",
    "\n",
    "train['총 시술 횟수'] = train['IVF 시술 횟수'] + train['DI 시술 횟수']\n",
    "\n",
    "## test ##\n",
    "test = test[\n",
    "    (test['총 시술 횟수'].isin(valid_values)) &\n",
    "    (test['클리닉 내 총 시술 횟수'].isin(valid_values)) &\n",
    "    (test['IVF 시술 횟수'].isin(valid_values)) &\n",
    "    (test['DI 시술 횟수'].isin(valid_values)) &\n",
    "    (test['총 출산 횟수'].isin(valid_values)) &\n",
    "    (test['IVF 출산 횟수'].isin(valid_values)) &\n",
    "    (test['DI 출산 횟수'].isin(valid_values)) &\n",
    "    (test['총 임신 횟수'].isin(valid_values)) &\n",
    "    (test['IVF 임신 횟수'].isin(valid_values)) &\n",
    "    (test['DI 임신 횟수'].isin(valid_values))\n",
    "]\n",
    "\n",
    "for col in ['총 시술 횟수', '클리닉 내 총 시술 횟수', 'IVF 시술 횟수', 'DI 시술 횟수', '총 임신 횟수', 'IVF 임신 횟수', 'DI 임신 횟수', '총 출산 횟수', 'IVF 출산 횟수', 'DI 출산 횟수']:\n",
    "    test[col] = test[col].replace('6회 이상', '6')\n",
    "    test[col] = test[col].str.replace('회', '', regex=True).astype(int)\n",
    "\n",
    "test['총 시술 횟수'] = test['IVF 시술 횟수'] + test['DI 시술 횟수']"
   ]
  },
  {
   "cell_type": "markdown",
   "id": "19517ef8-4bf1-40b8-813e-2d65de3313be",
   "metadata": {},
   "source": [
    "### 특정 시술 유형 그룹화 + 원핫"
   ]
  },
  {
   "cell_type": "code",
   "execution_count": null,
   "id": "664150f2-520a-4456-bae8-8a744b710399",
   "metadata": {},
   "outputs": [],
   "source": [
    "# 특정 시술 유형 그룹화 함수\n",
    "def categorize_treatment(treatment):\n",
    "    if pd.isna(treatment) or \"Unknown\" in treatment:\n",
    "        return \"Unknown\"\n",
    "    elif \"IVF\" in treatment:\n",
    "        return \"IVF 기반\"\n",
    "    elif \"ICSI\" in treatment:\n",
    "        return \"ICSI 기반\"\n",
    "    elif \"Generic DI\" in treatment or \"IUI\" in treatment or \"ICI\" in treatment or \"IVI\" in treatment:\n",
    "        return \"DI 기반\"\n",
    "    else:\n",
    "        return \"Unknown\"\n",
    "\n",
    "# 특정 시술 유형 컬럼을 그룹화\n",
    "train[\"특정 시술 유형\"] = train[\"특정 시술 유형\"].apply(categorize_treatment)\n",
    "test[\"특정 시술 유형\"] = test[\"특정 시술 유형\"].apply(categorize_treatment)\n",
    "\n",
    "\n",
    "# One-Hot Encoding 수행\n",
    "train_encoded = pd.get_dummies(train[\"특정 시술 유형\"], prefix=\"시술유형\")\n",
    "test_encoded = pd.get_dummies(test[\"특정 시술 유형\"], prefix=\"시술유형\")\n",
    "\n",
    "# 기존 데이터프레임에 One-Hot Encoding된 컬럼 추가\n",
    "train = pd.concat([train, train_encoded], axis=1)\n",
    "test = pd.concat([test, test_encoded], axis=1)\n",
    "\n",
    "# 원본 \"특정 시술 유형\" 컬럼 제거 (필요 시)\n",
    "train.drop(columns=[\"특정 시술 유형\"], inplace=True)\n",
    "test.drop(columns=[\"특정 시술 유형\"], inplace=True)"
   ]
  },
  {
   "cell_type": "markdown",
   "id": "a090f3e8-a8a0-49ab-92f4-0dd7269b8ea5",
   "metadata": {},
   "source": [
    "### 배란 유도 유형 정상화"
   ]
  },
  {
   "cell_type": "code",
   "execution_count": null,
   "id": "19775264-2011-46bd-aa85-a1138a2823a3",
   "metadata": {},
   "outputs": [],
   "source": [
    "train[\"배란 유도 유형\"].replace([\"세트로타이드 (억제제)\", \"생식선 자극 호르몬\"], \"알 수 없음\", inplace=True)\n",
    "test[\"배란 유도 유형\"].replace([\"세트로타이드 (억제제)\", \"생식선 자극 호르몬\"], \"알 수 없음\", inplace=True)"
   ]
  },
  {
   "cell_type": "markdown",
   "id": "24bd5f10-0b16-493a-9c48-68a67ea77caa",
   "metadata": {},
   "source": [
    "### 난자출처/정자출처 원핫인코딩"
   ]
  },
  {
   "cell_type": "code",
   "execution_count": null,
   "id": "45d936c2-bedd-4449-933e-dd0c6f1fcfe8",
   "metadata": {},
   "outputs": [],
   "source": [
    "# 원-핫 인코딩 수행\n",
    "train = pd.get_dummies(train, columns=[\"난자 출처\", \"정자 출처\"], dtype=int)\n",
    "test = pd.get_dummies(test, columns=[\"난자 출처\", \"정자 출처\"], dtype=int)"
   ]
  },
  {
   "cell_type": "markdown",
   "id": "f4c77de7-9835-4cad-94d2-2d622e9dcbe2",
   "metadata": {},
   "source": [
    "### 난자/정자 기증자 나이 라벨 인코딩 (수정: 오타 해결 + 결측치 -1 처리)"
   ]
  },
  {
   "cell_type": "code",
   "execution_count": null,
   "id": "5a529b42-935f-40c6-800b-9e563989d810",
   "metadata": {},
   "outputs": [],
   "source": [
    "from sklearn.preprocessing import LabelEncoder\n",
    "\n",
    "# 결측치를 -1로 처리 (난자 기증자 나이, 정자 기증자 나이)\n",
    "train[\"난자 기증자 나이\"].fillna(\"-1\", inplace=True)\n",
    "test[\"난자 기증자 나이\"].fillna(\"-1\", inplace=True)\n",
    "\n",
    "train[\"정자 기증자 나이\"].fillna(\"-1\", inplace=True)\n",
    "test[\"정자 기증자 나이\"].fillna(\"-1\", inplace=True)\n",
    "\n",
    "# 라벨 인코딩 매핑 딕셔너리\n",
    "age_mapping_nanja = {\n",
    "    \"만20세 이하\": 0,\n",
    "    \"만21-25세\": 1,\n",
    "    \"만26-30세\": 2,\n",
    "    \"만31-35세\": 3,\n",
    "    \"알 수 없음\": -1\n",
    "}\n",
    "\n",
    "age_mapping_jungja = {\n",
    "    \"알 수 없음\": -1, \n",
    "    \"만21-25세\": 1,\n",
    "    \"만26-30세\": 2,\n",
    "    \"만31-35세\": 3,\n",
    "    \"만36-40세\": 4,\n",
    "    \"만41-45세\": 5,\n",
    "    \"만20세 이하\": 0,\n",
    "}\n",
    "    \n",
    "# 라벨 인코딩 적용(난자)\n",
    "train[\"난자 기증자 나이 (라벨 인코딩)\"] = train[\"난자 기증자 나이\"].map(age_mapping_nanja)\n",
    "test[\"난자 기증자 나이 (라벨 인코딩)\"] = test[\"난자 기증자 나이\"].map(age_mapping_nanja)\n",
    "\n",
    "# 원본 \"난자 기증자 나이\" 컬럼 제거(난자)\n",
    "train.drop(columns=[\"난자 기증자 나이\"], inplace=True)\n",
    "test.drop(columns=[\"난자 기증자 나이\"], inplace=True)\n",
    "\n",
    "# 라벨 인코딩 적용(정자)\n",
    "train[\"정자 기증자 나이 (라벨 인코딩)\"] = train[\"정자 기증자 나이\"].map(age_mapping_jungja)\n",
    "test[\"정자 기증자 나이 (라벨 인코딩)\"] = test[\"정자 기증자 나이\"].map(age_mapping_jungja)\n",
    "\n",
    "# 원본 \"정자 기증자 나이\" 컬럼 제거(정자)\n",
    "train.drop(columns=[\"정자 기증자 나이\"], inplace=True)\n",
    "test.drop(columns=[\"정자 기증자 나이\"], inplace=True)"
   ]
  },
  {
   "cell_type": "markdown",
   "id": "47af2c47-71be-46ee-8611-ea2b6daa9e74",
   "metadata": {},
   "source": [
    "### 시술 당시 나이 라벨 인코딩"
   ]
  },
  {
   "cell_type": "code",
   "execution_count": null,
   "id": "fb646b2b-b10a-48f6-8a88-5bf5be2ea7ee",
   "metadata": {},
   "outputs": [],
   "source": [
    "# 라벨 인코딩 매핑 딕셔너리 (나이가 작은 순으로 매핑)\n",
    "age_mapping_treatment = {\n",
    "    \"만18-34세\": 0,\n",
    "    \"만35-37세\": 1,\n",
    "    \"만38-39세\": 2,\n",
    "    \"만40-42세\": 3,\n",
    "    \"만43-44세\": 4,\n",
    "    \"만45-50세\": 5,\n",
    "    \"알 수 없음\": -1\n",
    "}\n",
    "\n",
    "# 라벨 인코딩 적용\n",
    "train[\"시술 당시 나이 (라벨 인코딩)\"] = train[\"시술 당시 나이\"].map(age_mapping_treatment)\n",
    "test[\"시술 당시 나이 (라벨 인코딩)\"] = test[\"시술 당시 나이\"].map(age_mapping_treatment)\n",
    "\n",
    "# 원본 \"시술 당시 나이\" 컬럼 제거\n",
    "train.drop(columns=[\"시술 당시 나이\"], inplace=True)\n",
    "test.drop(columns=[\"시술 당시 나이\"], inplace=True)"
   ]
  },
  {
   "cell_type": "markdown",
   "id": "4a66956d-8976-48ab-9278-d4cdaa955b70",
   "metadata": {},
   "source": [
    "### 시술 시기 코드 원 핫 인코딩"
   ]
  },
  {
   "cell_type": "code",
   "execution_count": null,
   "id": "ece9a71e-bea0-4a78-b6c8-16e38bdc469f",
   "metadata": {},
   "outputs": [],
   "source": [
    "# 전처리 함수\n",
    "def preprocess_timing_code(code):\n",
    "    return \"Unknown\" if pd.isna(code) else code\n",
    "\n",
    "# 결측 처리 적용\n",
    "train[\"시술 시기 코드\"] = train[\"시술 시기 코드\"].apply(preprocess_timing_code)\n",
    "test[\"시술 시기 코드\"] = test[\"시술 시기 코드\"].apply(preprocess_timing_code)\n",
    "\n",
    "# 인코딩 적용 및 컬럼 정렬 (train/test 직접 대체)\n",
    "train = pd.get_dummies(train, columns=[\"시술 시기 코드\"], prefix=\"시술시기\")\n",
    "test = pd.get_dummies(test, columns=[\"시술 시기 코드\"], prefix=\"시술시기\")\n",
    "train, test = train.align(test, join='left', axis=1, fill_value=0)"
   ]
  },
  {
   "cell_type": "markdown",
   "id": "fbaa9ae8-29ef-405d-bdf0-56b4eedd350d",
   "metadata": {},
   "source": [
    "***"
   ]
  },
  {
   "cell_type": "markdown",
   "id": "c71e0801-f187-4fb0-aa52-6545da36d316",
   "metadata": {},
   "source": [
    "# Label/One-Hot/Numeric Column List"
   ]
  },
  {
   "cell_type": "code",
   "execution_count": null,
   "id": "bb94ffa9-38b4-4f9a-a622-29b996aa5718",
   "metadata": {},
   "outputs": [],
   "source": [
    "label_columns = ['불명확 불임 원인', '배란 자극 여부', '시술 유형', '배란 유도 유형']\n",
    "\n",
    "numeric_columns = ['임신 시도 또는 마지막 임신 경과 연수', '난자 혼합 경과일', '배아 이식 경과일'\n",
    "                  , '총 시술 횟수', '클리닉 내 총 시술 횟수', 'IVF 시술 횟수', 'DI 시술 횟수', '총 임신 횟수'\n",
    "                   , 'IVF 임신 횟수', 'DI 임신 횟수', '총 출산 횟수', 'IVF 출산 횟수', 'DI 출산 횟수' ]"
   ]
  },
  {
   "cell_type": "markdown",
   "id": "26cbe7cc-d46d-4e6f-b2c5-784ba6be1e16",
   "metadata": {},
   "source": [
    "# 결측치 처리 (추가됨: 결측치가 있는 남은 세 개의 정수형 feature를 중앙값으로 채우기)"
   ]
  },
  {
   "cell_type": "code",
   "execution_count": null,
   "id": "a831bbe8-7342-47e6-b290-5350204845c2",
   "metadata": {},
   "outputs": [],
   "source": [
    "num_list = ['난자 혼합 경과일', '배아 이식 경과일']\n",
    "\n",
    "# 중앙값으로 결측치 채우기\n",
    "num_list = ['난자 혼합 경과일', '배아 이식 경과일']\n",
    "\n",
    "train[num_list] = train[num_list].fillna(train[num_list].median())\n",
    "test[num_list] = test[num_list].fillna(test[num_list].median())"
   ]
  },
  {
   "cell_type": "markdown",
   "id": "cac7a0e2-8747-4291-8e49-c3d6f05f13df",
   "metadata": {},
   "source": [
    "# 인코딩"
   ]
  },
  {
   "cell_type": "code",
   "execution_count": null,
   "id": "2eb58c42-0326-487b-85c4-e4c186026c56",
   "metadata": {},
   "outputs": [],
   "source": [
    "# 카테고리형 컬럼들을 문자열로 변환\n",
    "for col in label_columns:\n",
    "    train[col] = train[col].astype(str)\n",
    "    test[col] = test[col].astype(str)\n",
    "\n",
    "ordinal_encoder = OrdinalEncoder(handle_unknown='use_encoded_value', unknown_value=-1)\n",
    "train[label_columns] = ordinal_encoder.fit_transform(train[label_columns])\n",
    "test[label_columns] = ordinal_encoder.transform(test[label_columns])"
   ]
  },
  {
   "cell_type": "markdown",
   "id": "9b34bf56-38ca-472b-8b9f-538d6fd7abbe",
   "metadata": {},
   "source": [
    "# X와 y로 분리"
   ]
  },
  {
   "cell_type": "code",
   "execution_count": null,
   "id": "5db9741f-ed07-49d9-8c1e-29546e8c0604",
   "metadata": {},
   "outputs": [],
   "source": [
    "X = train.drop('임신 성공 여부', axis=1)\n",
    "y = train['임신 성공 여부']"
   ]
  },
  {
   "cell_type": "code",
   "execution_count": null,
   "id": "0c08339a-6b62-4133-a15d-8a23157f5e7c",
   "metadata": {},
   "outputs": [],
   "source": [
    "test.drop(columns=['임신 성공 여부'], inplace=True)"
   ]
  },
  {
   "cell_type": "markdown",
   "id": "42afd9c2-eff1-4093-8aa1-9beca64d417b",
   "metadata": {},
   "source": [
    "***"
   ]
  },
  {
   "cell_type": "markdown",
   "id": "afef9a8e-e044-4b0f-9470-332f67213714",
   "metadata": {},
   "source": [
    "# 하이퍼파라미터 (stacking으로 바꿈, 학습모델과 파라미터는 계속 찾아야 할 듯)"
   ]
  },
  {
   "cell_type": "code",
   "execution_count": null,
   "id": "94ac9f6e-0a96-4cf1-82d8-409685f9b152",
   "metadata": {},
   "outputs": [],
   "source": [
    "import optuna\n",
    "import pandas as pd\n",
    "from sklearn.model_selection import train_test_split\n",
    "from sklearn.metrics import roc_auc_score\n",
    "from imblearn.over_sampling import SMOTE\n",
    "from pytorch_tabnet.tab_model import TabNetClassifier\n",
    "\n",
    "# 데이터 분할\n",
    "X_train, X_valid, y_train, y_valid = train_test_split(X, y, test_size=0.2, random_state=42)\n",
    "\n",
    "# SMOTE 적용\n",
    "smote = SMOTE(random_state=42)\n",
    "X_train_resampled, y_train_resampled = smote.fit_resample(X_train, y_train)\n",
    "\n",
    "# Optuna 하이퍼파라미터 튜닝을 위한 목적 함수\n",
    "def objective(trial):\n",
    "    # TabNet 하이퍼파라미터 설정\n",
    "    tabnet_param = {\n",
    "        'n_d': trial.suggest_int('n_d', 8, 64),  # Decision Layer 차원\n",
    "        'n_a': trial.suggest_int('n_a', 8, 64),  # Attention Layer 차원\n",
    "        'n_steps': trial.suggest_int('n_steps', 3, 10),  # 각 단계에서 학습하는 과정 수\n",
    "        'gamma': trial.suggest_float('gamma', 1e-3, 1e-1, log=True),  # Regularization parameter\n",
    "        'lambda_sparse': trial.suggest_float('lambda_sparse', 1e-5, 1e-3, log=True),  # Sparsity regularization\n",
    "        'learning_rate': trial.suggest_loguniform('learning_rate', 1e-4, 1e-2),  # 학습률\n",
    "        'weight_decay': trial.suggest_loguniform('weight_decay', 1e-5, 1e-2),  # 가중치 감소\n",
    "        'batch_size': trial.suggest_categorical('batch_size', [256, 512]),  # 배치 크기\n",
    "        'virtual_batch_size': trial.suggest_categorical('virtual_batch_size', [128, 256]),  # 가상 배치 크기\n",
    "        'max_epochs': 100,  # 에포크 수 (Optuna 최적화에서는 학습 횟수를 너무 많이 설정하지 않음)\n",
    "        'random_state': 42\n",
    "    }\n",
    "\n",
    "    # TabNet 모델 학습\n",
    "    tabnet_clf = TabNetClassifier(**tabnet_param)\n",
    "    tabnet_clf.fit(X_train_resampled.values, y_train_resampled.values, \n",
    "                   eval_set=[(X_valid.values, y_valid.values)], \n",
    "                   eval_name=[\"valid\"], \n",
    "                   batch_size=tabnet_param['batch_size'], \n",
    "                   virtual_batch_size=tabnet_param['virtual_batch_size'])\n",
    "\n",
    "    # 예측 (ROC-AUC 계산)\n",
    "    y_pred = tabnet_clf.predict_proba(X_valid.values)[:, 1]\n",
    "    score = roc_auc_score(y_valid, y_pred)\n",
    "\n",
    "    return score\n",
    "\n",
    "# Optuna 최적화\n",
    "study = optuna.create_study(direction='maximize')\n",
    "study.optimize(objective, n_trials=100)  # n_trials를 100으로 늘려서 더 많은 실험을 시도\n",
    "\n",
    "# 최적 하이퍼파라미터 출력\n",
    "print(f\"Best Trial: {study.best_trial.params}\")\n",
    "print(f\"Best ROC-AUC Score: {study.best_value}\")\n",
    "\n",
    "# 최적 하이퍼파라미터로 TabNet 모델 학습\n",
    "best_tabnet_params = study.best_trial.params\n",
    "tabnet_clf_final = TabNetClassifier(**best_tabnet_params)\n",
    "\n",
    "# 전체 데이터로 학습\n",
    "tabnet_clf_final.fit(X.values, y.values)\n",
    "\n",
    "# test 데이터 예측\n",
    "pred_proba = tabnet_clf_final.predict_proba(test.values)[:, 1]\n",
    "\n",
    "# 결과 저장\n",
    "sample_submission = pd.read_csv('./sample_submission.csv')\n",
    "sample_submission['probability'] = pred_proba\n",
    "sample_submission.to_csv('./final_submission_tabnet.csv', index=False)\n",
    "\n",
    "print(\"✅ 최종 예측 완료! 결과 저장됨: final_submission_tabnet.csv\")"
   ]
  },
  {
   "cell_type": "markdown",
   "id": "ed0dc008-59c4-4e8d-8b95-fe441a561019",
   "metadata": {},
   "source": [
    "# 학습"
   ]
  }
 ],
 "metadata": {
  "kernelspec": {
   "display_name": "Python [conda env:base] *",
   "language": "python",
   "name": "conda-base-py"
  },
  "language_info": {
   "codemirror_mode": {
    "name": "ipython",
    "version": 3
   },
   "file_extension": ".py",
   "mimetype": "text/x-python",
   "name": "python",
   "nbconvert_exporter": "python",
   "pygments_lexer": "ipython3",
   "version": "3.12.7"
  }
 },
 "nbformat": 4,
 "nbformat_minor": 5
}
