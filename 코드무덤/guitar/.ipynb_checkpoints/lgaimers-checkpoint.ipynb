{
 "cells": [
  {
   "cell_type": "code",
   "execution_count": 50,
   "metadata": {
    "executionInfo": {
     "elapsed": 300,
     "status": "ok",
     "timestamp": 1738562980897,
     "user": {
      "displayName": "금상민",
      "userId": "17918815029075373712"
     },
     "user_tz": -540
    },
    "id": "ff51550c-bca1-4159-8383-8388db810ec5"
   },
   "outputs": [],
   "source": [
    "import pandas as pd\n",
    "import numpy as np\n",
    "import matplotlib.pyplot as plt\n",
    "\n",
    "from sklearn.preprocessing import  OrdinalEncoder\n",
    "from sklearn.ensemble import ExtraTreesClassifier"
   ]
  },
  {
   "cell_type": "markdown",
   "metadata": {
    "id": "64d2537c-a6bc-421c-8f31-4d2c41d45a2a"
   },
   "source": [
    "# 데이터 불러오기"
   ]
  },
  {
   "cell_type": "code",
   "execution_count": 4,
   "metadata": {
    "colab": {
     "base_uri": "https://localhost:8080/",
     "height": 370
    },
    "executionInfo": {
     "elapsed": 3468,
     "status": "error",
     "timestamp": 1738563009467,
     "user": {
      "displayName": "금상민",
      "userId": "17918815029075373712"
     },
     "user_tz": -540
    },
    "id": "507e87a3-952d-4d0a-865c-113c9464f64d",
    "outputId": "23d781a9-e9b7-42ec-9b98-cc33bf2a2934"
   },
   "outputs": [],
   "source": [
    "train = pd.read_csv('./train.csv').drop(columns=['ID'])\n",
    "test = pd.read_csv('./test.csv').drop(columns=['ID'])\n"
   ]
  },
  {
   "cell_type": "code",
   "execution_count": 5,
   "metadata": {
    "id": "ee4af988-b25b-4a2b-8c92-514ea49269fd"
   },
   "outputs": [],
   "source": [
    "X = train.drop('임신 성공 여부', axis=1)\n",
    "y = train['임신 성공 여부']"
   ]
  },
  {
   "cell_type": "markdown",
   "metadata": {
    "id": "bf537820-67e4-4940-b1bd-d75212e41b03"
   },
   "source": [
    "# 데이터 전처리"
   ]
  },
  {
   "cell_type": "code",
   "execution_count": 6,
   "metadata": {
    "id": "4bdd0e00-493a-4c15-99a6-defaab31cd43"
   },
   "outputs": [],
   "source": [
    "categorical_columns = [\n",
    "    \"시술 시기 코드\",\n",
    "    \"시술 당시 나이\",\n",
    "    \"시술 유형\",\n",
    "    \"특정 시술 유형\",\n",
    "    \"배란 자극 여부\",\n",
    "    \"배란 유도 유형\",\n",
    "    \"단일 배아 이식 여부\",\n",
    "    \"착상 전 유전 검사 사용 여부\",\n",
    "    \"착상 전 유전 진단 사용 여부\",\n",
    "    \"남성 주 불임 원인\",\n",
    "    \"남성 부 불임 원인\",\n",
    "    \"여성 주 불임 원인\",\n",
    "    \"여성 부 불임 원인\",\n",
    "    \"부부 주 불임 원인\",\n",
    "    \"부부 부 불임 원인\",\n",
    "    \"불명확 불임 원인\",\n",
    "    \"불임 원인 - 난관 질환\",\n",
    "    \"불임 원인 - 남성 요인\",\n",
    "    \"불임 원인 - 배란 장애\",\n",
    "    \"불임 원인 - 여성 요인\",\n",
    "    \"불임 원인 - 자궁경부 문제\",\n",
    "    \"불임 원인 - 자궁내막증\",\n",
    "    \"불임 원인 - 정자 농도\",\n",
    "    \"불임 원인 - 정자 면역학적 요인\",\n",
    "    \"불임 원인 - 정자 운동성\",\n",
    "    \"불임 원인 - 정자 형태\",\n",
    "    \"배아 생성 주요 이유\",\n",
    "    \"총 시술 횟수\",\n",
    "    \"클리닉 내 총 시술 횟수\",\n",
    "    \"IVF 시술 횟수\",\n",
    "    \"DI 시술 횟수\",\n",
    "    \"총 임신 횟수\",\n",
    "    \"IVF 임신 횟수\",\n",
    "    \"DI 임신 횟수\",\n",
    "    \"총 출산 횟수\",\n",
    "    \"IVF 출산 횟수\",\n",
    "    \"DI 출산 횟수\",\n",
    "    \"난자 출처\",\n",
    "    \"정자 출처\",\n",
    "    \"난자 기증자 나이\",\n",
    "    \"정자 기증자 나이\",\n",
    "    \"동결 배아 사용 여부\",\n",
    "    \"신선 배아 사용 여부\",\n",
    "    \"기증 배아 사용 여부\",\n",
    "    \"대리모 여부\",\n",
    "    \"PGD 시술 여부\",\n",
    "    \"PGS 시술 여부\"\n",
    "]"
   ]
  },
  {
   "cell_type": "code",
   "execution_count": 7,
   "metadata": {
    "id": "0d59813c-8e97-41fe-884f-26bf27f4c2c8"
   },
   "outputs": [],
   "source": [
    "# 카테고리형 컬럼들을 문자열로 변환\n",
    "for col in categorical_columns:\n",
    "    X[col] = X[col].astype(str)\n",
    "    test[col] = test[col].astype(str)"
   ]
  },
  {
   "cell_type": "code",
   "execution_count": 8,
   "metadata": {
    "id": "df54aaed-4025-4b7a-be07-de6f5b5b7e41"
   },
   "outputs": [],
   "source": [
    "ordinal_encoder = OrdinalEncoder(handle_unknown='use_encoded_value', unknown_value=-1)\n",
    "\n",
    "X_train_encoded = X.copy()\n",
    "X_train_encoded[categorical_columns] = ordinal_encoder.fit_transform(X[categorical_columns])\n",
    "\n",
    "X_test_encoded = test.copy()\n",
    "X_test_encoded[categorical_columns] = ordinal_encoder.transform(test[categorical_columns])"
   ]
  },
  {
   "cell_type": "code",
   "execution_count": 9,
   "metadata": {
    "id": "2f11d5ce-0ba8-4809-8262-43ef1365183a"
   },
   "outputs": [],
   "source": [
    "numeric_columns = [\n",
    "    \"임신 시도 또는 마지막 임신 경과 연수\",\n",
    "    \"총 생성 배아 수\",\n",
    "    \"미세주입된 난자 수\",\n",
    "    \"미세주입에서 생성된 배아 수\",\n",
    "    \"이식된 배아 수\",\n",
    "    \"미세주입 배아 이식 수\",\n",
    "    \"저장된 배아 수\",\n",
    "    \"미세주입 후 저장된 배아 수\",\n",
    "    \"해동된 배아 수\",\n",
    "    \"해동 난자 수\",\n",
    "    \"수집된 신선 난자 수\",\n",
    "    \"저장된 신선 난자 수\",\n",
    "    \"혼합된 난자 수\",\n",
    "    \"파트너 정자와 혼합된 난자 수\",\n",
    "    \"기증자 정자와 혼합된 난자 수\",\n",
    "    \"난자 채취 경과일\",\n",
    "    \"난자 해동 경과일\",\n",
    "    \"난자 혼합 경과일\",\n",
    "    \"배아 이식 경과일\",\n",
    "    \"배아 해동 경과일\"\n",
    "]"
   ]
  },
  {
   "cell_type": "code",
   "execution_count": 10,
   "metadata": {
    "id": "192d38d7-4d00-46b3-b8d5-68362a84f6c5"
   },
   "outputs": [],
   "source": [
    "X_train_encoded[numeric_columns] = X_train_encoded[numeric_columns].fillna(0)\n",
    "X_test_encoded[numeric_columns] = X_test_encoded[numeric_columns].fillna(0)"
   ]
  },
  {
   "cell_type": "markdown",
   "metadata": {
    "id": "2ce1eeee-5894-498f-b979-1429b631afaf"
   },
   "source": [
    "# EDA(데이터 분석)"
   ]
  },
  {
   "cell_type": "code",
   "execution_count": 11,
   "metadata": {
    "id": "db345119-1e45-40be-8331-8b80774fe056"
   },
   "outputs": [
    {
     "data": {
      "text/html": [
       "<div>\n",
       "<style scoped>\n",
       "    .dataframe tbody tr th:only-of-type {\n",
       "        vertical-align: middle;\n",
       "    }\n",
       "\n",
       "    .dataframe tbody tr th {\n",
       "        vertical-align: top;\n",
       "    }\n",
       "\n",
       "    .dataframe thead th {\n",
       "        text-align: right;\n",
       "    }\n",
       "</style>\n",
       "<table border=\"1\" class=\"dataframe\">\n",
       "  <thead>\n",
       "    <tr style=\"text-align: right;\">\n",
       "      <th></th>\n",
       "      <th>시술 시기 코드</th>\n",
       "      <th>시술 당시 나이</th>\n",
       "      <th>임신 시도 또는 마지막 임신 경과 연수</th>\n",
       "      <th>시술 유형</th>\n",
       "      <th>특정 시술 유형</th>\n",
       "      <th>배란 자극 여부</th>\n",
       "      <th>배란 유도 유형</th>\n",
       "      <th>단일 배아 이식 여부</th>\n",
       "      <th>착상 전 유전 검사 사용 여부</th>\n",
       "      <th>착상 전 유전 진단 사용 여부</th>\n",
       "      <th>...</th>\n",
       "      <th>기증 배아 사용 여부</th>\n",
       "      <th>대리모 여부</th>\n",
       "      <th>PGD 시술 여부</th>\n",
       "      <th>PGS 시술 여부</th>\n",
       "      <th>난자 채취 경과일</th>\n",
       "      <th>난자 해동 경과일</th>\n",
       "      <th>난자 혼합 경과일</th>\n",
       "      <th>배아 이식 경과일</th>\n",
       "      <th>배아 해동 경과일</th>\n",
       "      <th>임신 성공 여부</th>\n",
       "    </tr>\n",
       "  </thead>\n",
       "  <tbody>\n",
       "    <tr>\n",
       "      <th>0</th>\n",
       "      <td>TRZKPL</td>\n",
       "      <td>만18-34세</td>\n",
       "      <td>NaN</td>\n",
       "      <td>IVF</td>\n",
       "      <td>ICSI</td>\n",
       "      <td>1</td>\n",
       "      <td>기록되지 않은 시행</td>\n",
       "      <td>0.0</td>\n",
       "      <td>NaN</td>\n",
       "      <td>0.0</td>\n",
       "      <td>...</td>\n",
       "      <td>0.0</td>\n",
       "      <td>0.0</td>\n",
       "      <td>NaN</td>\n",
       "      <td>NaN</td>\n",
       "      <td>0.0</td>\n",
       "      <td>NaN</td>\n",
       "      <td>0.0</td>\n",
       "      <td>3.0</td>\n",
       "      <td>NaN</td>\n",
       "      <td>0</td>\n",
       "    </tr>\n",
       "    <tr>\n",
       "      <th>1</th>\n",
       "      <td>TRYBLT</td>\n",
       "      <td>만45-50세</td>\n",
       "      <td>NaN</td>\n",
       "      <td>IVF</td>\n",
       "      <td>ICSI</td>\n",
       "      <td>0</td>\n",
       "      <td>알 수 없음</td>\n",
       "      <td>0.0</td>\n",
       "      <td>NaN</td>\n",
       "      <td>0.0</td>\n",
       "      <td>...</td>\n",
       "      <td>0.0</td>\n",
       "      <td>0.0</td>\n",
       "      <td>NaN</td>\n",
       "      <td>NaN</td>\n",
       "      <td>0.0</td>\n",
       "      <td>NaN</td>\n",
       "      <td>0.0</td>\n",
       "      <td>NaN</td>\n",
       "      <td>NaN</td>\n",
       "      <td>0</td>\n",
       "    </tr>\n",
       "    <tr>\n",
       "      <th>2</th>\n",
       "      <td>TRVNRY</td>\n",
       "      <td>만18-34세</td>\n",
       "      <td>NaN</td>\n",
       "      <td>IVF</td>\n",
       "      <td>IVF</td>\n",
       "      <td>1</td>\n",
       "      <td>기록되지 않은 시행</td>\n",
       "      <td>0.0</td>\n",
       "      <td>NaN</td>\n",
       "      <td>0.0</td>\n",
       "      <td>...</td>\n",
       "      <td>0.0</td>\n",
       "      <td>0.0</td>\n",
       "      <td>NaN</td>\n",
       "      <td>NaN</td>\n",
       "      <td>0.0</td>\n",
       "      <td>NaN</td>\n",
       "      <td>0.0</td>\n",
       "      <td>2.0</td>\n",
       "      <td>NaN</td>\n",
       "      <td>0</td>\n",
       "    </tr>\n",
       "    <tr>\n",
       "      <th>3</th>\n",
       "      <td>TRJXFG</td>\n",
       "      <td>만35-37세</td>\n",
       "      <td>NaN</td>\n",
       "      <td>IVF</td>\n",
       "      <td>ICSI</td>\n",
       "      <td>1</td>\n",
       "      <td>기록되지 않은 시행</td>\n",
       "      <td>0.0</td>\n",
       "      <td>NaN</td>\n",
       "      <td>0.0</td>\n",
       "      <td>...</td>\n",
       "      <td>0.0</td>\n",
       "      <td>0.0</td>\n",
       "      <td>NaN</td>\n",
       "      <td>NaN</td>\n",
       "      <td>0.0</td>\n",
       "      <td>NaN</td>\n",
       "      <td>0.0</td>\n",
       "      <td>NaN</td>\n",
       "      <td>NaN</td>\n",
       "      <td>0</td>\n",
       "    </tr>\n",
       "    <tr>\n",
       "      <th>4</th>\n",
       "      <td>TRVNRY</td>\n",
       "      <td>만18-34세</td>\n",
       "      <td>NaN</td>\n",
       "      <td>IVF</td>\n",
       "      <td>ICSI</td>\n",
       "      <td>1</td>\n",
       "      <td>기록되지 않은 시행</td>\n",
       "      <td>0.0</td>\n",
       "      <td>NaN</td>\n",
       "      <td>0.0</td>\n",
       "      <td>...</td>\n",
       "      <td>0.0</td>\n",
       "      <td>0.0</td>\n",
       "      <td>NaN</td>\n",
       "      <td>NaN</td>\n",
       "      <td>0.0</td>\n",
       "      <td>NaN</td>\n",
       "      <td>0.0</td>\n",
       "      <td>3.0</td>\n",
       "      <td>NaN</td>\n",
       "      <td>0</td>\n",
       "    </tr>\n",
       "  </tbody>\n",
       "</table>\n",
       "<p>5 rows × 68 columns</p>\n",
       "</div>"
      ],
      "text/plain": [
       "  시술 시기 코드 시술 당시 나이  임신 시도 또는 마지막 임신 경과 연수 시술 유형 특정 시술 유형  배란 자극 여부  \\\n",
       "0   TRZKPL  만18-34세                    NaN   IVF     ICSI         1   \n",
       "1   TRYBLT  만45-50세                    NaN   IVF     ICSI         0   \n",
       "2   TRVNRY  만18-34세                    NaN   IVF      IVF         1   \n",
       "3   TRJXFG  만35-37세                    NaN   IVF     ICSI         1   \n",
       "4   TRVNRY  만18-34세                    NaN   IVF     ICSI         1   \n",
       "\n",
       "     배란 유도 유형  단일 배아 이식 여부  착상 전 유전 검사 사용 여부  착상 전 유전 진단 사용 여부  ...  \\\n",
       "0  기록되지 않은 시행          0.0               NaN               0.0  ...   \n",
       "1      알 수 없음          0.0               NaN               0.0  ...   \n",
       "2  기록되지 않은 시행          0.0               NaN               0.0  ...   \n",
       "3  기록되지 않은 시행          0.0               NaN               0.0  ...   \n",
       "4  기록되지 않은 시행          0.0               NaN               0.0  ...   \n",
       "\n",
       "   기증 배아 사용 여부  대리모 여부  PGD 시술 여부  PGS 시술 여부  난자 채취 경과일  난자 해동 경과일  난자 혼합 경과일  \\\n",
       "0          0.0     0.0        NaN        NaN        0.0        NaN        0.0   \n",
       "1          0.0     0.0        NaN        NaN        0.0        NaN        0.0   \n",
       "2          0.0     0.0        NaN        NaN        0.0        NaN        0.0   \n",
       "3          0.0     0.0        NaN        NaN        0.0        NaN        0.0   \n",
       "4          0.0     0.0        NaN        NaN        0.0        NaN        0.0   \n",
       "\n",
       "   배아 이식 경과일  배아 해동 경과일  임신 성공 여부  \n",
       "0        3.0        NaN         0  \n",
       "1        NaN        NaN         0  \n",
       "2        2.0        NaN         0  \n",
       "3        NaN        NaN         0  \n",
       "4        3.0        NaN         0  \n",
       "\n",
       "[5 rows x 68 columns]"
      ]
     },
     "execution_count": 11,
     "metadata": {},
     "output_type": "execute_result"
    }
   ],
   "source": [
    "train.head()"
   ]
  },
  {
   "cell_type": "markdown",
   "metadata": {
    "id": "70a07e36-9f47-43c9-bf76-46d7ef425364"
   },
   "source": [
    "#### 시술 시기 코드 분석"
   ]
  },
  {
   "cell_type": "code",
   "execution_count": 12,
   "metadata": {
    "id": "71c781aa-b5ff-4394-81ba-47afa6b2270c"
   },
   "outputs": [
    {
     "name": "stdout",
     "output_type": "stream",
     "text": [
      "TRDQAZ    38969\n",
      "TRCMWS    38090\n",
      "TRYBLT    36713\n",
      "TRVNRY    36173\n",
      "TRJXFG    36031\n",
      "TRZKPL    35544\n",
      "TRXQMD    34831\n",
      "Name: 시술 시기 코드, dtype: int64\n"
     ]
    }
   ],
   "source": [
    "# '시술 시기 코드'별 데이터 개수 세기\n",
    "total_counts = train['시술 시기 코드'].value_counts()\n",
    "\n",
    "# 출력\n",
    "print(total_counts)"
   ]
  },
  {
   "cell_type": "code",
   "execution_count": 13,
   "metadata": {
    "id": "6a9c3f02-c3e7-422d-b040-8d3acc0fce2c"
   },
   "outputs": [
    {
     "name": "stdout",
     "output_type": "stream",
     "text": [
      "임신 성공 여부      0     1\n",
      "시술 시기 코드             \n",
      "TRCMWS    28285  9805\n",
      "TRDQAZ    29405  9564\n",
      "TRJXFG    26437  9594\n",
      "TRVNRY    26776  9397\n",
      "TRXQMD    25910  8921\n",
      "TRYBLT    26834  9879\n",
      "TRZKPL    26476  9068\n"
     ]
    }
   ],
   "source": [
    "# '시술 시기 코드'별 '임신 성공 여부'가 0인 경우와 1인 경우의 개수를 세기\n",
    "success_failure_counts = train.groupby('시술 시기 코드')['임신 성공 여부'].value_counts().unstack(fill_value=0)\n",
    "\n",
    "# 출력\n",
    "print(success_failure_counts)"
   ]
  },
  {
   "cell_type": "code",
   "execution_count": 14,
   "metadata": {
    "id": "f9db2a2e-bddc-4fe3-a3e5-04a25ce7d603"
   },
   "outputs": [
    {
     "name": "stdout",
     "output_type": "stream",
     "text": [
      "시술 시기 코드\n",
      "TRCMWS    0.257417\n",
      "TRDQAZ    0.245426\n",
      "TRJXFG    0.266271\n",
      "TRVNRY    0.259779\n",
      "TRXQMD    0.256122\n",
      "TRYBLT    0.269087\n",
      "TRZKPL    0.255120\n",
      "Name: 임신 성공 여부, dtype: float64\n"
     ]
    }
   ],
   "source": [
    "# '시술 시기 코드'별로 '임신 성공 여부' 평균(성공률) 계산\n",
    "success_rate = train.groupby('시술 시기 코드')['임신 성공 여부'].mean()\n",
    "\n",
    "# 출력\n",
    "print(success_rate)"
   ]
  },
  {
   "cell_type": "code",
   "execution_count": 15,
   "metadata": {
    "id": "40bfe4ee-28eb-4a4b-b498-ca8a60f18f69"
   },
   "outputs": [
    {
     "name": "stdout",
     "output_type": "stream",
     "text": [
      "시술 당시 나이  만18-34세  만35-37세  만38-39세  만40-42세  만43-44세  만45-50세  알 수 없음\n",
      "시술 시기 코드                                                              \n",
      "TRCMWS      14950     8636     5462     5723     2063     1199      57\n",
      "TRDQAZ      14688     8796     5822     6037     2223     1327      76\n",
      "TRJXFG      14764     7904     5471     5260     1610      962      60\n",
      "TRVNRY      14942     8057     5643     5048     1593      858      32\n",
      "TRXQMD      13891     8127     5687     4886     1429      790      21\n",
      "TRYBLT      14698     8287     5482     5382     1810      995      59\n",
      "TRZKPL      14543     7973     5680     5012     1525      787      24\n"
     ]
    }
   ],
   "source": [
    "# '시술 시기 코드'별 '시술 당시 나이' 분석\n",
    "success_failure_counts = train.groupby('시술 시기 코드')['시술 당시 나이'].value_counts().unstack(fill_value=0)\n",
    "\n",
    "# 출력\n",
    "print(success_failure_counts)"
   ]
  },
  {
   "cell_type": "code",
   "execution_count": 16,
   "metadata": {
    "id": "b9a91822-e423-4c1a-8c7a-6de56fed673f"
   },
   "outputs": [
    {
     "name": "stdout",
     "output_type": "stream",
     "text": [
      "시술 유형      DI    IVF\n",
      "시술 시기 코드            \n",
      "TRCMWS    832  37258\n",
      "TRDQAZ    964  38005\n",
      "TRJXFG    839  35192\n",
      "TRVNRY    979  35194\n",
      "TRXQMD    894  33937\n",
      "TRYBLT    857  35856\n",
      "TRZKPL    926  34618\n"
     ]
    }
   ],
   "source": [
    "# '시술 시기 코드'별 '시술 유형' 분석\n",
    "success_failure_counts = train.groupby('시술 시기 코드')['시술 유형'].value_counts().unstack(fill_value=0)\n",
    "\n",
    "# 출력\n",
    "print(success_failure_counts)"
   ]
  },
  {
   "cell_type": "code",
   "execution_count": 17,
   "metadata": {
    "id": "f9865d8e-fc72-4b69-a295-6e6c6f12b0c6"
   },
   "outputs": [
    {
     "name": "stdout",
     "output_type": "stream",
     "text": [
      "          count       mean  median\n",
      "시술 시기 코드                          \n",
      "TRCMWS      264  13.060606    13.0\n",
      "TRDQAZ      187  13.406417    13.0\n",
      "TRJXFG      703  10.937411    10.0\n",
      "TRVNRY     1259   9.953137     9.0\n",
      "TRXQMD     4206   8.213980     7.5\n",
      "TRYBLT      402  11.758706    11.0\n",
      "TRZKPL     2349   9.117071     8.0\n"
     ]
    }
   ],
   "source": [
    "# '시술 시기 코드'별 '임신 시도 또는 마지막 임신 경과 연수' 분석\n",
    "summary_stats = train.groupby(\"시술 시기 코드\")[\"임신 시도 또는 마지막 임신 경과 연수\"].agg([\"count\", \"mean\", \"median\"])\n",
    "\n",
    "# 결과 출력\n",
    "print(summary_stats)"
   ]
  },
  {
   "cell_type": "markdown",
   "metadata": {
    "id": "5d02a677-a5eb-444b-98bc-48074f164b0a"
   },
   "source": [
    "#### 시술 당시 나이 분석"
   ]
  },
  {
   "cell_type": "code",
   "execution_count": 20,
   "metadata": {
    "id": "fb621266-b07e-4bda-9ca7-478e8f519e3a"
   },
   "outputs": [
    {
     "name": "stdout",
     "output_type": "stream",
     "text": [
      "만18-34세    102476\n",
      "만35-37세     57780\n",
      "만38-39세     39247\n",
      "만40-42세     37348\n",
      "만43-44세     12253\n",
      "만45-50세      6918\n",
      "알 수 없음        329\n",
      "Name: 시술 당시 나이, dtype: int64\n"
     ]
    }
   ],
   "source": [
    "# '시술 당시 나이'별 데이터 개수 세기\n",
    "total_counts = train['시술 당시 나이'].value_counts()\n",
    "\n",
    "# 출력\n",
    "print(total_counts)"
   ]
  },
  {
   "cell_type": "code",
   "execution_count": 21,
   "metadata": {
    "id": "75663d54-cf92-493b-bad0-53df2b1ff19d"
   },
   "outputs": [
    {
     "data": {
      "text/html": [
       "<div>\n",
       "<style scoped>\n",
       "    .dataframe tbody tr th:only-of-type {\n",
       "        vertical-align: middle;\n",
       "    }\n",
       "\n",
       "    .dataframe tbody tr th {\n",
       "        vertical-align: top;\n",
       "    }\n",
       "\n",
       "    .dataframe thead th {\n",
       "        text-align: right;\n",
       "    }\n",
       "</style>\n",
       "<table border=\"1\" class=\"dataframe\">\n",
       "  <thead>\n",
       "    <tr style=\"text-align: right;\">\n",
       "      <th></th>\n",
       "      <th>시술 시기 코드</th>\n",
       "      <th>시술 당시 나이</th>\n",
       "      <th>임신 시도 또는 마지막 임신 경과 연수</th>\n",
       "      <th>시술 유형</th>\n",
       "      <th>특정 시술 유형</th>\n",
       "      <th>배란 자극 여부</th>\n",
       "      <th>배란 유도 유형</th>\n",
       "      <th>단일 배아 이식 여부</th>\n",
       "      <th>착상 전 유전 검사 사용 여부</th>\n",
       "      <th>착상 전 유전 진단 사용 여부</th>\n",
       "      <th>...</th>\n",
       "      <th>기증 배아 사용 여부</th>\n",
       "      <th>대리모 여부</th>\n",
       "      <th>PGD 시술 여부</th>\n",
       "      <th>PGS 시술 여부</th>\n",
       "      <th>난자 채취 경과일</th>\n",
       "      <th>난자 해동 경과일</th>\n",
       "      <th>난자 혼합 경과일</th>\n",
       "      <th>배아 이식 경과일</th>\n",
       "      <th>배아 해동 경과일</th>\n",
       "      <th>임신 성공 여부</th>\n",
       "    </tr>\n",
       "  </thead>\n",
       "  <tbody>\n",
       "    <tr>\n",
       "      <th>552</th>\n",
       "      <td>TRJXFG</td>\n",
       "      <td>알 수 없음</td>\n",
       "      <td>NaN</td>\n",
       "      <td>IVF</td>\n",
       "      <td>IVF</td>\n",
       "      <td>1</td>\n",
       "      <td>기록되지 않은 시행</td>\n",
       "      <td>0.0</td>\n",
       "      <td>NaN</td>\n",
       "      <td>0.0</td>\n",
       "      <td>...</td>\n",
       "      <td>0.0</td>\n",
       "      <td>0.0</td>\n",
       "      <td>NaN</td>\n",
       "      <td>NaN</td>\n",
       "      <td>0.0</td>\n",
       "      <td>NaN</td>\n",
       "      <td>NaN</td>\n",
       "      <td>NaN</td>\n",
       "      <td>NaN</td>\n",
       "      <td>0</td>\n",
       "    </tr>\n",
       "    <tr>\n",
       "      <th>1228</th>\n",
       "      <td>TRJXFG</td>\n",
       "      <td>알 수 없음</td>\n",
       "      <td>NaN</td>\n",
       "      <td>IVF</td>\n",
       "      <td>ICSI:ICSI</td>\n",
       "      <td>1</td>\n",
       "      <td>기록되지 않은 시행</td>\n",
       "      <td>0.0</td>\n",
       "      <td>NaN</td>\n",
       "      <td>0.0</td>\n",
       "      <td>...</td>\n",
       "      <td>0.0</td>\n",
       "      <td>0.0</td>\n",
       "      <td>NaN</td>\n",
       "      <td>NaN</td>\n",
       "      <td>0.0</td>\n",
       "      <td>NaN</td>\n",
       "      <td>0.0</td>\n",
       "      <td>NaN</td>\n",
       "      <td>NaN</td>\n",
       "      <td>0</td>\n",
       "    </tr>\n",
       "  </tbody>\n",
       "</table>\n",
       "<p>2 rows × 68 columns</p>\n",
       "</div>"
      ],
      "text/plain": [
       "     시술 시기 코드 시술 당시 나이  임신 시도 또는 마지막 임신 경과 연수 시술 유형   특정 시술 유형  배란 자극 여부  \\\n",
       "552    TRJXFG   알 수 없음                    NaN   IVF        IVF         1   \n",
       "1228   TRJXFG   알 수 없음                    NaN   IVF  ICSI:ICSI         1   \n",
       "\n",
       "        배란 유도 유형  단일 배아 이식 여부  착상 전 유전 검사 사용 여부  착상 전 유전 진단 사용 여부  ...  \\\n",
       "552   기록되지 않은 시행          0.0               NaN               0.0  ...   \n",
       "1228  기록되지 않은 시행          0.0               NaN               0.0  ...   \n",
       "\n",
       "      기증 배아 사용 여부  대리모 여부  PGD 시술 여부  PGS 시술 여부  난자 채취 경과일  난자 해동 경과일  \\\n",
       "552           0.0     0.0        NaN        NaN        0.0        NaN   \n",
       "1228          0.0     0.0        NaN        NaN        0.0        NaN   \n",
       "\n",
       "      난자 혼합 경과일  배아 이식 경과일  배아 해동 경과일  임신 성공 여부  \n",
       "552         NaN        NaN        NaN         0  \n",
       "1228        0.0        NaN        NaN         0  \n",
       "\n",
       "[2 rows x 68 columns]"
      ]
     },
     "execution_count": 21,
     "metadata": {},
     "output_type": "execute_result"
    }
   ],
   "source": [
    "# '시술 당시 나이'가 '알 수 없음'인 데이터 필터링 후 상위 5개 출력\n",
    "unknown_age_data = train[train[\"시술 당시 나이\"] == \"알 수 없음\"]\n",
    "unknown_age_data.head(2)"
   ]
  },
  {
   "cell_type": "markdown",
   "metadata": {
    "id": "f24c5450-ddbe-4187-b39e-2af632389a25"
   },
   "source": [
    "'시술 당시 나이'는 '임신 성공 여부'에 매우 critical한 feature임. 그러므로 '알 수 없음'을 가진 data는 제거하거나 대체하는 과정이 필요함."
   ]
  },
  {
   "cell_type": "code",
   "execution_count": 22,
   "metadata": {
    "id": "6797b6ea-97bf-49f8-af9d-f01fc2acdc45"
   },
   "outputs": [
    {
     "name": "stdout",
     "output_type": "stream",
     "text": [
      "임신 성공 여부      0      1\n",
      "시술 당시 나이              \n",
      "만18-34세   69415  33061\n",
      "만35-37세   41694  16086\n",
      "만38-39세   30725   8522\n",
      "만40-42세   31395   5953\n",
      "만43-44세   10807   1446\n",
      "만45-50세    5758   1160\n",
      "알 수 없음      329      0\n"
     ]
    }
   ],
   "source": [
    "# '시술 당시 나이'별 '임신 성공 여부'가 0인 경우와 1인 경우의 개수를 세기\n",
    "success_failure_counts = train.groupby('시술 당시 나이')['임신 성공 여부'].value_counts().unstack(fill_value=0)\n",
    "\n",
    "# 출력\n",
    "print(success_failure_counts)"
   ]
  },
  {
   "cell_type": "code",
   "execution_count": 51,
   "metadata": {
    "id": "2d504ff7-be8b-465c-83e9-39a47278f8ad"
   },
   "outputs": [
    {
     "name": "stdout",
     "output_type": "stream",
     "text": [
      "시술 당시 나이\n",
      "만18-34세    0.322622\n",
      "만35-37세    0.278401\n",
      "만38-39세    0.217138\n",
      "만40-42세    0.159393\n",
      "만43-44세    0.118012\n",
      "만45-50세    0.167679\n",
      "알 수 없음     0.000000\n",
      "Name: 임신 성공 여부, dtype: float64\n"
     ]
    },
    {
     "name": "stderr",
     "output_type": "stream",
     "text": [
      "c:\\anaconda3\\lib\\site-packages\\matplotlib\\backends\\backend_agg.py:214: RuntimeWarning: Glyph 47564 missing from current font.\n",
      "  font.set_text(s, 0.0, flags=flags)\n",
      "c:\\anaconda3\\lib\\site-packages\\matplotlib\\backends\\backend_agg.py:214: RuntimeWarning: Glyph 49464 missing from current font.\n",
      "  font.set_text(s, 0.0, flags=flags)\n",
      "c:\\anaconda3\\lib\\site-packages\\matplotlib\\backends\\backend_agg.py:214: RuntimeWarning: Glyph 50508 missing from current font.\n",
      "  font.set_text(s, 0.0, flags=flags)\n",
      "c:\\anaconda3\\lib\\site-packages\\matplotlib\\backends\\backend_agg.py:214: RuntimeWarning: Glyph 49688 missing from current font.\n",
      "  font.set_text(s, 0.0, flags=flags)\n",
      "c:\\anaconda3\\lib\\site-packages\\matplotlib\\backends\\backend_agg.py:214: RuntimeWarning: Glyph 50630 missing from current font.\n",
      "  font.set_text(s, 0.0, flags=flags)\n",
      "c:\\anaconda3\\lib\\site-packages\\matplotlib\\backends\\backend_agg.py:214: RuntimeWarning: Glyph 51020 missing from current font.\n",
      "  font.set_text(s, 0.0, flags=flags)\n",
      "c:\\anaconda3\\lib\\site-packages\\matplotlib\\backends\\backend_agg.py:183: RuntimeWarning: Glyph 47564 missing from current font.\n",
      "  font.set_text(s, 0, flags=flags)\n",
      "c:\\anaconda3\\lib\\site-packages\\matplotlib\\backends\\backend_agg.py:183: RuntimeWarning: Glyph 49464 missing from current font.\n",
      "  font.set_text(s, 0, flags=flags)\n",
      "c:\\anaconda3\\lib\\site-packages\\matplotlib\\backends\\backend_agg.py:183: RuntimeWarning: Glyph 50508 missing from current font.\n",
      "  font.set_text(s, 0, flags=flags)\n",
      "c:\\anaconda3\\lib\\site-packages\\matplotlib\\backends\\backend_agg.py:183: RuntimeWarning: Glyph 49688 missing from current font.\n",
      "  font.set_text(s, 0, flags=flags)\n",
      "c:\\anaconda3\\lib\\site-packages\\matplotlib\\backends\\backend_agg.py:183: RuntimeWarning: Glyph 50630 missing from current font.\n",
      "  font.set_text(s, 0, flags=flags)\n",
      "c:\\anaconda3\\lib\\site-packages\\matplotlib\\backends\\backend_agg.py:183: RuntimeWarning: Glyph 51020 missing from current font.\n",
      "  font.set_text(s, 0, flags=flags)\n"
     ]
    },
    {
     "data": {
      "image/png": "[encoded data removed]",
      "text/plain": [
       "<Figure size 720x432 with 1 Axes>"
      ]
     },
     "metadata": {
      "needs_background": "light"
     },
     "output_type": "display_data"
    }
   ],
   "source": [
    "# '시술 당시 나이'별로 '임신 성공 여부' 평균(성공률) 계산\n",
    "success_rate = train.groupby('시술 당시 나이')['임신 성공 여부'].mean()\n",
    "\n",
    "# 출력\n",
    "print(success_rate)\n",
    "\n",
    "# 시각화\n",
    "plt.figure(figsize=(10, 6))\n",
    "sns.lineplot(x=success_rate.index, y=success_rate.values, marker='o')\n",
    "\n",
    "# 그래프 제목과 레이블 추가\n",
    "plt.title('x: age, y: success rate', fontsize=14)\n",
    "plt.xlabel('age', fontsize=12)\n",
    "plt.ylabel('success rate', fontsize=12)\n",
    "\n",
    "# 그래프 보여주기\n",
    "plt.grid(True)\n",
    "plt.show()"
   ]
  },
  {
   "cell_type": "markdown",
   "metadata": {
    "id": "b6c4730c-514d-487f-8dc9-a769d1157d20"
   },
   "source": [
    "만 45-50세 때 임신 성공률이 증가하는 원인 분석할 필요가 있음."
   ]
  },
  {
   "cell_type": "markdown",
   "metadata": {
    "id": "a6ff74b7-9dcf-496f-9b95-967e61e7120e"
   },
   "source": [
    "#### 시술 유형 및 특정 시술 유형 분석 (어떻게 그룹화 하면 좋을지 논의 필요)"
   ]
  },
  {
   "cell_type": "code",
   "execution_count": 24,
   "metadata": {
    "id": "82c4cb4e-30d0-4527-95b2-8ed3c28f1bd5"
   },
   "outputs": [
    {
     "name": "stdout",
     "output_type": "stream",
     "text": [
      "IVF    250060\n",
      "DI       6291\n",
      "Name: 시술 유형, dtype: int64\n"
     ]
    }
   ],
   "source": [
    "# '시술 유형'별 데이터 개수 세기\n",
    "total_counts = train['시술 유형'].value_counts()\n",
    "\n",
    "# 출력\n",
    "print(total_counts)"
   ]
  },
  {
   "cell_type": "code",
   "execution_count": 25,
   "metadata": {
    "id": "d4714bd2-1821-4100-91be-ad36254fb7ff"
   },
   "outputs": [
    {
     "name": "stdout",
     "output_type": "stream",
     "text": [
      "ICSI                                   122368\n",
      "IVF                                     91755\n",
      "Unknown                                 26939\n",
      "IUI                                      6100\n",
      "ICSI:ICSI                                2314\n",
      "ICSI / BLASTOCYST                        1609\n",
      "IVF / BLASTOCYST                         1248\n",
      "IVF:IVF                                  1146\n",
      "ICSI:IVF                                  873\n",
      "ICSI / AH                                 769\n",
      "IVF:ICSI                                  392\n",
      "IVF / AH                                  319\n",
      "ICSI:Unknown                              207\n",
      "IVF:Unknown                               100\n",
      "ICI                                        96\n",
      "Generic DI                                 71\n",
      "IVI                                        23\n",
      "ICSI / BLASTOCYST:IVF / BLASTOCYST          6\n",
      "ICSI / BLASTOCYST :IVF / BLASTOCYST         4\n",
      "FER                                         3\n",
      "GIFT                                        2\n",
      "ICSI / AH:Unknown                           2\n",
      "IVF / AH:ICSI / AH                          2\n",
      "ICSI / BLASTOCYST :ICSI                     1\n",
      "Name: 특정 시술 유형, dtype: int64\n"
     ]
    },
    {
     "data": {
      "image/png": "[encoded data removed]",
      "text/plain": [
       "<Figure size 720x432 with 1 Axes>"
      ]
     },
     "metadata": {
      "needs_background": "light"
     },
     "output_type": "display_data"
    }
   ],
   "source": [
    "import matplotlib.pyplot as plt\n",
    "import seaborn as sns\n",
    "\n",
    "# CSV 파일을 읽어들임 (train.csv 파일 경로로 변경)\n",
    "df = pd.read_csv('train.csv')\n",
    "\n",
    "# '특정 시술 유형' 컬럼의 값 분포 확인\n",
    "# 특수 기호 (\"/\", \":\")를 고려하여 복합적인 시술 방법도 제대로 처리\n",
    "treatment_distribution = df['특정 시술 유형'].value_counts()\n",
    "\n",
    "# 시술 유형 분포 출력\n",
    "print(treatment_distribution)\n",
    "\n",
    "# 시각화 (막대그래프)\n",
    "plt.figure(figsize=(10, 6))\n",
    "sns.countplot(y='특정 시술 유형', data=df, order=treatment_distribution.index)\n",
    "plt.title('Distribution of Treatment Types')\n",
    "plt.xlabel('Frequency')\n",
    "plt.ylabel('Treatment Type')\n",
    "plt.show()"
   ]
  },
  {
   "cell_type": "markdown",
   "metadata": {
    "id": "1dc0bece-f77f-4d0f-b4c5-2b08e80a4dfe"
   },
   "source": [
    "#### 배란 자극 여부 분석"
   ]
  },
  {
   "cell_type": "code",
   "execution_count": 26,
   "metadata": {
    "id": "58664069-0645-4b43-b9a8-7eb3e6028c5d"
   },
   "outputs": [
    {
     "name": "stdout",
     "output_type": "stream",
     "text": [
      "1    197720\n",
      "0     58631\n",
      "Name: 배란 자극 여부, dtype: int64\n"
     ]
    }
   ],
   "source": [
    "# '배란 자극 여부'별 데이터 개수 세기\n",
    "total_counts = train['배란 자극 여부'].value_counts()\n",
    "\n",
    "# 출력\n",
    "print(total_counts)"
   ]
  },
  {
   "cell_type": "code",
   "execution_count": 27,
   "metadata": {
    "id": "643537f8-b45b-4fc6-828c-c94be23ebacf"
   },
   "outputs": [
    {
     "name": "stdout",
     "output_type": "stream",
     "text": [
      "배란 자극 여부\n",
      "0    0.231652\n",
      "1    0.266265\n",
      "Name: 임신 성공 여부, dtype: float64\n"
     ]
    }
   ],
   "source": [
    "# '배란 자극 여부'로 '임신 성공 여부' 평균(성공률) 계산\n",
    "success_rate = train.groupby('배란 자극 여부')['임신 성공 여부'].mean()\n",
    "\n",
    "# 출력\n",
    "print(success_rate)"
   ]
  },
  {
   "cell_type": "markdown",
   "metadata": {
    "id": "d0ca2713-f604-495d-9651-7e8378a48b5e"
   },
   "source": [
    "배란 자극 여부 -> 임신 성공률 약 3% 상승"
   ]
  },
  {
   "cell_type": "code",
   "execution_count": 28,
   "metadata": {
    "id": "d6a06a50-e1f2-4ae2-8e60-e93a157c0aa7"
   },
   "outputs": [
    {
     "name": "stdout",
     "output_type": "stream",
     "text": [
      "배란 유도 유형  기록되지 않은 시행  생식선 자극 호르몬  세트로타이드 (억제제)  알 수 없음\n",
      "배란 자극 여부                                              \n",
      "1             194432           1             1    3286\n"
     ]
    }
   ],
   "source": [
    "# '배란 자극 여부'가 1인 데이터만 필터링\n",
    "filtered_data = train[train['배란 자극 여부'] == 1]\n",
    "\n",
    "# '배란 자극 여부'로 '배란 유도 유형' 분석\n",
    "success_failure_counts = filtered_data.groupby('배란 자극 여부')['배란 유도 유형'].value_counts().unstack(fill_value=0)\n",
    "\n",
    "# 출력\n",
    "print(success_failure_counts)"
   ]
  },
  {
   "cell_type": "markdown",
   "metadata": {
    "id": "1fedae5d-ce1e-411e-bbf1-7f1eab67a6e2"
   },
   "source": [
    "생식선 자극 호르몬, 세트로타이드(억제제)는 각각 1개의 데이터로 의미 없음."
   ]
  },
  {
   "cell_type": "markdown",
   "metadata": {
    "id": "8e082912-2079-4838-ac8b-9c41371dbcb1"
   },
   "source": [
    "#### 단일 배아 이식 여부 분석(매우매우매우 중요한 feature)"
   ]
  },
  {
   "cell_type": "code",
   "execution_count": 29,
   "metadata": {
    "id": "ae5cdd50-9813-4c6c-be77-dbef13208156"
   },
   "outputs": [
    {
     "name": "stdout",
     "output_type": "stream",
     "text": [
      "0.0    191677\n",
      "1.0     58383\n",
      "Name: 단일 배아 이식 여부, dtype: int64\n"
     ]
    }
   ],
   "source": [
    "# '단일 배아 이식 여부'별 데이터 개수 세기\n",
    "total_counts = train['단일 배아 이식 여부'].value_counts()\n",
    "\n",
    "# 출력\n",
    "print(total_counts)"
   ]
  },
  {
   "cell_type": "code",
   "execution_count": 30,
   "metadata": {
    "id": "4c5f0785-0357-4948-a775-0c740ad61c7f"
   },
   "outputs": [
    {
     "name": "stdout",
     "output_type": "stream",
     "text": [
      "단일 배아 이식 여부\n",
      "0.0    0.229433\n",
      "1.0    0.367230\n",
      "Name: 임신 성공 여부, dtype: float64\n"
     ]
    }
   ],
   "source": [
    "# '단일 배아 이식 여부'로 '임신 성공 여부' 분석\n",
    "success_rate = train.groupby('단일 배아 이식 여부')['임신 성공 여부'].mean()\n",
    "\n",
    "# 출력\n",
    "print(success_rate)"
   ]
  },
  {
   "cell_type": "markdown",
   "metadata": {
    "id": "c12a4eea-d29c-47d2-b6fd-22d6dfb98339"
   },
   "source": [
    "약 14% 차이를 보임. 매우매우 유의미한 데이터"
   ]
  },
  {
   "cell_type": "markdown",
   "metadata": {
    "id": "f7a1814c-677c-401c-b16e-967181b308e2"
   },
   "source": [
    "#### 착상 전 유전 검사 및 진단 사용 여부 분석 (기대와 다른 결과를 보임 왜그런지 생각해볼 필요 있음)"
   ]
  },
  {
   "cell_type": "code",
   "execution_count": 31,
   "metadata": {
    "id": "e235d30e-278d-4d3a-b8c7-89c2f20ccc12"
   },
   "outputs": [
    {
     "name": "stdout",
     "output_type": "stream",
     "text": [
      "1.0    2718\n",
      "Name: 착상 전 유전 검사 사용 여부, dtype: int64\n",
      "0.0    246864\n",
      "1.0      3196\n",
      "Name: 착상 전 유전 진단 사용 여부, dtype: int64\n"
     ]
    }
   ],
   "source": [
    "# '단일 배아 이식 여부'별 데이터 개수 세기\n",
    "total_counts_1 = train['착상 전 유전 검사 사용 여부'].value_counts()\n",
    "total_counts_2 = train['착상 전 유전 진단 사용 여부'].value_counts()\n",
    "# 출력\n",
    "print(total_counts_1)\n",
    "print(total_counts_2)"
   ]
  },
  {
   "cell_type": "markdown",
   "metadata": {
    "id": "427c93a4-7de6-4b2d-8681-e707fadb6242"
   },
   "source": [
    "각 데이터 개수 합 256351, 250060"
   ]
  },
  {
   "cell_type": "code",
   "execution_count": 32,
   "metadata": {
    "id": "4eff2aa0-22cc-4d59-9746-db2353312c52"
   },
   "outputs": [
    {
     "name": "stdout",
     "output_type": "stream",
     "text": [
      "6291\n"
     ]
    }
   ],
   "source": [
    "# '착상 전 유전 진단 사용 여부' 컬럼의 결측치 개수 구하기\n",
    "missing_count = train['착상 전 유전 진단 사용 여부'].isnull().sum()\n",
    "\n",
    "# 출력\n",
    "print(missing_count)"
   ]
  },
  {
   "cell_type": "markdown",
   "metadata": {
    "id": "228db57c-bf9c-479d-bbac-5406e7663653"
   },
   "source": [
    "-> 6291개의 결측 데이터 확인"
   ]
  },
  {
   "cell_type": "code",
   "execution_count": 33,
   "metadata": {
    "id": "d4073b74-a746-430e-8ee2-2d01998c93d6"
   },
   "outputs": [],
   "source": [
    "train['착상 전 유전 검사 사용 여부'] = train['착상 전 유전 검사 사용 여부'].fillna(0)\n",
    "train['착상 전 유전 진단 사용 여부'] = train['착상 전 유전 진단 사용 여부'].fillna(0)"
   ]
  },
  {
   "cell_type": "code",
   "execution_count": 34,
   "metadata": {
    "id": "d3a2369e-00a2-4342-bc82-594dcd20d21e"
   },
   "outputs": [
    {
     "name": "stdout",
     "output_type": "stream",
     "text": [
      "0.0    253633\n",
      "1.0      2718\n",
      "Name: 착상 전 유전 검사 사용 여부, dtype: int64\n",
      "0.0    253155\n",
      "1.0      3196\n",
      "Name: 착상 전 유전 진단 사용 여부, dtype: int64\n"
     ]
    }
   ],
   "source": [
    "# '착상 전 유전 검사 및 진단 사용 여부'별 데이터 개수 세기\n",
    "total_counts_1 = train['착상 전 유전 검사 사용 여부'].value_counts()\n",
    "total_counts_2 = train['착상 전 유전 진단 사용 여부'].value_counts()\n",
    "# 출력\n",
    "print(total_counts_1)\n",
    "print(total_counts_2)"
   ]
  },
  {
   "cell_type": "code",
   "execution_count": 35,
   "metadata": {
    "id": "599b33e7-1c5f-498f-b290-00afb123128a"
   },
   "outputs": [
    {
     "name": "stdout",
     "output_type": "stream",
     "text": [
      "26\n"
     ]
    }
   ],
   "source": [
    "# '착상 전 유전 진단 사용 여부'와 '착상 전 유전 검사 사용 여부'가 모두 1인 데이터 필터링\n",
    "filtered_data = train[(train['착상 전 유전 진단 사용 여부'] == 1) & (train['착상 전 유전 검사 사용 여부'] == 1)]\n",
    "\n",
    "# 해당 데이터의 개수 계산\n",
    "count = filtered_data.shape[0]\n",
    "\n",
    "# 출력\n",
    "print(count)"
   ]
  },
  {
   "cell_type": "code",
   "execution_count": 36,
   "metadata": {
    "id": "b953711c-4575-4899-86fd-d8f6c6a84c22"
   },
   "outputs": [
    {
     "name": "stdout",
     "output_type": "stream",
     "text": [
      "착상 전 유전 검사 사용 여부\n",
      "0.0    0.259529\n",
      "1.0    0.148271\n",
      "Name: 임신 성공 여부, dtype: float64\n"
     ]
    }
   ],
   "source": [
    "# '착상 전 유전 검사 사용 여부'로 '임신 성공 여부' 분석\n",
    "success_rate = train.groupby('착상 전 유전 검사 사용 여부')['임신 성공 여부'].mean()\n",
    "\n",
    "# 출력\n",
    "print(success_rate)"
   ]
  },
  {
   "cell_type": "code",
   "execution_count": 37,
   "metadata": {
    "id": "025ea427-0e9b-4974-a796-84337633ca86"
   },
   "outputs": [
    {
     "name": "stdout",
     "output_type": "stream",
     "text": [
      "착상 전 유전 진단 사용 여부\n",
      "0.0    0.259185\n",
      "1.0    0.192115\n",
      "Name: 임신 성공 여부, dtype: float64\n"
     ]
    }
   ],
   "source": [
    "# '착상 전 유전 진단 사용 여부'로 '임신 성공 여부' 분석\n",
    "success_rate = train.groupby('착상 전 유전 진단 사용 여부')['임신 성공 여부'].mean()\n",
    "\n",
    "# 출력\n",
    "print(success_rate)"
   ]
  },
  {
   "cell_type": "markdown",
   "metadata": {
    "id": "9b515bc5-d879-42b9-830d-5f145f78facd"
   },
   "source": [
    "착상 전 유전 검사 및 진단을 진행 할 경우 임신 성공률이 크게 감소하는 경향을 보임.<br> 원래는 이 과정을 거치면 임신 가능성이 늘어날 것으로 기대. 무언가 다른 요인이 영향을 미쳤을 것으로 예상 <br>-> 다른 feature들 과의 상관성 체크해볼 필요가 있음"
   ]
  },
  {
   "cell_type": "markdown",
   "metadata": {
    "id": "8deffa86-1347-48fd-b913-acd3baf6b9e8"
   },
   "source": [
    "### 불임 원인 분석 (결측치 없음, 주&부 겹치는 데이터 매우 적어 의미없음)"
   ]
  },
  {
   "cell_type": "markdown",
   "metadata": {
    "id": "e8dd229a-4079-418d-b460-4eca1c7bdf26"
   },
   "source": [
    "#### 남성 불임 원인 분석"
   ]
  },
  {
   "cell_type": "code",
   "execution_count": 38,
   "metadata": {
    "id": "caecc8f1-3ebf-4bcf-8784-f9dd31a18576"
   },
   "outputs": [
    {
     "name": "stdout",
     "output_type": "stream",
     "text": [
      "남성 주 불임 원인에서 1인 데이터의 개수: 7310\n",
      "남성 부 불임 원인에서 1인 데이터의 개수: 3362\n"
     ]
    }
   ],
   "source": [
    "# 관심 있는 컬럼들 리스트로 정의\n",
    "columns_to_count_ones = [\n",
    "    '남성 주 불임 원인',\n",
    "    '남성 부 불임 원인',\n",
    "]\n",
    "\n",
    "# 각 컬럼에서 값이 1인 데이터의 개수 출력\n",
    "for column in columns_to_count_ones:\n",
    "    count = (train[column] == 1).sum()  # 값이 1인 데이터의 개수 계산\n",
    "    print(f\"{column}에서 1인 데이터의 개수: {count}\")"
   ]
  },
  {
   "cell_type": "code",
   "execution_count": 39,
   "metadata": {
    "id": "6ece71b2-4655-46ad-addd-9cf270075d67"
   },
   "outputs": [
    {
     "name": "stdout",
     "output_type": "stream",
     "text": [
      "남성 주 불임 원인에서 임신 성공 확률: 남성 주 불임 원인\n",
      "0    0.259475\n",
      "1    0.219973\n",
      "Name: 임신 성공 여부, dtype: float64\n",
      "남성 부 불임 원인에서 임신 성공 확률: 남성 부 불임 원인\n",
      "0    0.259158\n",
      "1    0.197501\n",
      "Name: 임신 성공 여부, dtype: float64\n"
     ]
    }
   ],
   "source": [
    "# 관심 있는 컬럼들 리스트로 정의\n",
    "columns_to_count_ones = [\n",
    "    '남성 주 불임 원인',\n",
    "    '남성 부 불임 원인',\n",
    "]\n",
    "\n",
    "# 각 컬럼에서 값이 1인 데이터의 개수 출력\n",
    "for column in columns_to_count_ones:\n",
    "    success_rate = train.groupby(column)['임신 성공 여부'].mean()\n",
    "    print(f\"{column}에서 임신 성공 확률: {success_rate}\")"
   ]
  },
  {
   "cell_type": "markdown",
   "metadata": {
    "id": "e50761bb-d0a2-437e-9122-bc082f9bac19"
   },
   "source": [
    "남성 주 불임 원인 : 약 4% 감소<br>\n",
    "남성 부 불임 원인 : 약 6% 감소<br>\n",
    "-> 주 & 부 불임 원인 간 상관관계 파악 어려움 -> 남성 불임 원인으로 그룹화 해야 하나"
   ]
  },
  {
   "cell_type": "markdown",
   "metadata": {
    "id": "a1fd46d9-4239-4d49-ac69-8fbf7cb772e3"
   },
   "source": [
    "#### 불임 원인 - 남성 요인 분석"
   ]
  },
  {
   "cell_type": "code",
   "execution_count": 40,
   "metadata": {
    "id": "22e22f0a-428c-48bc-857a-2765667b7a8b"
   },
   "outputs": [
    {
     "name": "stdout",
     "output_type": "stream",
     "text": [
      "0    160885\n",
      "1     95466\n",
      "Name: 불임 원인 - 남성 요인, dtype: int64\n"
     ]
    }
   ],
   "source": [
    "# '불임 원인 - 남성 요인'별 데이터 개수 세기\n",
    "total_counts = train['불임 원인 - 남성 요인'].value_counts()\n",
    "\n",
    "print(total_counts)"
   ]
  },
  {
   "cell_type": "code",
   "execution_count": 41,
   "metadata": {
    "id": "7dc2a417-866b-48e5-87bd-afbd075d653b"
   },
   "outputs": [
    {
     "name": "stdout",
     "output_type": "stream",
     "text": [
      "불임 원인 - 정자 농도에서 1인 데이터의 개수: 276\n",
      "불임 원인 - 정자 면역학적 요인에서 1인 데이터의 개수: 1\n",
      "불임 원인 - 정자 운동성에서 1인 데이터의 개수: 97\n",
      "불임 원인 - 정자 형태에서 1인 데이터의 개수: 143\n"
     ]
    }
   ],
   "source": [
    "# 관심 있는 컬럼들 리스트로 정의\n",
    "columns_to_count_ones = [\n",
    "    '불임 원인 - 정자 농도',\n",
    "    '불임 원인 - 정자 면역학적 요인',\n",
    "    '불임 원인 - 정자 운동성',\n",
    "    '불임 원인 - 정자 형태'\n",
    "]\n",
    "\n",
    "# 각 컬럼에서 값이 1인 데이터의 개수 출력\n",
    "for column in columns_to_count_ones:\n",
    "    count = (train[column] == 1).sum()  # 값이 1인 데이터의 개수 계산\n",
    "    print(f\"{column}에서 1인 데이터의 개수: {count}\")"
   ]
  },
  {
   "cell_type": "code",
   "execution_count": 42,
   "metadata": {
    "id": "f7017a29-04dd-46eb-9116-baeb3426b213"
   },
   "outputs": [
    {
     "name": "stdout",
     "output_type": "stream",
     "text": [
      "남성 주 불임 원인에서 1인 데이터의 개수: 3739\n",
      "남성 부 불임 원인에서 1인 데이터의 개수: 1347\n",
      "불임 원인 - 정자 농도에서 1인 데이터의 개수: 276\n",
      "불임 원인 - 정자 면역학적 요인에서 1인 데이터의 개수: 1\n",
      "불임 원인 - 정자 운동성에서 1인 데이터의 개수: 97\n",
      "불임 원인 - 정자 형태에서 1인 데이터의 개수: 143\n"
     ]
    }
   ],
   "source": [
    "# '불임 원인 - 남성 요인'이 1인 데이터 필터링\n",
    "filtered_data = train[train['불임 원인 - 남성 요인'] == 1]\n",
    "\n",
    "# 각 컬럼에 대해 값이 1인 데이터의 개수를 계산\n",
    "columns_to_check = [\n",
    "    '남성 주 불임 원인',\n",
    "    '남성 부 불임 원인',\n",
    "    '불임 원인 - 정자 농도',\n",
    "    '불임 원인 - 정자 면역학적 요인',\n",
    "    '불임 원인 - 정자 운동성',\n",
    "    '불임 원인 - 정자 형태'\n",
    "]\n",
    "\n",
    "# 각 조건에 대해 개수 출력\n",
    "for column in columns_to_check:\n",
    "    count = filtered_data[filtered_data[column] == 1].shape[0]\n",
    "    print(f\"{column}에서 1인 데이터의 개수: {count}\")"
   ]
  },
  {
   "cell_type": "markdown",
   "metadata": {
    "id": "881320c1-7d2f-4b2f-92cf-ac2cb3c48b8e"
   },
   "source": [
    "'불임 원인- 정자'는 모두 '불임 원인 - 남성 요인'에 포함됨을 확인."
   ]
  },
  {
   "cell_type": "code",
   "execution_count": 43,
   "metadata": {
    "id": "c374d915-769b-4ef9-9a1d-213dd6cc863f"
   },
   "outputs": [
    {
     "name": "stdout",
     "output_type": "stream",
     "text": [
      "PCA 변환 완료. train_transformed.csv에 저장됨.\n"
     ]
    }
   ],
   "source": [
    "#'불임 원인- 정자'는 모두 '불임 원인 - 남성 요인'로 차원 축소 진행\n",
    "import pandas as pd\n",
    "from sklearn.decomposition import PCA\n",
    "from sklearn.preprocessing import StandardScaler\n",
    "\n",
    "# CSV 파일에서 데이터 로드\n",
    "df = pd.read_csv(\"train.csv\")\n",
    "\n",
    "# 사용할 feature 목록\n",
    "features = [\n",
    "    \"불임 원인 - 정자 농도\",\n",
    "    \"불임 원인 - 정자 면역학적 요인\",\n",
    "    \"불임 원인 - 정자 운동성\",\n",
    "    \"불임 원인 - 정자 형태\"\n",
    "]\n",
    "\n",
    "# 데이터 표준화\n",
    "scaler = StandardScaler()\n",
    "df_scaled = scaler.fit_transform(df[features])\n",
    "\n",
    "# PCA 변환 (주성분 1개로 축소)\n",
    "pca = PCA(n_components=1)\n",
    "df_pca = pca.fit_transform(df_scaled)\n",
    "\n",
    "# 변환된 데이터를 새로운 컬럼에 추가\n",
    "df[\"불임 원인 - 남성 요인\"] = df_pca\n",
    "\n",
    "# 결과 저장\n",
    "df.to_csv(\"train_transformed.csv\", index=False)\n",
    "\n",
    "print(\"PCA 변환 완료. train_transformed.csv에 저장됨.\")"
   ]
  },
  {
   "cell_type": "markdown",
   "metadata": {
    "id": "07999fe7-32cc-4cb1-b863-0750b40a791d"
   },
   "source": [
    "#### 여성 불임 원인 분석"
   ]
  },
  {
   "cell_type": "code",
   "execution_count": 44,
   "metadata": {
    "id": "118c6d45-c141-419b-b3e9-aeca9bd65b19"
   },
   "outputs": [
    {
     "name": "stdout",
     "output_type": "stream",
     "text": [
      "여성 주 불임 원인 '1'인 데이터의 개수: 7876\n",
      "여성 부 불임 원인 '1'인 데이터의 개수: 3187\n"
     ]
    }
   ],
   "source": [
    "# 관심 있는 컬럼들 리스트로 정의\n",
    "columns_to_count_ones = [\n",
    "    '여성 주 불임 원인',\n",
    "    '여성 부 불임 원인',\n",
    "]\n",
    "\n",
    "# 각 컬럼에서 값이 1인 데이터의 개수 출력\n",
    "for column in columns_to_count_ones:\n",
    "    count = (train[column] == 1).sum()  # 값이 1인 데이터의 개수 계산\n",
    "    print(f\"{column} '1'인 데이터의 개수: {count}\")"
   ]
  },
  {
   "cell_type": "code",
   "execution_count": 45,
   "metadata": {
    "id": "d92b442f-a71b-426c-af0e-83152e5aea02"
   },
   "outputs": [
    {
     "name": "stdout",
     "output_type": "stream",
     "text": [
      "여성 주 불임 원인에서 임신 성공 확률: 여성 주 불임 원인\n",
      "0    0.259592\n",
      "1    0.219147\n",
      "Name: 임신 성공 여부, dtype: float64\n",
      "여성 부 불임 원인에서 임신 성공 확률: 여성 부 불임 원인\n",
      "0    0.259136\n",
      "1    0.195795\n",
      "Name: 임신 성공 여부, dtype: float64\n"
     ]
    }
   ],
   "source": [
    "# 관심 있는 컬럼들 리스트로 정의\n",
    "columns_to_count_ones = [\n",
    "    '여성 주 불임 원인',\n",
    "    '여성 부 불임 원인',\n",
    "]\n",
    "\n",
    "# 각 컬럼에서 값이 1인 데이터의 개수 출력\n",
    "for column in columns_to_count_ones:\n",
    "    success_rate = train.groupby(column)['임신 성공 여부'].mean()\n",
    "    print(f\"{column}에서 임신 성공 확률: {success_rate}\")"
   ]
  },
  {
   "cell_type": "markdown",
   "metadata": {
    "id": "eb5cba1f-3f86-4e27-a879-a851d17acf57"
   },
   "source": [
    "남성에서와 마찬가지로,\n",
    "-> 주 & 부 불임 원인 간 상관관계 파악 어려움 -> 여성 불임 원인으로 그룹화"
   ]
  },
  {
   "cell_type": "markdown",
   "metadata": {
    "id": "d971ca27-bb7f-4dfa-aa92-70834c1238f5"
   },
   "source": [
    "#### 불임 원인 - 여성 요인 분석"
   ]
  },
  {
   "cell_type": "code",
   "execution_count": 46,
   "metadata": {
    "id": "10f27840-1ebd-41fa-a809-dd5db88e3753"
   },
   "outputs": [
    {
     "name": "stdout",
     "output_type": "stream",
     "text": [
      "0    256351\n",
      "Name: 불임 원인 - 여성 요인, dtype: int64\n"
     ]
    }
   ],
   "source": [
    "# '불임 원인 - 여성 요인'별 데이터 개수 세기\n",
    "total_counts = train['불임 원인 - 여성 요인'].value_counts()\n",
    "\n",
    "print(total_counts)"
   ]
  },
  {
   "cell_type": "code",
   "execution_count": 47,
   "metadata": {
    "id": "37bb8bfb-7a7c-486b-a476-401ed34e31a1"
   },
   "outputs": [
    {
     "name": "stdout",
     "output_type": "stream",
     "text": [
      "불임 원인 - 난관 질환 '1'인 데이터의 개수: 35557\n",
      "불임 원인 - 배란 장애 '1'인 데이터의 개수: 33426\n",
      "불임 원인 - 자궁경부 문제 '1'인 데이터의 개수: 10\n",
      "불임 원인 - 자궁내막증 '1'인 데이터의 개수: 18302\n"
     ]
    }
   ],
   "source": [
    "# 관심 있는 컬럼들 리스트로 정의\n",
    "columns_to_count_ones = [\n",
    "    '불임 원인 - 난관 질환',\n",
    "    '불임 원인 - 배란 장애',\n",
    "    '불임 원인 - 자궁경부 문제',\n",
    "    '불임 원인 - 자궁내막증'\n",
    "]\n",
    "\n",
    "# 각 컬럼에서 값이 1인 데이터의 개수 출력\n",
    "for column in columns_to_count_ones:\n",
    "    count = (train[column] == 1).sum()  # 값이 1인 데이터의 개수 계산\n",
    "    print(f\"{column} '1'인 데이터의 개수: {count}\")"
   ]
  },
  {
   "cell_type": "markdown",
   "metadata": {
    "id": "164e55fd-70b8-4a1a-a37d-6a9a80855f5b"
   },
   "source": [
    "불임 원인 - 여성 요인이 모두 '0'의 데이터를 가지는 것으로 보아 잘못 입력 되어있음을 확인."
   ]
  },
  {
   "cell_type": "markdown",
   "metadata": {
    "id": "3cb094b5-58da-4dfd-a5d7-6e0d2b0ada8e"
   },
   "source": [
    "#### 부부 불임 원인 분석"
   ]
  },
  {
   "cell_type": "code",
   "execution_count": 48,
   "metadata": {
    "id": "e5a99e93-e095-4dbd-9867-ec34a0559f3b"
   },
   "outputs": [
    {
     "name": "stdout",
     "output_type": "stream",
     "text": [
      "부부 주 불임 원인 '1' 데이터의 개수: 8477\n",
      "부부 부 불임 원인 '1' 데이터의 개수: 2247\n"
     ]
    }
   ],
   "source": [
    "# 관심 있는 컬럼들 리스트로 정의\n",
    "columns_to_count_ones = [\n",
    "    '부부 주 불임 원인',\n",
    "    '부부 부 불임 원인',\n",
    "]\n",
    "\n",
    "# 각 컬럼에서 값이 1인 데이터의 개수 출력\n",
    "for column in columns_to_count_ones:\n",
    "    count = (train[column] == 1).sum()  # 값이 1인 데이터의 개수 계산\n",
    "    print(f\"{column} '1' 데이터의 개수: {count}\")"
   ]
  },
  {
   "cell_type": "code",
   "execution_count": 49,
   "metadata": {
    "id": "8403fd67-c46e-43ad-92d1-2bc534007ae5"
   },
   "outputs": [
    {
     "name": "stdout",
     "output_type": "stream",
     "text": [
      "부부 주 불임 원인에서 임신 성공 확률: 부부 주 불임 원인\n",
      "0    0.259652\n",
      "1    0.220243\n",
      "Name: 임신 성공 여부, dtype: float64\n",
      "부부 부 불임 원인에서 임신 성공 확률: 부부 부 불임 원인\n",
      "0    0.258981\n",
      "1    0.186916\n",
      "Name: 임신 성공 여부, dtype: float64\n"
     ]
    }
   ],
   "source": [
    "# 관심 있는 컬럼들 리스트로 정의\n",
    "columns_to_count_ones = [\n",
    "    '부부 주 불임 원인',\n",
    "    '부부 부 불임 원인',\n",
    "]\n",
    "\n",
    "# 각 컬럼에서 값이 1인 데이터의 개수 출력\n",
    "for column in columns_to_count_ones:\n",
    "    success_rate = train.groupby(column)['임신 성공 여부'].mean()\n",
    "    print(f\"{column}에서 임신 성공 확률: {success_rate}\")"
   ]
  },
  {
   "cell_type": "markdown",
   "metadata": {
    "id": "bd33c7ef-25a1-4f9a-8b8c-0cf120197fda"
   },
   "source": [
    "남성, 여성, 부부의 경우 모두 비슷한 경향을 보임 -> 불임 원인으로 그룹화"
   ]
  },
  {
   "cell_type": "code",
   "execution_count": null,
   "metadata": {
    "id": "0b5df2fc-7f6b-49d8-b1bb-757dfc090e85"
   },
   "outputs": [],
   "source": []
  },
  {
   "cell_type": "markdown",
   "metadata": {
    "id": "1983df8b-0139-4ecd-a942-0b0caca01c87"
   },
   "source": [
    "# 모델 학습"
   ]
  },
  {
   "cell_type": "code",
   "execution_count": null,
   "metadata": {
    "id": "052ba65f-21df-44fe-9e14-9825860b43f8"
   },
   "outputs": [],
   "source": [
    "model = ExtraTreesClassifier(random_state=42)\n",
    "\n",
    "model.fit(X_train_encoded, y)"
   ]
  },
  {
   "cell_type": "code",
   "execution_count": null,
   "metadata": {
    "id": "b548c99c-8916-437c-9a0e-a20b1eda1231"
   },
   "outputs": [],
   "source": [
    "pred_proba = model.predict_proba(X_test_encoded)[:, 1]"
   ]
  },
  {
   "cell_type": "code",
   "execution_count": null,
   "metadata": {
    "id": "eacc610c-5120-4756-a3eb-127491cdf2c1"
   },
   "outputs": [],
   "source": [
    "sample_submission = pd.read_csv('./sample_submission.csv')\n",
    "sample_submission['probability'] = pred_proba"
   ]
  },
  {
   "cell_type": "code",
   "execution_count": null,
   "metadata": {
    "id": "f5d80d14-7348-43bd-b8f8-473ed94eac8f"
   },
   "outputs": [],
   "source": [
    "sample_submission.to_csv('./baseline_submit.csv', index=False)"
   ]
  },
  {
   "cell_type": "code",
   "execution_count": null,
   "metadata": {
    "id": "60e7d401-cb52-44c8-922f-bef9736b622f"
   },
   "outputs": [],
   "source": []
  }
 ],
 "metadata": {
  "colab": {
   "provenance": []
  },
  "kernelspec": {
   "display_name": "Python 3",
   "language": "python",
   "name": "python3"
  },
  "language_info": {
   "codemirror_mode": {
    "name": "ipython",
    "version": 3
   },
   "file_extension": ".py",
   "mimetype": "text/x-python",
   "name": "python",
   "nbconvert_exporter": "python",
   "pygments_lexer": "ipython3",
   "version": "3.8.3"
  }
 },
 "nbformat": 4,
 "nbformat_minor": 5
}
