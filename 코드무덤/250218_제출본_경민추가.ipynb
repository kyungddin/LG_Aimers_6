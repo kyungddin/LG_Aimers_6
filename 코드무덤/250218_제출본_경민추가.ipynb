{
 "cells": [
  {
   "cell_type": "markdown",
   "id": "7f7f27b4-dea3-4af0-a3a3-63068476d73f",
   "metadata": {
    "id": "7f7f27b4-dea3-4af0-a3a3-63068476d73f"
   },
   "source": [
    "## 1. 라이브러리 import + CSV 불러오기"
   ]
  },
  {
   "cell_type": "code",
   "execution_count": 2,
   "id": "b28768a2-267c-4ab2-8780-ab1445c1bd77",
   "metadata": {
    "id": "b28768a2-267c-4ab2-8780-ab1445c1bd77"
   },
   "outputs": [],
   "source": [
    "import pandas as pd\n",
    "import numpy as np\n",
    "import matplotlib.pyplot as plt\n",
    "import seaborn as sns\n",
    "import prince\n",
    "\n",
    "from sklearn.preprocessing import  OrdinalEncoder\n",
    "from sklearn.ensemble import ExtraTreesClassifier\n"
   ]
  },
  {
   "cell_type": "code",
   "execution_count": 3,
   "id": "ef12d68b-2bcb-4de6-bfc6-6f41c62b1d02",
   "metadata": {},
   "outputs": [],
   "source": [
    "train = pd.read_csv('./train.csv').drop(columns=['ID'])\n",
    "test = pd.read_csv('./test.csv').drop(columns=['ID'])"
   ]
  },
  {
   "cell_type": "code",
   "execution_count": 4,
   "id": "99e23585-d45f-4380-a767-c8f45fc94ef5",
   "metadata": {},
   "outputs": [],
   "source": [
    "X = train.drop('임신 성공 여부', axis=1) \n",
    "y = train['임신 성공 여부']"
   ]
  },
  {
   "cell_type": "code",
   "execution_count": 5,
   "id": "27bce805-7537-46a6-8219-2bd7ff98507c",
   "metadata": {},
   "outputs": [],
   "source": [
    "categorical_columns = [\n",
    "    \"시술 시기 코드\",\n",
    "    \"시술 당시 나이\",\n",
    "    \"시술 유형\",\n",
    "    \"특정 시술 유형\",\n",
    "    \"배란 자극 여부\",\n",
    "    \"배란 유도 유형\",\n",
    "    \"단일 배아 이식 여부\",\n",
    "    \"착상 전 유전 검사 사용 여부\",\n",
    "    \"착상 전 유전 진단 사용 여부\",\n",
    "    \"남성 주 불임 원인\",\n",
    "    \"남성 부 불임 원인\",\n",
    "    \"여성 주 불임 원인\",\n",
    "    \"여성 부 불임 원인\",\n",
    "    \"부부 주 불임 원인\",\n",
    "    \"부부 부 불임 원인\",\n",
    "    \"불명확 불임 원인\",\n",
    "    \"불임 원인 - 난관 질환\",\n",
    "    \"불임 원인 - 남성 요인\",\n",
    "    \"불임 원인 - 배란 장애\",\n",
    "    \"불임 원인 - 여성 요인\",\n",
    "    \"불임 원인 - 자궁경부 문제\",\n",
    "    \"불임 원인 - 자궁내막증\",\n",
    "    \"불임 원인 - 정자 농도\",\n",
    "    \"불임 원인 - 정자 면역학적 요인\",\n",
    "    \"불임 원인 - 정자 운동성\",\n",
    "    \"불임 원인 - 정자 형태\",\n",
    "    \"배아 생성 주요 이유\",\n",
    "    \"총 시술 횟수\",\n",
    "    \"클리닉 내 총 시술 횟수\",\n",
    "    \"IVF 시술 횟수\",\n",
    "    \"DI 시술 횟수\",\n",
    "    \"총 임신 횟수\",\n",
    "    \"IVF 임신 횟수\",\n",
    "    \"DI 임신 횟수\",\n",
    "    \"총 출산 횟수\",\n",
    "    \"IVF 출산 횟수\",\n",
    "    \"DI 출산 횟수\",\n",
    "    \"난자 출처\",\n",
    "    \"정자 출처\",\n",
    "    \"난자 기증자 나이\",\n",
    "    \"정자 기증자 나이\",\n",
    "    \"동결 배아 사용 여부\",\n",
    "    \"신선 배아 사용 여부\",\n",
    "    \"기증 배아 사용 여부\",\n",
    "    \"대리모 여부\",\n",
    "    \"PGD 시술 여부\",\n",
    "    \"PGS 시술 여부\"\n",
    "]"
   ]
  },
  {
   "cell_type": "code",
   "execution_count": 6,
   "id": "6df03ce1-55c1-40d9-b813-c3f9e0be2dec",
   "metadata": {},
   "outputs": [],
   "source": [
    "# 카테고리형 컬럼들을 문자열로 변환\n",
    "for col in categorical_columns:\n",
    "    X[col] = X[col].astype(str)\n",
    "    test[col] = test[col].astype(str)"
   ]
  },
  {
   "cell_type": "code",
   "execution_count": 7,
   "id": "bcca28a3-f84d-4107-8ac9-f639272e08bb",
   "metadata": {},
   "outputs": [],
   "source": [
    "ordinal_encoder = OrdinalEncoder(handle_unknown='use_encoded_value', unknown_value=-1)\n",
    "\n",
    "X_train_encoded = X.copy()\n",
    "X_train_encoded[categorical_columns] = ordinal_encoder.fit_transform(X[categorical_columns])\n",
    "\n",
    "X_test_encoded = test.copy()\n",
    "X_test_encoded[categorical_columns] = ordinal_encoder.transform(test[categorical_columns])"
   ]
  },
  {
   "cell_type": "code",
   "execution_count": 8,
   "id": "53f2af59-9884-4411-b8d1-0d477a8b59e3",
   "metadata": {},
   "outputs": [],
   "source": [
    "numeric_columns = [\n",
    "    \"임신 시도 또는 마지막 임신 경과 연수\",\n",
    "    \"총 생성 배아 수\",\n",
    "    \"미세주입된 난자 수\",\n",
    "    \"미세주입에서 생성된 배아 수\",\n",
    "    \"이식된 배아 수\",\n",
    "    \"미세주입 배아 이식 수\",\n",
    "    \"저장된 배아 수\",\n",
    "    \"미세주입 후 저장된 배아 수\",\n",
    "    \"해동된 배아 수\",\n",
    "    \"해동 난자 수\",\n",
    "    \"수집된 신선 난자 수\",\n",
    "    \"저장된 신선 난자 수\",\n",
    "    \"혼합된 난자 수\",\n",
    "    \"파트너 정자와 혼합된 난자 수\",\n",
    "    \"기증자 정자와 혼합된 난자 수\",\n",
    "    \"난자 채취 경과일\",\n",
    "    \"난자 해동 경과일\",\n",
    "    \"난자 혼합 경과일\",\n",
    "    \"배아 이식 경과일\",\n",
    "    \"배아 해동 경과일\"\n",
    "]"
   ]
  },
  {
   "cell_type": "code",
   "execution_count": 9,
   "id": "634d3cba-5cbe-482f-995e-136be81bc20e",
   "metadata": {},
   "outputs": [],
   "source": [
    "X_train_encoded[numeric_columns] = X_train_encoded[numeric_columns].fillna(0)\n",
    "X_test_encoded[numeric_columns] = X_test_encoded[numeric_columns].fillna(0)"
   ]
  },
  {
   "cell_type": "markdown",
   "id": "9c10d52e-f326-41b8-a815-ff121aa47eff",
   "metadata": {
    "id": "9c10d52e-f326-41b8-a815-ff121aa47eff"
   },
   "source": [
    "## 2. EDA 모음"
   ]
  },
  {
   "cell_type": "code",
   "execution_count": 11,
   "id": "8586dbfd-24eb-46a6-8f19-ee8eec7d1983",
   "metadata": {
    "id": "8586dbfd-24eb-46a6-8f19-ee8eec7d1983",
    "outputId": "763545de-83d0-4c58-c8f4-60bd6d6c4bcc"
   },
   "outputs": [],
   "source": [
    "\n",
    "#'임신 시도 또는 마지막 임신 경과 연수' 열 제거\n",
    "train = train.drop(columns=['난자 해동 경과일'])\n",
    "test = test.drop(columns=['난자 해동 경과일'])\n",
    "\n",
    "#'시술 유형' 열 제거\n",
    "train = train.drop(columns=['PGS 시술 여부'])\n",
    "test = test.drop(columns=['PGS 시술 여부'])\n",
    "\n",
    "#'시술 유형' 열 제거\n",
    "train = train.drop(columns=['PGD 시술 여부'])\n",
    "test = test.drop(columns=['PGD 시술 여부'])\n",
    "\n",
    "\n",
    "#'시술 유형' 열 제거\n",
    "train = train.drop(columns=['착상 전 유전 검사 사용 여부'])\n",
    "test = test.drop(columns=['착상 전 유전 검사 사용 여부'])\n",
    "\n",
    "#'시술 유형' 열 제거\n",
    "train = train.drop(columns=['임신 시도 또는 마지막 임신 경과 연수'])\n",
    "test = test.drop(columns=['임신 시도 또는 마지막 임신 경과 연수'])\n",
    "\n",
    "#'시술 유형' 열 제거\n",
    "train = train.drop(columns=['배아 해동 경과일'])\n",
    "test = test.drop(columns=['배아 해동 경과일'])\n"
   ]
  },
  {
   "cell_type": "markdown",
   "id": "4a7f2c80-ea05-417e-83fd-fb3683289a1e",
   "metadata": {
    "id": "4a7f2c80-ea05-417e-83fd-fb3683289a1e"
   },
   "source": [
    "train과 test dataframe에 대해 지금까지의 EDA 관련 코드를 전부 모은 셀입니다\n",
    "일일이 읽으려면 정신 나갈 수 있음.."
   ]
  },
  {
   "cell_type": "code",
   "execution_count": 13,
   "id": "e75561ae-dd1f-4e7b-bd71-9c270897bf5b",
   "metadata": {},
   "outputs": [],
   "source": [
    "# 정자 면역학적 요인 drop\n",
    "train = train.drop('불임 원인 - 정자 면역학적 요인', axis=1)\n",
    "test = test.drop('불임 원인 - 정자 면역학적 요인', axis=1)\n",
    "\n",
    "# 남성 요인 MCA\n",
    "features_male = [\"불임 원인 - 남성 요인\", \"불임 원인 - 정자 농도\", \"불임 원인 - 정자 운동성\", \"불임 원인 - 정자 형태\"]\n",
    "subset_train = train[features_male].copy()  # 선택한 feature만 사용\n",
    "subset_test = test[features_male].copy()\n",
    "\n",
    "# prince 라이브러리로 MCA 모델 훈련 (n_components=1로 차원 축소)\n",
    "mca = prince.MCA(n_components=1)\n",
    "\n",
    "# MCA 모델을 훈련시키고 차원 축소된 데이터 얻기\n",
    "mca_result_train = mca.fit_transform(subset_train)\n",
    "mca_result_test = mca.fit_transform(subset_test)\n",
    "\n",
    "# 기존 남성 요인 feature 삭제\n",
    "train = train.drop(columns=features_male)\n",
    "test = test.drop(columns=features_male)\n",
    "\n",
    "# 차원 축소된 데이터를 원본 데이터에 새로운 열로 추가\n",
    "train[\"불임 원인 - 남성 요인\"] = mca_result_train\n",
    "test[\"불임 원인 - 남성 요인\"] = mca_result_test"
   ]
  },
  {
   "cell_type": "code",
   "execution_count": 14,
   "id": "dbddc5ff-f3e1-4310-99e3-e61975948253",
   "metadata": {},
   "outputs": [],
   "source": [
    "import numpy as np\n",
    "import pandas as pd\n",
    "\n",
    "# 불임 원인 관련 feature 개수 카운트\n",
    "male_causes = ['남성 주 불임 원인']\n",
    "female_causes = ['여성 주 불임 원인']\n",
    "couple_causes = ['부부 주 불임 원인']\n",
    "\n",
    "train['남성 불임 원인 개수'] = train[male_causes].sum(axis=1)\n",
    "test['남성 불임 원인 개수'] = test[male_causes].sum(axis=1)\n",
    "\n",
    "train['여성 불임 원인 개수'] = train[female_causes].sum(axis=1)\n",
    "test['여성 불임 원인 개수'] = test[female_causes].sum(axis=1)\n",
    "\n",
    "train['부부 불임 원인 개수'] = train[couple_causes].sum(axis=1)\n",
    "test['부부 불임 원인 개수'] = test[couple_causes].sum(axis=1)\n",
    "\n",
    "# 기존 feature 제거\n",
    "train = train.drop(columns=['남성 주 불임 원인', '여성 주 불임 원인', '부부 주 불임 원인'])\n",
    "test = test.drop(columns=['남성 주 불임 원인', '여성 주 불임 원인', '부부 주 불임 원인'])\n",
    "\n",
    "# 이제 각 데이터셋은 '남성 불임 원인 개수', '여성 불임 원인 개수', '부부 불임 원인 개수' 컬럼을 포함하게 됩니다."
   ]
  },
  {
   "cell_type": "code",
   "execution_count": 15,
   "id": "6cc37182-4f5c-4136-82b3-85a8df5218d7",
   "metadata": {},
   "outputs": [],
   "source": [
    "import numpy as np\n",
    "import pandas as pd\n",
    "\n",
    "def infertility_cause(row):\n",
    "    if row['부부 부 불임 원인']:\n",
    "        return 'Both'\n",
    "    elif row['남성 부 불임 원인']:\n",
    "        return 'Male'\n",
    "    elif row['여성 부 불임 원인']:\n",
    "        return 'Female'\n",
    "    else:\n",
    "        return 'Unknown'\n",
    "\n",
    "train['Infertility_Cause'] = train.apply(infertility_cause, axis=1)\n",
    "test['Infertility_Cause'] = test.apply(infertility_cause, axis=1)\n",
    "\n",
    "# 기존 컬럼 제거\n",
    "train = train.drop(columns=['남성 부 불임 원인', '여성 부 불임 원인', '부부 부 불임 원인'])\n",
    "test = test.drop(columns=['남성 부 불임 원인', '여성 부 불임 원인', '부부 부 불임 원인'])\n",
    "\n",
    "# Label Encoding 또는 One-Hot Encoding 적용\n",
    "train = pd.get_dummies(train, columns=['Infertility_Cause'])\n",
    "test = pd.get_dummies(test, columns=['Infertility_Cause'])\n"
   ]
  },
  {
   "cell_type": "code",
   "execution_count": 16,
   "id": "0a59082b-9433-490e-bf11-9d034c661f9f",
   "metadata": {},
   "outputs": [],
   "source": [
    "# 여성 불임 관련 feature 개수 카운트\n",
    "female_causes = ['불임 원인 - 난관 질환', '불임 원인 - 배란 장애', '불임 원인 - 자궁경부 문제', '불임 원인 - 자궁내막증']\n",
    "train['여성 불임 원인 개수'] = train[female_causes].sum(axis=1)\n",
    "test['여성 불임 원인 개수'] = test[female_causes].sum(axis=1)\n",
    "\n",
    "# 기존 feature 유지 여부에 따라 선택적으로 제거 가능\n",
    "train = train.drop(columns=['불임 원인 - 난관 질환', '불임 원인 - 배란 장애', '불임 원인 - 자궁경부 문제', '불임 원인 - 자궁내막증'])\n",
    "test = test.drop(columns=['불임 원인 - 난관 질환', '불임 원인 - 배란 장애', '불임 원인 - 자궁경부 문제', '불임 원인 - 자궁내막증'])"
   ]
  },
  {
   "cell_type": "markdown",
   "id": "fe415ad4-4258-4bad-9088-995c99365c8e",
   "metadata": {
    "id": "fe415ad4-4258-4bad-9088-995c99365c8e"
   },
   "source": [
    "## 4. 학습 (Lightgbm)"
   ]
  },
  {
   "cell_type": "code",
   "execution_count": 18,
   "id": "6f1c1153-9840-4139-b14d-9048bfae146a",
   "metadata": {},
   "outputs": [
    {
     "ename": "NameError",
     "evalue": "name 'model' is not defined",
     "output_type": "error",
     "traceback": [
      "\u001b[1;31m---------------------------------------------------------------------------\u001b[0m",
      "\u001b[1;31mNameError\u001b[0m                                 Traceback (most recent call last)",
      "Cell \u001b[1;32mIn[18], line 15\u001b[0m\n\u001b[0;32m      5\u001b[0m param_dist \u001b[38;5;241m=\u001b[39m {\n\u001b[0;32m      6\u001b[0m     \u001b[38;5;124m'\u001b[39m\u001b[38;5;124mnum_leaves\u001b[39m\u001b[38;5;124m'\u001b[39m: [\u001b[38;5;241m31\u001b[39m, \u001b[38;5;241m50\u001b[39m, \u001b[38;5;241m70\u001b[39m, \u001b[38;5;241m100\u001b[39m, \u001b[38;5;241m150\u001b[39m],\n\u001b[0;32m      7\u001b[0m     \u001b[38;5;124m'\u001b[39m\u001b[38;5;124mlearning_rate\u001b[39m\u001b[38;5;124m'\u001b[39m: [\u001b[38;5;241m0.01\u001b[39m, \u001b[38;5;241m0.05\u001b[39m, \u001b[38;5;241m0.1\u001b[39m, \u001b[38;5;241m0.2\u001b[39m],\n\u001b[1;32m   (...)\u001b[0m\n\u001b[0;32m     11\u001b[0m     \u001b[38;5;124m'\u001b[39m\u001b[38;5;124mcolsample_bytree\u001b[39m\u001b[38;5;124m'\u001b[39m: [\u001b[38;5;241m0.6\u001b[39m, \u001b[38;5;241m0.7\u001b[39m, \u001b[38;5;241m0.8\u001b[39m, \u001b[38;5;241m1.0\u001b[39m]\n\u001b[0;32m     12\u001b[0m }\n\u001b[0;32m     14\u001b[0m \u001b[38;5;66;03m# RandomizedSearchCV 설정 (랜덤 탐색, cv=5)\u001b[39;00m\n\u001b[1;32m---> 15\u001b[0m random_search \u001b[38;5;241m=\u001b[39m RandomizedSearchCV(estimator\u001b[38;5;241m=\u001b[39mmodel, param_distributions\u001b[38;5;241m=\u001b[39mparam_dist, \n\u001b[0;32m     16\u001b[0m                                    n_iter\u001b[38;5;241m=\u001b[39m\u001b[38;5;241m50\u001b[39m, cv\u001b[38;5;241m=\u001b[39m\u001b[38;5;241m5\u001b[39m, n_jobs\u001b[38;5;241m=\u001b[39m\u001b[38;5;241m-\u001b[39m\u001b[38;5;241m1\u001b[39m, scoring\u001b[38;5;241m=\u001b[39m\u001b[38;5;124m'\u001b[39m\u001b[38;5;124mroc_auc\u001b[39m\u001b[38;5;124m'\u001b[39m, random_state\u001b[38;5;241m=\u001b[39m\u001b[38;5;241m42\u001b[39m)\n\u001b[0;32m     18\u001b[0m \u001b[38;5;66;03m# 모델 학습\u001b[39;00m\n\u001b[0;32m     19\u001b[0m random_search\u001b[38;5;241m.\u001b[39mfit(X_train_encoded, y)\n",
      "\u001b[1;31mNameError\u001b[0m: name 'model' is not defined"
     ]
    }
   ],
   "source": [
    "from sklearn.model_selection import RandomizedSearchCV\n",
    "import numpy as np\n",
    "\n",
    "# 하이퍼파라미터 후보값 설정\n",
    "param_dist = {\n",
    "    'num_leaves': [31, 50, 70, 100, 150],\n",
    "    'learning_rate': [0.01, 0.05, 0.1, 0.2],\n",
    "    'n_estimators': [100, 200, 300, 500],\n",
    "    'max_depth': [-1, 5, 10, 20],\n",
    "    'subsample': [0.6, 0.7, 0.8, 1.0],\n",
    "    'colsample_bytree': [0.6, 0.7, 0.8, 1.0]\n",
    "}\n",
    "\n",
    "# RandomizedSearchCV 설정 (랜덤 탐색, cv=5)\n",
    "random_search = RandomizedSearchCV(estimator=model, param_distributions=param_dist, \n",
    "                                   n_iter=50, cv=5, n_jobs=-1, scoring='roc_auc', random_state=42)\n",
    "\n",
    "# 모델 학습\n",
    "random_search.fit(X_train_encoded, y)\n",
    "\n",
    "# 최적의 하이퍼파라미터 출력\n",
    "print(f\"Best parameters found: {random_search.best_params_}\")\n",
    "\n",
    "# 최적의 모델로 예측 수행\n",
    "best_model = random_search.best_estimator_\n",
    "\n",
    "# 테스트 데이터에 대한 확률 예측\n",
    "pred_proba = best_model.predict_proba(X_test_encoded)[:, 1]\n",
    "\n",
    "# 샘플 제출 파일 로드 및 예측 확률 추가\n",
    "sample_submission = pd.read_csv('./sample_submission.csv')\n",
    "sample_submission['probability'] = pred_proba\n",
    "\n",
    "# 결과를 CSV 파일로 저장\n",
    "sample_submission.to_csv('./lightGBM_250218_randomized_optimized.csv', index=False)\n"
   ]
  },
  {
   "cell_type": "code",
   "execution_count": null,
   "id": "c6f46ead-7d17-4aa0-ae4f-e44c80ea168c",
   "metadata": {
    "id": "c6f46ead-7d17-4aa0-ae4f-e44c80ea168c"
   },
   "outputs": [],
   "source": []
  }
 ],
 "metadata": {
  "colab": {
   "provenance": []
  },
  "kernelspec": {
   "display_name": "Python [conda env:base] *",
   "language": "python",
   "name": "conda-base-py"
  },
  "language_info": {
   "codemirror_mode": {
    "name": "ipython",
    "version": 3
   },
   "file_extension": ".py",
   "mimetype": "text/x-python",
   "name": "python",
   "nbconvert_exporter": "python",
   "pygments_lexer": "ipython3",
   "version": "3.12.7"
  }
 },
 "nbformat": 4,
 "nbformat_minor": 5
}
