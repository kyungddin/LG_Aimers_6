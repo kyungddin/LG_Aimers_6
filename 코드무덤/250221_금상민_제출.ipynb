{
 "cells": [
  {
   "cell_type": "markdown",
   "id": "7f7f27b4-dea3-4af0-a3a3-63068476d73f",
   "metadata": {
    "id": "7f7f27b4-dea3-4af0-a3a3-63068476d73f"
   },
   "source": [
    "## 1. 라이브러리 import + CSV 불러오기"
   ]
  },
  {
   "cell_type": "code",
   "execution_count": 70,
   "id": "b28768a2-267c-4ab2-8780-ab1445c1bd77",
   "metadata": {
    "id": "b28768a2-267c-4ab2-8780-ab1445c1bd77"
   },
   "outputs": [],
   "source": [
    "import pandas as pd\n",
    "import numpy as np\n",
    "import matplotlib.pyplot as plt\n",
    "import seaborn as sns\n",
    "import prince\n",
    "\n",
    "from sklearn.preprocessing import  OrdinalEncoder\n",
    "from sklearn.ensemble import ExtraTreesClassifier\n"
   ]
  },
  {
   "cell_type": "code",
   "execution_count": 235,
   "id": "ef12d68b-2bcb-4de6-bfc6-6f41c62b1d02",
   "metadata": {
    "id": "ef12d68b-2bcb-4de6-bfc6-6f41c62b1d02"
   },
   "outputs": [],
   "source": [
    "train = pd.read_csv('./train.csv').drop(columns=['ID'])\n",
    "test = pd.read_csv('./test.csv').drop(columns=['ID'])"
   ]
  },
  {
   "cell_type": "code",
   "execution_count": 236,
   "id": "99e23585-d45f-4380-a767-c8f45fc94ef5",
   "metadata": {
    "id": "99e23585-d45f-4380-a767-c8f45fc94ef5"
   },
   "outputs": [],
   "source": [
    "X = train.drop('임신 성공 여부', axis=1)\n",
    "y = train['임신 성공 여부']"
   ]
  },
  {
   "cell_type": "markdown",
   "id": "9c10d52e-f326-41b8-a815-ff121aa47eff",
   "metadata": {
    "id": "9c10d52e-f326-41b8-a815-ff121aa47eff"
   },
   "source": [
    "## 2. EDA 모음"
   ]
  },
  {
   "cell_type": "markdown",
   "id": "3c5664e6-2ef0-4f43-9395-f4b3f86024ca",
   "metadata": {},
   "source": [
    "### 결측치가 대부분인 feature 6개 단순 drop"
   ]
  },
  {
   "cell_type": "code",
   "execution_count": 237,
   "id": "8586dbfd-24eb-46a6-8f19-ee8eec7d1983",
   "metadata": {
    "id": "8586dbfd-24eb-46a6-8f19-ee8eec7d1983"
   },
   "outputs": [],
   "source": [
    "#'임신 시도 또는 마지막 임신 경과 연수' 열 제거\n",
    "X = X.drop(columns=['난자 해동 경과일'])\n",
    "test = test.drop(columns=['난자 해동 경과일'])\n",
    "\n",
    "#'시술 유형' 열 제거\n",
    "X = X.drop(columns=['PGS 시술 여부'])\n",
    "test = test.drop(columns=['PGS 시술 여부'])\n",
    "\n",
    "#'시술 유형' 열 제거\n",
    "X = X.drop(columns=['PGD 시술 여부'])\n",
    "test = test.drop(columns=['PGD 시술 여부'])\n",
    "\n",
    "#'시술 유형' 열 제거\n",
    "X = X.drop(columns=['착상 전 유전 검사 사용 여부'])\n",
    "test = test.drop(columns=['착상 전 유전 검사 사용 여부'])\n",
    "\n",
    "#'시술 유형' 열 제거\n",
    "X = X.drop(columns=['임신 시도 또는 마지막 임신 경과 연수'])\n",
    "test = test.drop(columns=['임신 시도 또는 마지막 임신 경과 연수'])\n",
    "\n",
    "#'시술 유형' 열 제거\n",
    "X = X.drop(columns=['배아 해동 경과일'])\n",
    "test = test.drop(columns=['배아 해동 경과일'])"
   ]
  },
  {
   "cell_type": "code",
   "execution_count": 238,
   "id": "cf86fb88",
   "metadata": {},
   "outputs": [
    {
     "name": "stdout",
     "output_type": "stream",
     "text": [
      "Index(['시술 시기 코드', '시술 당시 나이', '시술 유형', '특정 시술 유형', '배란 자극 여부', '배란 유도 유형',\n",
      "       '단일 배아 이식 여부', '착상 전 유전 진단 사용 여부', '남성 주 불임 원인', '남성 부 불임 원인',\n",
      "       '여성 주 불임 원인', '여성 부 불임 원인', '부부 주 불임 원인', '부부 부 불임 원인', '불명확 불임 원인',\n",
      "       '불임 원인 - 난관 질환', '불임 원인 - 남성 요인', '불임 원인 - 배란 장애', '불임 원인 - 여성 요인',\n",
      "       '불임 원인 - 자궁경부 문제', '불임 원인 - 자궁내막증', '불임 원인 - 정자 농도',\n",
      "       '불임 원인 - 정자 면역학적 요인', '불임 원인 - 정자 운동성', '불임 원인 - 정자 형태', '배아 생성 주요 이유',\n",
      "       '총 시술 횟수', '클리닉 내 총 시술 횟수', 'IVF 시술 횟수', 'DI 시술 횟수', '총 임신 횟수',\n",
      "       'IVF 임신 횟수', 'DI 임신 횟수', '총 출산 횟수', 'IVF 출산 횟수', 'DI 출산 횟수',\n",
      "       '총 생성 배아 수', '미세주입된 난자 수', '미세주입에서 생성된 배아 수', '이식된 배아 수',\n",
      "       '미세주입 배아 이식 수', '저장된 배아 수', '미세주입 후 저장된 배아 수', '해동된 배아 수', '해동 난자 수',\n",
      "       '수집된 신선 난자 수', '저장된 신선 난자 수', '혼합된 난자 수', '파트너 정자와 혼합된 난자 수',\n",
      "       '기증자 정자와 혼합된 난자 수', '난자 출처', '정자 출처', '난자 기증자 나이', '정자 기증자 나이',\n",
      "       '동결 배아 사용 여부', '신선 배아 사용 여부', '기증 배아 사용 여부', '대리모 여부', '난자 채취 경과일',\n",
      "       '난자 혼합 경과일', '배아 이식 경과일'],\n",
      "      dtype='object')\n"
     ]
    }
   ],
   "source": [
    "print(X.columns)"
   ]
  },
  {
   "cell_type": "code",
   "execution_count": 239,
   "id": "e75561ae-dd1f-4e7b-bd71-9c270897bf5b",
   "metadata": {
    "id": "e75561ae-dd1f-4e7b-bd71-9c270897bf5b"
   },
   "outputs": [],
   "source": [
    "# 정자 면역학적 요인 drop\n",
    "X = X.drop('불임 원인 - 정자 면역학적 요인', axis=1)\n",
    "test = test.drop('불임 원인 - 정자 면역학적 요인', axis=1)\n",
    "\n",
    "# 남성 요인 MCA\n",
    "features_male = [\"불임 원인 - 남성 요인\", \"불임 원인 - 정자 농도\", \"불임 원인 - 정자 운동성\", \"불임 원인 - 정자 형태\"]\n",
    "subset_train = train[features_male].copy()  # 선택한 feature만 사용\n",
    "subset_test = test[features_male].copy()\n",
    "\n",
    "# prince 라이브러리로 MCA 모델 훈련 (n_components=1로 차원 축소)\n",
    "mca = prince.MCA(n_components=1)\n",
    "\n",
    "# MCA 모델을 훈련시키고 차원 축소된 데이터 얻기\n",
    "mca_result_train = mca.fit_transform(subset_train)\n",
    "mca_result_test = mca.fit_transform(subset_test)\n",
    "\n",
    "# 기존 남성 요인 feature 삭제\n",
    "X = X.drop(columns=features_male)\n",
    "test = test.drop(columns=features_male)\n",
    "\n",
    "# 차원 축소된 데이터를 원본 데이터에 새로운 열로 추가\n",
    "X[\"불임 원인 - 남성 요인\"] = mca_result_train\n",
    "test[\"불임 원인 - 남성 요인\"] = mca_result_test"
   ]
  },
  {
   "cell_type": "code",
   "execution_count": 240,
   "id": "dbddc5ff-f3e1-4310-99e3-e61975948253",
   "metadata": {
    "id": "dbddc5ff-f3e1-4310-99e3-e61975948253"
   },
   "outputs": [],
   "source": [
    "import numpy as np\n",
    "import pandas as pd\n",
    "\n",
    "# 불임 원인 관련 feature 개수 카운트\n",
    "male_causes = ['남성 주 불임 원인']\n",
    "female_causes = ['여성 주 불임 원인']\n",
    "couple_causes = ['부부 주 불임 원인']\n",
    "\n",
    "X['남성 불임 원인 개수'] = X[male_causes].sum(axis=1)\n",
    "test['남성 불임 원인 개수'] = test[male_causes].sum(axis=1)\n",
    "\n",
    "X['여성 불임 원인 개수'] = X[female_causes].sum(axis=1)\n",
    "test['여성 불임 원인 개수'] = test[female_causes].sum(axis=1)\n",
    "\n",
    "X['부부 불임 원인 개수'] = X[couple_causes].sum(axis=1)\n",
    "test['부부 불임 원인 개수'] = test[couple_causes].sum(axis=1)\n",
    "\n",
    "# 기존 feature 제거\n",
    "X = X.drop(columns=['남성 주 불임 원인', '여성 주 불임 원인', '부부 주 불임 원인'])\n",
    "test = test.drop(columns=['남성 주 불임 원인', '여성 주 불임 원인', '부부 주 불임 원인'])\n",
    "\n",
    "# 이제 각 데이터셋은 '남성 불임 원인 개수', '여성 불임 원인 개수', '부부 불임 원인 개수' 컬럼을 포함하게 됩니다."
   ]
  },
  {
   "cell_type": "code",
   "execution_count": 241,
   "id": "c8e4b5b3",
   "metadata": {},
   "outputs": [
    {
     "name": "stdout",
     "output_type": "stream",
     "text": [
      "Index(['시술 시기 코드', '시술 당시 나이', '시술 유형', '특정 시술 유형', '배란 자극 여부', '배란 유도 유형',\n",
      "       '단일 배아 이식 여부', '착상 전 유전 진단 사용 여부', '남성 부 불임 원인', '여성 부 불임 원인',\n",
      "       '부부 부 불임 원인', '불명확 불임 원인', '불임 원인 - 난관 질환', '불임 원인 - 배란 장애',\n",
      "       '불임 원인 - 여성 요인', '불임 원인 - 자궁경부 문제', '불임 원인 - 자궁내막증', '배아 생성 주요 이유',\n",
      "       '총 시술 횟수', '클리닉 내 총 시술 횟수', 'IVF 시술 횟수', 'DI 시술 횟수', '총 임신 횟수',\n",
      "       'IVF 임신 횟수', 'DI 임신 횟수', '총 출산 횟수', 'IVF 출산 횟수', 'DI 출산 횟수',\n",
      "       '총 생성 배아 수', '미세주입된 난자 수', '미세주입에서 생성된 배아 수', '이식된 배아 수',\n",
      "       '미세주입 배아 이식 수', '저장된 배아 수', '미세주입 후 저장된 배아 수', '해동된 배아 수', '해동 난자 수',\n",
      "       '수집된 신선 난자 수', '저장된 신선 난자 수', '혼합된 난자 수', '파트너 정자와 혼합된 난자 수',\n",
      "       '기증자 정자와 혼합된 난자 수', '난자 출처', '정자 출처', '난자 기증자 나이', '정자 기증자 나이',\n",
      "       '동결 배아 사용 여부', '신선 배아 사용 여부', '기증 배아 사용 여부', '대리모 여부', '난자 채취 경과일',\n",
      "       '난자 혼합 경과일', '배아 이식 경과일', '불임 원인 - 남성 요인', '남성 불임 원인 개수', '여성 불임 원인 개수',\n",
      "       '부부 불임 원인 개수'],\n",
      "      dtype='object')\n"
     ]
    }
   ],
   "source": [
    "print(X.columns)"
   ]
  },
  {
   "cell_type": "code",
   "execution_count": 242,
   "id": "6cc37182-4f5c-4136-82b3-85a8df5218d7",
   "metadata": {
    "id": "6cc37182-4f5c-4136-82b3-85a8df5218d7"
   },
   "outputs": [],
   "source": [
    "X = X.drop(columns=['미세주입된 난자 수'])\n",
    "test = test.drop(columns=['미세주입된 난자 수'])\n",
    "\n",
    "X = X.drop(columns=['미세주입에서 생성된 배아 수'])\n",
    "test = test.drop(columns=['미세주입에서 생성된 배아 수'])\n",
    "\n",
    "X = X.drop(columns=['미세주입 배아 이식 수'])\n",
    "test = test.drop(columns=['미세주입 배아 이식 수'])\n",
    "\n",
    "X = X.drop(columns=['미세주입 후 저장된 배아 수'])\n",
    "test = test.drop(columns=['미세주입 후 저장된 배아 수'])\n",
    "\n",
    "X[\"총 배아 수\"] = X[\"해동된 배아 수\"].fillna(0) + X[\"총 생성 배아 수\"].fillna(0)\n",
    "test[\"총 배아 수\"] = test[\"해동된 배아 수\"].fillna(0) + test[\"총 생성 배아 수\"].fillna(0)\n",
    "\n",
    "# 기존 feature 삭제\n",
    "\n",
    "X = X.drop(columns=['해동된 배아 수'])\n",
    "test = test.drop(columns=['해동된 배아 수'])\n",
    "\n",
    "X = X.drop(columns=['총 생성 배아 수'])\n",
    "test = test.drop(columns=['총 생성 배아 수'])\n",
    "\n",
    "X = X.drop(columns=['해동 난자 수'])\n",
    "test = test.drop(columns=['해동 난자 수'])\n",
    "\n",
    "X = X.drop(columns=['수집된 신선 난자 수'])\n",
    "test = test.drop(columns=['수집된 신선 난자 수'])\n",
    "\n",
    "X = X.drop(columns=['저장된 신선 난자 수'])\n",
    "test = test.drop(columns=['저장된 신선 난자 수'])\n",
    "\n",
    "X = X.drop(columns=['혼합된 난자 수'])\n",
    "test = test.drop(columns=['혼합된 난자 수'])\n",
    "\n",
    "X = X.drop(columns=['파트너 정자와 혼합된 난자 수'])\n",
    "test = test.drop(columns=['파트너 정자와 혼합된 난자 수'])\n",
    "\n",
    "X = X.drop(columns=['기증자 정자와 혼합된 난자 수'])\n",
    "test = test.drop(columns=['기증자 정자와 혼합된 난자 수'])"
   ]
  },
  {
   "cell_type": "code",
   "execution_count": 243,
   "id": "475727cc",
   "metadata": {},
   "outputs": [
    {
     "name": "stdout",
     "output_type": "stream",
     "text": [
      "Index(['시술 시기 코드', '시술 당시 나이', '시술 유형', '특정 시술 유형', '배란 자극 여부', '배란 유도 유형',\n",
      "       '단일 배아 이식 여부', '착상 전 유전 진단 사용 여부', '남성 부 불임 원인', '여성 부 불임 원인',\n",
      "       '부부 부 불임 원인', '불명확 불임 원인', '불임 원인 - 난관 질환', '불임 원인 - 배란 장애',\n",
      "       '불임 원인 - 여성 요인', '불임 원인 - 자궁경부 문제', '불임 원인 - 자궁내막증', '배아 생성 주요 이유',\n",
      "       '총 시술 횟수', '클리닉 내 총 시술 횟수', 'IVF 시술 횟수', 'DI 시술 횟수', '총 임신 횟수',\n",
      "       'IVF 임신 횟수', 'DI 임신 횟수', '총 출산 횟수', 'IVF 출산 횟수', 'DI 출산 횟수', '이식된 배아 수',\n",
      "       '저장된 배아 수', '난자 출처', '정자 출처', '난자 기증자 나이', '정자 기증자 나이', '동결 배아 사용 여부',\n",
      "       '신선 배아 사용 여부', '기증 배아 사용 여부', '대리모 여부', '난자 채취 경과일', '난자 혼합 경과일',\n",
      "       '배아 이식 경과일', '불임 원인 - 남성 요인', '남성 불임 원인 개수', '여성 불임 원인 개수',\n",
      "       '부부 불임 원인 개수', '총 배아 수'],\n",
      "      dtype='object')\n"
     ]
    }
   ],
   "source": [
    "print(X.columns)"
   ]
  },
  {
   "cell_type": "markdown",
   "id": "dccf6e50",
   "metadata": {},
   "source": [
    "#### features 53~67 전처리"
   ]
  },
  {
   "cell_type": "code",
   "execution_count": 244,
   "id": "13cdedbf",
   "metadata": {},
   "outputs": [],
   "source": [
    "X = X.drop(columns=['난자 기증자 나이'])\n",
    "test = test.drop(columns=['난자 기증자 나이'])\n",
    "\n",
    "X = X.drop(columns=['정자 기증자 나이'])\n",
    "test = test.drop(columns=['정자 기증자 나이'])\n",
    "\n",
    "X = X.drop(columns=['신선 배아 사용 여부'])\n",
    "test = test.drop(columns=['신선 배아 사용 여부'])\n",
    "\n",
    "X = X.drop(columns=['기증 배아 사용 여부'])\n",
    "test = test.drop(columns=['기증 배아 사용 여부'])\n",
    "\n",
    "X = X.drop(columns=['대리모 여부'])\n",
    "test = test.drop(columns=['대리모 여부'])"
   ]
  },
  {
   "cell_type": "code",
   "execution_count": 245,
   "id": "42b40824",
   "metadata": {},
   "outputs": [
    {
     "name": "stdout",
     "output_type": "stream",
     "text": [
      "Index(['시술 시기 코드', '시술 당시 나이', '시술 유형', '특정 시술 유형', '배란 자극 여부', '배란 유도 유형',\n",
      "       '단일 배아 이식 여부', '착상 전 유전 진단 사용 여부', '남성 부 불임 원인', '여성 부 불임 원인',\n",
      "       '부부 부 불임 원인', '불명확 불임 원인', '불임 원인 - 난관 질환', '불임 원인 - 배란 장애',\n",
      "       '불임 원인 - 여성 요인', '불임 원인 - 자궁경부 문제', '불임 원인 - 자궁내막증', '배아 생성 주요 이유',\n",
      "       '총 시술 횟수', '클리닉 내 총 시술 횟수', 'IVF 시술 횟수', 'DI 시술 횟수', '총 임신 횟수',\n",
      "       'IVF 임신 횟수', 'DI 임신 횟수', '총 출산 횟수', 'IVF 출산 횟수', 'DI 출산 횟수', '이식된 배아 수',\n",
      "       '저장된 배아 수', '난자 출처', '정자 출처', '동결 배아 사용 여부', '난자 채취 경과일', '난자 혼합 경과일',\n",
      "       '배아 이식 경과일', '불임 원인 - 남성 요인', '남성 불임 원인 개수', '여성 불임 원인 개수',\n",
      "       '부부 불임 원인 개수', '총 배아 수'],\n",
      "      dtype='object')\n"
     ]
    }
   ],
   "source": [
    "print(X.columns)"
   ]
  },
  {
   "cell_type": "code",
   "execution_count": 246,
   "id": "22b4d646",
   "metadata": {},
   "outputs": [],
   "source": [
    "# '배아 이식 경과일'의 평균값 계산 (결측치는 제외한 값으로 평균 계산), 반올림 처리\n",
    "#mean_value = round(train['배아 이식 경과일'].mean())  # 반올림 처리\n",
    "\n",
    "\n",
    "# 결측치를 평균값으로 대체\n",
    "#X = X['배아 이식 경과일'].fillna(mean_value, inplace=True)\n",
    "\n",
    "# '배아 이식 경과일'의 평균값 계산 (결측치는 제외한 값으로 평균 계산), 반올림 처리\n",
    "#mean_value = round(test['배아 이식 경과일'].mean())  # 반올림 처리\n",
    "\n",
    "# 결측치를 평균값으로 대체\n",
    "#test['배아 이식 경과일'].fillna(mean_value, inplace=True)"
   ]
  },
  {
   "cell_type": "code",
   "execution_count": 247,
   "id": "377126ad",
   "metadata": {},
   "outputs": [],
   "source": [
    "# 난자 출처 : '알 수 없음' 데이터 삭제\n",
    "#X = X[X['난자 출처'] != '알 수 없음']\n",
    "\n",
    "\n",
    "#test = test[test['난자 출처'] != '알 수 없음']\n",
    "\n",
    "# 정자 출처 : '미할당', '배우자 제공' 데이터 삭제\n",
    "#X= X[X['정자 출처'] != '미할당']\n",
    "#X= X[X['정자 출처'] != '배우자 및 기증 제공']\n",
    "\n",
    "#test = test[test['정자 출처'] != '미할당']\n",
    "#test = test[test['정자 출처'] != '배우자 및 기증 제공']"
   ]
  },
  {
   "cell_type": "code",
   "execution_count": 248,
   "id": "6ae1f340",
   "metadata": {},
   "outputs": [
    {
     "name": "stdout",
     "output_type": "stream",
     "text": [
      "Index(['시술 시기 코드', '시술 당시 나이', '시술 유형', '특정 시술 유형', '배란 자극 여부', '배란 유도 유형',\n",
      "       '단일 배아 이식 여부', '착상 전 유전 진단 사용 여부', '남성 부 불임 원인', '여성 부 불임 원인',\n",
      "       '부부 부 불임 원인', '불명확 불임 원인', '불임 원인 - 난관 질환', '불임 원인 - 배란 장애',\n",
      "       '불임 원인 - 여성 요인', '불임 원인 - 자궁경부 문제', '불임 원인 - 자궁내막증', '배아 생성 주요 이유',\n",
      "       '총 시술 횟수', '클리닉 내 총 시술 횟수', 'IVF 시술 횟수', 'DI 시술 횟수', '총 임신 횟수',\n",
      "       'IVF 임신 횟수', 'DI 임신 횟수', '총 출산 횟수', 'IVF 출산 횟수', 'DI 출산 횟수', '이식된 배아 수',\n",
      "       '저장된 배아 수', '난자 출처', '정자 출처', '동결 배아 사용 여부', '난자 채취 경과일', '난자 혼합 경과일',\n",
      "       '배아 이식 경과일', '불임 원인 - 남성 요인', '남성 불임 원인 개수', '여성 불임 원인 개수',\n",
      "       '부부 불임 원인 개수', '총 배아 수'],\n",
      "      dtype='object')\n"
     ]
    }
   ],
   "source": [
    "print(X.columns)"
   ]
  },
  {
   "cell_type": "markdown",
   "id": "fe415ad4-4258-4bad-9088-995c99365c8e",
   "metadata": {
    "id": "fe415ad4-4258-4bad-9088-995c99365c8e"
   },
   "source": [
    "## 4. EDA 후처리"
   ]
  },
  {
   "cell_type": "code",
   "execution_count": 249,
   "id": "ac328e42",
   "metadata": {},
   "outputs": [],
   "source": [
    "categorical_columns = [\n",
    "    \"시술 시기 코드\",\n",
    "    \"시술 당시 나이\",\n",
    "    \"시술 유형\",\n",
    "    \"특정 시술 유형\",\n",
    "    \"배란 자극 여부\",\n",
    "    \"배란 유도 유형\",\n",
    "    \"단일 배아 이식 여부\",\n",
    "    \"착상 전 유전 진단 사용 여부\",\n",
    "    \"남성 부 불임 원인\",\n",
    "    \"여성 부 불임 원인\",\n",
    "    \"부부 부 불임 원인\",\n",
    "    \"불명확 불임 원인\",\n",
    "    \"불임 원인 - 난관 질환\",\n",
    "    \"불임 원인 - 남성 요인\",\n",
    "    \"불임 원인 - 배란 장애\",\n",
    "    \"불임 원인 - 여성 요인\",\n",
    "    \"불임 원인 - 자궁경부 문제\",\n",
    "    \"불임 원인 - 자궁내막증\",\n",
    "    \"배아 생성 주요 이유\",\n",
    "    \"총 시술 횟수\",\n",
    "    \"클리닉 내 총 시술 횟수\",\n",
    "    \"IVF 시술 횟수\",\n",
    "    \"DI 시술 횟수\",\n",
    "    \"총 임신 횟수\",\n",
    "    \"IVF 임신 횟수\",\n",
    "    \"DI 임신 횟수\",\n",
    "    \"총 출산 횟수\",\n",
    "    \"IVF 출산 횟수\",\n",
    "    \"DI 출산 횟수\",\n",
    "    \"난자 출처\",\n",
    "    \"정자 출처\",\n",
    "    \"동결 배아 사용 여부\",\n",
    "]"
   ]
  },
  {
   "cell_type": "code",
   "execution_count": 250,
   "id": "7af2d6b4",
   "metadata": {},
   "outputs": [],
   "source": [
    "# 카테고리형 컬럼들을 문자열로 변환\n",
    "for col in categorical_columns:\n",
    "    X[col] = X[col].astype(str)\n",
    "    test[col] = test[col].astype(str)"
   ]
  },
  {
   "cell_type": "code",
   "execution_count": 251,
   "id": "31d13e41",
   "metadata": {},
   "outputs": [
    {
     "name": "stdout",
     "output_type": "stream",
     "text": [
      "Index(['시술 시기 코드', '시술 당시 나이', '시술 유형', '특정 시술 유형', '배란 자극 여부', '배란 유도 유형',\n",
      "       '단일 배아 이식 여부', '착상 전 유전 진단 사용 여부', '남성 부 불임 원인', '여성 부 불임 원인',\n",
      "       '부부 부 불임 원인', '불명확 불임 원인', '불임 원인 - 난관 질환', '불임 원인 - 배란 장애',\n",
      "       '불임 원인 - 여성 요인', '불임 원인 - 자궁경부 문제', '불임 원인 - 자궁내막증', '배아 생성 주요 이유',\n",
      "       '총 시술 횟수', '클리닉 내 총 시술 횟수', 'IVF 시술 횟수', 'DI 시술 횟수', '총 임신 횟수',\n",
      "       'IVF 임신 횟수', 'DI 임신 횟수', '총 출산 횟수', 'IVF 출산 횟수', 'DI 출산 횟수', '이식된 배아 수',\n",
      "       '저장된 배아 수', '난자 출처', '정자 출처', '동결 배아 사용 여부', '난자 채취 경과일', '난자 혼합 경과일',\n",
      "       '배아 이식 경과일', '불임 원인 - 남성 요인', '남성 불임 원인 개수', '여성 불임 원인 개수',\n",
      "       '부부 불임 원인 개수', '총 배아 수'],\n",
      "      dtype='object')\n"
     ]
    }
   ],
   "source": [
    "print(X.columns)"
   ]
  },
  {
   "cell_type": "code",
   "execution_count": 252,
   "id": "c05451c8",
   "metadata": {},
   "outputs": [],
   "source": [
    "ordinal_encoder = OrdinalEncoder(handle_unknown='use_encoded_value', unknown_value=-1)\n",
    "\n",
    "X_train_encoded = X.copy()\n",
    "X_train_encoded[categorical_columns] = ordinal_encoder.fit_transform(X[categorical_columns])\n",
    "\n",
    "X_test_encoded = test.copy()\n",
    "X_test_encoded[categorical_columns] = ordinal_encoder.transform(test[categorical_columns])"
   ]
  },
  {
   "cell_type": "code",
   "execution_count": 255,
   "id": "cb442052",
   "metadata": {},
   "outputs": [],
   "source": [
    "numeric_columns = [\n",
    "    \"남성 불임 원인 개수\",\n",
    "    \"여성 불임 원인 개수\",\n",
    "    \"부부 불임 원인 개수\",\n",
    "    \"총 배아 수\",\n",
    "    \"이식된 배아 수\",\n",
    "    \"저장된 배아 수\",\n",
    "    \"난자 채취 경과일\",\n",
    "    \"난자 혼합 경과일\",\n",
    "    \"배아 이식 경과일\",\n",
    "]"
   ]
  },
  {
   "cell_type": "code",
   "execution_count": 256,
   "id": "84548f34",
   "metadata": {},
   "outputs": [],
   "source": [
    "X_train_encoded[numeric_columns] = X_train_encoded[numeric_columns].fillna(0)\n",
    "X_test_encoded[numeric_columns] = X_test_encoded[numeric_columns].fillna(0)"
   ]
  },
  {
   "cell_type": "code",
   "execution_count": 257,
   "id": "8bb4bd88",
   "metadata": {},
   "outputs": [
    {
     "name": "stdout",
     "output_type": "stream",
     "text": [
      "Index(['시술 시기 코드', '시술 당시 나이', '시술 유형', '특정 시술 유형', '배란 자극 여부', '배란 유도 유형',\n",
      "       '단일 배아 이식 여부', '착상 전 유전 진단 사용 여부', '남성 부 불임 원인', '여성 부 불임 원인',\n",
      "       '부부 부 불임 원인', '불명확 불임 원인', '불임 원인 - 난관 질환', '불임 원인 - 배란 장애',\n",
      "       '불임 원인 - 여성 요인', '불임 원인 - 자궁경부 문제', '불임 원인 - 자궁내막증', '배아 생성 주요 이유',\n",
      "       '총 시술 횟수', '클리닉 내 총 시술 횟수', 'IVF 시술 횟수', 'DI 시술 횟수', '총 임신 횟수',\n",
      "       'IVF 임신 횟수', 'DI 임신 횟수', '총 출산 횟수', 'IVF 출산 횟수', 'DI 출산 횟수', '이식된 배아 수',\n",
      "       '저장된 배아 수', '난자 출처', '정자 출처', '동결 배아 사용 여부', '난자 채취 경과일', '난자 혼합 경과일',\n",
      "       '배아 이식 경과일', '불임 원인 - 남성 요인', '남성 불임 원인 개수', '여성 불임 원인 개수',\n",
      "       '부부 불임 원인 개수', '총 배아 수'],\n",
      "      dtype='object')\n"
     ]
    }
   ],
   "source": [
    "print(X_train_encoded.columns)"
   ]
  },
  {
   "cell_type": "markdown",
   "id": "4fd33b57",
   "metadata": {},
   "source": [
    "## 5. 모델 학습"
   ]
  },
  {
   "cell_type": "code",
   "execution_count": 258,
   "id": "71b537c0",
   "metadata": {},
   "outputs": [
    {
     "name": "stdout",
     "output_type": "stream",
     "text": [
      "Series([], dtype: object)\n"
     ]
    }
   ],
   "source": [
    "print(X_train_encoded.dtypes[X_train_encoded.dtypes == 'object'])"
   ]
  },
  {
   "cell_type": "code",
   "execution_count": 259,
   "id": "49c176b0",
   "metadata": {},
   "outputs": [
    {
     "name": "stdout",
     "output_type": "stream",
     "text": [
      "Index(['시술 시기 코드', '시술 당시 나이', '시술 유형', '특정 시술 유형', '배란 자극 여부', '배란 유도 유형',\n",
      "       '단일 배아 이식 여부', '착상 전 유전 진단 사용 여부', '남성 부 불임 원인', '여성 부 불임 원인',\n",
      "       '부부 부 불임 원인', '불명확 불임 원인', '불임 원인 - 난관 질환', '불임 원인 - 배란 장애',\n",
      "       '불임 원인 - 여성 요인', '불임 원인 - 자궁경부 문제', '불임 원인 - 자궁내막증', '배아 생성 주요 이유',\n",
      "       '총 시술 횟수', '클리닉 내 총 시술 횟수', 'IVF 시술 횟수', 'DI 시술 횟수', '총 임신 횟수',\n",
      "       'IVF 임신 횟수', 'DI 임신 횟수', '총 출산 횟수', 'IVF 출산 횟수', 'DI 출산 횟수', '이식된 배아 수',\n",
      "       '저장된 배아 수', '난자 출처', '정자 출처', '동결 배아 사용 여부', '난자 채취 경과일', '난자 혼합 경과일',\n",
      "       '배아 이식 경과일', '불임 원인 - 남성 요인', '남성 불임 원인 개수', '여성 불임 원인 개수',\n",
      "       '부부 불임 원인 개수', '총 배아 수'],\n",
      "      dtype='object')\n"
     ]
    }
   ],
   "source": [
    "print(X_train_encoded.columns)\n"
   ]
  },
  {
   "cell_type": "code",
   "execution_count": 260,
   "id": "3e0adc60",
   "metadata": {},
   "outputs": [
    {
     "name": "stdout",
     "output_type": "stream",
     "text": [
      "Fitting 5 folds for each of 50 candidates, totalling 250 fits\n",
      "[LightGBM] [Warning] Found whitespace in feature_names, replace with underlines\n",
      "[LightGBM] [Info] Number of positive: 66228, number of negative: 190123\n",
      "[LightGBM] [Info] Auto-choosing row-wise multi-threading, the overhead of testing was 0.021487 seconds.\n",
      "You can set `force_row_wise=true` to remove the overhead.\n",
      "And if memory is not enough, you can set `force_col_wise=true`.\n",
      "[LightGBM] [Info] Total Bins 259\n",
      "[LightGBM] [Info] Number of data points in the train set: 256351, number of used features: 38\n",
      "[LightGBM] [Info] [binary:BoostFromScore]: pavg=0.258349 -> initscore=-1.054568\n",
      "[LightGBM] [Info] Start training from score -1.054568\n",
      "Best parameters found: {'subsample': 0.6, 'num_leaves': 31, 'n_estimators': 300, 'max_depth': 20, 'learning_rate': 0.05, 'colsample_bytree': 0.6}\n"
     ]
    }
   ],
   "source": [
    "import lightgbm as lgb\n",
    "from sklearn.model_selection import RandomizedSearchCV\n",
    "import pandas as pd\n",
    "import numpy as np\n",
    "\n",
    "# LightGBM 모델 초기화\n",
    "model = lgb.LGBMClassifier(random_state=42)\n",
    "\n",
    "# 하이퍼파라미터 후보값 설정\n",
    "param_dist = {\n",
    "    'num_leaves': [31, 50, 70, 100, 150],\n",
    "    'learning_rate': [0.01, 0.05, 0.1, 0.2],\n",
    "    'n_estimators': [100, 200, 300, 500],\n",
    "    'max_depth': [-1, 5, 10, 20],\n",
    "    'subsample': [0.6, 0.7, 0.8, 1.0],\n",
    "    'colsample_bytree': [0.6, 0.7, 0.8, 1.0]\n",
    "}\n",
    "\n",
    "# RandomizedSearchCV 설정 (랜덤 탐색, cv=5)\n",
    "random_search = RandomizedSearchCV(estimator=model, param_distributions=param_dist,\n",
    "                                   n_iter=50, cv=5, n_jobs=-1, scoring='roc_auc', random_state=42, verbose=1)\n",
    "\n",
    "# 모델 학습\n",
    "random_search.fit(X_train_encoded, y)\n",
    "\n",
    "# 최적의 하이퍼파라미터 출력\n",
    "print(f\"Best parameters found: {random_search.best_params_}\")\n",
    "\n",
    "# 최적의 모델로 예측 수행\n",
    "best_model = random_search.best_estimator_\n",
    "\n",
    "# 테스트 데이터에 대한 확률 예측\n",
    "pred_proba = best_model.predict_proba(X_test_encoded)[:, 1]\n",
    "\n",
    "# 샘플 제출 파일 로드 및 예측 확률 추가\n",
    "sample_submission = pd.read_csv('./sample_submission.csv')\n",
    "sample_submission['probability'] = pred_proba\n",
    "\n",
    "# 결과를 CSV 파일로 저장\n",
    "sample_submission.to_csv('./lightGBM_250220_randomized_optimized_2nd.csv', index=False)"
   ]
  }
 ],
 "metadata": {
  "colab": {
   "provenance": []
  },
  "kernelspec": {
   "display_name": "Python [conda env:base] *",
   "language": "python",
   "name": "conda-base-py"
  },
  "language_info": {
   "codemirror_mode": {
    "name": "ipython",
    "version": 3
   },
   "file_extension": ".py",
   "mimetype": "text/x-python",
   "name": "python",
   "nbconvert_exporter": "python",
   "pygments_lexer": "ipython3",
   "version": "3.12.7"
  }
 },
 "nbformat": 4,
 "nbformat_minor": 5
}
