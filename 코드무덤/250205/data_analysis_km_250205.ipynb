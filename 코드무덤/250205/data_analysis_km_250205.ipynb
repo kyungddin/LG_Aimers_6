{
 "cells": [
  {
   "cell_type": "markdown",
   "metadata": {},
   "source": [
    "# 1차 미팅 후 데이터 분석 결과 공유 by 경민"
   ]
  },
  {
   "cell_type": "markdown",
   "metadata": {},
   "source": [
    "***"
   ]
  },
  {
   "cell_type": "markdown",
   "metadata": {},
   "source": [
    "## 1. baseline code (무시해도 OK)"
   ]
  },
  {
   "cell_type": "code",
   "execution_count": 2,
   "metadata": {},
   "outputs": [],
   "source": [
    "import pandas as pd\n",
    "import numpy as np\n",
    "from sklearn.preprocessing import  OrdinalEncoder\n",
    "from sklearn.ensemble import ExtraTreesClassifier\n",
    "import matplotlib.pyplot as plt\n",
    "import seaborn as sns\n",
    "import matplotlib.font_manager as fm\n",
    "plt.rc('font', family='Malgun Gothic')\n",
    "plt.rcParams['axes.unicode_minus'] = False\n",
    "\n",
    "train = pd.read_csv('train.csv').drop(columns=['ID'])\n",
    "test = pd.read_csv('test.csv').drop(columns=['ID'])\n",
    "X = train.drop('임신 성공 여부', axis=1) # input\n",
    "y = train['임신 성공 여부'] # target\n",
    "categorical_columns = [\n",
    "    \"시술 시기 코드\",\n",
    "    \"시술 당시 나이\",\n",
    "    \"시술 유형\",\n",
    "    \"특정 시술 유형\",\n",
    "    \"배란 자극 여부\",\n",
    "    \"배란 유도 유형\",\n",
    "    \"단일 배아 이식 여부\",\n",
    "    \"착상 전 유전 검사 사용 여부\",\n",
    "    \"착상 전 유전 진단 사용 여부\",\n",
    "    \"남성 주 불임 원인\",\n",
    "    \"남성 부 불임 원인\",\n",
    "    \"여성 주 불임 원인\",\n",
    "    \"여성 부 불임 원인\",\n",
    "    \"부부 주 불임 원인\",\n",
    "    \"부부 부 불임 원인\",\n",
    "    \"불명확 불임 원인\",\n",
    "    \"불임 원인 - 난관 질환\",\n",
    "    \"불임 원인 - 남성 요인\",\n",
    "    \"불임 원인 - 배란 장애\",\n",
    "    \"불임 원인 - 여성 요인\",\n",
    "    \"불임 원인 - 자궁경부 문제\",\n",
    "    \"불임 원인 - 자궁내막증\",\n",
    "    \"불임 원인 - 정자 농도\",\n",
    "    \"불임 원인 - 정자 면역학적 요인\",\n",
    "    \"불임 원인 - 정자 운동성\",\n",
    "    \"불임 원인 - 정자 형태\",\n",
    "    \"배아 생성 주요 이유\",\n",
    "    \"총 시술 횟수\",\n",
    "    \"클리닉 내 총 시술 횟수\",\n",
    "    \"IVF 시술 횟수\",\n",
    "    \"DI 시술 횟수\",\n",
    "    \"총 임신 횟수\",\n",
    "    \"IVF 임신 횟수\",\n",
    "    \"DI 임신 횟수\",\n",
    "    \"총 출산 횟수\",\n",
    "    \"IVF 출산 횟수\",\n",
    "    \"DI 출산 횟수\",\n",
    "    \"난자 출처\",\n",
    "    \"정자 출처\",\n",
    "    \"난자 기증자 나이\",\n",
    "    \"정자 기증자 나이\",\n",
    "    \"동결 배아 사용 여부\",\n",
    "    \"신선 배아 사용 여부\",\n",
    "    \"기증 배아 사용 여부\",\n",
    "    \"대리모 여부\",\n",
    "    \"PGD 시술 여부\",\n",
    "    \"PGS 시술 여부\"\n",
    "]\n",
    "for col in categorical_columns:\n",
    "    X[col] = X[col].astype(str)\n",
    "    test[col] = test[col].astype(str)\n",
    "numeric_columns = [\n",
    "    \"임신 시도 또는 마지막 임신 경과 연수\",\n",
    "    \"총 생성 배아 수\",\n",
    "    \"미세주입된 난자 수\",\n",
    "    \"미세주입에서 생성된 배아 수\",\n",
    "    \"이식된 배아 수\",\n",
    "    \"미세주입 배아 이식 수\",\n",
    "    \"저장된 배아 수\",\n",
    "    \"미세주입 후 저장된 배아 수\",\n",
    "    \"해동된 배아 수\",\n",
    "    \"해동 난자 수\",\n",
    "    \"수집된 신선 난자 수\",\n",
    "    \"저장된 신선 난자 수\",\n",
    "    \"혼합된 난자 수\",\n",
    "    \"파트너 정자와 혼합된 난자 수\",\n",
    "    \"기증자 정자와 혼합된 난자 수\",\n",
    "    \"난자 채취 경과일\",\n",
    "    \"난자 해동 경과일\",\n",
    "    \"난자 혼합 경과일\",\n",
    "    \"배아 이식 경과일\",\n",
    "    \"배아 해동 경과일\"\n",
    "]\n",
    "\n",
    "X = X.iloc[:, 52:63] # 본인 관련 데이터만 슬라이싱"
   ]
  },
  {
   "cell_type": "markdown",
   "metadata": {},
   "source": [
    "## 2. \"난자 출처\" 분석"
   ]
  },
  {
   "cell_type": "code",
   "execution_count": 3,
   "metadata": {},
   "outputs": [
    {
     "name": "stdout",
     "output_type": "stream",
     "text": [
      "난자 출처 별 데이터 개수\n",
      "본인 제공     234291\n",
      "기증 제공      15769\n",
      "알 수 없음      6291\n",
      "Name: 난자 출처, dtype: int64\n",
      "\n"
     ]
    },
    {
     "data": {
      "text/plain": [
       "(array([0, 1, 2]), <a list of 3 Text major ticklabel objects>)"
      ]
     },
     "execution_count": 3,
     "metadata": {},
     "output_type": "execute_result"
    },
    {
     "data": {
      "image/png": "[encoded data removed]",
      "text/plain": [
       "<Figure size 360x360 with 1 Axes>"
      ]
     },
     "metadata": {
      "needs_background": "light"
     },
     "output_type": "display_data"
    }
   ],
   "source": [
    "# '난자 출처'별 데이터 개수 세기\n",
    "egg_total_counts = train['난자 출처'].value_counts()\n",
    "print(\"난자 출처 별 데이터 개수\")\n",
    "print(egg_total_counts)\n",
    "print()\n",
    "\n",
    "# plot 그리기\n",
    "plt.figure(figsize=(5, 5))\n",
    "sns.barplot(x=egg_total_counts.index, y=egg_total_counts.values, width=0.4, palette=\"coolwarm\")\n",
    "plt.title(\"난자 출처 별 데이터 개수\", fontsize=14)\n",
    "plt.xlabel(\"난자 출처\", fontsize=12)\n",
    "plt.ylabel(\"개수\", fontsize=12)\n",
    "plt.xticks(rotation=45)"
   ]
  },
  {
   "cell_type": "code",
   "execution_count": 4,
   "metadata": {},
   "outputs": [
    {
     "name": "stdout",
     "output_type": "stream",
     "text": [
      "난자 출처 별 성공률\n",
      "난자 출처\n",
      "기증 제공     0.315429\n",
      "본인 제공     0.257983\n",
      "알 수 없음    0.128914\n",
      "Name: 임신 성공 여부, dtype: float64\n",
      "\n"
     ]
    },
    {
     "data": {
      "text/plain": [
       "(array([0, 1, 2]), <a list of 3 Text major ticklabel objects>)"
      ]
     },
     "execution_count": 4,
     "metadata": {},
     "output_type": "execute_result"
    },
    {
     "data": {
      "image/png": "[encoded data removed]",
      "text/plain": [
       "<Figure size 360x360 with 1 Axes>"
      ]
     },
     "metadata": {
      "needs_background": "light"
     },
     "output_type": "display_data"
    }
   ],
   "source": [
    "# '난자 출처'로 '임신 성공 여부' 평균(성공률) 계산\n",
    "egg_success_rate = train.groupby('난자 출처')['임신 성공 여부'].mean()\n",
    "print(\"난자 출처 별 성공률\")\n",
    "print(egg_success_rate)\n",
    "print()\n",
    "\n",
    "# plot 그리기\n",
    "plt.figure(figsize=(5, 5))\n",
    "sns.barplot(x=egg_success_rate.index, y=egg_success_rate.values, width=0.4)\n",
    "plt.title(\"난자 출처 별 성공률\", fontsize=14)\n",
    "plt.xlabel(\"난자 출처\", fontsize=12)\n",
    "plt.ylabel(\"성공률\", fontsize=12)\n",
    "plt.xticks(rotation=45)"
   ]
  },
  {
   "cell_type": "markdown",
   "metadata": {},
   "source": [
    "## 3. \"정자 출처\" 분석"
   ]
  },
  {
   "cell_type": "code",
   "execution_count": 5,
   "metadata": {},
   "outputs": [
    {
     "name": "stdout",
     "output_type": "stream",
     "text": [
      "정자 출처 별 데이터 개수\n",
      "배우자 제공         229199\n",
      "기증 제공           27016\n",
      "미할당               122\n",
      "배우자 및 기증 제공        14\n",
      "Name: 정자 출처, dtype: int64\n",
      "\n"
     ]
    },
    {
     "data": {
      "text/plain": [
       "(array([0, 1, 2, 3]), <a list of 4 Text major ticklabel objects>)"
      ]
     },
     "execution_count": 5,
     "metadata": {},
     "output_type": "execute_result"
    },
    {
     "data": {
      "image/png": "[encoded data removed]",
      "text/plain": [
       "<Figure size 360x360 with 1 Axes>"
      ]
     },
     "metadata": {
      "needs_background": "light"
     },
     "output_type": "display_data"
    }
   ],
   "source": [
    "# '정자 출처'별 데이터 개수 세기\n",
    "sperm_total_counts = train['정자 출처'].value_counts()\n",
    "print(\"정자 출처 별 데이터 개수\")\n",
    "print(sperm_total_counts)\n",
    "print()\n",
    "\n",
    "plt.figure(figsize=(5, 5))\n",
    "sns.barplot(x=sperm_total_counts.index, y=sperm_total_counts.values, width=0.4, palette=\"coolwarm\")\n",
    "plt.title(\"정자 출처 별 데이터 개수\", fontsize=14)\n",
    "plt.xlabel(\"정자 출처\", fontsize=12)\n",
    "plt.ylabel(\"개수\", fontsize=12)\n",
    "plt.xticks(rotation=45)"
   ]
  },
  {
   "cell_type": "code",
   "execution_count": 6,
   "metadata": {},
   "outputs": [
    {
     "name": "stdout",
     "output_type": "stream",
     "text": [
      "정자 출처 별 성공률\n",
      "정자 출처\n",
      "기증 제공          0.243744\n",
      "미할당            0.106557\n",
      "배우자 및 기증 제공    0.000000\n",
      "배우자 제공         0.260167\n",
      "Name: 임신 성공 여부, dtype: float64\n",
      "\n"
     ]
    },
    {
     "data": {
      "text/plain": [
       "(array([0, 1, 2, 3]), <a list of 4 Text major ticklabel objects>)"
      ]
     },
     "execution_count": 6,
     "metadata": {},
     "output_type": "execute_result"
    },
    {
     "data": {
      "image/png": "[encoded data removed]",
      "text/plain": [
       "<Figure size 360x360 with 1 Axes>"
      ]
     },
     "metadata": {
      "needs_background": "light"
     },
     "output_type": "display_data"
    }
   ],
   "source": [
    "# '정자 출처'로 '임신 성공 여부' 평균(성공률) 계산\n",
    "sperm_success_rate = train.groupby('정자 출처')['임신 성공 여부'].mean()\n",
    "print(\"정자 출처 별 성공률\")\n",
    "print(sperm_success_rate)\n",
    "print()\n",
    "\n",
    "plt.figure(figsize=(5, 5))\n",
    "sns.barplot(x=sperm_success_rate.index, y=sperm_success_rate.values, width=0.4)\n",
    "plt.title(\"정자 출처 별 성공률\", fontsize=14)\n",
    "plt.xlabel(\"정자 출처\", fontsize=12)\n",
    "plt.ylabel(\"성공률\", fontsize=12)\n",
    "plt.xticks(rotation=45)"
   ]
  },
  {
   "cell_type": "markdown",
   "metadata": {},
   "source": [
    "## 4. \"난자 기증자 나이\" 분석"
   ]
  },
  {
   "cell_type": "code",
   "execution_count": 7,
   "metadata": {},
   "outputs": [
    {
     "name": "stdout",
     "output_type": "stream",
     "text": [
      "난자 기증자 나이 별 데이터 개수\n",
      "알 수 없음     242381\n",
      "만31-35세      6366\n",
      "만26-30세      4976\n",
      "만21-25세      2334\n",
      "만20세 이하       294\n",
      "Name: 난자 기증자 나이, dtype: int64\n",
      "\n"
     ]
    },
    {
     "data": {
      "text/plain": [
       "(array([0, 1, 2, 3, 4]), <a list of 5 Text major ticklabel objects>)"
      ]
     },
     "execution_count": 7,
     "metadata": {},
     "output_type": "execute_result"
    },
    {
     "data": {
      "image/png": "[encoded data removed]",
      "text/plain": [
       "<Figure size 360x360 with 1 Axes>"
      ]
     },
     "metadata": {
      "needs_background": "light"
     },
     "output_type": "display_data"
    }
   ],
   "source": [
    "# '난자 기증자 나이'별 데이터 개수 세기\n",
    "egg_age_total_counts = train['난자 기증자 나이'].value_counts()\n",
    "print(\"난자 기증자 나이 별 데이터 개수\")\n",
    "print(egg_age_total_counts)\n",
    "print()\n",
    "\n",
    "plt.figure(figsize=(5, 5))\n",
    "sns.barplot(x=egg_age_total_counts.index, y=egg_age_total_counts.values, width=0.4, palette=\"coolwarm\")\n",
    "plt.title(\"난자 기증자 나이 별 데이터 개수\", fontsize=14)\n",
    "plt.xlabel(\"난자 기증자 나이\", fontsize=12)\n",
    "plt.ylabel(\"개수\", fontsize=12)\n",
    "plt.xticks(rotation=45)"
   ]
  },
  {
   "cell_type": "code",
   "execution_count": 8,
   "metadata": {},
   "outputs": [
    {
     "name": "stdout",
     "output_type": "stream",
     "text": [
      "난자 기증자 나이 별 성공률\n",
      "난자 기증자 나이\n",
      "만20세 이하    0.261905\n",
      "만21-25세    0.329906\n",
      "만26-30세    0.348272\n",
      "만31-35세    0.305215\n",
      "알 수 없음     0.254579\n",
      "Name: 임신 성공 여부, dtype: float64\n",
      "\n"
     ]
    },
    {
     "data": {
      "text/plain": [
       "(array([0, 1, 2, 3, 4]), <a list of 5 Text major ticklabel objects>)"
      ]
     },
     "execution_count": 8,
     "metadata": {},
     "output_type": "execute_result"
    },
    {
     "data": {
      "image/png": "[encoded data removed]",
      "text/plain": [
       "<Figure size 360x360 with 1 Axes>"
      ]
     },
     "metadata": {
      "needs_background": "light"
     },
     "output_type": "display_data"
    }
   ],
   "source": [
    "# '난자 기증자 나이'로 '임신 성공 여부' 평균(성공률) 계산\n",
    "egg_age_success_rate = train.groupby('난자 기증자 나이')['임신 성공 여부'].mean()\n",
    "print(\"난자 기증자 나이 별 성공률\")\n",
    "print(egg_age_success_rate)\n",
    "print()\n",
    "\n",
    "plt.figure(figsize=(5, 5))\n",
    "sns.barplot(x=egg_age_success_rate.index, y=egg_age_success_rate.values, width=0.4, palette=\"coolwarm\")\n",
    "plt.title(\"난자 기증자 나이 별 성공률\", fontsize=14)\n",
    "plt.xlabel(\"난자 기증자 나이\", fontsize=12)\n",
    "plt.ylabel(\"성공률\", fontsize=12)\n",
    "plt.xticks(rotation=45)"
   ]
  },
  {
   "cell_type": "markdown",
   "metadata": {},
   "source": [
    "## 5. \"정자 기증자 나이\" 분석"
   ]
  },
  {
   "cell_type": "code",
   "execution_count": 9,
   "metadata": {},
   "outputs": [
    {
     "name": "stdout",
     "output_type": "stream",
     "text": [
      "정자 기증자 나이 별 데이터 개수\n",
      "알 수 없음     230518\n",
      "만21-25세      5667\n",
      "만36-40세      5282\n",
      "만26-30세      5058\n",
      "만31-35세      4911\n",
      "만41-45세      3848\n",
      "만20세 이하      1067\n",
      "Name: 정자 기증자 나이, dtype: int64\n",
      "\n"
     ]
    },
    {
     "data": {
      "text/plain": [
       "(array([0, 1, 2, 3, 4, 5, 6]), <a list of 7 Text major ticklabel objects>)"
      ]
     },
     "execution_count": 9,
     "metadata": {},
     "output_type": "execute_result"
    },
    {
     "data": {
      "image/png": "[encoded data removed]",
      "text/plain": [
       "<Figure size 360x360 with 1 Axes>"
      ]
     },
     "metadata": {
      "needs_background": "light"
     },
     "output_type": "display_data"
    }
   ],
   "source": [
    "# '정자 기증자 나이'별 데이터 개수 세기\n",
    "sperm_age_total_counts = train['정자 기증자 나이'].value_counts()\n",
    "print(\"정자 기증자 나이 별 데이터 개수\")\n",
    "print(sperm_age_total_counts)\n",
    "print()\n",
    "\n",
    "plt.figure(figsize=(5, 5))\n",
    "sns.barplot(x=sperm_age_total_counts.index, y=sperm_age_total_counts.values, width=0.4, palette=\"coolwarm\")\n",
    "plt.title(\"정자 기증자 나이 별 데이터 개수\", fontsize=14)\n",
    "plt.xlabel(\"정자 기증자 나이\", fontsize=12)\n",
    "plt.ylabel(\"개수\", fontsize=12)\n",
    "plt.xticks(rotation=45)"
   ]
  },
  {
   "cell_type": "code",
   "execution_count": 10,
   "metadata": {},
   "outputs": [
    {
     "name": "stdout",
     "output_type": "stream",
     "text": [
      "정자 기증자 나이 별 성공률\n",
      "정자 기증자 나이\n",
      "만20세 이하    0.209934\n",
      "만21-25세    0.241398\n",
      "만26-30세    0.248122\n",
      "만31-35세    0.248626\n",
      "만36-40세    0.245740\n",
      "만41-45세    0.242983\n",
      "알 수 없음     0.259967\n",
      "Name: 임신 성공 여부, dtype: float64\n",
      "\n"
     ]
    },
    {
     "data": {
      "text/plain": [
       "(array([0, 1, 2, 3, 4, 5, 6]), <a list of 7 Text major ticklabel objects>)"
      ]
     },
     "execution_count": 10,
     "metadata": {},
     "output_type": "execute_result"
    },
    {
     "data": {
      "image/png": "[encoded data removed]",
      "text/plain": [
       "<Figure size 360x360 with 1 Axes>"
      ]
     },
     "metadata": {
      "needs_background": "light"
     },
     "output_type": "display_data"
    }
   ],
   "source": [
    "# '정자 기증자 나이'로 '임신 성공 여부' 평균(성공률) 계산\n",
    "sperm_age_success_rate = train.groupby('정자 기증자 나이')['임신 성공 여부'].mean()\n",
    "print(\"정자 기증자 나이 별 성공률\")\n",
    "print(sperm_age_success_rate)\n",
    "print()\n",
    "\n",
    "plt.figure(figsize=(5, 5))\n",
    "sns.barplot(x=sperm_age_success_rate.index, y=sperm_age_success_rate.values, width=0.4, palette=\"coolwarm\")\n",
    "plt.title(\"정자 기증자 나이 별 성공률\", fontsize=14)\n",
    "plt.xlabel(\"정자 기증자 나이\", fontsize=12)\n",
    "plt.ylabel(\"성공률\", fontsize=12)\n",
    "plt.xticks(rotation=45)"
   ]
  },
  {
   "cell_type": "markdown",
   "metadata": {},
   "source": [
    "## 6. \"배아 종류\" 분석"
   ]
  },
  {
   "cell_type": "code",
   "execution_count": 11,
   "metadata": {},
   "outputs": [
    {
     "name": "stdout",
     "output_type": "stream",
     "text": [
      "동결 배아 사용 여부     40126.0\n",
      "신선 배아 사용 여부    210136.0\n",
      "기증 배아 사용 여부      2458.0\n",
      "dtype: float64\n",
      "\n"
     ]
    },
    {
     "data": {
      "image/png": "[encoded data removed]",
      "text/plain": [
       "<Figure size 360x360 with 1 Axes>"
      ]
     },
     "metadata": {
      "needs_background": "light"
     },
     "output_type": "display_data"
    }
   ],
   "source": [
    "# 세 가지 feature에 대한 True 값 개수 계산\n",
    "embryo_counts = train[['동결 배아 사용 여부', '신선 배아 사용 여부', '기증 배아 사용 여부']].sum()\n",
    "print(train[['동결 배아 사용 여부', '신선 배아 사용 여부', '기증 배아 사용 여부']].sum())\n",
    "print()\n",
    "\n",
    "plt.figure(figsize=(5, 5))\n",
    "ax = sns.barplot(x=embryo_counts.index, y=embryo_counts.values, palette=\"coolwarm\")\n",
    "\n",
    "# 막대 위에 값 표시\n",
    "for i, v in enumerate(embryo_counts.values):\n",
    "    ax.text(i, v + 0.5, str(v), ha='center', fontsize=12, color='black', fontweight='bold')\n",
    "\n",
    "plt.title(\"배아 사용 여부 (True 개수)\", fontsize=14, pad=20)\n",
    "plt.xlabel(\"배아 종류\", fontsize=12)\n",
    "plt.ylabel(\"True 개수\", fontsize=12)\n",
    "plt.xticks(rotation=45)\n",
    "plt.show()"
   ]
  },
  {
   "cell_type": "markdown",
   "metadata": {},
   "source": [
    "## 7. 동결/신선 배아 성공률 분석"
   ]
  },
  {
   "cell_type": "code",
   "execution_count": 12,
   "metadata": {},
   "outputs": [
    {
     "name": "stdout",
     "output_type": "stream",
     "text": [
      "신선 배아 사용 여부 별 성공률\n",
      "신선 배아 사용 여부\n",
      "0.0    0.229586\n",
      "1.0    0.267689\n",
      "Name: 임신 성공 여부, dtype: float64\n",
      "\n"
     ]
    }
   ],
   "source": [
    "fresh_egg_success_rate = train.groupby('신선 배아 사용 여부')['임신 성공 여부'].mean()\n",
    "print(\"신선 배아 사용 여부 별 성공률\")\n",
    "print(fresh_egg_success_rate)\n",
    "print()\n",
    "\n",
    "# 신선 배아의 경우 사용 시 성공률 증가"
   ]
  },
  {
   "cell_type": "code",
   "execution_count": 13,
   "metadata": {},
   "outputs": [
    {
     "name": "stdout",
     "output_type": "stream",
     "text": [
      "동결 배아 사용 여부 별 성공률\n",
      "동결 배아 사용 여부\n",
      "0.0    0.267760\n",
      "1.0    0.229402\n",
      "Name: 임신 성공 여부, dtype: float64\n",
      "\n"
     ]
    }
   ],
   "source": [
    "freeze_egg_success_rate = train.groupby('동결 배아 사용 여부')['임신 성공 여부'].mean()\n",
    "print(\"동결 배아 사용 여부 별 성공률\")\n",
    "print(freeze_egg_success_rate)\n",
    "print()\n",
    "\n",
    "# 동결 배아는 오히려 사용 시 성공률 감소"
   ]
  },
  {
   "cell_type": "markdown",
   "metadata": {},
   "source": [
    "## 8. \"기증 배아\" 분석"
   ]
  },
  {
   "cell_type": "code",
   "execution_count": 14,
   "metadata": {},
   "outputs": [
    {
     "name": "stdout",
     "output_type": "stream",
     "text": [
      "기증 배아 사용 여부 별 성공률\n",
      "기증 배아 사용 여부\n",
      "0.0    0.260951\n",
      "1.0    0.327502\n",
      "Name: 임신 성공 여부, dtype: float64\n",
      "\n"
     ]
    }
   ],
   "source": [
    "donate_egg_success_rate = train.groupby('기증 배아 사용 여부')['임신 성공 여부'].mean()\n",
    "print(\"기증 배아 사용 여부 별 성공률\")\n",
    "print(donate_egg_success_rate)\n",
    "print()\n",
    "\n",
    "# 기증 배아의 경우 사용 시 성공률 대폭 증가"
   ]
  },
  {
   "cell_type": "markdown",
   "metadata": {},
   "source": [
    "## 9. \"대리모 여부\" 분석"
   ]
  },
  {
   "cell_type": "code",
   "execution_count": 15,
   "metadata": {},
   "outputs": [
    {
     "name": "stdout",
     "output_type": "stream",
     "text": [
      "대리모 여부 별 데이터 개수\n",
      "0.0    249011\n",
      "1.0      1049\n",
      "Name: 대리모 여부, dtype: int64\n",
      "\n"
     ]
    },
    {
     "data": {
      "text/plain": [
       "(array([0, 1]), <a list of 2 Text major ticklabel objects>)"
      ]
     },
     "execution_count": 15,
     "metadata": {},
     "output_type": "execute_result"
    },
    {
     "data": {
      "image/png": "[encoded data removed]",
      "text/plain": [
       "<Figure size 360x360 with 1 Axes>"
      ]
     },
     "metadata": {
      "needs_background": "light"
     },
     "output_type": "display_data"
    }
   ],
   "source": [
    "dopa_total_counts = train['대리모 여부'].value_counts()\n",
    "print(\"대리모 여부 별 데이터 개수\")\n",
    "print(dopa_total_counts)\n",
    "print()\n",
    "\n",
    "plt.figure(figsize=(5, 5))\n",
    "sns.barplot(x=dopa_total_counts.index, y=dopa_total_counts.values, width=0.4, palette=\"coolwarm\")\n",
    "plt.title(\"대리모 여부 별 데이터 개수\", fontsize=14)\n",
    "plt.xlabel(\"대리모 여부\", fontsize=12)\n",
    "plt.ylabel(\"개수\", fontsize=12)\n",
    "plt.xticks(rotation=45)"
   ]
  },
  {
   "cell_type": "code",
   "execution_count": 16,
   "metadata": {},
   "outputs": [
    {
     "name": "stdout",
     "output_type": "stream",
     "text": [
      "대리모 여부 별 성공률\n",
      "대리모 여부\n",
      "0.0    0.261490\n",
      "1.0    0.288847\n",
      "Name: 임신 성공 여부, dtype: float64\n",
      "\n"
     ]
    },
    {
     "data": {
      "text/plain": [
       "Text(0, 0.5, '성공률')"
      ]
     },
     "execution_count": 16,
     "metadata": {},
     "output_type": "execute_result"
    },
    {
     "data": {
      "image/png": "[encoded data removed]",
      "text/plain": [
       "<Figure size 360x360 with 1 Axes>"
      ]
     },
     "metadata": {
      "needs_background": "light"
     },
     "output_type": "display_data"
    }
   ],
   "source": [
    "dopa_success_rate = train.groupby('대리모 여부')['임신 성공 여부'].mean()\n",
    "print(\"대리모 여부 별 성공률\")\n",
    "print(dopa_success_rate)\n",
    "print()\n",
    "\n",
    "plt.figure(figsize=(5, 5))\n",
    "sns.barplot(x=dopa_success_rate.index, y=dopa_success_rate.values, width=0.4, palette=\"coolwarm\")\n",
    "plt.title(\"대리모 여부 별 성공률\", fontsize=14)\n",
    "plt.xlabel(\"대리모 여부\", fontsize=12)\n",
    "plt.ylabel(\"성공률\", fontsize=12)"
   ]
  },
  {
   "cell_type": "markdown",
   "metadata": {},
   "source": [
    "## 10. \"PGD 시술 여부\" 분석"
   ]
  },
  {
   "cell_type": "code",
   "execution_count": 17,
   "metadata": {},
   "outputs": [
    {
     "name": "stdout",
     "output_type": "stream",
     "text": [
      "PGD 시술 여부 별 데이터 개수\n",
      "1.0    2179\n",
      "Name: PGD 시술 여부, dtype: int64\n",
      "\n",
      "PGD 시술 여부 별 성공률\n",
      "PGD 시술 여부\n",
      "1.0    0.279486\n",
      "Name: 임신 성공 여부, dtype: float64\n",
      "\n"
     ]
    }
   ],
   "source": [
    "pgd_total_counts = train['PGD 시술 여부'].value_counts()\n",
    "print(\"PGD 시술 여부 별 데이터 개수\")\n",
    "print(pgd_total_counts)\n",
    "print()\n",
    "\n",
    "pgd_success_rate = train.groupby('PGD 시술 여부')['임신 성공 여부'].mean()\n",
    "print(\"PGD 시술 여부 별 성공률\")\n",
    "print(pgd_success_rate)\n",
    "print()"
   ]
  },
  {
   "cell_type": "markdown",
   "metadata": {},
   "source": [
    "## 11. PGS 시술 여부 분석"
   ]
  },
  {
   "cell_type": "code",
   "execution_count": 18,
   "metadata": {},
   "outputs": [
    {
     "name": "stdout",
     "output_type": "stream",
     "text": [
      "PGS 시술 여부 별 데이터 개수\n",
      "1.0    1929\n",
      "Name: PGS 시술 여부, dtype: int64\n",
      "\n",
      "PGS 시술 여부 별 성공률\n",
      "PGS 시술 여부\n",
      "1.0    0.206325\n",
      "Name: 임신 성공 여부, dtype: float64\n",
      "\n"
     ]
    }
   ],
   "source": [
    "pgs_total_counts = train['PGS 시술 여부'].value_counts()\n",
    "print(\"PGS 시술 여부 별 데이터 개수\")\n",
    "print(pgs_total_counts)\n",
    "print()\n",
    "\n",
    "pgs_success_rate = train.groupby('PGS 시술 여부')['임신 성공 여부'].mean()\n",
    "print(\"PGS 시술 여부 별 성공률\")\n",
    "print(pgs_success_rate)\n",
    "print()"
   ]
  },
  {
   "cell_type": "markdown",
   "metadata": {},
   "source": [
    "## etc. 동결/신선 배아 겹침 check"
   ]
  },
  {
   "cell_type": "code",
   "execution_count": 19,
   "metadata": {},
   "outputs": [
    {
     "name": "stdout",
     "output_type": "stream",
     "text": [
      "Both feature1 and feature2 are True: 205\n"
     ]
    }
   ],
   "source": [
    "count = ((train['동결 배아 사용 여부'] == True) & (train['신선 배아 사용 여부'] == True)).sum()\n",
    "\n",
    "print(\"Both feature1 and feature2 are True:\", count)"
   ]
  },
  {
   "cell_type": "markdown",
   "metadata": {},
   "source": [
    "***"
   ]
  },
  {
   "cell_type": "markdown",
   "metadata": {},
   "source": [
    "# PPT가 더 보기에 편하실겁니다!"
   ]
  }
 ],
 "metadata": {
  "kernelspec": {
   "display_name": "Python 3",
   "language": "python",
   "name": "python3"
  },
  "language_info": {
   "codemirror_mode": {
    "name": "ipython",
    "version": 3
   },
   "file_extension": ".py",
   "mimetype": "text/x-python",
   "name": "python",
   "nbconvert_exporter": "python",
   "pygments_lexer": "ipython3",
   "version": "3.8.3"
  }
 },
 "nbformat": 4,
 "nbformat_minor": 4
}
