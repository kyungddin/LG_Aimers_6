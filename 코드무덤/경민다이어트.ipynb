{
 "cells": [
  {
   "cell_type": "markdown",
   "id": "54f2609a-5ee9-4f3a-bf03-c679a4e38380",
   "metadata": {
    "id": "54f2609a-5ee9-4f3a-bf03-c679a4e38380"
   },
   "source": [
    "# Import + CSV"
   ]
  },
  {
   "cell_type": "code",
   "execution_count": 2,
   "id": "d0e0e423-e6b7-4f50-92d6-536980fbd366",
   "metadata": {
    "id": "d0e0e423-e6b7-4f50-92d6-536980fbd366"
   },
   "outputs": [],
   "source": [
    "import pandas as pd\n",
    "import numpy as np\n",
    "import matplotlib.pyplot as plt\n",
    "import seaborn as sns\n",
    "import prince\n",
    "\n",
    "from sklearn.ensemble import ExtraTreesClassifier\n",
    "from sklearn.preprocessing import OrdinalEncoder, OneHotEncoder\n",
    "\n",
    "import lightgbm as lgb\n",
    "from sklearn.model_selection import train_test_split\n",
    "from sklearn.metrics import roc_auc_score\n",
    "\n",
    "train = pd.read_csv('./train.csv').drop(columns=['ID'])\n",
    "test = pd.read_csv('./test.csv').drop(columns=['ID'])"
   ]
  },
  {
   "cell_type": "markdown",
   "id": "66944d04-6344-41c4-8d9f-02a2e59cd491",
   "metadata": {
    "id": "66944d04-6344-41c4-8d9f-02a2e59cd491"
   },
   "source": [
    "# EDA"
   ]
  },
  {
   "cell_type": "markdown",
   "id": "6ba3ebe7-19eb-416f-af5f-2283812d4037",
   "metadata": {
    "id": "6ba3ebe7-19eb-416f-af5f-2283812d4037"
   },
   "source": [
    "### 단순 drop (수정: 그냥 결측치 많은 거 전부 제거 + 난자 채취 경과일 살리기)"
   ]
  },
  {
   "cell_type": "code",
   "execution_count": 5,
   "id": "5d0616f1-9905-40fe-86be-9bf7c395524d",
   "metadata": {
    "id": "5d0616f1-9905-40fe-86be-9bf7c395524d"
   },
   "outputs": [],
   "source": [
    "train.drop(columns=['임신 시도 또는 마지막 임신 경과 연수'], inplace=True)\n",
    "test.drop(columns=['임신 시도 또는 마지막 임신 경과 연수'], inplace=True)\n",
    "\n",
    "train.drop(columns=['착상 전 유전 검사 사용 여부'], inplace=True)\n",
    "test.drop(columns=['착상 전 유전 검사 사용 여부'], inplace=True)\n",
    "\n",
    "train.drop(columns=['난자 해동 경과일'], inplace=True)\n",
    "test.drop(columns=['난자 해동 경과일'], inplace=True)\n",
    "\n",
    "train.drop(columns=['배아 해동 경과일'], inplace=True)\n",
    "test.drop(columns=['배아 해동 경과일'], inplace=True)\n",
    "\n",
    "train.drop(columns=['PGS 시술 여부'], inplace=True)\n",
    "test.drop(columns=['PGS 시술 여부'], inplace=True)\n",
    "\n",
    "train.drop(columns=['PGD 시술 여부'], inplace=True)\n",
    "test.drop(columns=['PGD 시술 여부'], inplace=True)\n",
    "\n",
    "train.drop(columns=['동결 배아 사용 여부'], inplace=True)\n",
    "test.drop(columns=['동결 배아 사용 여부'], inplace=True)\n",
    "\n",
    "train.drop(columns=['난자 채취 경과일'], inplace=True)\n",
    "test.drop(columns=['난자 채취 경과일'], inplace=True)\n",
    "\n",
    "train.drop(columns=['난자 혼합 경과일'], inplace=True)\n",
    "test.drop(columns=['난자 혼합 경과일'], inplace=True)\n",
    "\n",
    "train.drop(columns=['배아 이식 경과일'], inplace=True)\n",
    "test.drop(columns=['배아 이식 경과일'], inplace=True)"
   ]
  },
  {
   "cell_type": "markdown",
   "id": "397c5b7d-e395-46ec-b350-7b38833206d4",
   "metadata": {
    "id": "397c5b7d-e395-46ec-b350-7b38833206d4"
   },
   "source": [
    "### DI 시술 여부일 때 결측치 -1 처리"
   ]
  },
  {
   "cell_type": "code",
   "execution_count": 7,
   "id": "82e53a1a-018c-43a6-b38e-5207f7e24873",
   "metadata": {
    "id": "82e53a1a-018c-43a6-b38e-5207f7e24873"
   },
   "outputs": [],
   "source": [
    "train.drop(columns=['미세주입된 난자 수'], inplace=True)\n",
    "test.drop(columns=['미세주입된 난자 수'], inplace=True)\n",
    "\n",
    "train.drop(columns=['미세주입 배아 이식 수'], inplace=True)\n",
    "test.drop(columns=['미세주입 배아 이식 수'], inplace=True)\n",
    "\n",
    "train.drop(columns=['미세주입 후 저장된 배아 수'], inplace=True)\n",
    "test.drop(columns=['미세주입 후 저장된 배아 수'], inplace=True)\n",
    "\n",
    "train.drop(columns=['미세주입에서 생성된 배아 수'], inplace=True)\n",
    "test.drop(columns=['미세주입에서 생성된 배아 수'], inplace=True)\n",
    "\n",
    "train.drop(columns=['혼합된 난자 수'], inplace=True)\n",
    "test.drop(columns=['혼합된 난자 수'], inplace=True)\n",
    "\n",
    "train.drop(columns=['파트너 정자와 혼합된 난자 수'], inplace=True)\n",
    "test.drop(columns=['파트너 정자와 혼합된 난자 수'], inplace=True)\n",
    "\n",
    "train.drop(columns=['기증자 정자와 혼합된 난자 수'], inplace=True)\n",
    "test.drop(columns=['기증자 정자와 혼합된 난자 수'], inplace=True)\n",
    "\n",
    "features = ['총 생성 배아 수', '이식된 배아 수', '저장된 배아 수',\n",
    "            '해동된 배아 수', '해동 난자 수', '수집된 신선 난자 수', '저장된 신선 난자 수']\n",
    "\n",
    "train[features] = train[features].fillna(-1)\n",
    "test[features] = test[features].fillna(-1)"
   ]
  },
  {
   "cell_type": "markdown",
   "id": "9b539b30-547c-4b95-b22a-c4fcd3be196c",
   "metadata": {
    "id": "9b539b30-547c-4b95-b22a-c4fcd3be196c"
   },
   "source": [
    "### DI 시술 여부일 때 결측치 -1 처리 후 원 핫 인코딩 (추가됨)"
   ]
  },
  {
   "cell_type": "code",
   "execution_count": 9,
   "id": "c326fb44-a655-4888-8144-5e9f9183bab1",
   "metadata": {
    "id": "c326fb44-a655-4888-8144-5e9f9183bab1"
   },
   "outputs": [],
   "source": [
    "# 결측치를 -1로 채우기\n",
    "cols_to_fill = ['신선 배아 사용 여부', '기증 배아 사용 여부', '단일 배아 이식 여부']\n",
    "\n",
    "train[cols_to_fill] = train[cols_to_fill].fillna(-1)\n",
    "\n",
    "train.drop(columns=['대리모 여부'], inplace=True)\n",
    "test.drop(columns=['대리모 여부'], inplace=True)\n",
    "\n",
    "train.drop(columns=['착상 전 유전 진단 사용 여부'], inplace=True)\n",
    "test.drop(columns=['착상 전 유전 진단 사용 여부'], inplace=True)\n",
    "\n",
    "# 원핫인코딩 적용\n",
    "train_encoded = pd.get_dummies(train, columns=cols_to_fill)\n",
    "\n",
    "# 기존 열을 삭제한 train 데이터프레임\n",
    "train = train_encoded\n",
    "\n",
    "# 결측치를 -1로 채우기\n",
    "cols_to_fill = ['신선 배아 사용 여부', '기증 배아 사용 여부', '단일 배아 이식 여부']\n",
    "\n",
    "test[cols_to_fill] = test[cols_to_fill].fillna(-1)\n",
    "\n",
    "# 원핫인코딩 적용\n",
    "test_encoded = pd.get_dummies(test, columns=cols_to_fill)\n",
    "\n",
    "# 기존 열을 삭제한 test 데이터프레임\n",
    "test = test_encoded\n"
   ]
  },
  {
   "cell_type": "markdown",
   "id": "54df48d2-68b2-4ae6-b086-bdc0ebb77639",
   "metadata": {
    "id": "54df48d2-68b2-4ae6-b086-bdc0ebb77639"
   },
   "source": [
    "### 주/부 count feature 추가"
   ]
  },
  {
   "cell_type": "code",
   "execution_count": 11,
   "id": "60f1e4f8-a251-4792-bece-743354b9335d",
   "metadata": {
    "id": "60f1e4f8-a251-4792-bece-743354b9335d"
   },
   "outputs": [],
   "source": [
    "train[\"주 불임 원인 개수\"] = (\n",
    "    train[\"남성 주 불임 원인\"] + train[\"여성 주 불임 원인\"] + train[\"부부 주 불임 원인\"]\n",
    ")\n",
    "test[\"주 불임 원인 개수\"] = (\n",
    "    test[\"남성 주 불임 원인\"] + test[\"여성 주 불임 원인\"] + test[\"부부 주 불임 원인\"]\n",
    ")\n",
    "\n",
    "train[\"부 불임 원인 개수\"] = (\n",
    "    train[\"남성 부 불임 원인\"] + train[\"여성 부 불임 원인\"] + train[\"부부 부 불임 원인\"]\n",
    ")\n",
    "test[\"부 불임 원인 개수\"] = (\n",
    "    test[\"남성 부 불임 원인\"] + test[\"여성 부 불임 원인\"] + test[\"부부 부 불임 원인\"]\n",
    ")\n",
    "\n",
    "train.drop(columns=['남성 주 불임 원인'], inplace=True)\n",
    "test.drop(columns=['남성 주 불임 원인'], inplace=True)\n",
    "\n",
    "train.drop(columns=['남성 부 불임 원인'], inplace=True)\n",
    "test.drop(columns=['남성 부 불임 원인'], inplace=True)\n",
    "\n",
    "train.drop(columns=['여성 주 불임 원인'], inplace=True)\n",
    "test.drop(columns=['여성 주 불임 원인'], inplace=True)\n",
    "\n",
    "train.drop(columns=['여성 부 불임 원인'], inplace=True)\n",
    "test.drop(columns=['여성 부 불임 원인'], inplace=True)\n",
    "\n",
    "train.drop(columns=['부부 주 불임 원인'], inplace=True)\n",
    "test.drop(columns=['부부 주 불임 원인'], inplace=True)\n",
    "\n",
    "train.drop(columns=['부부 부 불임 원인'], inplace=True)\n",
    "test.drop(columns=['부부 부 불임 원인'], inplace=True)"
   ]
  },
  {
   "cell_type": "markdown",
   "id": "04e55434-423e-4457-8c45-ac4094c97367",
   "metadata": {
    "id": "04e55434-423e-4457-8c45-ac4094c97367"
   },
   "source": [
    "### 여성 요인 합체 (이건 원본에도 반영해주자)"
   ]
  },
  {
   "cell_type": "code",
   "execution_count": 13,
   "id": "70a401f6-4d4f-4fe0-8eeb-43202b003478",
   "metadata": {
    "id": "70a401f6-4d4f-4fe0-8eeb-43202b003478"
   },
   "outputs": [],
   "source": [
    "train[\"불임 원인 - 여성 요인\"] = (\n",
    "    train[\"불임 원인 - 자궁내막증\"] + train[\"불임 원인 - 자궁경부 문제\"] + train[\"불임 원인 - 난관 질환\"] + train[\"불임 원인 - 배란 장애\"]\n",
    ")\n",
    "test[\"불임 원인 - 여성 요인\"] = (\n",
    "    test[\"불임 원인 - 자궁내막증\"] + test[\"불임 원인 - 자궁경부 문제\"] + test[\"불임 원인 - 난관 질환\"] + test[\"불임 원인 - 배란 장애\"]\n",
    ")\n",
    "\n",
    "train.drop(columns=['불임 원인 - 자궁내막증'], inplace=True)\n",
    "test.drop(columns=['불임 원인 - 자궁내막증'], inplace=True)\n",
    "\n",
    "train.drop(columns=['불임 원인 - 자궁경부 문제'], inplace=True)\n",
    "test.drop(columns=['불임 원인 - 자궁경부 문제'], inplace=True)\n",
    "\n",
    "train.drop(columns=['불임 원인 - 난관 질환'], inplace=True)\n",
    "test.drop(columns=['불임 원인 - 난관 질환'], inplace=True)\n",
    "\n",
    "train.drop(columns=['불임 원인 - 배란 장애'], inplace=True)\n",
    "test.drop(columns=['불임 원인 - 배란 장애'], inplace=True)"
   ]
  },
  {
   "cell_type": "markdown",
   "id": "f88fc4c1-1851-469e-b456-979ed272d8c6",
   "metadata": {
    "id": "f88fc4c1-1851-469e-b456-979ed272d8c6"
   },
   "source": [
    "### 남성 요인 개수 feature 추가"
   ]
  },
  {
   "cell_type": "code",
   "execution_count": 15,
   "id": "7d7e6442-daae-4f09-9e8f-d3ad2415cfa0",
   "metadata": {
    "id": "7d7e6442-daae-4f09-9e8f-d3ad2415cfa0"
   },
   "outputs": [],
   "source": [
    "train[\"불임 원인 - 남성 요인 개수\"] = (\n",
    "    train[\"불임 원인 - 정자 형태\"] +\n",
    "    train[\"불임 원인 - 정자 운동성\"] +\n",
    "    train[\"불임 원인 - 정자 면역학적 요인\"] +\n",
    "    train[\"불임 원인 - 정자 농도\"]\n",
    ")\n",
    "\n",
    "test[\"불임 원인 - 남성 요인 개수\"] = (\n",
    "    test[\"불임 원인 - 정자 형태\"] +\n",
    "    test[\"불임 원인 - 정자 운동성\"] +\n",
    "    test[\"불임 원인 - 정자 면역학적 요인\"] +\n",
    "    test[\"불임 원인 - 정자 농도\"]\n",
    ")\n",
    "\n",
    "train.drop(columns=[\"불임 원인 - 정자 형태\"], inplace=True)\n",
    "test.drop(columns=[\"불임 원인 - 정자 형태\"], inplace=True)\n",
    "\n",
    "train.drop(columns=['불임 원인 - 정자 운동성'], inplace=True)\n",
    "test.drop(columns=['불임 원인 - 정자 운동성'], inplace=True)\n",
    "\n",
    "train.drop(columns=['불임 원인 - 정자 면역학적 요인'], inplace=True)\n",
    "test.drop(columns=['불임 원인 - 정자 면역학적 요인'], inplace=True)\n",
    "\n",
    "train.drop(columns=['불임 원인 - 정자 농도'], inplace=True)\n",
    "test.drop(columns=['불임 원인 - 정자 농도'], inplace=True)"
   ]
  },
  {
   "cell_type": "markdown",
   "id": "b1e1fadc-716e-4db5-8417-384dc473af4f",
   "metadata": {
    "id": "b1e1fadc-716e-4db5-8417-384dc473af4f"
   },
   "source": [
    "### 배아 생성 주요 이유 (원핫)"
   ]
  },
  {
   "cell_type": "code",
   "execution_count": 17,
   "id": "76a95020-6ed4-45e4-b4ba-aa36737e59e6",
   "metadata": {
    "id": "76a95020-6ed4-45e4-b4ba-aa36737e59e6",
    "outputId": "7630c0e6-15e3-4f6b-8043-6c3fa51a4e6d"
   },
   "outputs": [],
   "source": [
    "train.drop(columns=['배아 생성 주요 이유'], inplace=True)\n",
    "test.drop(columns=['배아 생성 주요 이유'], inplace=True)"
   ]
  },
  {
   "cell_type": "markdown",
   "id": "a276543c-ae79-498f-9cdf-65073d92fb29",
   "metadata": {
    "id": "a276543c-ae79-498f-9cdf-65073d92fb29"
   },
   "source": [
    "### 시술 횟수 관련"
   ]
  },
  {
   "cell_type": "code",
   "execution_count": 19,
   "id": "23c9d99d-c8fa-456e-ab9d-1111a7630018",
   "metadata": {
    "id": "23c9d99d-c8fa-456e-ab9d-1111a7630018"
   },
   "outputs": [],
   "source": [
    "valid_values = ['0회', '1회', '2회', '3회', '4회', '5회', '6회 이상']\n",
    "\n",
    "## train ##\n",
    "train = train[\n",
    "    (train['총 시술 횟수'].isin(valid_values)) &\n",
    "    (train['클리닉 내 총 시술 횟수'].isin(valid_values)) &\n",
    "    (train['IVF 시술 횟수'].isin(valid_values)) &\n",
    "    (train['DI 시술 횟수'].isin(valid_values)) &\n",
    "    (train['총 출산 횟수'].isin(valid_values)) &\n",
    "    (train['IVF 출산 횟수'].isin(valid_values)) &\n",
    "    (train['DI 출산 횟수'].isin(valid_values)) &\n",
    "    (train['총 임신 횟수'].isin(valid_values)) &\n",
    "    (train['IVF 임신 횟수'].isin(valid_values)) &\n",
    "    (train['DI 임신 횟수'].isin(valid_values))\n",
    "]\n",
    "\n",
    "for col in ['총 시술 횟수', '클리닉 내 총 시술 횟수', 'IVF 시술 횟수', 'DI 시술 횟수', '총 임신 횟수', 'IVF 임신 횟수', 'DI 임신 횟수', '총 출산 횟수', 'IVF 출산 횟수', 'DI 출산 횟수']:\n",
    "    train[col] = train[col].replace('6회 이상', '6')\n",
    "    train[col] = train[col].str.replace('회', '', regex=True).astype(int)\n",
    "\n",
    "train['총 시술 횟수'] = train['IVF 시술 횟수'] + train['DI 시술 횟수']\n",
    "\n",
    "## test ##\n",
    "test = test[\n",
    "    (test['총 시술 횟수'].isin(valid_values)) &\n",
    "    (test['클리닉 내 총 시술 횟수'].isin(valid_values)) &\n",
    "    (test['IVF 시술 횟수'].isin(valid_values)) &\n",
    "    (test['DI 시술 횟수'].isin(valid_values)) &\n",
    "    (test['총 출산 횟수'].isin(valid_values)) &\n",
    "    (test['IVF 출산 횟수'].isin(valid_values)) &\n",
    "    (test['DI 출산 횟수'].isin(valid_values)) &\n",
    "    (test['총 임신 횟수'].isin(valid_values)) &\n",
    "    (test['IVF 임신 횟수'].isin(valid_values)) &\n",
    "    (test['DI 임신 횟수'].isin(valid_values))\n",
    "]\n",
    "\n",
    "for col in ['총 시술 횟수', '클리닉 내 총 시술 횟수', 'IVF 시술 횟수', 'DI 시술 횟수', '총 임신 횟수', 'IVF 임신 횟수', 'DI 임신 횟수', '총 출산 횟수', 'IVF 출산 횟수', 'DI 출산 횟수']:\n",
    "    test[col] = test[col].replace('6회 이상', '6')\n",
    "    test[col] = test[col].str.replace('회', '', regex=True).astype(int)\n",
    "\n",
    "test['총 시술 횟수'] = test['IVF 시술 횟수'] + test['DI 시술 횟수']\n",
    "\n",
    "train.drop(columns=['클리닉 내 총 시술 횟수'], inplace=True)\n",
    "test.drop(columns=['클리닉 내 총 시술 횟수'], inplace=True)\n",
    "\n",
    "train.drop(columns=['IVF 시술 횟수'], inplace=True)\n",
    "test.drop(columns=['IVF 시술 횟수'], inplace=True)\n",
    "\n",
    "train.drop(columns=['DI 시술 횟수'], inplace=True)\n",
    "test.drop(columns=['DI 시술 횟수'], inplace=True)\n",
    "\n",
    "train.drop(columns=['DI 임신 횟수'], inplace=True)\n",
    "test.drop(columns=['DI 임신 횟수'], inplace=True)\n",
    "\n",
    "train.drop(columns=['IVF 임신 횟수'], inplace=True)\n",
    "test.drop(columns=['IVF 임신 횟수'], inplace=True)\n",
    "\n",
    "train.drop(columns=['DI 출산 횟수'], inplace=True)\n",
    "test.drop(columns=['DI 출산 횟수'], inplace=True)\n",
    "\n",
    "train.drop(columns=['IVF 출산 횟수'], inplace=True)\n",
    "test.drop(columns=['IVF 출산 횟수'], inplace=True)"
   ]
  },
  {
   "cell_type": "markdown",
   "id": "19517ef8-4bf1-40b8-813e-2d65de3313be",
   "metadata": {
    "id": "19517ef8-4bf1-40b8-813e-2d65de3313be"
   },
   "source": [
    "### 특정 시술 유형 그룹화 + 원핫"
   ]
  },
  {
   "cell_type": "code",
   "execution_count": 21,
   "id": "664150f2-520a-4456-bae8-8a744b710399",
   "metadata": {
    "id": "664150f2-520a-4456-bae8-8a744b710399"
   },
   "outputs": [],
   "source": [
    "train.drop(columns=['특정 시술 유형'], inplace=True)\n",
    "test.drop(columns=['특정 시술 유형'], inplace=True)"
   ]
  },
  {
   "cell_type": "markdown",
   "id": "a090f3e8-a8a0-49ab-92f4-0dd7269b8ea5",
   "metadata": {
    "id": "a090f3e8-a8a0-49ab-92f4-0dd7269b8ea5"
   },
   "source": [
    "### 배란 유도 유형 정상화"
   ]
  },
  {
   "cell_type": "code",
   "execution_count": 23,
   "id": "19775264-2011-46bd-aa85-a1138a2823a3",
   "metadata": {
    "id": "19775264-2011-46bd-aa85-a1138a2823a3",
    "outputId": "bb977fc2-abf4-405e-e0e2-d8a129a92467"
   },
   "outputs": [],
   "source": [
    "train.drop(columns=['배란 유도 유형'], inplace=True)\n",
    "test.drop(columns=['배란 유도 유형'], inplace=True)"
   ]
  },
  {
   "cell_type": "markdown",
   "id": "24bd5f10-0b16-493a-9c48-68a67ea77caa",
   "metadata": {
    "id": "24bd5f10-0b16-493a-9c48-68a67ea77caa"
   },
   "source": [
    "### 난자출처/정자출처 원핫인코딩"
   ]
  },
  {
   "cell_type": "code",
   "execution_count": 25,
   "id": "45d936c2-bedd-4449-933e-dd0c6f1fcfe8",
   "metadata": {
    "id": "45d936c2-bedd-4449-933e-dd0c6f1fcfe8"
   },
   "outputs": [],
   "source": [
    "train.drop(columns=['난자 출처'], inplace=True)\n",
    "test.drop(columns=['난자 출처'], inplace=True)\n",
    "\n",
    "train.drop(columns=['정자 출처'], inplace=True)\n",
    "test.drop(columns=['정자 출처'], inplace=True)"
   ]
  },
  {
   "cell_type": "markdown",
   "id": "f4c77de7-9835-4cad-94d2-2d622e9dcbe2",
   "metadata": {
    "id": "f4c77de7-9835-4cad-94d2-2d622e9dcbe2"
   },
   "source": [
    "### 난자/정자 기증자 나이 라벨 인코딩 (수정: 오타 해결 + 결측치 -1 처리)"
   ]
  },
  {
   "cell_type": "code",
   "execution_count": 27,
   "id": "5a529b42-935f-40c6-800b-9e563989d810",
   "metadata": {
    "id": "5a529b42-935f-40c6-800b-9e563989d810",
    "outputId": "b0fadcfb-6de1-4e7b-87a0-4ac0b37266c3"
   },
   "outputs": [
    {
     "name": "stderr",
     "output_type": "stream",
     "text": [
      "C:\\Users\\USER\\AppData\\Local\\Temp\\ipykernel_8636\\293370775.py:4: FutureWarning: A value is trying to be set on a copy of a DataFrame or Series through chained assignment using an inplace method.\n",
      "The behavior will change in pandas 3.0. This inplace method will never work because the intermediate object on which we are setting values always behaves as a copy.\n",
      "\n",
      "For example, when doing 'df[col].method(value, inplace=True)', try using 'df.method({col: value}, inplace=True)' or df[col] = df[col].method(value) instead, to perform the operation inplace on the original object.\n",
      "\n",
      "\n",
      "  train[\"난자 기증자 나이\"].fillna(\"-1\", inplace=True)\n",
      "C:\\Users\\USER\\AppData\\Local\\Temp\\ipykernel_8636\\293370775.py:5: FutureWarning: A value is trying to be set on a copy of a DataFrame or Series through chained assignment using an inplace method.\n",
      "The behavior will change in pandas 3.0. This inplace method will never work because the intermediate object on which we are setting values always behaves as a copy.\n",
      "\n",
      "For example, when doing 'df[col].method(value, inplace=True)', try using 'df.method({col: value}, inplace=True)' or df[col] = df[col].method(value) instead, to perform the operation inplace on the original object.\n",
      "\n",
      "\n",
      "  test[\"난자 기증자 나이\"].fillna(\"-1\", inplace=True)\n"
     ]
    }
   ],
   "source": [
    "from sklearn.preprocessing import LabelEncoder\n",
    "\n",
    "# 결측치를 -1로 처리 (난자 기증자 나이, 정자 기증자 나이)\n",
    "train[\"난자 기증자 나이\"].fillna(\"-1\", inplace=True)\n",
    "test[\"난자 기증자 나이\"].fillna(\"-1\", inplace=True)\n",
    "\n",
    "# 라벨 인코딩 매핑 딕셔너리\n",
    "age_mapping_nanja = {\n",
    "    \"만20세 이하\": 0,\n",
    "    \"만21-25세\": 1,\n",
    "    \"만26-30세\": 2,\n",
    "    \"만31-35세\": 3,\n",
    "    \"알 수 없음\": -1\n",
    "}\n",
    "\n",
    "# 라벨 인코딩 적용(난자)\n",
    "train[\"난자 기증자 나이 (라벨 인코딩)\"] = train[\"난자 기증자 나이\"].map(age_mapping_nanja)\n",
    "test[\"난자 기증자 나이 (라벨 인코딩)\"] = test[\"난자 기증자 나이\"].map(age_mapping_nanja)\n",
    "\n",
    "# 원본 \"난자 기증자 나이\" 컬럼 제거(난자)\n",
    "train.drop(columns=[\"난자 기증자 나이\"], inplace=True)\n",
    "test.drop(columns=[\"난자 기증자 나이\"], inplace=True)\n",
    "\n",
    "# 원본 \"정자 기증자 나이\" 컬럼 제거(정자)\n",
    "train.drop(columns=[\"정자 기증자 나이\"], inplace=True)\n",
    "test.drop(columns=[\"정자 기증자 나이\"], inplace=True)"
   ]
  },
  {
   "cell_type": "markdown",
   "id": "47af2c47-71be-46ee-8611-ea2b6daa9e74",
   "metadata": {
    "id": "47af2c47-71be-46ee-8611-ea2b6daa9e74"
   },
   "source": [
    "### 시술 당시 나이 라벨 인코딩"
   ]
  },
  {
   "cell_type": "code",
   "execution_count": 29,
   "id": "fb646b2b-b10a-48f6-8a88-5bf5be2ea7ee",
   "metadata": {
    "id": "fb646b2b-b10a-48f6-8a88-5bf5be2ea7ee"
   },
   "outputs": [],
   "source": [
    "# 라벨 인코딩 매핑 딕셔너리 (나이가 작은 순으로 매핑)\n",
    "age_mapping_treatment = {\n",
    "    \"만18-34세\": 0,\n",
    "    \"만35-37세\": 1,\n",
    "    \"만38-39세\": 2,\n",
    "    \"만40-42세\": 3,\n",
    "    \"만43-44세\": 4,\n",
    "    \"만45-50세\": 5,\n",
    "    \"알 수 없음\": -1\n",
    "}\n",
    "\n",
    "# 라벨 인코딩 적용\n",
    "train[\"시술 당시 나이 (라벨 인코딩)\"] = train[\"시술 당시 나이\"].map(age_mapping_treatment)\n",
    "test[\"시술 당시 나이 (라벨 인코딩)\"] = test[\"시술 당시 나이\"].map(age_mapping_treatment)\n",
    "\n",
    "# 원본 \"시술 당시 나이\" 컬럼 제거\n",
    "train.drop(columns=[\"시술 당시 나이\"], inplace=True)\n",
    "test.drop(columns=[\"시술 당시 나이\"], inplace=True)"
   ]
  },
  {
   "cell_type": "markdown",
   "id": "4a66956d-8976-48ab-9278-d4cdaa955b70",
   "metadata": {
    "id": "4a66956d-8976-48ab-9278-d4cdaa955b70"
   },
   "source": [
    "### 시술 시기 코드 원 핫 인코딩"
   ]
  },
  {
   "cell_type": "code",
   "execution_count": 31,
   "id": "ece9a71e-bea0-4a78-b6c8-16e38bdc469f",
   "metadata": {
    "id": "ece9a71e-bea0-4a78-b6c8-16e38bdc469f"
   },
   "outputs": [],
   "source": [
    "train.drop(columns=['시술 시기 코드'], inplace=True)\n",
    "test.drop(columns=['시술 시기 코드'], inplace=True)"
   ]
  },
  {
   "cell_type": "code",
   "execution_count": 32,
   "id": "c5279f74-8fd4-4120-b6f8-cf2050230e49",
   "metadata": {},
   "outputs": [],
   "source": [
    "train.drop(columns=['배란 자극 여부'], inplace=True)\n",
    "test.drop(columns=['배란 자극 여부'], inplace=True)"
   ]
  },
  {
   "cell_type": "markdown",
   "id": "fbaa9ae8-29ef-405d-bdf0-56b4eedd350d",
   "metadata": {
    "id": "fbaa9ae8-29ef-405d-bdf0-56b4eedd350d"
   },
   "source": [
    "***"
   ]
  },
  {
   "cell_type": "markdown",
   "id": "c71e0801-f187-4fb0-aa52-6545da36d316",
   "metadata": {
    "id": "c71e0801-f187-4fb0-aa52-6545da36d316"
   },
   "source": [
    "# Label/One-Hot/Numeric Column List"
   ]
  },
  {
   "cell_type": "code",
   "execution_count": 35,
   "id": "bb94ffa9-38b4-4f9a-a622-29b996aa5718",
   "metadata": {
    "id": "bb94ffa9-38b4-4f9a-a622-29b996aa5718"
   },
   "outputs": [],
   "source": [
    "label_columns = ['불명확 불임 원인', '시술 유형']\n",
    "\n",
    "numeric_columns = ['임신 시도 또는 마지막 임신 경과 연수', '난자 혼합 경과일', '배아 이식 경과일'\n",
    "                  , '총 시술 횟수', '클리닉 내 총 시술 횟수', 'IVF 시술 횟수', 'DI 시술 횟수', '총 임신 횟수'\n",
    "                   , 'IVF 임신 횟수', 'DI 임신 횟수', '총 출산 횟수', 'IVF 출산 횟수', 'DI 출산 횟수' ]"
   ]
  },
  {
   "cell_type": "markdown",
   "id": "26cbe7cc-d46d-4e6f-b2c5-784ba6be1e16",
   "metadata": {
    "id": "26cbe7cc-d46d-4e6f-b2c5-784ba6be1e16"
   },
   "source": [
    "# 결측치 처리 (추가됨: 결측치가 있는 남은 세 개의 정수형 feature를 중앙값으로 채우기)"
   ]
  },
  {
   "cell_type": "markdown",
   "id": "cac7a0e2-8747-4291-8e49-c3d6f05f13df",
   "metadata": {
    "id": "cac7a0e2-8747-4291-8e49-c3d6f05f13df"
   },
   "source": [
    "# 인코딩"
   ]
  },
  {
   "cell_type": "code",
   "execution_count": 38,
   "id": "2eb58c42-0326-487b-85c4-e4c186026c56",
   "metadata": {
    "id": "2eb58c42-0326-487b-85c4-e4c186026c56"
   },
   "outputs": [],
   "source": [
    "# 카테고리형 컬럼들을 문자열로 변환\n",
    "for col in label_columns:\n",
    "    train[col] = train[col].astype(str)\n",
    "    test[col] = test[col].astype(str)\n",
    "\n",
    "ordinal_encoder = OrdinalEncoder(handle_unknown='use_encoded_value', unknown_value=-1)\n",
    "train[label_columns] = ordinal_encoder.fit_transform(train[label_columns])\n",
    "test[label_columns] = ordinal_encoder.transform(test[label_columns])"
   ]
  },
  {
   "cell_type": "markdown",
   "id": "9b34bf56-38ca-472b-8b9f-538d6fd7abbe",
   "metadata": {
    "id": "9b34bf56-38ca-472b-8b9f-538d6fd7abbe"
   },
   "source": [
    "# X와 y로 분리"
   ]
  },
  {
   "cell_type": "code",
   "execution_count": 40,
   "id": "5db9741f-ed07-49d9-8c1e-29546e8c0604",
   "metadata": {
    "id": "5db9741f-ed07-49d9-8c1e-29546e8c0604"
   },
   "outputs": [],
   "source": [
    "X = train.drop('임신 성공 여부', axis=1)\n",
    "y = train['임신 성공 여부']"
   ]
  },
  {
   "cell_type": "markdown",
   "id": "42afd9c2-eff1-4093-8aa1-9beca64d417b",
   "metadata": {
    "id": "42afd9c2-eff1-4093-8aa1-9beca64d417b"
   },
   "source": [
    "***"
   ]
  },
  {
   "cell_type": "markdown",
   "id": "afef9a8e-e044-4b0f-9470-332f67213714",
   "metadata": {
    "id": "afef9a8e-e044-4b0f-9470-332f67213714"
   },
   "source": [
    "# 하이퍼파라미터 (stacking으로 바꿈, 학습모델과 파라미터는 계속 찾아야 할 듯)"
   ]
  },
  {
   "cell_type": "code",
   "execution_count": 66,
   "id": "94ac9f6e-0a96-4cf1-82d8-409685f9b152",
   "metadata": {
    "id": "94ac9f6e-0a96-4cf1-82d8-409685f9b152",
    "outputId": "c2366c0a-ba71-4090-eb77-3247adc62b6a"
   },
   "outputs": [
    {
     "name": "stderr",
     "output_type": "stream",
     "text": [
      "[I 2025-02-25 23:15:37,549] A new study created in memory with name: no-name-e247d0ae-6ef8-4eb2-968d-cf05abc99f2a\n",
      "C:\\Users\\USER\\AppData\\Local\\Temp\\ipykernel_8636\\4147431200.py:19: FutureWarning: suggest_loguniform has been deprecated in v3.0.0. This feature will be removed in v6.0.0. See https://github.com/optuna/optuna/releases/tag/v3.0.0. Use suggest_float(..., log=True) instead.\n",
      "  'learning_rate': trial.suggest_loguniform('learning_rate', 0.01, 0.1),  # 더 작은 학습률\n",
      "C:\\Users\\USER\\AppData\\Local\\Temp\\ipykernel_8636\\4147431200.py:26: FutureWarning: suggest_loguniform has been deprecated in v3.0.0. This feature will be removed in v6.0.0. See https://github.com/optuna/optuna/releases/tag/v3.0.0. Use suggest_float(..., log=True) instead.\n",
      "  'reg_alpha': trial.suggest_loguniform('reg_alpha', 1e-5, 10),  # L1 정규화\n",
      "C:\\Users\\USER\\AppData\\Local\\Temp\\ipykernel_8636\\4147431200.py:27: FutureWarning: suggest_loguniform has been deprecated in v3.0.0. This feature will be removed in v6.0.0. See https://github.com/optuna/optuna/releases/tag/v3.0.0. Use suggest_float(..., log=True) instead.\n",
      "  'reg_lambda': trial.suggest_loguniform('reg_lambda', 1e-5, 10),  # L2 정규화\n"
     ]
    },
    {
     "name": "stdout",
     "output_type": "stream",
     "text": [
      "[LightGBM] [Warning] Found whitespace in feature_names, replace with underlines\n",
      "[LightGBM] [Info] Number of positive: 151978, number of negative: 151978\n",
      "[LightGBM] [Info] Auto-choosing row-wise multi-threading, the overhead of testing was 0.023921 seconds.\n",
      "You can set `force_row_wise=true` to remove the overhead.\n",
      "And if memory is not enough, you can set `force_col_wise=true`.\n",
      "[LightGBM] [Info] Total Bins 1060\n",
      "[LightGBM] [Info] Number of data points in the train set: 303956, number of used features: 28\n",
      "[LightGBM] [Info] [binary:BoostFromScore]: pavg=0.500000 -> initscore=0.000000\n"
     ]
    },
    {
     "name": "stderr",
     "output_type": "stream",
     "text": [
      "[I 2025-02-25 23:15:58,182] Trial 0 finished with value: 0.6995532676253772 and parameters: {'learning_rate': 0.07346969833390633, 'num_leaves': 97, 'n_estimators': 851, 'subsample': 0.8486247279192718, 'colsample_bytree': 0.971909987838852, 'max_bin': 137, 'min_child_samples': 89, 'reg_alpha': 1.978060688563251, 'reg_lambda': 0.0006667494130268602}. Best is trial 0 with value: 0.6995532676253772.\n",
      "C:\\Users\\USER\\AppData\\Local\\Temp\\ipykernel_8636\\4147431200.py:19: FutureWarning: suggest_loguniform has been deprecated in v3.0.0. This feature will be removed in v6.0.0. See https://github.com/optuna/optuna/releases/tag/v3.0.0. Use suggest_float(..., log=True) instead.\n",
      "  'learning_rate': trial.suggest_loguniform('learning_rate', 0.01, 0.1),  # 더 작은 학습률\n",
      "C:\\Users\\USER\\AppData\\Local\\Temp\\ipykernel_8636\\4147431200.py:26: FutureWarning: suggest_loguniform has been deprecated in v3.0.0. This feature will be removed in v6.0.0. See https://github.com/optuna/optuna/releases/tag/v3.0.0. Use suggest_float(..., log=True) instead.\n",
      "  'reg_alpha': trial.suggest_loguniform('reg_alpha', 1e-5, 10),  # L1 정규화\n",
      "C:\\Users\\USER\\AppData\\Local\\Temp\\ipykernel_8636\\4147431200.py:27: FutureWarning: suggest_loguniform has been deprecated in v3.0.0. This feature will be removed in v6.0.0. See https://github.com/optuna/optuna/releases/tag/v3.0.0. Use suggest_float(..., log=True) instead.\n",
      "  'reg_lambda': trial.suggest_loguniform('reg_lambda', 1e-5, 10),  # L2 정규화\n"
     ]
    },
    {
     "name": "stdout",
     "output_type": "stream",
     "text": [
      "[LightGBM] [Warning] Found whitespace in feature_names, replace with underlines\n",
      "[LightGBM] [Info] Number of positive: 151978, number of negative: 151978\n",
      "[LightGBM] [Info] Auto-choosing row-wise multi-threading, the overhead of testing was 0.022429 seconds.\n",
      "You can set `force_row_wise=true` to remove the overhead.\n",
      "And if memory is not enough, you can set `force_col_wise=true`.\n",
      "[LightGBM] [Info] Total Bins 1303\n",
      "[LightGBM] [Info] Number of data points in the train set: 303956, number of used features: 28\n",
      "[LightGBM] [Info] [binary:BoostFromScore]: pavg=0.500000 -> initscore=0.000000\n"
     ]
    },
    {
     "name": "stderr",
     "output_type": "stream",
     "text": [
      "[I 2025-02-25 23:16:12,682] Trial 1 finished with value: 0.7077144864139533 and parameters: {'learning_rate': 0.037454511414079995, 'num_leaves': 54, 'n_estimators': 887, 'subsample': 0.7669405972981821, 'colsample_bytree': 0.9765130832220639, 'max_bin': 173, 'min_child_samples': 17, 'reg_alpha': 0.5413377779661189, 'reg_lambda': 0.0005718365997809682}. Best is trial 1 with value: 0.7077144864139533.\n",
      "C:\\Users\\USER\\AppData\\Local\\Temp\\ipykernel_8636\\4147431200.py:19: FutureWarning: suggest_loguniform has been deprecated in v3.0.0. This feature will be removed in v6.0.0. See https://github.com/optuna/optuna/releases/tag/v3.0.0. Use suggest_float(..., log=True) instead.\n",
      "  'learning_rate': trial.suggest_loguniform('learning_rate', 0.01, 0.1),  # 더 작은 학습률\n",
      "C:\\Users\\USER\\AppData\\Local\\Temp\\ipykernel_8636\\4147431200.py:26: FutureWarning: suggest_loguniform has been deprecated in v3.0.0. This feature will be removed in v6.0.0. See https://github.com/optuna/optuna/releases/tag/v3.0.0. Use suggest_float(..., log=True) instead.\n",
      "  'reg_alpha': trial.suggest_loguniform('reg_alpha', 1e-5, 10),  # L1 정규화\n",
      "C:\\Users\\USER\\AppData\\Local\\Temp\\ipykernel_8636\\4147431200.py:27: FutureWarning: suggest_loguniform has been deprecated in v3.0.0. This feature will be removed in v6.0.0. See https://github.com/optuna/optuna/releases/tag/v3.0.0. Use suggest_float(..., log=True) instead.\n",
      "  'reg_lambda': trial.suggest_loguniform('reg_lambda', 1e-5, 10),  # L2 정규화\n"
     ]
    },
    {
     "name": "stdout",
     "output_type": "stream",
     "text": [
      "[LightGBM] [Warning] Found whitespace in feature_names, replace with underlines\n",
      "[LightGBM] [Info] Number of positive: 151978, number of negative: 151978\n",
      "[LightGBM] [Info] Auto-choosing row-wise multi-threading, the overhead of testing was 0.020164 seconds.\n",
      "You can set `force_row_wise=true` to remove the overhead.\n",
      "And if memory is not enough, you can set `force_col_wise=true`.\n",
      "[LightGBM] [Info] Total Bins 1432\n",
      "[LightGBM] [Info] Number of data points in the train set: 303956, number of used features: 28\n",
      "[LightGBM] [Info] [binary:BoostFromScore]: pavg=0.500000 -> initscore=0.000000\n"
     ]
    },
    {
     "name": "stderr",
     "output_type": "stream",
     "text": [
      "[I 2025-02-25 23:16:18,634] Trial 2 finished with value: 0.7171111930911038 and parameters: {'learning_rate': 0.020751833255414742, 'num_leaves': 98, 'n_estimators': 204, 'subsample': 0.9211547239950457, 'colsample_bytree': 0.9417406845661712, 'max_bin': 192, 'min_child_samples': 27, 'reg_alpha': 0.8074833280567337, 'reg_lambda': 7.506252125793938e-05}. Best is trial 2 with value: 0.7171111930911038.\n",
      "C:\\Users\\USER\\AppData\\Local\\Temp\\ipykernel_8636\\4147431200.py:19: FutureWarning: suggest_loguniform has been deprecated in v3.0.0. This feature will be removed in v6.0.0. See https://github.com/optuna/optuna/releases/tag/v3.0.0. Use suggest_float(..., log=True) instead.\n",
      "  'learning_rate': trial.suggest_loguniform('learning_rate', 0.01, 0.1),  # 더 작은 학습률\n",
      "C:\\Users\\USER\\AppData\\Local\\Temp\\ipykernel_8636\\4147431200.py:26: FutureWarning: suggest_loguniform has been deprecated in v3.0.0. This feature will be removed in v6.0.0. See https://github.com/optuna/optuna/releases/tag/v3.0.0. Use suggest_float(..., log=True) instead.\n",
      "  'reg_alpha': trial.suggest_loguniform('reg_alpha', 1e-5, 10),  # L1 정규화\n",
      "C:\\Users\\USER\\AppData\\Local\\Temp\\ipykernel_8636\\4147431200.py:27: FutureWarning: suggest_loguniform has been deprecated in v3.0.0. This feature will be removed in v6.0.0. See https://github.com/optuna/optuna/releases/tag/v3.0.0. Use suggest_float(..., log=True) instead.\n",
      "  'reg_lambda': trial.suggest_loguniform('reg_lambda', 1e-5, 10),  # L2 정규화\n"
     ]
    },
    {
     "name": "stdout",
     "output_type": "stream",
     "text": [
      "[LightGBM] [Warning] Found whitespace in feature_names, replace with underlines\n",
      "[LightGBM] [Info] Number of positive: 151978, number of negative: 151978\n",
      "[LightGBM] [Info] Auto-choosing row-wise multi-threading, the overhead of testing was 0.022539 seconds.\n",
      "You can set `force_row_wise=true` to remove the overhead.\n",
      "And if memory is not enough, you can set `force_col_wise=true`.\n",
      "[LightGBM] [Info] Total Bins 1323\n",
      "[LightGBM] [Info] Number of data points in the train set: 303956, number of used features: 28\n",
      "[LightGBM] [Info] [binary:BoostFromScore]: pavg=0.500000 -> initscore=0.000000\n"
     ]
    },
    {
     "name": "stderr",
     "output_type": "stream",
     "text": [
      "[I 2025-02-25 23:16:39,134] Trial 3 finished with value: 0.7118595077561469 and parameters: {'learning_rate': 0.012334453484122144, 'num_leaves': 112, 'n_estimators': 678, 'subsample': 0.8378935707362204, 'colsample_bytree': 0.8886507314753235, 'max_bin': 176, 'min_child_samples': 34, 'reg_alpha': 0.0009593334461633794, 'reg_lambda': 0.0012204270289905752}. Best is trial 2 with value: 0.7171111930911038.\n",
      "C:\\Users\\USER\\AppData\\Local\\Temp\\ipykernel_8636\\4147431200.py:19: FutureWarning: suggest_loguniform has been deprecated in v3.0.0. This feature will be removed in v6.0.0. See https://github.com/optuna/optuna/releases/tag/v3.0.0. Use suggest_float(..., log=True) instead.\n",
      "  'learning_rate': trial.suggest_loguniform('learning_rate', 0.01, 0.1),  # 더 작은 학습률\n",
      "C:\\Users\\USER\\AppData\\Local\\Temp\\ipykernel_8636\\4147431200.py:26: FutureWarning: suggest_loguniform has been deprecated in v3.0.0. This feature will be removed in v6.0.0. See https://github.com/optuna/optuna/releases/tag/v3.0.0. Use suggest_float(..., log=True) instead.\n",
      "  'reg_alpha': trial.suggest_loguniform('reg_alpha', 1e-5, 10),  # L1 정규화\n",
      "C:\\Users\\USER\\AppData\\Local\\Temp\\ipykernel_8636\\4147431200.py:27: FutureWarning: suggest_loguniform has been deprecated in v3.0.0. This feature will be removed in v6.0.0. See https://github.com/optuna/optuna/releases/tag/v3.0.0. Use suggest_float(..., log=True) instead.\n",
      "  'reg_lambda': trial.suggest_loguniform('reg_lambda', 1e-5, 10),  # L2 정규화\n"
     ]
    },
    {
     "name": "stdout",
     "output_type": "stream",
     "text": [
      "[LightGBM] [Warning] Found whitespace in feature_names, replace with underlines\n",
      "[LightGBM] [Info] Number of positive: 151978, number of negative: 151978\n",
      "[LightGBM] [Info] Auto-choosing row-wise multi-threading, the overhead of testing was 0.021644 seconds.\n",
      "You can set `force_row_wise=true` to remove the overhead.\n",
      "And if memory is not enough, you can set `force_col_wise=true`.\n",
      "[LightGBM] [Info] Total Bins 1090\n",
      "[LightGBM] [Info] Number of data points in the train set: 303956, number of used features: 28\n",
      "[LightGBM] [Info] [binary:BoostFromScore]: pavg=0.500000 -> initscore=0.000000\n"
     ]
    },
    {
     "name": "stderr",
     "output_type": "stream",
     "text": [
      "[I 2025-02-25 23:17:09,439] Trial 4 finished with value: 0.7099268467373118 and parameters: {'learning_rate': 0.011223676314246195, 'num_leaves': 120, 'n_estimators': 965, 'subsample': 0.9664735241610237, 'colsample_bytree': 0.9155511432357062, 'max_bin': 141, 'min_child_samples': 26, 'reg_alpha': 0.0019094913063691208, 'reg_lambda': 4.509355521174025}. Best is trial 2 with value: 0.7171111930911038.\n",
      "C:\\Users\\USER\\AppData\\Local\\Temp\\ipykernel_8636\\4147431200.py:19: FutureWarning: suggest_loguniform has been deprecated in v3.0.0. This feature will be removed in v6.0.0. See https://github.com/optuna/optuna/releases/tag/v3.0.0. Use suggest_float(..., log=True) instead.\n",
      "  'learning_rate': trial.suggest_loguniform('learning_rate', 0.01, 0.1),  # 더 작은 학습률\n",
      "C:\\Users\\USER\\AppData\\Local\\Temp\\ipykernel_8636\\4147431200.py:26: FutureWarning: suggest_loguniform has been deprecated in v3.0.0. This feature will be removed in v6.0.0. See https://github.com/optuna/optuna/releases/tag/v3.0.0. Use suggest_float(..., log=True) instead.\n",
      "  'reg_alpha': trial.suggest_loguniform('reg_alpha', 1e-5, 10),  # L1 정규화\n",
      "C:\\Users\\USER\\AppData\\Local\\Temp\\ipykernel_8636\\4147431200.py:27: FutureWarning: suggest_loguniform has been deprecated in v3.0.0. This feature will be removed in v6.0.0. See https://github.com/optuna/optuna/releases/tag/v3.0.0. Use suggest_float(..., log=True) instead.\n",
      "  'reg_lambda': trial.suggest_loguniform('reg_lambda', 1e-5, 10),  # L2 정규화\n"
     ]
    },
    {
     "name": "stdout",
     "output_type": "stream",
     "text": [
      "[LightGBM] [Warning] Found whitespace in feature_names, replace with underlines\n",
      "[LightGBM] [Info] Number of positive: 151978, number of negative: 151978\n",
      "[LightGBM] [Info] Auto-choosing row-wise multi-threading, the overhead of testing was 0.023017 seconds.\n",
      "You can set `force_row_wise=true` to remove the overhead.\n",
      "And if memory is not enough, you can set `force_col_wise=true`.\n",
      "[LightGBM] [Info] Total Bins 1239\n",
      "[LightGBM] [Info] Number of data points in the train set: 303956, number of used features: 28\n",
      "[LightGBM] [Info] [binary:BoostFromScore]: pavg=0.500000 -> initscore=0.000000\n"
     ]
    },
    {
     "name": "stderr",
     "output_type": "stream",
     "text": [
      "[I 2025-02-25 23:17:17,415] Trial 5 finished with value: 0.7043975362302602 and parameters: {'learning_rate': 0.08792196637170827, 'num_leaves': 124, 'n_estimators': 250, 'subsample': 0.9377615562541952, 'colsample_bytree': 0.8788153711220819, 'max_bin': 164, 'min_child_samples': 16, 'reg_alpha': 6.03839343063485, 'reg_lambda': 2.413453917016656e-05}. Best is trial 2 with value: 0.7171111930911038.\n",
      "C:\\Users\\USER\\AppData\\Local\\Temp\\ipykernel_8636\\4147431200.py:19: FutureWarning: suggest_loguniform has been deprecated in v3.0.0. This feature will be removed in v6.0.0. See https://github.com/optuna/optuna/releases/tag/v3.0.0. Use suggest_float(..., log=True) instead.\n",
      "  'learning_rate': trial.suggest_loguniform('learning_rate', 0.01, 0.1),  # 더 작은 학습률\n",
      "C:\\Users\\USER\\AppData\\Local\\Temp\\ipykernel_8636\\4147431200.py:26: FutureWarning: suggest_loguniform has been deprecated in v3.0.0. This feature will be removed in v6.0.0. See https://github.com/optuna/optuna/releases/tag/v3.0.0. Use suggest_float(..., log=True) instead.\n",
      "  'reg_alpha': trial.suggest_loguniform('reg_alpha', 1e-5, 10),  # L1 정규화\n",
      "C:\\Users\\USER\\AppData\\Local\\Temp\\ipykernel_8636\\4147431200.py:27: FutureWarning: suggest_loguniform has been deprecated in v3.0.0. This feature will be removed in v6.0.0. See https://github.com/optuna/optuna/releases/tag/v3.0.0. Use suggest_float(..., log=True) instead.\n",
      "  'reg_lambda': trial.suggest_loguniform('reg_lambda', 1e-5, 10),  # L2 정규화\n"
     ]
    },
    {
     "name": "stdout",
     "output_type": "stream",
     "text": [
      "[LightGBM] [Warning] Found whitespace in feature_names, replace with underlines\n",
      "[LightGBM] [Info] Number of positive: 151978, number of negative: 151978\n",
      "[LightGBM] [Info] Auto-choosing row-wise multi-threading, the overhead of testing was 0.022321 seconds.\n",
      "You can set `force_row_wise=true` to remove the overhead.\n",
      "And if memory is not enough, you can set `force_col_wise=true`.\n",
      "[LightGBM] [Info] Total Bins 1471\n",
      "[LightGBM] [Info] Number of data points in the train set: 303956, number of used features: 28\n",
      "[LightGBM] [Info] [binary:BoostFromScore]: pavg=0.500000 -> initscore=0.000000\n"
     ]
    },
    {
     "name": "stderr",
     "output_type": "stream",
     "text": [
      "[I 2025-02-25 23:17:44,749] Trial 6 finished with value: 0.7073107945341248 and parameters: {'learning_rate': 0.017438759535598196, 'num_leaves': 109, 'n_estimators': 964, 'subsample': 0.9620017950033899, 'colsample_bytree': 0.8502148879942568, 'max_bin': 198, 'min_child_samples': 75, 'reg_alpha': 1.2876851165684066e-05, 'reg_lambda': 3.516928909556291}. Best is trial 2 with value: 0.7171111930911038.\n",
      "C:\\Users\\USER\\AppData\\Local\\Temp\\ipykernel_8636\\4147431200.py:19: FutureWarning: suggest_loguniform has been deprecated in v3.0.0. This feature will be removed in v6.0.0. See https://github.com/optuna/optuna/releases/tag/v3.0.0. Use suggest_float(..., log=True) instead.\n",
      "  'learning_rate': trial.suggest_loguniform('learning_rate', 0.01, 0.1),  # 더 작은 학습률\n",
      "C:\\Users\\USER\\AppData\\Local\\Temp\\ipykernel_8636\\4147431200.py:26: FutureWarning: suggest_loguniform has been deprecated in v3.0.0. This feature will be removed in v6.0.0. See https://github.com/optuna/optuna/releases/tag/v3.0.0. Use suggest_float(..., log=True) instead.\n",
      "  'reg_alpha': trial.suggest_loguniform('reg_alpha', 1e-5, 10),  # L1 정규화\n",
      "C:\\Users\\USER\\AppData\\Local\\Temp\\ipykernel_8636\\4147431200.py:27: FutureWarning: suggest_loguniform has been deprecated in v3.0.0. This feature will be removed in v6.0.0. See https://github.com/optuna/optuna/releases/tag/v3.0.0. Use suggest_float(..., log=True) instead.\n",
      "  'reg_lambda': trial.suggest_loguniform('reg_lambda', 1e-5, 10),  # L2 정규화\n"
     ]
    },
    {
     "name": "stdout",
     "output_type": "stream",
     "text": [
      "[LightGBM] [Warning] Found whitespace in feature_names, replace with underlines\n",
      "[LightGBM] [Info] Number of positive: 151978, number of negative: 151978\n",
      "[LightGBM] [Info] Auto-choosing row-wise multi-threading, the overhead of testing was 0.023990 seconds.\n",
      "You can set `force_row_wise=true` to remove the overhead.\n",
      "And if memory is not enough, you can set `force_col_wise=true`.\n",
      "[LightGBM] [Info] Total Bins 1772\n",
      "[LightGBM] [Info] Number of data points in the train set: 303956, number of used features: 28\n",
      "[LightGBM] [Info] [binary:BoostFromScore]: pavg=0.500000 -> initscore=0.000000\n"
     ]
    },
    {
     "name": "stderr",
     "output_type": "stream",
     "text": [
      "[I 2025-02-25 23:17:58,957] Trial 7 finished with value: 0.7058137043212277 and parameters: {'learning_rate': 0.043690879461694275, 'num_leaves': 102, 'n_estimators': 540, 'subsample': 0.9068857561904148, 'colsample_bytree': 0.9637065195488361, 'max_bin': 242, 'min_child_samples': 23, 'reg_alpha': 0.10858077206759593, 'reg_lambda': 5.068824994076401e-05}. Best is trial 2 with value: 0.7171111930911038.\n",
      "C:\\Users\\USER\\AppData\\Local\\Temp\\ipykernel_8636\\4147431200.py:19: FutureWarning: suggest_loguniform has been deprecated in v3.0.0. This feature will be removed in v6.0.0. See https://github.com/optuna/optuna/releases/tag/v3.0.0. Use suggest_float(..., log=True) instead.\n",
      "  'learning_rate': trial.suggest_loguniform('learning_rate', 0.01, 0.1),  # 더 작은 학습률\n",
      "C:\\Users\\USER\\AppData\\Local\\Temp\\ipykernel_8636\\4147431200.py:26: FutureWarning: suggest_loguniform has been deprecated in v3.0.0. This feature will be removed in v6.0.0. See https://github.com/optuna/optuna/releases/tag/v3.0.0. Use suggest_float(..., log=True) instead.\n",
      "  'reg_alpha': trial.suggest_loguniform('reg_alpha', 1e-5, 10),  # L1 정규화\n",
      "C:\\Users\\USER\\AppData\\Local\\Temp\\ipykernel_8636\\4147431200.py:27: FutureWarning: suggest_loguniform has been deprecated in v3.0.0. This feature will be removed in v6.0.0. See https://github.com/optuna/optuna/releases/tag/v3.0.0. Use suggest_float(..., log=True) instead.\n",
      "  'reg_lambda': trial.suggest_loguniform('reg_lambda', 1e-5, 10),  # L2 정규화\n"
     ]
    },
    {
     "name": "stdout",
     "output_type": "stream",
     "text": [
      "[LightGBM] [Warning] Found whitespace in feature_names, replace with underlines\n",
      "[LightGBM] [Info] Number of positive: 151978, number of negative: 151978\n",
      "[LightGBM] [Info] Auto-choosing row-wise multi-threading, the overhead of testing was 0.020914 seconds.\n",
      "You can set `force_row_wise=true` to remove the overhead.\n",
      "And if memory is not enough, you can set `force_col_wise=true`.\n",
      "[LightGBM] [Info] Total Bins 1451\n",
      "[LightGBM] [Info] Number of data points in the train set: 303956, number of used features: 28\n",
      "[LightGBM] [Info] [binary:BoostFromScore]: pavg=0.500000 -> initscore=0.000000\n"
     ]
    },
    {
     "name": "stderr",
     "output_type": "stream",
     "text": [
      "[I 2025-02-25 23:18:13,278] Trial 8 finished with value: 0.7069129206107387 and parameters: {'learning_rate': 0.04275639762861686, 'num_leaves': 78, 'n_estimators': 595, 'subsample': 0.9298317591412963, 'colsample_bytree': 0.7150069259107221, 'max_bin': 195, 'min_child_samples': 90, 'reg_alpha': 0.010654414941377028, 'reg_lambda': 3.375559857987073e-05}. Best is trial 2 with value: 0.7171111930911038.\n",
      "C:\\Users\\USER\\AppData\\Local\\Temp\\ipykernel_8636\\4147431200.py:19: FutureWarning: suggest_loguniform has been deprecated in v3.0.0. This feature will be removed in v6.0.0. See https://github.com/optuna/optuna/releases/tag/v3.0.0. Use suggest_float(..., log=True) instead.\n",
      "  'learning_rate': trial.suggest_loguniform('learning_rate', 0.01, 0.1),  # 더 작은 학습률\n",
      "C:\\Users\\USER\\AppData\\Local\\Temp\\ipykernel_8636\\4147431200.py:26: FutureWarning: suggest_loguniform has been deprecated in v3.0.0. This feature will be removed in v6.0.0. See https://github.com/optuna/optuna/releases/tag/v3.0.0. Use suggest_float(..., log=True) instead.\n",
      "  'reg_alpha': trial.suggest_loguniform('reg_alpha', 1e-5, 10),  # L1 정규화\n",
      "C:\\Users\\USER\\AppData\\Local\\Temp\\ipykernel_8636\\4147431200.py:27: FutureWarning: suggest_loguniform has been deprecated in v3.0.0. This feature will be removed in v6.0.0. See https://github.com/optuna/optuna/releases/tag/v3.0.0. Use suggest_float(..., log=True) instead.\n",
      "  'reg_lambda': trial.suggest_loguniform('reg_lambda', 1e-5, 10),  # L2 정규화\n"
     ]
    },
    {
     "name": "stdout",
     "output_type": "stream",
     "text": [
      "[LightGBM] [Warning] Found whitespace in feature_names, replace with underlines\n",
      "[LightGBM] [Info] Number of positive: 151978, number of negative: 151978\n",
      "[LightGBM] [Info] Auto-choosing row-wise multi-threading, the overhead of testing was 0.026607 seconds.\n",
      "You can set `force_row_wise=true` to remove the overhead.\n",
      "And if memory is not enough, you can set `force_col_wise=true`.\n",
      "[LightGBM] [Info] Total Bins 1806\n",
      "[LightGBM] [Info] Number of data points in the train set: 303956, number of used features: 28\n",
      "[LightGBM] [Info] [binary:BoostFromScore]: pavg=0.500000 -> initscore=0.000000\n"
     ]
    },
    {
     "name": "stderr",
     "output_type": "stream",
     "text": [
      "[I 2025-02-25 23:18:29,712] Trial 9 finished with value: 0.7040334955310885 and parameters: {'learning_rate': 0.04871469925828334, 'num_leaves': 82, 'n_estimators': 762, 'subsample': 0.9655248641304145, 'colsample_bytree': 0.9220081011536522, 'max_bin': 274, 'min_child_samples': 40, 'reg_alpha': 0.3058986718136717, 'reg_lambda': 0.007624156943149358}. Best is trial 2 with value: 0.7171111930911038.\n",
      "C:\\Users\\USER\\AppData\\Local\\Temp\\ipykernel_8636\\4147431200.py:19: FutureWarning: suggest_loguniform has been deprecated in v3.0.0. This feature will be removed in v6.0.0. See https://github.com/optuna/optuna/releases/tag/v3.0.0. Use suggest_float(..., log=True) instead.\n",
      "  'learning_rate': trial.suggest_loguniform('learning_rate', 0.01, 0.1),  # 더 작은 학습률\n",
      "C:\\Users\\USER\\AppData\\Local\\Temp\\ipykernel_8636\\4147431200.py:26: FutureWarning: suggest_loguniform has been deprecated in v3.0.0. This feature will be removed in v6.0.0. See https://github.com/optuna/optuna/releases/tag/v3.0.0. Use suggest_float(..., log=True) instead.\n",
      "  'reg_alpha': trial.suggest_loguniform('reg_alpha', 1e-5, 10),  # L1 정규화\n",
      "C:\\Users\\USER\\AppData\\Local\\Temp\\ipykernel_8636\\4147431200.py:27: FutureWarning: suggest_loguniform has been deprecated in v3.0.0. This feature will be removed in v6.0.0. See https://github.com/optuna/optuna/releases/tag/v3.0.0. Use suggest_float(..., log=True) instead.\n",
      "  'reg_lambda': trial.suggest_loguniform('reg_lambda', 1e-5, 10),  # L2 정규화\n"
     ]
    },
    {
     "name": "stdout",
     "output_type": "stream",
     "text": [
      "[LightGBM] [Warning] Found whitespace in feature_names, replace with underlines\n",
      "[LightGBM] [Info] Number of positive: 151978, number of negative: 151978\n",
      "[LightGBM] [Info] Auto-choosing row-wise multi-threading, the overhead of testing was 0.019765 seconds.\n",
      "You can set `force_row_wise=true` to remove the overhead.\n",
      "And if memory is not enough, you can set `force_col_wise=true`.\n",
      "[LightGBM] [Info] Total Bins 858\n",
      "[LightGBM] [Info] Number of data points in the train set: 303956, number of used features: 28\n",
      "[LightGBM] [Info] [binary:BoostFromScore]: pavg=0.500000 -> initscore=0.000000\n"
     ]
    },
    {
     "name": "stderr",
     "output_type": "stream",
     "text": [
      "[I 2025-02-25 23:18:31,866] Trial 10 finished with value: 0.7217287830882292 and parameters: {'learning_rate': 0.021894918403696336, 'num_leaves': 32, 'n_estimators': 127, 'subsample': 0.7764583928242779, 'colsample_bytree': 0.7773697441759461, 'max_bin': 108, 'min_child_samples': 51, 'reg_alpha': 0.032007628370991255, 'reg_lambda': 0.09985282732702354}. Best is trial 10 with value: 0.7217287830882292.\n",
      "C:\\Users\\USER\\AppData\\Local\\Temp\\ipykernel_8636\\4147431200.py:19: FutureWarning: suggest_loguniform has been deprecated in v3.0.0. This feature will be removed in v6.0.0. See https://github.com/optuna/optuna/releases/tag/v3.0.0. Use suggest_float(..., log=True) instead.\n",
      "  'learning_rate': trial.suggest_loguniform('learning_rate', 0.01, 0.1),  # 더 작은 학습률\n",
      "C:\\Users\\USER\\AppData\\Local\\Temp\\ipykernel_8636\\4147431200.py:26: FutureWarning: suggest_loguniform has been deprecated in v3.0.0. This feature will be removed in v6.0.0. See https://github.com/optuna/optuna/releases/tag/v3.0.0. Use suggest_float(..., log=True) instead.\n",
      "  'reg_alpha': trial.suggest_loguniform('reg_alpha', 1e-5, 10),  # L1 정규화\n",
      "C:\\Users\\USER\\AppData\\Local\\Temp\\ipykernel_8636\\4147431200.py:27: FutureWarning: suggest_loguniform has been deprecated in v3.0.0. This feature will be removed in v6.0.0. See https://github.com/optuna/optuna/releases/tag/v3.0.0. Use suggest_float(..., log=True) instead.\n",
      "  'reg_lambda': trial.suggest_loguniform('reg_lambda', 1e-5, 10),  # L2 정규화\n"
     ]
    },
    {
     "name": "stdout",
     "output_type": "stream",
     "text": [
      "[LightGBM] [Warning] Found whitespace in feature_names, replace with underlines\n",
      "[LightGBM] [Info] Number of positive: 151978, number of negative: 151978\n",
      "[LightGBM] [Info] Auto-choosing row-wise multi-threading, the overhead of testing was 0.020954 seconds.\n",
      "You can set `force_row_wise=true` to remove the overhead.\n",
      "And if memory is not enough, you can set `force_col_wise=true`.\n",
      "[LightGBM] [Info] Total Bins 822\n",
      "[LightGBM] [Info] Number of data points in the train set: 303956, number of used features: 28\n",
      "[LightGBM] [Info] [binary:BoostFromScore]: pavg=0.500000 -> initscore=0.000000\n"
     ]
    },
    {
     "name": "stderr",
     "output_type": "stream",
     "text": [
      "[I 2025-02-25 23:18:34,305] Trial 11 finished with value: 0.7208499041734839 and parameters: {'learning_rate': 0.023454302557869535, 'num_leaves': 36, 'n_estimators': 142, 'subsample': 0.7283538530400961, 'colsample_bytree': 0.7910097456647448, 'max_bin': 102, 'min_child_samples': 58, 'reg_alpha': 0.034998931761247555, 'reg_lambda': 0.23798832756947091}. Best is trial 10 with value: 0.7217287830882292.\n",
      "C:\\Users\\USER\\AppData\\Local\\Temp\\ipykernel_8636\\4147431200.py:19: FutureWarning: suggest_loguniform has been deprecated in v3.0.0. This feature will be removed in v6.0.0. See https://github.com/optuna/optuna/releases/tag/v3.0.0. Use suggest_float(..., log=True) instead.\n",
      "  'learning_rate': trial.suggest_loguniform('learning_rate', 0.01, 0.1),  # 더 작은 학습률\n",
      "C:\\Users\\USER\\AppData\\Local\\Temp\\ipykernel_8636\\4147431200.py:26: FutureWarning: suggest_loguniform has been deprecated in v3.0.0. This feature will be removed in v6.0.0. See https://github.com/optuna/optuna/releases/tag/v3.0.0. Use suggest_float(..., log=True) instead.\n",
      "  'reg_alpha': trial.suggest_loguniform('reg_alpha', 1e-5, 10),  # L1 정규화\n",
      "C:\\Users\\USER\\AppData\\Local\\Temp\\ipykernel_8636\\4147431200.py:27: FutureWarning: suggest_loguniform has been deprecated in v3.0.0. This feature will be removed in v6.0.0. See https://github.com/optuna/optuna/releases/tag/v3.0.0. Use suggest_float(..., log=True) instead.\n",
      "  'reg_lambda': trial.suggest_loguniform('reg_lambda', 1e-5, 10),  # L2 정규화\n"
     ]
    },
    {
     "name": "stdout",
     "output_type": "stream",
     "text": [
      "[LightGBM] [Warning] Found whitespace in feature_names, replace with underlines\n",
      "[LightGBM] [Info] Number of positive: 151978, number of negative: 151978\n",
      "[LightGBM] [Info] Auto-choosing row-wise multi-threading, the overhead of testing was 0.021137 seconds.\n",
      "You can set `force_row_wise=true` to remove the overhead.\n",
      "And if memory is not enough, you can set `force_col_wise=true`.\n",
      "[LightGBM] [Info] Total Bins 951\n",
      "[LightGBM] [Info] Number of data points in the train set: 303956, number of used features: 28\n",
      "[LightGBM] [Info] [binary:BoostFromScore]: pavg=0.500000 -> initscore=0.000000\n"
     ]
    },
    {
     "name": "stderr",
     "output_type": "stream",
     "text": [
      "[I 2025-02-25 23:18:40,108] Trial 12 finished with value: 0.7159111192412042 and parameters: {'learning_rate': 0.023735166493774086, 'num_leaves': 34, 'n_estimators': 387, 'subsample': 0.7031770994543964, 'colsample_bytree': 0.7718863769763508, 'max_bin': 121, 'min_child_samples': 59, 'reg_alpha': 0.013242517808719502, 'reg_lambda': 0.22071508785475555}. Best is trial 10 with value: 0.7217287830882292.\n",
      "C:\\Users\\USER\\AppData\\Local\\Temp\\ipykernel_8636\\4147431200.py:19: FutureWarning: suggest_loguniform has been deprecated in v3.0.0. This feature will be removed in v6.0.0. See https://github.com/optuna/optuna/releases/tag/v3.0.0. Use suggest_float(..., log=True) instead.\n",
      "  'learning_rate': trial.suggest_loguniform('learning_rate', 0.01, 0.1),  # 더 작은 학습률\n",
      "C:\\Users\\USER\\AppData\\Local\\Temp\\ipykernel_8636\\4147431200.py:26: FutureWarning: suggest_loguniform has been deprecated in v3.0.0. This feature will be removed in v6.0.0. See https://github.com/optuna/optuna/releases/tag/v3.0.0. Use suggest_float(..., log=True) instead.\n",
      "  'reg_alpha': trial.suggest_loguniform('reg_alpha', 1e-5, 10),  # L1 정규화\n",
      "C:\\Users\\USER\\AppData\\Local\\Temp\\ipykernel_8636\\4147431200.py:27: FutureWarning: suggest_loguniform has been deprecated in v3.0.0. This feature will be removed in v6.0.0. See https://github.com/optuna/optuna/releases/tag/v3.0.0. Use suggest_float(..., log=True) instead.\n",
      "  'reg_lambda': trial.suggest_loguniform('reg_lambda', 1e-5, 10),  # L2 정규화\n"
     ]
    },
    {
     "name": "stdout",
     "output_type": "stream",
     "text": [
      "[LightGBM] [Warning] Found whitespace in feature_names, replace with underlines\n",
      "[LightGBM] [Info] Number of positive: 151978, number of negative: 151978\n",
      "[LightGBM] [Info] Auto-choosing row-wise multi-threading, the overhead of testing was 0.022327 seconds.\n",
      "You can set `force_row_wise=true` to remove the overhead.\n",
      "And if memory is not enough, you can set `force_col_wise=true`.\n",
      "[LightGBM] [Info] Total Bins 808\n",
      "[LightGBM] [Info] Number of data points in the train set: 303956, number of used features: 28\n",
      "[LightGBM] [Info] [binary:BoostFromScore]: pavg=0.500000 -> initscore=0.000000\n"
     ]
    },
    {
     "name": "stderr",
     "output_type": "stream",
     "text": [
      "[I 2025-02-25 23:18:41,943] Trial 13 finished with value: 0.7215567329544212 and parameters: {'learning_rate': 0.02750084489703802, 'num_leaves': 31, 'n_estimators': 111, 'subsample': 0.7666318874315058, 'colsample_bytree': 0.7843466270997173, 'max_bin': 100, 'min_child_samples': 55, 'reg_alpha': 0.04798404789602176, 'reg_lambda': 0.25639251196799046}. Best is trial 10 with value: 0.7217287830882292.\n",
      "C:\\Users\\USER\\AppData\\Local\\Temp\\ipykernel_8636\\4147431200.py:19: FutureWarning: suggest_loguniform has been deprecated in v3.0.0. This feature will be removed in v6.0.0. See https://github.com/optuna/optuna/releases/tag/v3.0.0. Use suggest_float(..., log=True) instead.\n",
      "  'learning_rate': trial.suggest_loguniform('learning_rate', 0.01, 0.1),  # 더 작은 학습률\n",
      "C:\\Users\\USER\\AppData\\Local\\Temp\\ipykernel_8636\\4147431200.py:26: FutureWarning: suggest_loguniform has been deprecated in v3.0.0. This feature will be removed in v6.0.0. See https://github.com/optuna/optuna/releases/tag/v3.0.0. Use suggest_float(..., log=True) instead.\n",
      "  'reg_alpha': trial.suggest_loguniform('reg_alpha', 1e-5, 10),  # L1 정규화\n",
      "C:\\Users\\USER\\AppData\\Local\\Temp\\ipykernel_8636\\4147431200.py:27: FutureWarning: suggest_loguniform has been deprecated in v3.0.0. This feature will be removed in v6.0.0. See https://github.com/optuna/optuna/releases/tag/v3.0.0. Use suggest_float(..., log=True) instead.\n",
      "  'reg_lambda': trial.suggest_loguniform('reg_lambda', 1e-5, 10),  # L2 정규화\n"
     ]
    },
    {
     "name": "stdout",
     "output_type": "stream",
     "text": [
      "[LightGBM] [Warning] Found whitespace in feature_names, replace with underlines\n",
      "[LightGBM] [Info] Number of positive: 151978, number of negative: 151978\n",
      "[LightGBM] [Info] Auto-choosing row-wise multi-threading, the overhead of testing was 0.021053 seconds.\n",
      "You can set `force_row_wise=true` to remove the overhead.\n",
      "And if memory is not enough, you can set `force_col_wise=true`.\n",
      "[LightGBM] [Info] Total Bins 889\n",
      "[LightGBM] [Info] Number of data points in the train set: 303956, number of used features: 28\n",
      "[LightGBM] [Info] [binary:BoostFromScore]: pavg=0.500000 -> initscore=0.000000\n"
     ]
    },
    {
     "name": "stderr",
     "output_type": "stream",
     "text": [
      "[I 2025-02-25 23:18:48,915] Trial 14 finished with value: 0.7136436710789864 and parameters: {'learning_rate': 0.029852120292718824, 'num_leaves': 53, 'n_estimators': 344, 'subsample': 0.8012858673462419, 'colsample_bytree': 0.7774175520207427, 'max_bin': 112, 'min_child_samples': 47, 'reg_alpha': 0.0005434787020182902, 'reg_lambda': 0.14980085250277722}. Best is trial 10 with value: 0.7217287830882292.\n",
      "C:\\Users\\USER\\AppData\\Local\\Temp\\ipykernel_8636\\4147431200.py:19: FutureWarning: suggest_loguniform has been deprecated in v3.0.0. This feature will be removed in v6.0.0. See https://github.com/optuna/optuna/releases/tag/v3.0.0. Use suggest_float(..., log=True) instead.\n",
      "  'learning_rate': trial.suggest_loguniform('learning_rate', 0.01, 0.1),  # 더 작은 학습률\n",
      "C:\\Users\\USER\\AppData\\Local\\Temp\\ipykernel_8636\\4147431200.py:26: FutureWarning: suggest_loguniform has been deprecated in v3.0.0. This feature will be removed in v6.0.0. See https://github.com/optuna/optuna/releases/tag/v3.0.0. Use suggest_float(..., log=True) instead.\n",
      "  'reg_alpha': trial.suggest_loguniform('reg_alpha', 1e-5, 10),  # L1 정규화\n",
      "C:\\Users\\USER\\AppData\\Local\\Temp\\ipykernel_8636\\4147431200.py:27: FutureWarning: suggest_loguniform has been deprecated in v3.0.0. This feature will be removed in v6.0.0. See https://github.com/optuna/optuna/releases/tag/v3.0.0. Use suggest_float(..., log=True) instead.\n",
      "  'reg_lambda': trial.suggest_loguniform('reg_lambda', 1e-5, 10),  # L2 정규화\n"
     ]
    },
    {
     "name": "stdout",
     "output_type": "stream",
     "text": [
      "[LightGBM] [Warning] Found whitespace in feature_names, replace with underlines\n",
      "[LightGBM] [Info] Number of positive: 151978, number of negative: 151978\n",
      "[LightGBM] [Info] Auto-choosing row-wise multi-threading, the overhead of testing was 0.022910 seconds.\n",
      "You can set `force_row_wise=true` to remove the overhead.\n",
      "And if memory is not enough, you can set `force_col_wise=true`.\n",
      "[LightGBM] [Info] Total Bins 1765\n",
      "[LightGBM] [Info] Number of data points in the train set: 303956, number of used features: 28\n",
      "[LightGBM] [Info] [binary:BoostFromScore]: pavg=0.500000 -> initscore=0.000000\n"
     ]
    },
    {
     "name": "stderr",
     "output_type": "stream",
     "text": [
      "[I 2025-02-25 23:18:51,736] Trial 15 finished with value: 0.7216453214772448 and parameters: {'learning_rate': 0.015861972883017873, 'num_leaves': 50, 'n_estimators': 125, 'subsample': 0.778837763046777, 'colsample_bytree': 0.7306781957347518, 'max_bin': 241, 'min_child_samples': 68, 'reg_alpha': 9.860881462973434e-05, 'reg_lambda': 0.028008949620554214}. Best is trial 10 with value: 0.7217287830882292.\n",
      "C:\\Users\\USER\\AppData\\Local\\Temp\\ipykernel_8636\\4147431200.py:19: FutureWarning: suggest_loguniform has been deprecated in v3.0.0. This feature will be removed in v6.0.0. See https://github.com/optuna/optuna/releases/tag/v3.0.0. Use suggest_float(..., log=True) instead.\n",
      "  'learning_rate': trial.suggest_loguniform('learning_rate', 0.01, 0.1),  # 더 작은 학습률\n",
      "C:\\Users\\USER\\AppData\\Local\\Temp\\ipykernel_8636\\4147431200.py:26: FutureWarning: suggest_loguniform has been deprecated in v3.0.0. This feature will be removed in v6.0.0. See https://github.com/optuna/optuna/releases/tag/v3.0.0. Use suggest_float(..., log=True) instead.\n",
      "  'reg_alpha': trial.suggest_loguniform('reg_alpha', 1e-5, 10),  # L1 정규화\n",
      "C:\\Users\\USER\\AppData\\Local\\Temp\\ipykernel_8636\\4147431200.py:27: FutureWarning: suggest_loguniform has been deprecated in v3.0.0. This feature will be removed in v6.0.0. See https://github.com/optuna/optuna/releases/tag/v3.0.0. Use suggest_float(..., log=True) instead.\n",
      "  'reg_lambda': trial.suggest_loguniform('reg_lambda', 1e-5, 10),  # L2 정규화\n"
     ]
    },
    {
     "name": "stdout",
     "output_type": "stream",
     "text": [
      "[LightGBM] [Warning] Found whitespace in feature_names, replace with underlines\n",
      "[LightGBM] [Info] Number of positive: 151978, number of negative: 151978\n",
      "[LightGBM] [Info] Auto-choosing row-wise multi-threading, the overhead of testing was 0.022833 seconds.\n",
      "You can set `force_row_wise=true` to remove the overhead.\n",
      "And if memory is not enough, you can set `force_col_wise=true`.\n",
      "[LightGBM] [Info] Total Bins 1765\n",
      "[LightGBM] [Info] Number of data points in the train set: 303956, number of used features: 28\n",
      "[LightGBM] [Info] [binary:BoostFromScore]: pavg=0.500000 -> initscore=0.000000\n"
     ]
    },
    {
     "name": "stderr",
     "output_type": "stream",
     "text": [
      "[I 2025-02-25 23:18:59,624] Trial 16 finished with value: 0.7170795348598749 and parameters: {'learning_rate': 0.015559259486589731, 'num_leaves': 55, 'n_estimators': 377, 'subsample': 0.8019366221649903, 'colsample_bytree': 0.7068309993386079, 'max_bin': 241, 'min_child_samples': 70, 'reg_alpha': 2.3589194746389947e-05, 'reg_lambda': 0.02175247580418763}. Best is trial 10 with value: 0.7217287830882292.\n",
      "C:\\Users\\USER\\AppData\\Local\\Temp\\ipykernel_8636\\4147431200.py:19: FutureWarning: suggest_loguniform has been deprecated in v3.0.0. This feature will be removed in v6.0.0. See https://github.com/optuna/optuna/releases/tag/v3.0.0. Use suggest_float(..., log=True) instead.\n",
      "  'learning_rate': trial.suggest_loguniform('learning_rate', 0.01, 0.1),  # 더 작은 학습률\n",
      "C:\\Users\\USER\\AppData\\Local\\Temp\\ipykernel_8636\\4147431200.py:26: FutureWarning: suggest_loguniform has been deprecated in v3.0.0. This feature will be removed in v6.0.0. See https://github.com/optuna/optuna/releases/tag/v3.0.0. Use suggest_float(..., log=True) instead.\n",
      "  'reg_alpha': trial.suggest_loguniform('reg_alpha', 1e-5, 10),  # L1 정규화\n",
      "C:\\Users\\USER\\AppData\\Local\\Temp\\ipykernel_8636\\4147431200.py:27: FutureWarning: suggest_loguniform has been deprecated in v3.0.0. This feature will be removed in v6.0.0. See https://github.com/optuna/optuna/releases/tag/v3.0.0. Use suggest_float(..., log=True) instead.\n",
      "  'reg_lambda': trial.suggest_loguniform('reg_lambda', 1e-5, 10),  # L2 정규화\n"
     ]
    },
    {
     "name": "stdout",
     "output_type": "stream",
     "text": [
      "[LightGBM] [Warning] Found whitespace in feature_names, replace with underlines\n",
      "[LightGBM] [Info] Number of positive: 151978, number of negative: 151978\n",
      "[LightGBM] [Info] Auto-choosing row-wise multi-threading, the overhead of testing was 0.021234 seconds.\n",
      "You can set `force_row_wise=true` to remove the overhead.\n",
      "And if memory is not enough, you can set `force_col_wise=true`.\n",
      "[LightGBM] [Info] Total Bins 1678\n",
      "[LightGBM] [Info] Number of data points in the train set: 303956, number of used features: 28\n",
      "[LightGBM] [Info] [binary:BoostFromScore]: pavg=0.500000 -> initscore=0.000000\n"
     ]
    },
    {
     "name": "stderr",
     "output_type": "stream",
     "text": [
      "[I 2025-02-25 23:19:05,193] Trial 17 finished with value: 0.7193414147204923 and parameters: {'learning_rate': 0.014568733967031351, 'num_leaves': 44, 'n_estimators': 290, 'subsample': 0.761058831086351, 'colsample_bytree': 0.7451369758565503, 'max_bin': 228, 'min_child_samples': 70, 'reg_alpha': 0.00018361276613142565, 'reg_lambda': 0.014632065171041205}. Best is trial 10 with value: 0.7217287830882292.\n",
      "C:\\Users\\USER\\AppData\\Local\\Temp\\ipykernel_8636\\4147431200.py:19: FutureWarning: suggest_loguniform has been deprecated in v3.0.0. This feature will be removed in v6.0.0. See https://github.com/optuna/optuna/releases/tag/v3.0.0. Use suggest_float(..., log=True) instead.\n",
      "  'learning_rate': trial.suggest_loguniform('learning_rate', 0.01, 0.1),  # 더 작은 학습률\n",
      "C:\\Users\\USER\\AppData\\Local\\Temp\\ipykernel_8636\\4147431200.py:26: FutureWarning: suggest_loguniform has been deprecated in v3.0.0. This feature will be removed in v6.0.0. See https://github.com/optuna/optuna/releases/tag/v3.0.0. Use suggest_float(..., log=True) instead.\n",
      "  'reg_alpha': trial.suggest_loguniform('reg_alpha', 1e-5, 10),  # L1 정규화\n",
      "C:\\Users\\USER\\AppData\\Local\\Temp\\ipykernel_8636\\4147431200.py:27: FutureWarning: suggest_loguniform has been deprecated in v3.0.0. This feature will be removed in v6.0.0. See https://github.com/optuna/optuna/releases/tag/v3.0.0. Use suggest_float(..., log=True) instead.\n",
      "  'reg_lambda': trial.suggest_loguniform('reg_lambda', 1e-5, 10),  # L2 정규화\n"
     ]
    },
    {
     "name": "stdout",
     "output_type": "stream",
     "text": [
      "[LightGBM] [Warning] Found whitespace in feature_names, replace with underlines\n",
      "[LightGBM] [Info] Number of positive: 151978, number of negative: 151978\n",
      "[LightGBM] [Info] Auto-choosing row-wise multi-threading, the overhead of testing was 0.022655 seconds.\n",
      "You can set `force_row_wise=true` to remove the overhead.\n",
      "And if memory is not enough, you can set `force_col_wise=true`.\n",
      "[LightGBM] [Info] Total Bins 1801\n",
      "[LightGBM] [Info] Number of data points in the train set: 303956, number of used features: 28\n",
      "[LightGBM] [Info] [binary:BoostFromScore]: pavg=0.500000 -> initscore=0.000000\n"
     ]
    },
    {
     "name": "stderr",
     "output_type": "stream",
     "text": [
      "[I 2025-02-25 23:19:15,724] Trial 18 finished with value: 0.7133643662291136 and parameters: {'learning_rate': 0.018452204341496217, 'num_leaves': 64, 'n_estimators': 485, 'subsample': 0.8742476521017087, 'colsample_bytree': 0.8195136747850166, 'max_bin': 273, 'min_child_samples': 80, 'reg_alpha': 8.753644234814085e-05, 'reg_lambda': 0.0280506753607764}. Best is trial 10 with value: 0.7217287830882292.\n",
      "C:\\Users\\USER\\AppData\\Local\\Temp\\ipykernel_8636\\4147431200.py:19: FutureWarning: suggest_loguniform has been deprecated in v3.0.0. This feature will be removed in v6.0.0. See https://github.com/optuna/optuna/releases/tag/v3.0.0. Use suggest_float(..., log=True) instead.\n",
      "  'learning_rate': trial.suggest_loguniform('learning_rate', 0.01, 0.1),  # 더 작은 학습률\n",
      "C:\\Users\\USER\\AppData\\Local\\Temp\\ipykernel_8636\\4147431200.py:26: FutureWarning: suggest_loguniform has been deprecated in v3.0.0. This feature will be removed in v6.0.0. See https://github.com/optuna/optuna/releases/tag/v3.0.0. Use suggest_float(..., log=True) instead.\n",
      "  'reg_alpha': trial.suggest_loguniform('reg_alpha', 1e-5, 10),  # L1 정규화\n",
      "C:\\Users\\USER\\AppData\\Local\\Temp\\ipykernel_8636\\4147431200.py:27: FutureWarning: suggest_loguniform has been deprecated in v3.0.0. This feature will be removed in v6.0.0. See https://github.com/optuna/optuna/releases/tag/v3.0.0. Use suggest_float(..., log=True) instead.\n",
      "  'reg_lambda': trial.suggest_loguniform('reg_lambda', 1e-5, 10),  # L2 정규화\n"
     ]
    },
    {
     "name": "stdout",
     "output_type": "stream",
     "text": [
      "[LightGBM] [Warning] Found whitespace in feature_names, replace with underlines\n",
      "[LightGBM] [Info] Number of positive: 151978, number of negative: 151978\n",
      "[LightGBM] [Info] Auto-choosing row-wise multi-threading, the overhead of testing was 0.021639 seconds.\n",
      "You can set `force_row_wise=true` to remove the overhead.\n",
      "And if memory is not enough, you can set `force_col_wise=true`.\n",
      "[LightGBM] [Info] Total Bins 1955\n",
      "[LightGBM] [Info] Number of data points in the train set: 303956, number of used features: 28\n",
      "[LightGBM] [Info] [binary:BoostFromScore]: pavg=0.500000 -> initscore=0.000000\n"
     ]
    },
    {
     "name": "stderr",
     "output_type": "stream",
     "text": [
      "[I 2025-02-25 23:19:18,398] Trial 19 finished with value: 0.7161500289389907 and parameters: {'learning_rate': 0.06314487816194049, 'num_leaves': 67, 'n_estimators': 101, 'subsample': 0.810221277436177, 'colsample_bytree': 0.740905438796201, 'max_bin': 299, 'min_child_samples': 98, 'reg_alpha': 0.002802794749504719, 'reg_lambda': 0.9954924626118987}. Best is trial 10 with value: 0.7217287830882292.\n",
      "C:\\Users\\USER\\AppData\\Local\\Temp\\ipykernel_8636\\4147431200.py:19: FutureWarning: suggest_loguniform has been deprecated in v3.0.0. This feature will be removed in v6.0.0. See https://github.com/optuna/optuna/releases/tag/v3.0.0. Use suggest_float(..., log=True) instead.\n",
      "  'learning_rate': trial.suggest_loguniform('learning_rate', 0.01, 0.1),  # 더 작은 학습률\n",
      "C:\\Users\\USER\\AppData\\Local\\Temp\\ipykernel_8636\\4147431200.py:26: FutureWarning: suggest_loguniform has been deprecated in v3.0.0. This feature will be removed in v6.0.0. See https://github.com/optuna/optuna/releases/tag/v3.0.0. Use suggest_float(..., log=True) instead.\n",
      "  'reg_alpha': trial.suggest_loguniform('reg_alpha', 1e-5, 10),  # L1 정규화\n",
      "C:\\Users\\USER\\AppData\\Local\\Temp\\ipykernel_8636\\4147431200.py:27: FutureWarning: suggest_loguniform has been deprecated in v3.0.0. This feature will be removed in v6.0.0. See https://github.com/optuna/optuna/releases/tag/v3.0.0. Use suggest_float(..., log=True) instead.\n",
      "  'reg_lambda': trial.suggest_loguniform('reg_lambda', 1e-5, 10),  # L2 정규화\n"
     ]
    },
    {
     "name": "stdout",
     "output_type": "stream",
     "text": [
      "[LightGBM] [Warning] Found whitespace in feature_names, replace with underlines\n",
      "[LightGBM] [Info] Number of positive: 151978, number of negative: 151978\n",
      "[LightGBM] [Info] Auto-choosing row-wise multi-threading, the overhead of testing was 0.023307 seconds.\n",
      "You can set `force_row_wise=true` to remove the overhead.\n",
      "And if memory is not enough, you can set `force_col_wise=true`.\n",
      "[LightGBM] [Info] Total Bins 1623\n",
      "[LightGBM] [Info] Number of data points in the train set: 303956, number of used features: 28\n",
      "[LightGBM] [Info] [binary:BoostFromScore]: pavg=0.500000 -> initscore=0.000000\n"
     ]
    },
    {
     "name": "stderr",
     "output_type": "stream",
     "text": [
      "[I 2025-02-25 23:19:26,020] Trial 20 finished with value: 0.7188736993556928 and parameters: {'learning_rate': 0.010036020265546126, 'num_leaves': 45, 'n_estimators': 440, 'subsample': 0.7407734259604255, 'colsample_bytree': 0.8144713521384009, 'max_bin': 220, 'min_child_samples': 47, 'reg_alpha': 9.65142969631233e-05, 'reg_lambda': 0.0027948925388856516}. Best is trial 10 with value: 0.7217287830882292.\n",
      "C:\\Users\\USER\\AppData\\Local\\Temp\\ipykernel_8636\\4147431200.py:19: FutureWarning: suggest_loguniform has been deprecated in v3.0.0. This feature will be removed in v6.0.0. See https://github.com/optuna/optuna/releases/tag/v3.0.0. Use suggest_float(..., log=True) instead.\n",
      "  'learning_rate': trial.suggest_loguniform('learning_rate', 0.01, 0.1),  # 더 작은 학습률\n",
      "C:\\Users\\USER\\AppData\\Local\\Temp\\ipykernel_8636\\4147431200.py:26: FutureWarning: suggest_loguniform has been deprecated in v3.0.0. This feature will be removed in v6.0.0. See https://github.com/optuna/optuna/releases/tag/v3.0.0. Use suggest_float(..., log=True) instead.\n",
      "  'reg_alpha': trial.suggest_loguniform('reg_alpha', 1e-5, 10),  # L1 정규화\n",
      "C:\\Users\\USER\\AppData\\Local\\Temp\\ipykernel_8636\\4147431200.py:27: FutureWarning: suggest_loguniform has been deprecated in v3.0.0. This feature will be removed in v6.0.0. See https://github.com/optuna/optuna/releases/tag/v3.0.0. Use suggest_float(..., log=True) instead.\n",
      "  'reg_lambda': trial.suggest_loguniform('reg_lambda', 1e-5, 10),  # L2 정규화\n"
     ]
    },
    {
     "name": "stdout",
     "output_type": "stream",
     "text": [
      "[LightGBM] [Warning] Found whitespace in feature_names, replace with underlines\n",
      "[LightGBM] [Info] Number of positive: 151978, number of negative: 151978\n",
      "[LightGBM] [Info] Auto-choosing row-wise multi-threading, the overhead of testing was 0.022958 seconds.\n",
      "You can set `force_row_wise=true` to remove the overhead.\n",
      "And if memory is not enough, you can set `force_col_wise=true`.\n",
      "[LightGBM] [Info] Total Bins 1067\n",
      "[LightGBM] [Info] Number of data points in the train set: 303956, number of used features: 28\n",
      "[LightGBM] [Info] [binary:BoostFromScore]: pavg=0.500000 -> initscore=0.000000\n"
     ]
    },
    {
     "name": "stderr",
     "output_type": "stream",
     "text": [
      "[I 2025-02-25 23:19:29,018] Trial 21 finished with value: 0.7191288336223637 and parameters: {'learning_rate': 0.028581360848905557, 'num_leaves': 32, 'n_estimators': 194, 'subsample': 0.7737951993630043, 'colsample_bytree': 0.7448972317121542, 'max_bin': 138, 'min_child_samples': 61, 'reg_alpha': 0.08360368926240543, 'reg_lambda': 0.07871752387720406}. Best is trial 10 with value: 0.7217287830882292.\n",
      "C:\\Users\\USER\\AppData\\Local\\Temp\\ipykernel_8636\\4147431200.py:19: FutureWarning: suggest_loguniform has been deprecated in v3.0.0. This feature will be removed in v6.0.0. See https://github.com/optuna/optuna/releases/tag/v3.0.0. Use suggest_float(..., log=True) instead.\n",
      "  'learning_rate': trial.suggest_loguniform('learning_rate', 0.01, 0.1),  # 더 작은 학습률\n",
      "C:\\Users\\USER\\AppData\\Local\\Temp\\ipykernel_8636\\4147431200.py:26: FutureWarning: suggest_loguniform has been deprecated in v3.0.0. This feature will be removed in v6.0.0. See https://github.com/optuna/optuna/releases/tag/v3.0.0. Use suggest_float(..., log=True) instead.\n",
      "  'reg_alpha': trial.suggest_loguniform('reg_alpha', 1e-5, 10),  # L1 정규화\n",
      "C:\\Users\\USER\\AppData\\Local\\Temp\\ipykernel_8636\\4147431200.py:27: FutureWarning: suggest_loguniform has been deprecated in v3.0.0. This feature will be removed in v6.0.0. See https://github.com/optuna/optuna/releases/tag/v3.0.0. Use suggest_float(..., log=True) instead.\n",
      "  'reg_lambda': trial.suggest_loguniform('reg_lambda', 1e-5, 10),  # L2 정규화\n"
     ]
    },
    {
     "name": "stdout",
     "output_type": "stream",
     "text": [
      "[LightGBM] [Warning] Found whitespace in feature_names, replace with underlines\n",
      "[LightGBM] [Info] Number of positive: 151978, number of negative: 151978\n",
      "[LightGBM] [Info] Auto-choosing row-wise multi-threading, the overhead of testing was 0.023219 seconds.\n",
      "You can set `force_row_wise=true` to remove the overhead.\n",
      "And if memory is not enough, you can set `force_col_wise=true`.\n",
      "[LightGBM] [Info] Total Bins 822\n",
      "[LightGBM] [Info] Number of data points in the train set: 303956, number of used features: 28\n",
      "[LightGBM] [Info] [binary:BoostFromScore]: pavg=0.500000 -> initscore=0.000000\n"
     ]
    },
    {
     "name": "stderr",
     "output_type": "stream",
     "text": [
      "[I 2025-02-25 23:19:31,181] Trial 22 finished with value: 0.7209664100993812 and parameters: {'learning_rate': 0.02528591016780143, 'num_leaves': 47, 'n_estimators': 109, 'subsample': 0.7011553944203028, 'colsample_bytree': 0.8081047580184186, 'max_bin': 102, 'min_child_samples': 49, 'reg_alpha': 0.03013702920968007, 'reg_lambda': 0.8179471962016064}. Best is trial 10 with value: 0.7217287830882292.\n",
      "C:\\Users\\USER\\AppData\\Local\\Temp\\ipykernel_8636\\4147431200.py:19: FutureWarning: suggest_loguniform has been deprecated in v3.0.0. This feature will be removed in v6.0.0. See https://github.com/optuna/optuna/releases/tag/v3.0.0. Use suggest_float(..., log=True) instead.\n",
      "  'learning_rate': trial.suggest_loguniform('learning_rate', 0.01, 0.1),  # 더 작은 학습률\n",
      "C:\\Users\\USER\\AppData\\Local\\Temp\\ipykernel_8636\\4147431200.py:26: FutureWarning: suggest_loguniform has been deprecated in v3.0.0. This feature will be removed in v6.0.0. See https://github.com/optuna/optuna/releases/tag/v3.0.0. Use suggest_float(..., log=True) instead.\n",
      "  'reg_alpha': trial.suggest_loguniform('reg_alpha', 1e-5, 10),  # L1 정규화\n",
      "C:\\Users\\USER\\AppData\\Local\\Temp\\ipykernel_8636\\4147431200.py:27: FutureWarning: suggest_loguniform has been deprecated in v3.0.0. This feature will be removed in v6.0.0. See https://github.com/optuna/optuna/releases/tag/v3.0.0. Use suggest_float(..., log=True) instead.\n",
      "  'reg_lambda': trial.suggest_loguniform('reg_lambda', 1e-5, 10),  # L2 정규화\n"
     ]
    },
    {
     "name": "stdout",
     "output_type": "stream",
     "text": [
      "[LightGBM] [Warning] Found whitespace in feature_names, replace with underlines\n",
      "[LightGBM] [Info] Number of positive: 151978, number of negative: 151978\n",
      "[LightGBM] [Info] Auto-choosing row-wise multi-threading, the overhead of testing was 0.021865 seconds.\n",
      "You can set `force_row_wise=true` to remove the overhead.\n",
      "And if memory is not enough, you can set `force_col_wise=true`.\n",
      "[LightGBM] [Info] Total Bins 1166\n",
      "[LightGBM] [Info] Number of data points in the train set: 303956, number of used features: 28\n",
      "[LightGBM] [Info] [binary:BoostFromScore]: pavg=0.500000 -> initscore=0.000000\n"
     ]
    },
    {
     "name": "stderr",
     "output_type": "stream",
     "text": [
      "[I 2025-02-25 23:19:35,666] Trial 23 finished with value: 0.7152176180343628 and parameters: {'learning_rate': 0.033547251575606, 'num_leaves': 40, 'n_estimators': 269, 'subsample': 0.787709654458759, 'colsample_bytree': 0.8389358868678409, 'max_bin': 154, 'min_child_samples': 65, 'reg_alpha': 0.004014293137998277, 'reg_lambda': 0.9135598409187116}. Best is trial 10 with value: 0.7217287830882292.\n",
      "C:\\Users\\USER\\AppData\\Local\\Temp\\ipykernel_8636\\4147431200.py:19: FutureWarning: suggest_loguniform has been deprecated in v3.0.0. This feature will be removed in v6.0.0. See https://github.com/optuna/optuna/releases/tag/v3.0.0. Use suggest_float(..., log=True) instead.\n",
      "  'learning_rate': trial.suggest_loguniform('learning_rate', 0.01, 0.1),  # 더 작은 학습률\n",
      "C:\\Users\\USER\\AppData\\Local\\Temp\\ipykernel_8636\\4147431200.py:26: FutureWarning: suggest_loguniform has been deprecated in v3.0.0. This feature will be removed in v6.0.0. See https://github.com/optuna/optuna/releases/tag/v3.0.0. Use suggest_float(..., log=True) instead.\n",
      "  'reg_alpha': trial.suggest_loguniform('reg_alpha', 1e-5, 10),  # L1 정규화\n",
      "C:\\Users\\USER\\AppData\\Local\\Temp\\ipykernel_8636\\4147431200.py:27: FutureWarning: suggest_loguniform has been deprecated in v3.0.0. This feature will be removed in v6.0.0. See https://github.com/optuna/optuna/releases/tag/v3.0.0. Use suggest_float(..., log=True) instead.\n",
      "  'reg_lambda': trial.suggest_loguniform('reg_lambda', 1e-5, 10),  # L2 정규화\n"
     ]
    },
    {
     "name": "stdout",
     "output_type": "stream",
     "text": [
      "[LightGBM] [Warning] Found whitespace in feature_names, replace with underlines\n",
      "[LightGBM] [Info] Number of positive: 151978, number of negative: 151978\n",
      "[LightGBM] [Info] Auto-choosing row-wise multi-threading, the overhead of testing was 0.025549 seconds.\n",
      "You can set `force_row_wise=true` to remove the overhead.\n",
      "And if memory is not enough, you can set `force_col_wise=true`.\n",
      "[LightGBM] [Info] Total Bins 1727\n",
      "[LightGBM] [Info] Number of data points in the train set: 303956, number of used features: 28\n",
      "[LightGBM] [Info] [binary:BoostFromScore]: pavg=0.500000 -> initscore=0.000000\n"
     ]
    },
    {
     "name": "stderr",
     "output_type": "stream",
     "text": [
      "[I 2025-02-25 23:19:38,633] Trial 24 finished with value: 0.720679497767157 and parameters: {'learning_rate': 0.02001772536622048, 'num_leaves': 31, 'n_estimators': 188, 'subsample': 0.8257796035668395, 'colsample_bytree': 0.762284127488266, 'max_bin': 260, 'min_child_samples': 52, 'reg_alpha': 0.14205141935199792, 'reg_lambda': 0.0615526856804657}. Best is trial 10 with value: 0.7217287830882292.\n",
      "C:\\Users\\USER\\AppData\\Local\\Temp\\ipykernel_8636\\4147431200.py:19: FutureWarning: suggest_loguniform has been deprecated in v3.0.0. This feature will be removed in v6.0.0. See https://github.com/optuna/optuna/releases/tag/v3.0.0. Use suggest_float(..., log=True) instead.\n",
      "  'learning_rate': trial.suggest_loguniform('learning_rate', 0.01, 0.1),  # 더 작은 학습률\n",
      "C:\\Users\\USER\\AppData\\Local\\Temp\\ipykernel_8636\\4147431200.py:26: FutureWarning: suggest_loguniform has been deprecated in v3.0.0. This feature will be removed in v6.0.0. See https://github.com/optuna/optuna/releases/tag/v3.0.0. Use suggest_float(..., log=True) instead.\n",
      "  'reg_alpha': trial.suggest_loguniform('reg_alpha', 1e-5, 10),  # L1 정규화\n",
      "C:\\Users\\USER\\AppData\\Local\\Temp\\ipykernel_8636\\4147431200.py:27: FutureWarning: suggest_loguniform has been deprecated in v3.0.0. This feature will be removed in v6.0.0. See https://github.com/optuna/optuna/releases/tag/v3.0.0. Use suggest_float(..., log=True) instead.\n",
      "  'reg_lambda': trial.suggest_loguniform('reg_lambda', 1e-5, 10),  # L2 정규화\n"
     ]
    },
    {
     "name": "stdout",
     "output_type": "stream",
     "text": [
      "[LightGBM] [Warning] Found whitespace in feature_names, replace with underlines\n",
      "[LightGBM] [Info] Number of positive: 151978, number of negative: 151978\n",
      "[LightGBM] [Info] Auto-choosing row-wise multi-threading, the overhead of testing was 0.023584 seconds.\n",
      "You can set `force_row_wise=true` to remove the overhead.\n",
      "And if memory is not enough, you can set `force_col_wise=true`.\n",
      "[LightGBM] [Info] Total Bins 963\n",
      "[LightGBM] [Info] Number of data points in the train set: 303956, number of used features: 28\n",
      "[LightGBM] [Info] [binary:BoostFromScore]: pavg=0.500000 -> initscore=0.000000\n"
     ]
    },
    {
     "name": "stderr",
     "output_type": "stream",
     "text": [
      "[I 2025-02-25 23:19:45,488] Trial 25 finished with value: 0.7192909454962135 and parameters: {'learning_rate': 0.01357646848368383, 'num_leaves': 64, 'n_estimators': 289, 'subsample': 0.7397913908223488, 'colsample_bytree': 0.7260550262121267, 'max_bin': 123, 'min_child_samples': 38, 'reg_alpha': 0.0059121804723155065, 'reg_lambda': 0.006866664615156306}. Best is trial 10 with value: 0.7217287830882292.\n",
      "C:\\Users\\USER\\AppData\\Local\\Temp\\ipykernel_8636\\4147431200.py:19: FutureWarning: suggest_loguniform has been deprecated in v3.0.0. This feature will be removed in v6.0.0. See https://github.com/optuna/optuna/releases/tag/v3.0.0. Use suggest_float(..., log=True) instead.\n",
      "  'learning_rate': trial.suggest_loguniform('learning_rate', 0.01, 0.1),  # 더 작은 학습률\n",
      "C:\\Users\\USER\\AppData\\Local\\Temp\\ipykernel_8636\\4147431200.py:26: FutureWarning: suggest_loguniform has been deprecated in v3.0.0. This feature will be removed in v6.0.0. See https://github.com/optuna/optuna/releases/tag/v3.0.0. Use suggest_float(..., log=True) instead.\n",
      "  'reg_alpha': trial.suggest_loguniform('reg_alpha', 1e-5, 10),  # L1 정규화\n",
      "C:\\Users\\USER\\AppData\\Local\\Temp\\ipykernel_8636\\4147431200.py:27: FutureWarning: suggest_loguniform has been deprecated in v3.0.0. This feature will be removed in v6.0.0. See https://github.com/optuna/optuna/releases/tag/v3.0.0. Use suggest_float(..., log=True) instead.\n",
      "  'reg_lambda': trial.suggest_loguniform('reg_lambda', 1e-5, 10),  # L2 정규화\n"
     ]
    },
    {
     "name": "stdout",
     "output_type": "stream",
     "text": [
      "[LightGBM] [Warning] Found whitespace in feature_names, replace with underlines\n",
      "[LightGBM] [Info] Number of positive: 151978, number of negative: 151978\n",
      "[LightGBM] [Info] Auto-choosing row-wise multi-threading, the overhead of testing was 0.020926 seconds.\n",
      "You can set `force_row_wise=true` to remove the overhead.\n",
      "And if memory is not enough, you can set `force_col_wise=true`.\n",
      "[LightGBM] [Info] Total Bins 1643\n",
      "[LightGBM] [Info] Number of data points in the train set: 303956, number of used features: 28\n",
      "[LightGBM] [Info] [binary:BoostFromScore]: pavg=0.500000 -> initscore=0.000000\n"
     ]
    },
    {
     "name": "stderr",
     "output_type": "stream",
     "text": [
      "[I 2025-02-25 23:19:48,698] Trial 26 finished with value: 0.7210070079711995 and parameters: {'learning_rate': 0.01590751558275706, 'num_leaves': 40, 'n_estimators': 168, 'subsample': 0.8689233616646306, 'colsample_bytree': 0.7953435530813678, 'max_bin': 223, 'min_child_samples': 81, 'reg_alpha': 0.0407849215491673, 'reg_lambda': 0.5504472754256745}. Best is trial 10 with value: 0.7217287830882292.\n",
      "C:\\Users\\USER\\AppData\\Local\\Temp\\ipykernel_8636\\4147431200.py:19: FutureWarning: suggest_loguniform has been deprecated in v3.0.0. This feature will be removed in v6.0.0. See https://github.com/optuna/optuna/releases/tag/v3.0.0. Use suggest_float(..., log=True) instead.\n",
      "  'learning_rate': trial.suggest_loguniform('learning_rate', 0.01, 0.1),  # 더 작은 학습률\n",
      "C:\\Users\\USER\\AppData\\Local\\Temp\\ipykernel_8636\\4147431200.py:26: FutureWarning: suggest_loguniform has been deprecated in v3.0.0. This feature will be removed in v6.0.0. See https://github.com/optuna/optuna/releases/tag/v3.0.0. Use suggest_float(..., log=True) instead.\n",
      "  'reg_alpha': trial.suggest_loguniform('reg_alpha', 1e-5, 10),  # L1 정규화\n",
      "C:\\Users\\USER\\AppData\\Local\\Temp\\ipykernel_8636\\4147431200.py:27: FutureWarning: suggest_loguniform has been deprecated in v3.0.0. This feature will be removed in v6.0.0. See https://github.com/optuna/optuna/releases/tag/v3.0.0. Use suggest_float(..., log=True) instead.\n",
      "  'reg_lambda': trial.suggest_loguniform('reg_lambda', 1e-5, 10),  # L2 정규화\n"
     ]
    },
    {
     "name": "stdout",
     "output_type": "stream",
     "text": [
      "[LightGBM] [Warning] Found whitespace in feature_names, replace with underlines\n",
      "[LightGBM] [Info] Number of positive: 151978, number of negative: 151978\n",
      "[LightGBM] [Info] Auto-choosing row-wise multi-threading, the overhead of testing was 0.025242 seconds.\n",
      "You can set `force_row_wise=true` to remove the overhead.\n",
      "And if memory is not enough, you can set `force_col_wise=true`.\n",
      "[LightGBM] [Info] Total Bins 977\n",
      "[LightGBM] [Info] Number of data points in the train set: 303956, number of used features: 28\n",
      "[LightGBM] [Info] [binary:BoostFromScore]: pavg=0.500000 -> initscore=0.000000\n"
     ]
    },
    {
     "name": "stderr",
     "output_type": "stream",
     "text": [
      "[I 2025-02-25 23:19:50,853] Trial 27 finished with value: 0.7214398855006999 and parameters: {'learning_rate': 0.02060820443364344, 'num_leaves': 48, 'n_estimators': 100, 'subsample': 0.7536069533843167, 'colsample_bytree': 0.7569759083861249, 'max_bin': 125, 'min_child_samples': 65, 'reg_alpha': 0.00040578712892742343, 'reg_lambda': 0.05167120797257318}. Best is trial 10 with value: 0.7217287830882292.\n",
      "C:\\Users\\USER\\AppData\\Local\\Temp\\ipykernel_8636\\4147431200.py:19: FutureWarning: suggest_loguniform has been deprecated in v3.0.0. This feature will be removed in v6.0.0. See https://github.com/optuna/optuna/releases/tag/v3.0.0. Use suggest_float(..., log=True) instead.\n",
      "  'learning_rate': trial.suggest_loguniform('learning_rate', 0.01, 0.1),  # 더 작은 학습률\n",
      "C:\\Users\\USER\\AppData\\Local\\Temp\\ipykernel_8636\\4147431200.py:26: FutureWarning: suggest_loguniform has been deprecated in v3.0.0. This feature will be removed in v6.0.0. See https://github.com/optuna/optuna/releases/tag/v3.0.0. Use suggest_float(..., log=True) instead.\n",
      "  'reg_alpha': trial.suggest_loguniform('reg_alpha', 1e-5, 10),  # L1 정규화\n",
      "C:\\Users\\USER\\AppData\\Local\\Temp\\ipykernel_8636\\4147431200.py:27: FutureWarning: suggest_loguniform has been deprecated in v3.0.0. This feature will be removed in v6.0.0. See https://github.com/optuna/optuna/releases/tag/v3.0.0. Use suggest_float(..., log=True) instead.\n",
      "  'reg_lambda': trial.suggest_loguniform('reg_lambda', 1e-5, 10),  # L2 정규화\n"
     ]
    },
    {
     "name": "stdout",
     "output_type": "stream",
     "text": [
      "[LightGBM] [Warning] Found whitespace in feature_names, replace with underlines\n",
      "[LightGBM] [Info] Number of positive: 151978, number of negative: 151978\n",
      "[LightGBM] [Info] Auto-choosing row-wise multi-threading, the overhead of testing was 0.032767 seconds.\n",
      "You can set `force_row_wise=true` to remove the overhead.\n",
      "And if memory is not enough, you can set `force_col_wise=true`.\n",
      "[LightGBM] [Info] Total Bins 1567\n",
      "[LightGBM] [Info] Number of data points in the train set: 303956, number of used features: 28\n",
      "[LightGBM] [Info] [binary:BoostFromScore]: pavg=0.500000 -> initscore=0.000000\n"
     ]
    },
    {
     "name": "stderr",
     "output_type": "stream",
     "text": [
      "[I 2025-02-25 23:19:56,057] Trial 28 finished with value: 0.7167482988069674 and parameters: {'learning_rate': 0.026971151530469323, 'num_leaves': 58, 'n_estimators': 233, 'subsample': 0.7817276075563728, 'colsample_bytree': 0.7008933207067046, 'max_bin': 212, 'min_child_samples': 56, 'reg_alpha': 0.012820740214534249, 'reg_lambda': 1.814950504747616}. Best is trial 10 with value: 0.7217287830882292.\n",
      "C:\\Users\\USER\\AppData\\Local\\Temp\\ipykernel_8636\\4147431200.py:19: FutureWarning: suggest_loguniform has been deprecated in v3.0.0. This feature will be removed in v6.0.0. See https://github.com/optuna/optuna/releases/tag/v3.0.0. Use suggest_float(..., log=True) instead.\n",
      "  'learning_rate': trial.suggest_loguniform('learning_rate', 0.01, 0.1),  # 더 작은 학습률\n",
      "C:\\Users\\USER\\AppData\\Local\\Temp\\ipykernel_8636\\4147431200.py:26: FutureWarning: suggest_loguniform has been deprecated in v3.0.0. This feature will be removed in v6.0.0. See https://github.com/optuna/optuna/releases/tag/v3.0.0. Use suggest_float(..., log=True) instead.\n",
      "  'reg_alpha': trial.suggest_loguniform('reg_alpha', 1e-5, 10),  # L1 정규화\n",
      "C:\\Users\\USER\\AppData\\Local\\Temp\\ipykernel_8636\\4147431200.py:27: FutureWarning: suggest_loguniform has been deprecated in v3.0.0. This feature will be removed in v6.0.0. See https://github.com/optuna/optuna/releases/tag/v3.0.0. Use suggest_float(..., log=True) instead.\n",
      "  'reg_lambda': trial.suggest_loguniform('reg_lambda', 1e-5, 10),  # L2 정규화\n"
     ]
    },
    {
     "name": "stdout",
     "output_type": "stream",
     "text": [
      "[LightGBM] [Warning] Found whitespace in feature_names, replace with underlines\n",
      "[LightGBM] [Info] Number of positive: 151978, number of negative: 151978\n",
      "[LightGBM] [Info] Auto-choosing row-wise multi-threading, the overhead of testing was 0.021511 seconds.\n",
      "You can set `force_row_wise=true` to remove the overhead.\n",
      "And if memory is not enough, you can set `force_col_wise=true`.\n",
      "[LightGBM] [Info] Total Bins 1129\n",
      "[LightGBM] [Info] Number of data points in the train set: 303956, number of used features: 28\n",
      "[LightGBM] [Info] [binary:BoostFromScore]: pavg=0.500000 -> initscore=0.000000\n"
     ]
    },
    {
     "name": "stderr",
     "output_type": "stream",
     "text": [
      "[I 2025-02-25 23:20:03,711] Trial 29 finished with value: 0.7111137527922147 and parameters: {'learning_rate': 0.03576630900616221, 'num_leaves': 74, 'n_estimators': 334, 'subsample': 0.8239647594499558, 'colsample_bytree': 0.8438018518650907, 'max_bin': 148, 'min_child_samples': 44, 'reg_alpha': 1.956876084339513, 'reg_lambda': 8.442515109971938}. Best is trial 10 with value: 0.7217287830882292.\n",
      "C:\\Users\\USER\\AppData\\Local\\Temp\\ipykernel_8636\\4147431200.py:19: FutureWarning: suggest_loguniform has been deprecated in v3.0.0. This feature will be removed in v6.0.0. See https://github.com/optuna/optuna/releases/tag/v3.0.0. Use suggest_float(..., log=True) instead.\n",
      "  'learning_rate': trial.suggest_loguniform('learning_rate', 0.01, 0.1),  # 더 작은 학습률\n",
      "C:\\Users\\USER\\AppData\\Local\\Temp\\ipykernel_8636\\4147431200.py:26: FutureWarning: suggest_loguniform has been deprecated in v3.0.0. This feature will be removed in v6.0.0. See https://github.com/optuna/optuna/releases/tag/v3.0.0. Use suggest_float(..., log=True) instead.\n",
      "  'reg_alpha': trial.suggest_loguniform('reg_alpha', 1e-5, 10),  # L1 정규화\n",
      "C:\\Users\\USER\\AppData\\Local\\Temp\\ipykernel_8636\\4147431200.py:27: FutureWarning: suggest_loguniform has been deprecated in v3.0.0. This feature will be removed in v6.0.0. See https://github.com/optuna/optuna/releases/tag/v3.0.0. Use suggest_float(..., log=True) instead.\n",
      "  'reg_lambda': trial.suggest_loguniform('reg_lambda', 1e-5, 10),  # L2 정규화\n"
     ]
    },
    {
     "name": "stdout",
     "output_type": "stream",
     "text": [
      "[LightGBM] [Warning] Found whitespace in feature_names, replace with underlines\n",
      "[LightGBM] [Info] Number of positive: 151978, number of negative: 151978\n",
      "[LightGBM] [Info] Auto-choosing row-wise multi-threading, the overhead of testing was 0.022064 seconds.\n",
      "You can set `force_row_wise=true` to remove the overhead.\n",
      "And if memory is not enough, you can set `force_col_wise=true`.\n",
      "[LightGBM] [Info] Total Bins 1688\n",
      "[LightGBM] [Info] Number of data points in the train set: 303956, number of used features: 28\n",
      "[LightGBM] [Info] [binary:BoostFromScore]: pavg=0.500000 -> initscore=0.000000\n"
     ]
    },
    {
     "name": "stderr",
     "output_type": "stream",
     "text": [
      "[I 2025-02-25 23:20:10,157] Trial 30 finished with value: 0.7091015717130438 and parameters: {'learning_rate': 0.062258412079678145, 'num_leaves': 39, 'n_estimators': 439, 'subsample': 0.8583890441394587, 'colsample_bytree': 0.7269771231689939, 'max_bin': 253, 'min_child_samples': 84, 'reg_alpha': 0.23433000200763945, 'reg_lambda': 0.34597809659931605}. Best is trial 10 with value: 0.7217287830882292.\n",
      "C:\\Users\\USER\\AppData\\Local\\Temp\\ipykernel_8636\\4147431200.py:19: FutureWarning: suggest_loguniform has been deprecated in v3.0.0. This feature will be removed in v6.0.0. See https://github.com/optuna/optuna/releases/tag/v3.0.0. Use suggest_float(..., log=True) instead.\n",
      "  'learning_rate': trial.suggest_loguniform('learning_rate', 0.01, 0.1),  # 더 작은 학습률\n",
      "C:\\Users\\USER\\AppData\\Local\\Temp\\ipykernel_8636\\4147431200.py:26: FutureWarning: suggest_loguniform has been deprecated in v3.0.0. This feature will be removed in v6.0.0. See https://github.com/optuna/optuna/releases/tag/v3.0.0. Use suggest_float(..., log=True) instead.\n",
      "  'reg_alpha': trial.suggest_loguniform('reg_alpha', 1e-5, 10),  # L1 정규화\n",
      "C:\\Users\\USER\\AppData\\Local\\Temp\\ipykernel_8636\\4147431200.py:27: FutureWarning: suggest_loguniform has been deprecated in v3.0.0. This feature will be removed in v6.0.0. See https://github.com/optuna/optuna/releases/tag/v3.0.0. Use suggest_float(..., log=True) instead.\n",
      "  'reg_lambda': trial.suggest_loguniform('reg_lambda', 1e-5, 10),  # L2 정규화\n"
     ]
    },
    {
     "name": "stdout",
     "output_type": "stream",
     "text": [
      "[LightGBM] [Warning] Found whitespace in feature_names, replace with underlines\n",
      "[LightGBM] [Info] Number of positive: 151978, number of negative: 151978\n",
      "[LightGBM] [Info] Auto-choosing row-wise multi-threading, the overhead of testing was 0.023060 seconds.\n",
      "You can set `force_row_wise=true` to remove the overhead.\n",
      "And if memory is not enough, you can set `force_col_wise=true`.\n",
      "[LightGBM] [Info] Total Bins 1005\n",
      "[LightGBM] [Info] Number of data points in the train set: 303956, number of used features: 28\n",
      "[LightGBM] [Info] [binary:BoostFromScore]: pavg=0.500000 -> initscore=0.000000\n"
     ]
    },
    {
     "name": "stderr",
     "output_type": "stream",
     "text": [
      "[I 2025-02-25 23:20:12,433] Trial 31 finished with value: 0.7213293503200086 and parameters: {'learning_rate': 0.021373265634793227, 'num_leaves': 48, 'n_estimators': 108, 'subsample': 0.7550225322753653, 'colsample_bytree': 0.7639353091474947, 'max_bin': 129, 'min_child_samples': 68, 'reg_alpha': 0.0005401044588719024, 'reg_lambda': 0.08128148986762262}. Best is trial 10 with value: 0.7217287830882292.\n",
      "C:\\Users\\USER\\AppData\\Local\\Temp\\ipykernel_8636\\4147431200.py:19: FutureWarning: suggest_loguniform has been deprecated in v3.0.0. This feature will be removed in v6.0.0. See https://github.com/optuna/optuna/releases/tag/v3.0.0. Use suggest_float(..., log=True) instead.\n",
      "  'learning_rate': trial.suggest_loguniform('learning_rate', 0.01, 0.1),  # 더 작은 학습률\n",
      "C:\\Users\\USER\\AppData\\Local\\Temp\\ipykernel_8636\\4147431200.py:26: FutureWarning: suggest_loguniform has been deprecated in v3.0.0. This feature will be removed in v6.0.0. See https://github.com/optuna/optuna/releases/tag/v3.0.0. Use suggest_float(..., log=True) instead.\n",
      "  'reg_alpha': trial.suggest_loguniform('reg_alpha', 1e-5, 10),  # L1 정규화\n",
      "C:\\Users\\USER\\AppData\\Local\\Temp\\ipykernel_8636\\4147431200.py:27: FutureWarning: suggest_loguniform has been deprecated in v3.0.0. This feature will be removed in v6.0.0. See https://github.com/optuna/optuna/releases/tag/v3.0.0. Use suggest_float(..., log=True) instead.\n",
      "  'reg_lambda': trial.suggest_loguniform('reg_lambda', 1e-5, 10),  # L2 정규화\n"
     ]
    },
    {
     "name": "stdout",
     "output_type": "stream",
     "text": [
      "[LightGBM] [Warning] Found whitespace in feature_names, replace with underlines\n",
      "[LightGBM] [Info] Number of positive: 151978, number of negative: 151978\n",
      "[LightGBM] [Info] Auto-choosing row-wise multi-threading, the overhead of testing was 0.021626 seconds.\n",
      "You can set `force_row_wise=true` to remove the overhead.\n",
      "And if memory is not enough, you can set `force_col_wise=true`.\n",
      "[LightGBM] [Info] Total Bins 896\n",
      "[LightGBM] [Info] Number of data points in the train set: 303956, number of used features: 28\n",
      "[LightGBM] [Info] [binary:BoostFromScore]: pavg=0.500000 -> initscore=0.000000\n"
     ]
    },
    {
     "name": "stderr",
     "output_type": "stream",
     "text": [
      "[I 2025-02-25 23:20:14,971] Trial 32 finished with value: 0.7214063818208774 and parameters: {'learning_rate': 0.019404782927218416, 'num_leaves': 31, 'n_estimators': 155, 'subsample': 0.7225913519436045, 'colsample_bytree': 0.7553174090115151, 'max_bin': 113, 'min_child_samples': 63, 'reg_alpha': 0.00021827789432797567, 'reg_lambda': 0.036158317552116265}. Best is trial 10 with value: 0.7217287830882292.\n",
      "C:\\Users\\USER\\AppData\\Local\\Temp\\ipykernel_8636\\4147431200.py:19: FutureWarning: suggest_loguniform has been deprecated in v3.0.0. This feature will be removed in v6.0.0. See https://github.com/optuna/optuna/releases/tag/v3.0.0. Use suggest_float(..., log=True) instead.\n",
      "  'learning_rate': trial.suggest_loguniform('learning_rate', 0.01, 0.1),  # 더 작은 학습률\n",
      "C:\\Users\\USER\\AppData\\Local\\Temp\\ipykernel_8636\\4147431200.py:26: FutureWarning: suggest_loguniform has been deprecated in v3.0.0. This feature will be removed in v6.0.0. See https://github.com/optuna/optuna/releases/tag/v3.0.0. Use suggest_float(..., log=True) instead.\n",
      "  'reg_alpha': trial.suggest_loguniform('reg_alpha', 1e-5, 10),  # L1 정규화\n",
      "C:\\Users\\USER\\AppData\\Local\\Temp\\ipykernel_8636\\4147431200.py:27: FutureWarning: suggest_loguniform has been deprecated in v3.0.0. This feature will be removed in v6.0.0. See https://github.com/optuna/optuna/releases/tag/v3.0.0. Use suggest_float(..., log=True) instead.\n",
      "  'reg_lambda': trial.suggest_loguniform('reg_lambda', 1e-5, 10),  # L2 정규화\n"
     ]
    },
    {
     "name": "stdout",
     "output_type": "stream",
     "text": [
      "[LightGBM] [Warning] Found whitespace in feature_names, replace with underlines\n",
      "[LightGBM] [Info] Number of positive: 151978, number of negative: 151978\n",
      "[LightGBM] [Info] Auto-choosing row-wise multi-threading, the overhead of testing was 0.023778 seconds.\n",
      "You can set `force_row_wise=true` to remove the overhead.\n",
      "And if memory is not enough, you can set `force_col_wise=true`.\n",
      "[LightGBM] [Info] Total Bins 815\n",
      "[LightGBM] [Info] Number of data points in the train set: 303956, number of used features: 28\n",
      "[LightGBM] [Info] [binary:BoostFromScore]: pavg=0.500000 -> initscore=0.000000\n"
     ]
    },
    {
     "name": "stderr",
     "output_type": "stream",
     "text": [
      "[I 2025-02-25 23:20:19,022] Trial 33 finished with value: 0.71957823430794 and parameters: {'learning_rate': 0.017130478452157063, 'num_leaves': 48, 'n_estimators': 223, 'subsample': 0.7540917375598517, 'colsample_bytree': 0.7932812621274546, 'max_bin': 101, 'min_child_samples': 73, 'reg_alpha': 5.584978563044626e-05, 'reg_lambda': 0.0002003665994878556}. Best is trial 10 with value: 0.7217287830882292.\n",
      "C:\\Users\\USER\\AppData\\Local\\Temp\\ipykernel_8636\\4147431200.py:19: FutureWarning: suggest_loguniform has been deprecated in v3.0.0. This feature will be removed in v6.0.0. See https://github.com/optuna/optuna/releases/tag/v3.0.0. Use suggest_float(..., log=True) instead.\n",
      "  'learning_rate': trial.suggest_loguniform('learning_rate', 0.01, 0.1),  # 더 작은 학습률\n",
      "C:\\Users\\USER\\AppData\\Local\\Temp\\ipykernel_8636\\4147431200.py:26: FutureWarning: suggest_loguniform has been deprecated in v3.0.0. This feature will be removed in v6.0.0. See https://github.com/optuna/optuna/releases/tag/v3.0.0. Use suggest_float(..., log=True) instead.\n",
      "  'reg_alpha': trial.suggest_loguniform('reg_alpha', 1e-5, 10),  # L1 정규화\n",
      "C:\\Users\\USER\\AppData\\Local\\Temp\\ipykernel_8636\\4147431200.py:27: FutureWarning: suggest_loguniform has been deprecated in v3.0.0. This feature will be removed in v6.0.0. See https://github.com/optuna/optuna/releases/tag/v3.0.0. Use suggest_float(..., log=True) instead.\n",
      "  'reg_lambda': trial.suggest_loguniform('reg_lambda', 1e-5, 10),  # L2 정규화\n"
     ]
    },
    {
     "name": "stdout",
     "output_type": "stream",
     "text": [
      "[LightGBM] [Warning] Found whitespace in feature_names, replace with underlines\n",
      "[LightGBM] [Info] Number of positive: 151978, number of negative: 151978\n",
      "[LightGBM] [Info] Auto-choosing row-wise multi-threading, the overhead of testing was 0.019781 seconds.\n",
      "You can set `force_row_wise=true` to remove the overhead.\n",
      "And if memory is not enough, you can set `force_col_wise=true`.\n",
      "[LightGBM] [Info] Total Bins 1012\n",
      "[LightGBM] [Info] Number of data points in the train set: 303956, number of used features: 28\n",
      "[LightGBM] [Info] [binary:BoostFromScore]: pavg=0.500000 -> initscore=0.000000\n"
     ]
    },
    {
     "name": "stderr",
     "output_type": "stream",
     "text": [
      "[I 2025-02-25 23:20:23,336] Trial 34 finished with value: 0.7190808769244169 and parameters: {'learning_rate': 0.022816242160800193, 'num_leaves': 88, 'n_estimators': 155, 'subsample': 0.7850718066727151, 'colsample_bytree': 0.7272852512115937, 'max_bin': 130, 'min_child_samples': 53, 'reg_alpha': 0.0013206523156128675, 'reg_lambda': 0.0027011127868879327}. Best is trial 10 with value: 0.7217287830882292.\n",
      "C:\\Users\\USER\\AppData\\Local\\Temp\\ipykernel_8636\\4147431200.py:19: FutureWarning: suggest_loguniform has been deprecated in v3.0.0. This feature will be removed in v6.0.0. See https://github.com/optuna/optuna/releases/tag/v3.0.0. Use suggest_float(..., log=True) instead.\n",
      "  'learning_rate': trial.suggest_loguniform('learning_rate', 0.01, 0.1),  # 더 작은 학습률\n",
      "C:\\Users\\USER\\AppData\\Local\\Temp\\ipykernel_8636\\4147431200.py:26: FutureWarning: suggest_loguniform has been deprecated in v3.0.0. This feature will be removed in v6.0.0. See https://github.com/optuna/optuna/releases/tag/v3.0.0. Use suggest_float(..., log=True) instead.\n",
      "  'reg_alpha': trial.suggest_loguniform('reg_alpha', 1e-5, 10),  # L1 정규화\n",
      "C:\\Users\\USER\\AppData\\Local\\Temp\\ipykernel_8636\\4147431200.py:27: FutureWarning: suggest_loguniform has been deprecated in v3.0.0. This feature will be removed in v6.0.0. See https://github.com/optuna/optuna/releases/tag/v3.0.0. Use suggest_float(..., log=True) instead.\n",
      "  'reg_lambda': trial.suggest_loguniform('reg_lambda', 1e-5, 10),  # L2 정규화\n"
     ]
    },
    {
     "name": "stdout",
     "output_type": "stream",
     "text": [
      "[LightGBM] [Warning] Found whitespace in feature_names, replace with underlines\n",
      "[LightGBM] [Info] Number of positive: 151978, number of negative: 151978\n",
      "[LightGBM] [Info] Auto-choosing row-wise multi-threading, the overhead of testing was 0.019913 seconds.\n",
      "You can set `force_row_wise=true` to remove the overhead.\n",
      "And if memory is not enough, you can set `force_col_wise=true`.\n",
      "[LightGBM] [Info] Total Bins 1340\n",
      "[LightGBM] [Info] Number of data points in the train set: 303956, number of used features: 28\n",
      "[LightGBM] [Info] [binary:BoostFromScore]: pavg=0.500000 -> initscore=0.000000\n"
     ]
    },
    {
     "name": "stderr",
     "output_type": "stream",
     "text": [
      "[I 2025-02-25 23:20:27,511] Trial 35 finished with value: 0.720734230097521 and parameters: {'learning_rate': 0.012743220013235546, 'num_leaves': 52, 'n_estimators': 212, 'subsample': 0.9947104359846126, 'colsample_bytree': 0.7840210266367146, 'max_bin': 179, 'min_child_samples': 33, 'reg_alpha': 3.325876807508308e-05, 'reg_lambda': 0.1283242413062308}. Best is trial 10 with value: 0.7217287830882292.\n",
      "C:\\Users\\USER\\AppData\\Local\\Temp\\ipykernel_8636\\4147431200.py:19: FutureWarning: suggest_loguniform has been deprecated in v3.0.0. This feature will be removed in v6.0.0. See https://github.com/optuna/optuna/releases/tag/v3.0.0. Use suggest_float(..., log=True) instead.\n",
      "  'learning_rate': trial.suggest_loguniform('learning_rate', 0.01, 0.1),  # 더 작은 학습률\n",
      "C:\\Users\\USER\\AppData\\Local\\Temp\\ipykernel_8636\\4147431200.py:26: FutureWarning: suggest_loguniform has been deprecated in v3.0.0. This feature will be removed in v6.0.0. See https://github.com/optuna/optuna/releases/tag/v3.0.0. Use suggest_float(..., log=True) instead.\n",
      "  'reg_alpha': trial.suggest_loguniform('reg_alpha', 1e-5, 10),  # L1 정규화\n",
      "C:\\Users\\USER\\AppData\\Local\\Temp\\ipykernel_8636\\4147431200.py:27: FutureWarning: suggest_loguniform has been deprecated in v3.0.0. This feature will be removed in v6.0.0. See https://github.com/optuna/optuna/releases/tag/v3.0.0. Use suggest_float(..., log=True) instead.\n",
      "  'reg_lambda': trial.suggest_loguniform('reg_lambda', 1e-5, 10),  # L2 정규화\n"
     ]
    },
    {
     "name": "stdout",
     "output_type": "stream",
     "text": [
      "[LightGBM] [Warning] Found whitespace in feature_names, replace with underlines\n",
      "[LightGBM] [Info] Number of positive: 151978, number of negative: 151978\n",
      "[LightGBM] [Info] Auto-choosing row-wise multi-threading, the overhead of testing was 0.023970 seconds.\n",
      "You can set `force_row_wise=true` to remove the overhead.\n",
      "And if memory is not enough, you can set `force_col_wise=true`.\n",
      "[LightGBM] [Info] Total Bins 1219\n",
      "[LightGBM] [Info] Number of data points in the train set: 303956, number of used features: 28\n",
      "[LightGBM] [Info] [binary:BoostFromScore]: pavg=0.500000 -> initscore=0.000000\n"
     ]
    },
    {
     "name": "stderr",
     "output_type": "stream",
     "text": [
      "[I 2025-02-25 23:20:29,528] Trial 36 finished with value: 0.720814105666352 and parameters: {'learning_rate': 0.031270402397659276, 'num_leaves': 41, 'n_estimators': 101, 'subsample': 0.7218641663800698, 'colsample_bytree': 0.8216891665369305, 'max_bin': 161, 'min_child_samples': 75, 'reg_alpha': 0.0003151462015426968, 'reg_lambda': 0.042286412407363826}. Best is trial 10 with value: 0.7217287830882292.\n",
      "C:\\Users\\USER\\AppData\\Local\\Temp\\ipykernel_8636\\4147431200.py:19: FutureWarning: suggest_loguniform has been deprecated in v3.0.0. This feature will be removed in v6.0.0. See https://github.com/optuna/optuna/releases/tag/v3.0.0. Use suggest_float(..., log=True) instead.\n",
      "  'learning_rate': trial.suggest_loguniform('learning_rate', 0.01, 0.1),  # 더 작은 학습률\n",
      "C:\\Users\\USER\\AppData\\Local\\Temp\\ipykernel_8636\\4147431200.py:26: FutureWarning: suggest_loguniform has been deprecated in v3.0.0. This feature will be removed in v6.0.0. See https://github.com/optuna/optuna/releases/tag/v3.0.0. Use suggest_float(..., log=True) instead.\n",
      "  'reg_alpha': trial.suggest_loguniform('reg_alpha', 1e-5, 10),  # L1 정규화\n",
      "C:\\Users\\USER\\AppData\\Local\\Temp\\ipykernel_8636\\4147431200.py:27: FutureWarning: suggest_loguniform has been deprecated in v3.0.0. This feature will be removed in v6.0.0. See https://github.com/optuna/optuna/releases/tag/v3.0.0. Use suggest_float(..., log=True) instead.\n",
      "  'reg_lambda': trial.suggest_loguniform('reg_lambda', 1e-5, 10),  # L2 정규화\n"
     ]
    },
    {
     "name": "stdout",
     "output_type": "stream",
     "text": [
      "[LightGBM] [Warning] Found whitespace in feature_names, replace with underlines\n",
      "[LightGBM] [Info] Number of positive: 151978, number of negative: 151978\n",
      "[LightGBM] [Info] Auto-choosing row-wise multi-threading, the overhead of testing was 0.020962 seconds.\n",
      "You can set `force_row_wise=true` to remove the overhead.\n",
      "And if memory is not enough, you can set `force_col_wise=true`.\n",
      "[LightGBM] [Info] Total Bins 910\n",
      "[LightGBM] [Info] Number of data points in the train set: 303956, number of used features: 28\n",
      "[LightGBM] [Info] [binary:BoostFromScore]: pavg=0.500000 -> initscore=0.000000\n"
     ]
    },
    {
     "name": "stderr",
     "output_type": "stream",
     "text": [
      "[I 2025-02-25 23:20:45,222] Trial 37 finished with value: 0.7090551439013506 and parameters: {'learning_rate': 0.026451873005751327, 'num_leaves': 59, 'n_estimators': 858, 'subsample': 0.7649073043161455, 'colsample_bytree': 0.869948019634174, 'max_bin': 115, 'min_child_samples': 65, 'reg_alpha': 0.0008573434926572836, 'reg_lambda': 0.003922202704685064}. Best is trial 10 with value: 0.7217287830882292.\n",
      "C:\\Users\\USER\\AppData\\Local\\Temp\\ipykernel_8636\\4147431200.py:19: FutureWarning: suggest_loguniform has been deprecated in v3.0.0. This feature will be removed in v6.0.0. See https://github.com/optuna/optuna/releases/tag/v3.0.0. Use suggest_float(..., log=True) instead.\n",
      "  'learning_rate': trial.suggest_loguniform('learning_rate', 0.01, 0.1),  # 더 작은 학습률\n",
      "C:\\Users\\USER\\AppData\\Local\\Temp\\ipykernel_8636\\4147431200.py:26: FutureWarning: suggest_loguniform has been deprecated in v3.0.0. This feature will be removed in v6.0.0. See https://github.com/optuna/optuna/releases/tag/v3.0.0. Use suggest_float(..., log=True) instead.\n",
      "  'reg_alpha': trial.suggest_loguniform('reg_alpha', 1e-5, 10),  # L1 정규화\n",
      "C:\\Users\\USER\\AppData\\Local\\Temp\\ipykernel_8636\\4147431200.py:27: FutureWarning: suggest_loguniform has been deprecated in v3.0.0. This feature will be removed in v6.0.0. See https://github.com/optuna/optuna/releases/tag/v3.0.0. Use suggest_float(..., log=True) instead.\n",
      "  'reg_lambda': trial.suggest_loguniform('reg_lambda', 1e-5, 10),  # L2 정규화\n"
     ]
    },
    {
     "name": "stdout",
     "output_type": "stream",
     "text": [
      "[LightGBM] [Warning] Found whitespace in feature_names, replace with underlines\n",
      "[LightGBM] [Info] Number of positive: 151978, number of negative: 151978\n",
      "[LightGBM] [Info] Auto-choosing row-wise multi-threading, the overhead of testing was 0.020672 seconds.\n",
      "You can set `force_row_wise=true` to remove the overhead.\n",
      "And if memory is not enough, you can set `force_col_wise=true`.\n",
      "[LightGBM] [Info] Total Bins 1386\n",
      "[LightGBM] [Info] Number of data points in the train set: 303956, number of used features: 28\n",
      "[LightGBM] [Info] [binary:BoostFromScore]: pavg=0.500000 -> initscore=0.000000\n"
     ]
    },
    {
     "name": "stderr",
     "output_type": "stream",
     "text": [
      "[I 2025-02-25 23:20:50,818] Trial 38 finished with value: 0.7187269542366896 and parameters: {'learning_rate': 0.02069722757328828, 'num_leaves': 37, 'n_estimators': 255, 'subsample': 0.8340769389815148, 'colsample_bytree': 0.7541740214324645, 'max_bin': 185, 'min_child_samples': 54, 'reg_alpha': 0.8681802821851413, 'reg_lambda': 0.0003766786786755083}. Best is trial 10 with value: 0.7217287830882292.\n",
      "C:\\Users\\USER\\AppData\\Local\\Temp\\ipykernel_8636\\4147431200.py:19: FutureWarning: suggest_loguniform has been deprecated in v3.0.0. This feature will be removed in v6.0.0. See https://github.com/optuna/optuna/releases/tag/v3.0.0. Use suggest_float(..., log=True) instead.\n",
      "  'learning_rate': trial.suggest_loguniform('learning_rate', 0.01, 0.1),  # 더 작은 학습률\n",
      "C:\\Users\\USER\\AppData\\Local\\Temp\\ipykernel_8636\\4147431200.py:26: FutureWarning: suggest_loguniform has been deprecated in v3.0.0. This feature will be removed in v6.0.0. See https://github.com/optuna/optuna/releases/tag/v3.0.0. Use suggest_float(..., log=True) instead.\n",
      "  'reg_alpha': trial.suggest_loguniform('reg_alpha', 1e-5, 10),  # L1 정규화\n",
      "C:\\Users\\USER\\AppData\\Local\\Temp\\ipykernel_8636\\4147431200.py:27: FutureWarning: suggest_loguniform has been deprecated in v3.0.0. This feature will be removed in v6.0.0. See https://github.com/optuna/optuna/releases/tag/v3.0.0. Use suggest_float(..., log=True) instead.\n",
      "  'reg_lambda': trial.suggest_loguniform('reg_lambda', 1e-5, 10),  # L2 정규화\n"
     ]
    },
    {
     "name": "stdout",
     "output_type": "stream",
     "text": [
      "[LightGBM] [Warning] Found whitespace in feature_names, replace with underlines\n",
      "[LightGBM] [Info] Number of positive: 151978, number of negative: 151978\n",
      "[LightGBM] [Info] Auto-choosing row-wise multi-threading, the overhead of testing was 0.021475 seconds.\n",
      "You can set `force_row_wise=true` to remove the overhead.\n",
      "And if memory is not enough, you can set `force_col_wise=true`.\n",
      "[LightGBM] [Info] Total Bins 1090\n",
      "[LightGBM] [Info] Number of data points in the train set: 303956, number of used features: 28\n",
      "[LightGBM] [Info] [binary:BoostFromScore]: pavg=0.500000 -> initscore=0.000000\n"
     ]
    },
    {
     "name": "stderr",
     "output_type": "stream",
     "text": [
      "[I 2025-02-25 23:21:05,217] Trial 39 finished with value: 0.7076139933496344 and parameters: {'learning_rate': 0.03909095810321519, 'num_leaves': 70, 'n_estimators': 674, 'subsample': 0.7449707432939785, 'colsample_bytree': 0.7375516841767713, 'max_bin': 141, 'min_child_samples': 42, 'reg_alpha': 0.025449560355453867, 'reg_lambda': 0.012699514726514703}. Best is trial 10 with value: 0.7217287830882292.\n",
      "C:\\Users\\USER\\AppData\\Local\\Temp\\ipykernel_8636\\4147431200.py:19: FutureWarning: suggest_loguniform has been deprecated in v3.0.0. This feature will be removed in v6.0.0. See https://github.com/optuna/optuna/releases/tag/v3.0.0. Use suggest_float(..., log=True) instead.\n",
      "  'learning_rate': trial.suggest_loguniform('learning_rate', 0.01, 0.1),  # 더 작은 학습률\n",
      "C:\\Users\\USER\\AppData\\Local\\Temp\\ipykernel_8636\\4147431200.py:26: FutureWarning: suggest_loguniform has been deprecated in v3.0.0. This feature will be removed in v6.0.0. See https://github.com/optuna/optuna/releases/tag/v3.0.0. Use suggest_float(..., log=True) instead.\n",
      "  'reg_alpha': trial.suggest_loguniform('reg_alpha', 1e-5, 10),  # L1 정규화\n",
      "C:\\Users\\USER\\AppData\\Local\\Temp\\ipykernel_8636\\4147431200.py:27: FutureWarning: suggest_loguniform has been deprecated in v3.0.0. This feature will be removed in v6.0.0. See https://github.com/optuna/optuna/releases/tag/v3.0.0. Use suggest_float(..., log=True) instead.\n",
      "  'reg_lambda': trial.suggest_loguniform('reg_lambda', 1e-5, 10),  # L2 정규화\n"
     ]
    },
    {
     "name": "stdout",
     "output_type": "stream",
     "text": [
      "[LightGBM] [Warning] Found whitespace in feature_names, replace with underlines\n",
      "[LightGBM] [Info] Number of positive: 151978, number of negative: 151978\n",
      "[LightGBM] [Info] Auto-choosing row-wise multi-threading, the overhead of testing was 0.025422 seconds.\n",
      "You can set `force_row_wise=true` to remove the overhead.\n",
      "And if memory is not enough, you can set `force_col_wise=true`.\n",
      "[LightGBM] [Info] Total Bins 1289\n",
      "[LightGBM] [Info] Number of data points in the train set: 303956, number of used features: 28\n",
      "[LightGBM] [Info] [binary:BoostFromScore]: pavg=0.500000 -> initscore=0.000000\n"
     ]
    },
    {
     "name": "stderr",
     "output_type": "stream",
     "text": [
      "[I 2025-02-25 23:21:11,766] Trial 40 finished with value: 0.7201450816188587 and parameters: {'learning_rate': 0.011204750243548682, 'num_leaves': 43, 'n_estimators': 317, 'subsample': 0.8103519303438651, 'colsample_bytree': 0.8042725959862859, 'max_bin': 171, 'min_child_samples': 30, 'reg_alpha': 1.17270537211204e-05, 'reg_lambda': 0.000956883740740693}. Best is trial 10 with value: 0.7217287830882292.\n",
      "C:\\Users\\USER\\AppData\\Local\\Temp\\ipykernel_8636\\4147431200.py:19: FutureWarning: suggest_loguniform has been deprecated in v3.0.0. This feature will be removed in v6.0.0. See https://github.com/optuna/optuna/releases/tag/v3.0.0. Use suggest_float(..., log=True) instead.\n",
      "  'learning_rate': trial.suggest_loguniform('learning_rate', 0.01, 0.1),  # 더 작은 학습률\n",
      "C:\\Users\\USER\\AppData\\Local\\Temp\\ipykernel_8636\\4147431200.py:26: FutureWarning: suggest_loguniform has been deprecated in v3.0.0. This feature will be removed in v6.0.0. See https://github.com/optuna/optuna/releases/tag/v3.0.0. Use suggest_float(..., log=True) instead.\n",
      "  'reg_alpha': trial.suggest_loguniform('reg_alpha', 1e-5, 10),  # L1 정규화\n",
      "C:\\Users\\USER\\AppData\\Local\\Temp\\ipykernel_8636\\4147431200.py:27: FutureWarning: suggest_loguniform has been deprecated in v3.0.0. This feature will be removed in v6.0.0. See https://github.com/optuna/optuna/releases/tag/v3.0.0. Use suggest_float(..., log=True) instead.\n",
      "  'reg_lambda': trial.suggest_loguniform('reg_lambda', 1e-5, 10),  # L2 정규화\n"
     ]
    },
    {
     "name": "stdout",
     "output_type": "stream",
     "text": [
      "[LightGBM] [Warning] Found whitespace in feature_names, replace with underlines\n",
      "[LightGBM] [Info] Number of positive: 151978, number of negative: 151978\n",
      "[LightGBM] [Info] Auto-choosing row-wise multi-threading, the overhead of testing was 0.025653 seconds.\n",
      "You can set `force_row_wise=true` to remove the overhead.\n",
      "And if memory is not enough, you can set `force_col_wise=true`.\n",
      "[LightGBM] [Info] Total Bins 903\n",
      "[LightGBM] [Info] Number of data points in the train set: 303956, number of used features: 28\n",
      "[LightGBM] [Info] [binary:BoostFromScore]: pavg=0.500000 -> initscore=0.000000\n"
     ]
    },
    {
     "name": "stderr",
     "output_type": "stream",
     "text": [
      "[I 2025-02-25 23:21:14,850] Trial 41 finished with value: 0.7211678466053542 and parameters: {'learning_rate': 0.019041742151368276, 'num_leaves': 31, 'n_estimators': 154, 'subsample': 0.7221117485112868, 'colsample_bytree': 0.9940034988760873, 'max_bin': 114, 'min_child_samples': 63, 'reg_alpha': 0.00019397987511399835, 'reg_lambda': 0.033705542335984655}. Best is trial 10 with value: 0.7217287830882292.\n",
      "C:\\Users\\USER\\AppData\\Local\\Temp\\ipykernel_8636\\4147431200.py:19: FutureWarning: suggest_loguniform has been deprecated in v3.0.0. This feature will be removed in v6.0.0. See https://github.com/optuna/optuna/releases/tag/v3.0.0. Use suggest_float(..., log=True) instead.\n",
      "  'learning_rate': trial.suggest_loguniform('learning_rate', 0.01, 0.1),  # 더 작은 학습률\n",
      "C:\\Users\\USER\\AppData\\Local\\Temp\\ipykernel_8636\\4147431200.py:26: FutureWarning: suggest_loguniform has been deprecated in v3.0.0. This feature will be removed in v6.0.0. See https://github.com/optuna/optuna/releases/tag/v3.0.0. Use suggest_float(..., log=True) instead.\n",
      "  'reg_alpha': trial.suggest_loguniform('reg_alpha', 1e-5, 10),  # L1 정규화\n",
      "C:\\Users\\USER\\AppData\\Local\\Temp\\ipykernel_8636\\4147431200.py:27: FutureWarning: suggest_loguniform has been deprecated in v3.0.0. This feature will be removed in v6.0.0. See https://github.com/optuna/optuna/releases/tag/v3.0.0. Use suggest_float(..., log=True) instead.\n",
      "  'reg_lambda': trial.suggest_loguniform('reg_lambda', 1e-5, 10),  # L2 정규화\n"
     ]
    },
    {
     "name": "stdout",
     "output_type": "stream",
     "text": [
      "[LightGBM] [Warning] Found whitespace in feature_names, replace with underlines\n",
      "[LightGBM] [Info] Number of positive: 151978, number of negative: 151978\n",
      "[LightGBM] [Info] Auto-choosing row-wise multi-threading, the overhead of testing was 0.031919 seconds.\n",
      "You can set `force_row_wise=true` to remove the overhead.\n",
      "And if memory is not enough, you can set `force_col_wise=true`.\n",
      "[LightGBM] [Info] Total Bins 875\n",
      "[LightGBM] [Info] Number of data points in the train set: 303956, number of used features: 28\n",
      "[LightGBM] [Info] [binary:BoostFromScore]: pavg=0.500000 -> initscore=0.000000\n"
     ]
    },
    {
     "name": "stderr",
     "output_type": "stream",
     "text": [
      "[I 2025-02-25 23:21:17,999] Trial 42 finished with value: 0.721236727374935 and parameters: {'learning_rate': 0.017279036007700133, 'num_leaves': 38, 'n_estimators': 146, 'subsample': 0.7172000302729478, 'colsample_bytree': 0.7588461235237073, 'max_bin': 110, 'min_child_samples': 62, 'reg_alpha': 0.005572133143324119, 'reg_lambda': 0.09635377407865311}. Best is trial 10 with value: 0.7217287830882292.\n",
      "C:\\Users\\USER\\AppData\\Local\\Temp\\ipykernel_8636\\4147431200.py:19: FutureWarning: suggest_loguniform has been deprecated in v3.0.0. This feature will be removed in v6.0.0. See https://github.com/optuna/optuna/releases/tag/v3.0.0. Use suggest_float(..., log=True) instead.\n",
      "  'learning_rate': trial.suggest_loguniform('learning_rate', 0.01, 0.1),  # 더 작은 학습률\n",
      "C:\\Users\\USER\\AppData\\Local\\Temp\\ipykernel_8636\\4147431200.py:26: FutureWarning: suggest_loguniform has been deprecated in v3.0.0. This feature will be removed in v6.0.0. See https://github.com/optuna/optuna/releases/tag/v3.0.0. Use suggest_float(..., log=True) instead.\n",
      "  'reg_alpha': trial.suggest_loguniform('reg_alpha', 1e-5, 10),  # L1 정규화\n",
      "C:\\Users\\USER\\AppData\\Local\\Temp\\ipykernel_8636\\4147431200.py:27: FutureWarning: suggest_loguniform has been deprecated in v3.0.0. This feature will be removed in v6.0.0. See https://github.com/optuna/optuna/releases/tag/v3.0.0. Use suggest_float(..., log=True) instead.\n",
      "  'reg_lambda': trial.suggest_loguniform('reg_lambda', 1e-5, 10),  # L2 정규화\n"
     ]
    },
    {
     "name": "stdout",
     "output_type": "stream",
     "text": [
      "[LightGBM] [Warning] Found whitespace in feature_names, replace with underlines\n",
      "[LightGBM] [Info] Number of positive: 151978, number of negative: 151978\n",
      "[LightGBM] [Info] Auto-choosing row-wise multi-threading, the overhead of testing was 0.039309 seconds.\n",
      "You can set `force_row_wise=true` to remove the overhead.\n",
      "And if memory is not enough, you can set `force_col_wise=true`.\n",
      "[LightGBM] [Info] Total Bins 1012\n",
      "[LightGBM] [Info] Number of data points in the train set: 303956, number of used features: 28\n",
      "[LightGBM] [Info] [binary:BoostFromScore]: pavg=0.500000 -> initscore=0.000000\n"
     ]
    },
    {
     "name": "stderr",
     "output_type": "stream",
     "text": [
      "[I 2025-02-25 23:21:21,883] Trial 43 finished with value: 0.7199745024513808 and parameters: {'learning_rate': 0.022750556789781856, 'num_leaves': 34, 'n_estimators': 191, 'subsample': 0.7365613922104279, 'colsample_bytree': 0.7751735337117522, 'max_bin': 130, 'min_child_samples': 56, 'reg_alpha': 0.0016384982716990037, 'reg_lambda': 0.3665642491591727}. Best is trial 10 with value: 0.7217287830882292.\n",
      "C:\\Users\\USER\\AppData\\Local\\Temp\\ipykernel_8636\\4147431200.py:19: FutureWarning: suggest_loguniform has been deprecated in v3.0.0. This feature will be removed in v6.0.0. See https://github.com/optuna/optuna/releases/tag/v3.0.0. Use suggest_float(..., log=True) instead.\n",
      "  'learning_rate': trial.suggest_loguniform('learning_rate', 0.01, 0.1),  # 더 작은 학습률\n",
      "C:\\Users\\USER\\AppData\\Local\\Temp\\ipykernel_8636\\4147431200.py:26: FutureWarning: suggest_loguniform has been deprecated in v3.0.0. This feature will be removed in v6.0.0. See https://github.com/optuna/optuna/releases/tag/v3.0.0. Use suggest_float(..., log=True) instead.\n",
      "  'reg_alpha': trial.suggest_loguniform('reg_alpha', 1e-5, 10),  # L1 정규화\n",
      "C:\\Users\\USER\\AppData\\Local\\Temp\\ipykernel_8636\\4147431200.py:27: FutureWarning: suggest_loguniform has been deprecated in v3.0.0. This feature will be removed in v6.0.0. See https://github.com/optuna/optuna/releases/tag/v3.0.0. Use suggest_float(..., log=True) instead.\n",
      "  'reg_lambda': trial.suggest_loguniform('reg_lambda', 1e-5, 10),  # L2 정규화\n"
     ]
    },
    {
     "name": "stdout",
     "output_type": "stream",
     "text": [
      "[LightGBM] [Warning] Found whitespace in feature_names, replace with underlines\n",
      "[LightGBM] [Info] Number of positive: 151978, number of negative: 151978\n",
      "[LightGBM] [Info] Auto-choosing row-wise multi-threading, the overhead of testing was 0.033989 seconds.\n",
      "You can set `force_row_wise=true` to remove the overhead.\n",
      "And if memory is not enough, you can set `force_col_wise=true`.\n",
      "[LightGBM] [Info] Total Bins 858\n",
      "[LightGBM] [Info] Number of data points in the train set: 303956, number of used features: 28\n",
      "[LightGBM] [Info] [binary:BoostFromScore]: pavg=0.500000 -> initscore=0.000000\n"
     ]
    },
    {
     "name": "stderr",
     "output_type": "stream",
     "text": [
      "[I 2025-02-25 23:21:25,633] Trial 44 finished with value: 0.7209482282365338 and parameters: {'learning_rate': 0.015329293955346721, 'num_leaves': 50, 'n_estimators': 156, 'subsample': 0.7724211257933846, 'colsample_bytree': 0.7530342068011493, 'max_bin': 108, 'min_child_samples': 67, 'reg_alpha': 0.056619510688743095, 'reg_lambda': 0.02024848214659753}. Best is trial 10 with value: 0.7217287830882292.\n",
      "C:\\Users\\USER\\AppData\\Local\\Temp\\ipykernel_8636\\4147431200.py:19: FutureWarning: suggest_loguniform has been deprecated in v3.0.0. This feature will be removed in v6.0.0. See https://github.com/optuna/optuna/releases/tag/v3.0.0. Use suggest_float(..., log=True) instead.\n",
      "  'learning_rate': trial.suggest_loguniform('learning_rate', 0.01, 0.1),  # 더 작은 학습률\n",
      "C:\\Users\\USER\\AppData\\Local\\Temp\\ipykernel_8636\\4147431200.py:26: FutureWarning: suggest_loguniform has been deprecated in v3.0.0. This feature will be removed in v6.0.0. See https://github.com/optuna/optuna/releases/tag/v3.0.0. Use suggest_float(..., log=True) instead.\n",
      "  'reg_alpha': trial.suggest_loguniform('reg_alpha', 1e-5, 10),  # L1 정규화\n",
      "C:\\Users\\USER\\AppData\\Local\\Temp\\ipykernel_8636\\4147431200.py:27: FutureWarning: suggest_loguniform has been deprecated in v3.0.0. This feature will be removed in v6.0.0. See https://github.com/optuna/optuna/releases/tag/v3.0.0. Use suggest_float(..., log=True) instead.\n",
      "  'reg_lambda': trial.suggest_loguniform('reg_lambda', 1e-5, 10),  # L2 정규화\n"
     ]
    },
    {
     "name": "stdout",
     "output_type": "stream",
     "text": [
      "[LightGBM] [Warning] Found whitespace in feature_names, replace with underlines\n",
      "[LightGBM] [Info] Number of positive: 151978, number of negative: 151978\n",
      "[LightGBM] [Info] Auto-choosing row-wise multi-threading, the overhead of testing was 0.038395 seconds.\n",
      "You can set `force_row_wise=true` to remove the overhead.\n",
      "And if memory is not enough, you can set `force_col_wise=true`.\n",
      "[LightGBM] [Info] Total Bins 951\n",
      "[LightGBM] [Info] Number of data points in the train set: 303956, number of used features: 28\n",
      "[LightGBM] [Info] [binary:BoostFromScore]: pavg=0.500000 -> initscore=0.000000\n"
     ]
    },
    {
     "name": "stderr",
     "output_type": "stream",
     "text": [
      "[I 2025-02-25 23:21:34,457] Trial 45 finished with value: 0.7176941730979252 and parameters: {'learning_rate': 0.018771624336539734, 'num_leaves': 89, 'n_estimators': 239, 'subsample': 0.8932268574198552, 'colsample_bytree': 0.7163693025838295, 'max_bin': 121, 'min_child_samples': 51, 'reg_alpha': 0.0001972948148333635, 'reg_lambda': 0.051404693034788305}. Best is trial 10 with value: 0.7217287830882292.\n",
      "C:\\Users\\USER\\AppData\\Local\\Temp\\ipykernel_8636\\4147431200.py:19: FutureWarning: suggest_loguniform has been deprecated in v3.0.0. This feature will be removed in v6.0.0. See https://github.com/optuna/optuna/releases/tag/v3.0.0. Use suggest_float(..., log=True) instead.\n",
      "  'learning_rate': trial.suggest_loguniform('learning_rate', 0.01, 0.1),  # 더 작은 학습률\n",
      "C:\\Users\\USER\\AppData\\Local\\Temp\\ipykernel_8636\\4147431200.py:26: FutureWarning: suggest_loguniform has been deprecated in v3.0.0. This feature will be removed in v6.0.0. See https://github.com/optuna/optuna/releases/tag/v3.0.0. Use suggest_float(..., log=True) instead.\n",
      "  'reg_alpha': trial.suggest_loguniform('reg_alpha', 1e-5, 10),  # L1 정규화\n",
      "C:\\Users\\USER\\AppData\\Local\\Temp\\ipykernel_8636\\4147431200.py:27: FutureWarning: suggest_loguniform has been deprecated in v3.0.0. This feature will be removed in v6.0.0. See https://github.com/optuna/optuna/releases/tag/v3.0.0. Use suggest_float(..., log=True) instead.\n",
      "  'reg_lambda': trial.suggest_loguniform('reg_lambda', 1e-5, 10),  # L2 정규화\n"
     ]
    },
    {
     "name": "stdout",
     "output_type": "stream",
     "text": [
      "[LightGBM] [Warning] Found whitespace in feature_names, replace with underlines\n",
      "[LightGBM] [Info] Number of positive: 151978, number of negative: 151978\n",
      "[LightGBM] [Info] Auto-choosing row-wise multi-threading, the overhead of testing was 0.028748 seconds.\n",
      "You can set `force_row_wise=true` to remove the overhead.\n",
      "And if memory is not enough, you can set `force_col_wise=true`.\n",
      "[LightGBM] [Info] Total Bins 1530\n",
      "[LightGBM] [Info] Number of data points in the train set: 303956, number of used features: 28\n",
      "[LightGBM] [Info] [binary:BoostFromScore]: pavg=0.500000 -> initscore=0.000000\n"
     ]
    },
    {
     "name": "stderr",
     "output_type": "stream",
     "text": [
      "[I 2025-02-25 23:21:36,899] Trial 46 finished with value: 0.7208512692861611 and parameters: {'learning_rate': 0.026180831439246845, 'num_leaves': 36, 'n_estimators': 125, 'subsample': 0.710183539112637, 'colsample_bytree': 0.7706187983008074, 'max_bin': 207, 'min_child_samples': 13, 'reg_alpha': 2.7437750903355858e-05, 'reg_lambda': 0.2074428533445971}. Best is trial 10 with value: 0.7217287830882292.\n",
      "C:\\Users\\USER\\AppData\\Local\\Temp\\ipykernel_8636\\4147431200.py:19: FutureWarning: suggest_loguniform has been deprecated in v3.0.0. This feature will be removed in v6.0.0. See https://github.com/optuna/optuna/releases/tag/v3.0.0. Use suggest_float(..., log=True) instead.\n",
      "  'learning_rate': trial.suggest_loguniform('learning_rate', 0.01, 0.1),  # 더 작은 학습률\n",
      "C:\\Users\\USER\\AppData\\Local\\Temp\\ipykernel_8636\\4147431200.py:26: FutureWarning: suggest_loguniform has been deprecated in v3.0.0. This feature will be removed in v6.0.0. See https://github.com/optuna/optuna/releases/tag/v3.0.0. Use suggest_float(..., log=True) instead.\n",
      "  'reg_alpha': trial.suggest_loguniform('reg_alpha', 1e-5, 10),  # L1 정규화\n",
      "C:\\Users\\USER\\AppData\\Local\\Temp\\ipykernel_8636\\4147431200.py:27: FutureWarning: suggest_loguniform has been deprecated in v3.0.0. This feature will be removed in v6.0.0. See https://github.com/optuna/optuna/releases/tag/v3.0.0. Use suggest_float(..., log=True) instead.\n",
      "  'reg_lambda': trial.suggest_loguniform('reg_lambda', 1e-5, 10),  # L2 정규화\n"
     ]
    },
    {
     "name": "stdout",
     "output_type": "stream",
     "text": [
      "[LightGBM] [Warning] Found whitespace in feature_names, replace with underlines\n",
      "[LightGBM] [Info] Number of positive: 151978, number of negative: 151978\n",
      "[LightGBM] [Info] Auto-choosing col-wise multi-threading, the overhead of testing was 0.050472 seconds.\n",
      "You can set `force_col_wise=true` to remove the overhead.\n",
      "[LightGBM] [Info] Total Bins 1129\n",
      "[LightGBM] [Info] Number of data points in the train set: 303956, number of used features: 28\n",
      "[LightGBM] [Info] [binary:BoostFromScore]: pavg=0.500000 -> initscore=0.000000\n"
     ]
    },
    {
     "name": "stderr",
     "output_type": "stream",
     "text": [
      "[I 2025-02-25 23:21:42,267] Trial 47 finished with value: 0.7186744937653895 and parameters: {'learning_rate': 0.02157277615763649, 'num_leaves': 57, 'n_estimators': 197, 'subsample': 0.7980687871589754, 'colsample_bytree': 0.7334912609908928, 'max_bin': 148, 'min_child_samples': 59, 'reg_alpha': 0.018458624365511, 'reg_lambda': 0.007148105403113273}. Best is trial 10 with value: 0.7217287830882292.\n",
      "C:\\Users\\USER\\AppData\\Local\\Temp\\ipykernel_8636\\4147431200.py:19: FutureWarning: suggest_loguniform has been deprecated in v3.0.0. This feature will be removed in v6.0.0. See https://github.com/optuna/optuna/releases/tag/v3.0.0. Use suggest_float(..., log=True) instead.\n",
      "  'learning_rate': trial.suggest_loguniform('learning_rate', 0.01, 0.1),  # 더 작은 학습률\n",
      "C:\\Users\\USER\\AppData\\Local\\Temp\\ipykernel_8636\\4147431200.py:26: FutureWarning: suggest_loguniform has been deprecated in v3.0.0. This feature will be removed in v6.0.0. See https://github.com/optuna/optuna/releases/tag/v3.0.0. Use suggest_float(..., log=True) instead.\n",
      "  'reg_alpha': trial.suggest_loguniform('reg_alpha', 1e-5, 10),  # L1 정규화\n",
      "C:\\Users\\USER\\AppData\\Local\\Temp\\ipykernel_8636\\4147431200.py:27: FutureWarning: suggest_loguniform has been deprecated in v3.0.0. This feature will be removed in v6.0.0. See https://github.com/optuna/optuna/releases/tag/v3.0.0. Use suggest_float(..., log=True) instead.\n",
      "  'reg_lambda': trial.suggest_loguniform('reg_lambda', 1e-5, 10),  # L2 정규화\n"
     ]
    },
    {
     "name": "stdout",
     "output_type": "stream",
     "text": [
      "[LightGBM] [Warning] Found whitespace in feature_names, replace with underlines\n",
      "[LightGBM] [Info] Number of positive: 151978, number of negative: 151978\n",
      "[LightGBM] [Info] Auto-choosing row-wise multi-threading, the overhead of testing was 0.023999 seconds.\n",
      "You can set `force_row_wise=true` to remove the overhead.\n",
      "And if memory is not enough, you can set `force_col_wise=true`.\n",
      "[LightGBM] [Info] Total Bins 957\n",
      "[LightGBM] [Info] Number of data points in the train set: 303956, number of used features: 28\n",
      "[LightGBM] [Info] [binary:BoostFromScore]: pavg=0.500000 -> initscore=0.000000\n"
     ]
    },
    {
     "name": "stderr",
     "output_type": "stream",
     "text": [
      "[I 2025-02-25 23:21:46,968] Trial 48 finished with value: 0.7077797901289551 and parameters: {'learning_rate': 0.09646043800569484, 'num_leaves': 114, 'n_estimators': 140, 'subsample': 0.7479458540040784, 'colsample_bytree': 0.7142913392300648, 'max_bin': 122, 'min_child_samples': 72, 'reg_alpha': 9.259971774789149e-05, 'reg_lambda': 1.0091830855420246e-05}. Best is trial 10 with value: 0.7217287830882292.\n",
      "C:\\Users\\USER\\AppData\\Local\\Temp\\ipykernel_8636\\4147431200.py:19: FutureWarning: suggest_loguniform has been deprecated in v3.0.0. This feature will be removed in v6.0.0. See https://github.com/optuna/optuna/releases/tag/v3.0.0. Use suggest_float(..., log=True) instead.\n",
      "  'learning_rate': trial.suggest_loguniform('learning_rate', 0.01, 0.1),  # 더 작은 학습률\n",
      "C:\\Users\\USER\\AppData\\Local\\Temp\\ipykernel_8636\\4147431200.py:26: FutureWarning: suggest_loguniform has been deprecated in v3.0.0. This feature will be removed in v6.0.0. See https://github.com/optuna/optuna/releases/tag/v3.0.0. Use suggest_float(..., log=True) instead.\n",
      "  'reg_alpha': trial.suggest_loguniform('reg_alpha', 1e-5, 10),  # L1 정규화\n",
      "C:\\Users\\USER\\AppData\\Local\\Temp\\ipykernel_8636\\4147431200.py:27: FutureWarning: suggest_loguniform has been deprecated in v3.0.0. This feature will be removed in v6.0.0. See https://github.com/optuna/optuna/releases/tag/v3.0.0. Use suggest_float(..., log=True) instead.\n",
      "  'reg_lambda': trial.suggest_loguniform('reg_lambda', 1e-5, 10),  # L2 정규화\n"
     ]
    },
    {
     "name": "stdout",
     "output_type": "stream",
     "text": [
      "[LightGBM] [Warning] Found whitespace in feature_names, replace with underlines\n",
      "[LightGBM] [Info] Number of positive: 151978, number of negative: 151978\n",
      "[LightGBM] [Info] Auto-choosing row-wise multi-threading, the overhead of testing was 0.033290 seconds.\n",
      "You can set `force_row_wise=true` to remove the overhead.\n",
      "And if memory is not enough, you can set `force_col_wise=true`.\n",
      "[LightGBM] [Info] Total Bins 808\n",
      "[LightGBM] [Info] Number of data points in the train set: 303956, number of used features: 28\n",
      "[LightGBM] [Info] [binary:BoostFromScore]: pavg=0.500000 -> initscore=0.000000\n"
     ]
    },
    {
     "name": "stderr",
     "output_type": "stream",
     "text": [
      "[I 2025-02-25 23:21:56,560] Trial 49 finished with value: 0.7173387834383451 and parameters: {'learning_rate': 0.013809743343714258, 'num_leaves': 31, 'n_estimators': 572, 'subsample': 0.7286956354228529, 'colsample_bytree': 0.83104555794088, 'max_bin': 100, 'min_child_samples': 76, 'reg_alpha': 0.0003327247569545446, 'reg_lambda': 0.13007995290638394}. Best is trial 10 with value: 0.7217287830882292.\n",
      "C:\\Users\\USER\\AppData\\Local\\Temp\\ipykernel_8636\\4147431200.py:19: FutureWarning: suggest_loguniform has been deprecated in v3.0.0. This feature will be removed in v6.0.0. See https://github.com/optuna/optuna/releases/tag/v3.0.0. Use suggest_float(..., log=True) instead.\n",
      "  'learning_rate': trial.suggest_loguniform('learning_rate', 0.01, 0.1),  # 더 작은 학습률\n",
      "C:\\Users\\USER\\AppData\\Local\\Temp\\ipykernel_8636\\4147431200.py:26: FutureWarning: suggest_loguniform has been deprecated in v3.0.0. This feature will be removed in v6.0.0. See https://github.com/optuna/optuna/releases/tag/v3.0.0. Use suggest_float(..., log=True) instead.\n",
      "  'reg_alpha': trial.suggest_loguniform('reg_alpha', 1e-5, 10),  # L1 정규화\n",
      "C:\\Users\\USER\\AppData\\Local\\Temp\\ipykernel_8636\\4147431200.py:27: FutureWarning: suggest_loguniform has been deprecated in v3.0.0. This feature will be removed in v6.0.0. See https://github.com/optuna/optuna/releases/tag/v3.0.0. Use suggest_float(..., log=True) instead.\n",
      "  'reg_lambda': trial.suggest_loguniform('reg_lambda', 1e-5, 10),  # L2 정규화\n"
     ]
    },
    {
     "name": "stdout",
     "output_type": "stream",
     "text": [
      "[LightGBM] [Warning] Found whitespace in feature_names, replace with underlines\n",
      "[LightGBM] [Info] Number of positive: 151978, number of negative: 151978\n",
      "[LightGBM] [Info] Auto-choosing row-wise multi-threading, the overhead of testing was 0.025401 seconds.\n",
      "You can set `force_row_wise=true` to remove the overhead.\n",
      "And if memory is not enough, you can set `force_col_wise=true`.\n",
      "[LightGBM] [Info] Total Bins 1927\n",
      "[LightGBM] [Info] Number of data points in the train set: 303956, number of used features: 28\n",
      "[LightGBM] [Info] [binary:BoostFromScore]: pavg=0.500000 -> initscore=0.000000\n"
     ]
    },
    {
     "name": "stderr",
     "output_type": "stream",
     "text": [
      "[I 2025-02-25 23:22:11,499] Trial 50 finished with value: 0.7125747978389957 and parameters: {'learning_rate': 0.016666596931561164, 'num_leaves': 44, 'n_estimators': 732, 'subsample': 0.76704671771991, 'colsample_bytree': 0.78733519849883, 'max_bin': 294, 'min_child_samples': 90, 'reg_alpha': 9.26812033923046, 'reg_lambda': 0.02420175273358819}. Best is trial 10 with value: 0.7217287830882292.\n",
      "C:\\Users\\USER\\AppData\\Local\\Temp\\ipykernel_8636\\4147431200.py:19: FutureWarning: suggest_loguniform has been deprecated in v3.0.0. This feature will be removed in v6.0.0. See https://github.com/optuna/optuna/releases/tag/v3.0.0. Use suggest_float(..., log=True) instead.\n",
      "  'learning_rate': trial.suggest_loguniform('learning_rate', 0.01, 0.1),  # 더 작은 학습률\n",
      "C:\\Users\\USER\\AppData\\Local\\Temp\\ipykernel_8636\\4147431200.py:26: FutureWarning: suggest_loguniform has been deprecated in v3.0.0. This feature will be removed in v6.0.0. See https://github.com/optuna/optuna/releases/tag/v3.0.0. Use suggest_float(..., log=True) instead.\n",
      "  'reg_alpha': trial.suggest_loguniform('reg_alpha', 1e-5, 10),  # L1 정규화\n",
      "C:\\Users\\USER\\AppData\\Local\\Temp\\ipykernel_8636\\4147431200.py:27: FutureWarning: suggest_loguniform has been deprecated in v3.0.0. This feature will be removed in v6.0.0. See https://github.com/optuna/optuna/releases/tag/v3.0.0. Use suggest_float(..., log=True) instead.\n",
      "  'reg_lambda': trial.suggest_loguniform('reg_lambda', 1e-5, 10),  # L2 정규화\n"
     ]
    },
    {
     "name": "stdout",
     "output_type": "stream",
     "text": [
      "[LightGBM] [Warning] Found whitespace in feature_names, replace with underlines\n",
      "[LightGBM] [Info] Number of positive: 151978, number of negative: 151978\n",
      "[LightGBM] [Info] Auto-choosing row-wise multi-threading, the overhead of testing was 0.023655 seconds.\n",
      "You can set `force_row_wise=true` to remove the overhead.\n",
      "And if memory is not enough, you can set `force_col_wise=true`.\n",
      "[LightGBM] [Info] Total Bins 999\n",
      "[LightGBM] [Info] Number of data points in the train set: 303956, number of used features: 28\n",
      "[LightGBM] [Info] [binary:BoostFromScore]: pavg=0.500000 -> initscore=0.000000\n"
     ]
    },
    {
     "name": "stderr",
     "output_type": "stream",
     "text": [
      "[I 2025-02-25 23:22:13,884] Trial 51 finished with value: 0.7213220104676481 and parameters: {'learning_rate': 0.02113389837708532, 'num_leaves': 49, 'n_estimators': 104, 'subsample': 0.7542298535200335, 'colsample_bytree': 0.7658187516092902, 'max_bin': 128, 'min_child_samples': 68, 'reg_alpha': 0.0005863941175087137, 'reg_lambda': 0.059316060718389324}. Best is trial 10 with value: 0.7217287830882292.\n",
      "C:\\Users\\USER\\AppData\\Local\\Temp\\ipykernel_8636\\4147431200.py:19: FutureWarning: suggest_loguniform has been deprecated in v3.0.0. This feature will be removed in v6.0.0. See https://github.com/optuna/optuna/releases/tag/v3.0.0. Use suggest_float(..., log=True) instead.\n",
      "  'learning_rate': trial.suggest_loguniform('learning_rate', 0.01, 0.1),  # 더 작은 학습률\n",
      "C:\\Users\\USER\\AppData\\Local\\Temp\\ipykernel_8636\\4147431200.py:26: FutureWarning: suggest_loguniform has been deprecated in v3.0.0. This feature will be removed in v6.0.0. See https://github.com/optuna/optuna/releases/tag/v3.0.0. Use suggest_float(..., log=True) instead.\n",
      "  'reg_alpha': trial.suggest_loguniform('reg_alpha', 1e-5, 10),  # L1 정규화\n",
      "C:\\Users\\USER\\AppData\\Local\\Temp\\ipykernel_8636\\4147431200.py:27: FutureWarning: suggest_loguniform has been deprecated in v3.0.0. This feature will be removed in v6.0.0. See https://github.com/optuna/optuna/releases/tag/v3.0.0. Use suggest_float(..., log=True) instead.\n",
      "  'reg_lambda': trial.suggest_loguniform('reg_lambda', 1e-5, 10),  # L2 정규화\n"
     ]
    },
    {
     "name": "stdout",
     "output_type": "stream",
     "text": [
      "[LightGBM] [Warning] Found whitespace in feature_names, replace with underlines\n",
      "[LightGBM] [Info] Number of positive: 151978, number of negative: 151978\n",
      "[LightGBM] [Info] Auto-choosing row-wise multi-threading, the overhead of testing was 0.039043 seconds.\n",
      "You can set `force_row_wise=true` to remove the overhead.\n",
      "And if memory is not enough, you can set `force_col_wise=true`.\n",
      "[LightGBM] [Info] Total Bins 1039\n",
      "[LightGBM] [Info] Number of data points in the train set: 303956, number of used features: 28\n",
      "[LightGBM] [Info] [binary:BoostFromScore]: pavg=0.500000 -> initscore=0.000000\n"
     ]
    },
    {
     "name": "stderr",
     "output_type": "stream",
     "text": [
      "[I 2025-02-25 23:22:18,576] Trial 52 finished with value: 0.7188806986788485 and parameters: {'learning_rate': 0.023644830064955887, 'num_leaves': 61, 'n_estimators': 171, 'subsample': 0.789941564090871, 'colsample_bytree': 0.7493759801293663, 'max_bin': 134, 'min_child_samples': 78, 'reg_alpha': 0.00032523601275289896, 'reg_lambda': 0.31993857113435664}. Best is trial 10 with value: 0.7217287830882292.\n",
      "C:\\Users\\USER\\AppData\\Local\\Temp\\ipykernel_8636\\4147431200.py:19: FutureWarning: suggest_loguniform has been deprecated in v3.0.0. This feature will be removed in v6.0.0. See https://github.com/optuna/optuna/releases/tag/v3.0.0. Use suggest_float(..., log=True) instead.\n",
      "  'learning_rate': trial.suggest_loguniform('learning_rate', 0.01, 0.1),  # 더 작은 학습률\n",
      "C:\\Users\\USER\\AppData\\Local\\Temp\\ipykernel_8636\\4147431200.py:26: FutureWarning: suggest_loguniform has been deprecated in v3.0.0. This feature will be removed in v6.0.0. See https://github.com/optuna/optuna/releases/tag/v3.0.0. Use suggest_float(..., log=True) instead.\n",
      "  'reg_alpha': trial.suggest_loguniform('reg_alpha', 1e-5, 10),  # L1 정규화\n",
      "C:\\Users\\USER\\AppData\\Local\\Temp\\ipykernel_8636\\4147431200.py:27: FutureWarning: suggest_loguniform has been deprecated in v3.0.0. This feature will be removed in v6.0.0. See https://github.com/optuna/optuna/releases/tag/v3.0.0. Use suggest_float(..., log=True) instead.\n",
      "  'reg_lambda': trial.suggest_loguniform('reg_lambda', 1e-5, 10),  # L2 정규화\n"
     ]
    },
    {
     "name": "stdout",
     "output_type": "stream",
     "text": [
      "[LightGBM] [Warning] Found whitespace in feature_names, replace with underlines\n",
      "[LightGBM] [Info] Number of positive: 151978, number of negative: 151978\n",
      "[LightGBM] [Info] Auto-choosing row-wise multi-threading, the overhead of testing was 0.049680 seconds.\n",
      "You can set `force_row_wise=true` to remove the overhead.\n",
      "And if memory is not enough, you can set `force_col_wise=true`.\n",
      "[LightGBM] [Info] Total Bins 875\n",
      "[LightGBM] [Info] Number of data points in the train set: 303956, number of used features: 28\n",
      "[LightGBM] [Info] [binary:BoostFromScore]: pavg=0.500000 -> initscore=0.000000\n"
     ]
    },
    {
     "name": "stderr",
     "output_type": "stream",
     "text": [
      "[I 2025-02-25 23:22:21,616] Trial 53 finished with value: 0.7198832825665205 and parameters: {'learning_rate': 0.029338108942734177, 'num_leaves': 52, 'n_estimators': 129, 'subsample': 0.7581167532795534, 'colsample_bytree': 0.7785313748380345, 'max_bin': 110, 'min_child_samples': 85, 'reg_alpha': 0.002454765112942617, 'reg_lambda': 1.8316822712592076}. Best is trial 10 with value: 0.7217287830882292.\n",
      "C:\\Users\\USER\\AppData\\Local\\Temp\\ipykernel_8636\\4147431200.py:19: FutureWarning: suggest_loguniform has been deprecated in v3.0.0. This feature will be removed in v6.0.0. See https://github.com/optuna/optuna/releases/tag/v3.0.0. Use suggest_float(..., log=True) instead.\n",
      "  'learning_rate': trial.suggest_loguniform('learning_rate', 0.01, 0.1),  # 더 작은 학습률\n",
      "C:\\Users\\USER\\AppData\\Local\\Temp\\ipykernel_8636\\4147431200.py:26: FutureWarning: suggest_loguniform has been deprecated in v3.0.0. This feature will be removed in v6.0.0. See https://github.com/optuna/optuna/releases/tag/v3.0.0. Use suggest_float(..., log=True) instead.\n",
      "  'reg_alpha': trial.suggest_loguniform('reg_alpha', 1e-5, 10),  # L1 정규화\n",
      "C:\\Users\\USER\\AppData\\Local\\Temp\\ipykernel_8636\\4147431200.py:27: FutureWarning: suggest_loguniform has been deprecated in v3.0.0. This feature will be removed in v6.0.0. See https://github.com/optuna/optuna/releases/tag/v3.0.0. Use suggest_float(..., log=True) instead.\n",
      "  'reg_lambda': trial.suggest_loguniform('reg_lambda', 1e-5, 10),  # L2 정규화\n"
     ]
    },
    {
     "name": "stdout",
     "output_type": "stream",
     "text": [
      "[LightGBM] [Warning] Found whitespace in feature_names, replace with underlines\n",
      "[LightGBM] [Info] Number of positive: 151978, number of negative: 151978\n",
      "[LightGBM] [Info] Auto-choosing row-wise multi-threading, the overhead of testing was 0.024214 seconds.\n",
      "You can set `force_row_wise=true` to remove the overhead.\n",
      "And if memory is not enough, you can set `force_col_wise=true`.\n",
      "[LightGBM] [Info] Total Bins 944\n",
      "[LightGBM] [Info] Number of data points in the train set: 303956, number of used features: 28\n",
      "[LightGBM] [Info] [binary:BoostFromScore]: pavg=0.500000 -> initscore=0.000000\n"
     ]
    },
    {
     "name": "stderr",
     "output_type": "stream",
     "text": [
      "[I 2025-02-25 23:22:23,542] Trial 54 finished with value: 0.721842506860565 and parameters: {'learning_rate': 0.019215475076619425, 'num_leaves': 35, 'n_estimators': 100, 'subsample': 0.7729633548958939, 'colsample_bytree': 0.8653134297398222, 'max_bin': 120, 'min_child_samples': 59, 'reg_alpha': 5.532035921352687e-05, 'reg_lambda': 0.09755053941193434}. Best is trial 54 with value: 0.721842506860565.\n",
      "C:\\Users\\USER\\AppData\\Local\\Temp\\ipykernel_8636\\4147431200.py:19: FutureWarning: suggest_loguniform has been deprecated in v3.0.0. This feature will be removed in v6.0.0. See https://github.com/optuna/optuna/releases/tag/v3.0.0. Use suggest_float(..., log=True) instead.\n",
      "  'learning_rate': trial.suggest_loguniform('learning_rate', 0.01, 0.1),  # 더 작은 학습률\n",
      "C:\\Users\\USER\\AppData\\Local\\Temp\\ipykernel_8636\\4147431200.py:26: FutureWarning: suggest_loguniform has been deprecated in v3.0.0. This feature will be removed in v6.0.0. See https://github.com/optuna/optuna/releases/tag/v3.0.0. Use suggest_float(..., log=True) instead.\n",
      "  'reg_alpha': trial.suggest_loguniform('reg_alpha', 1e-5, 10),  # L1 정규화\n",
      "C:\\Users\\USER\\AppData\\Local\\Temp\\ipykernel_8636\\4147431200.py:27: FutureWarning: suggest_loguniform has been deprecated in v3.0.0. This feature will be removed in v6.0.0. See https://github.com/optuna/optuna/releases/tag/v3.0.0. Use suggest_float(..., log=True) instead.\n",
      "  'reg_lambda': trial.suggest_loguniform('reg_lambda', 1e-5, 10),  # L2 정규화\n"
     ]
    },
    {
     "name": "stdout",
     "output_type": "stream",
     "text": [
      "[LightGBM] [Warning] Found whitespace in feature_names, replace with underlines\n",
      "[LightGBM] [Info] Number of positive: 151978, number of negative: 151978\n",
      "[LightGBM] [Info] Auto-choosing row-wise multi-threading, the overhead of testing was 0.019985 seconds.\n",
      "You can set `force_row_wise=true` to remove the overhead.\n",
      "And if memory is not enough, you can set `force_col_wise=true`.\n",
      "[LightGBM] [Info] Total Bins 924\n",
      "[LightGBM] [Info] Number of data points in the train set: 303956, number of used features: 28\n",
      "[LightGBM] [Info] [binary:BoostFromScore]: pavg=0.500000 -> initscore=0.000000\n"
     ]
    },
    {
     "name": "stderr",
     "output_type": "stream",
     "text": [
      "[I 2025-02-25 23:22:29,732] Trial 55 finished with value: 0.7191779077753842 and parameters: {'learning_rate': 0.018520369281976527, 'num_leaves': 34, 'n_estimators': 281, 'subsample': 0.7791518211363218, 'colsample_bytree': 0.8630370638874176, 'max_bin': 117, 'min_child_samples': 47, 'reg_alpha': 5.42768120623634e-05, 'reg_lambda': 0.1726046008947541}. Best is trial 54 with value: 0.721842506860565.\n",
      "C:\\Users\\USER\\AppData\\Local\\Temp\\ipykernel_8636\\4147431200.py:19: FutureWarning: suggest_loguniform has been deprecated in v3.0.0. This feature will be removed in v6.0.0. See https://github.com/optuna/optuna/releases/tag/v3.0.0. Use suggest_float(..., log=True) instead.\n",
      "  'learning_rate': trial.suggest_loguniform('learning_rate', 0.01, 0.1),  # 더 작은 학습률\n",
      "C:\\Users\\USER\\AppData\\Local\\Temp\\ipykernel_8636\\4147431200.py:26: FutureWarning: suggest_loguniform has been deprecated in v3.0.0. This feature will be removed in v6.0.0. See https://github.com/optuna/optuna/releases/tag/v3.0.0. Use suggest_float(..., log=True) instead.\n",
      "  'reg_alpha': trial.suggest_loguniform('reg_alpha', 1e-5, 10),  # L1 정규화\n",
      "C:\\Users\\USER\\AppData\\Local\\Temp\\ipykernel_8636\\4147431200.py:27: FutureWarning: suggest_loguniform has been deprecated in v3.0.0. This feature will be removed in v6.0.0. See https://github.com/optuna/optuna/releases/tag/v3.0.0. Use suggest_float(..., log=True) instead.\n",
      "  'reg_lambda': trial.suggest_loguniform('reg_lambda', 1e-5, 10),  # L2 정규화\n"
     ]
    },
    {
     "name": "stdout",
     "output_type": "stream",
     "text": [
      "[LightGBM] [Warning] Found whitespace in feature_names, replace with underlines\n",
      "[LightGBM] [Info] Number of positive: 151978, number of negative: 151978\n",
      "[LightGBM] [Info] Auto-choosing row-wise multi-threading, the overhead of testing was 0.035502 seconds.\n",
      "You can set `force_row_wise=true` to remove the overhead.\n",
      "And if memory is not enough, you can set `force_col_wise=true`.\n",
      "[LightGBM] [Info] Total Bins 1779\n",
      "[LightGBM] [Info] Number of data points in the train set: 303956, number of used features: 28\n",
      "[LightGBM] [Info] [binary:BoostFromScore]: pavg=0.500000 -> initscore=0.000000\n"
     ]
    },
    {
     "name": "stderr",
     "output_type": "stream",
     "text": [
      "[I 2025-02-25 23:22:44,108] Trial 56 finished with value: 0.7104848013427516 and parameters: {'learning_rate': 0.025042234304099062, 'num_leaves': 36, 'n_estimators': 928, 'subsample': 0.8145210017643728, 'colsample_bytree': 0.8997285851244776, 'max_bin': 243, 'min_child_samples': 57, 'reg_alpha': 1.940490651968402e-05, 'reg_lambda': 0.017209995439319576}. Best is trial 54 with value: 0.721842506860565.\n",
      "C:\\Users\\USER\\AppData\\Local\\Temp\\ipykernel_8636\\4147431200.py:19: FutureWarning: suggest_loguniform has been deprecated in v3.0.0. This feature will be removed in v6.0.0. See https://github.com/optuna/optuna/releases/tag/v3.0.0. Use suggest_float(..., log=True) instead.\n",
      "  'learning_rate': trial.suggest_loguniform('learning_rate', 0.01, 0.1),  # 더 작은 학습률\n",
      "C:\\Users\\USER\\AppData\\Local\\Temp\\ipykernel_8636\\4147431200.py:26: FutureWarning: suggest_loguniform has been deprecated in v3.0.0. This feature will be removed in v6.0.0. See https://github.com/optuna/optuna/releases/tag/v3.0.0. Use suggest_float(..., log=True) instead.\n",
      "  'reg_alpha': trial.suggest_loguniform('reg_alpha', 1e-5, 10),  # L1 정규화\n",
      "C:\\Users\\USER\\AppData\\Local\\Temp\\ipykernel_8636\\4147431200.py:27: FutureWarning: suggest_loguniform has been deprecated in v3.0.0. This feature will be removed in v6.0.0. See https://github.com/optuna/optuna/releases/tag/v3.0.0. Use suggest_float(..., log=True) instead.\n",
      "  'reg_lambda': trial.suggest_loguniform('reg_lambda', 1e-5, 10),  # L2 정규화\n"
     ]
    },
    {
     "name": "stdout",
     "output_type": "stream",
     "text": [
      "[LightGBM] [Warning] Found whitespace in feature_names, replace with underlines\n",
      "[LightGBM] [Info] Number of positive: 151978, number of negative: 151978\n",
      "[LightGBM] [Info] Auto-choosing row-wise multi-threading, the overhead of testing was 0.023825 seconds.\n",
      "You can set `force_row_wise=true` to remove the overhead.\n",
      "And if memory is not enough, you can set `force_col_wise=true`.\n",
      "[LightGBM] [Info] Total Bins 852\n",
      "[LightGBM] [Info] Number of data points in the train set: 303956, number of used features: 28\n",
      "[LightGBM] [Info] [binary:BoostFromScore]: pavg=0.500000 -> initscore=0.000000\n"
     ]
    },
    {
     "name": "stderr",
     "output_type": "stream",
     "text": [
      "[I 2025-02-25 23:22:48,400] Trial 57 finished with value: 0.7203846993377776 and parameters: {'learning_rate': 0.014838054603766858, 'num_leaves': 42, 'n_estimators': 215, 'subsample': 0.7319227771775616, 'colsample_bytree': 0.9369111350388012, 'max_bin': 107, 'min_child_samples': 61, 'reg_alpha': 6.018608882147128e-05, 'reg_lambda': 0.01060169054055756}. Best is trial 54 with value: 0.721842506860565.\n",
      "C:\\Users\\USER\\AppData\\Local\\Temp\\ipykernel_8636\\4147431200.py:19: FutureWarning: suggest_loguniform has been deprecated in v3.0.0. This feature will be removed in v6.0.0. See https://github.com/optuna/optuna/releases/tag/v3.0.0. Use suggest_float(..., log=True) instead.\n",
      "  'learning_rate': trial.suggest_loguniform('learning_rate', 0.01, 0.1),  # 더 작은 학습률\n",
      "C:\\Users\\USER\\AppData\\Local\\Temp\\ipykernel_8636\\4147431200.py:26: FutureWarning: suggest_loguniform has been deprecated in v3.0.0. This feature will be removed in v6.0.0. See https://github.com/optuna/optuna/releases/tag/v3.0.0. Use suggest_float(..., log=True) instead.\n",
      "  'reg_alpha': trial.suggest_loguniform('reg_alpha', 1e-5, 10),  # L1 정규화\n",
      "C:\\Users\\USER\\AppData\\Local\\Temp\\ipykernel_8636\\4147431200.py:27: FutureWarning: suggest_loguniform has been deprecated in v3.0.0. This feature will be removed in v6.0.0. See https://github.com/optuna/optuna/releases/tag/v3.0.0. Use suggest_float(..., log=True) instead.\n",
      "  'reg_lambda': trial.suggest_loguniform('reg_lambda', 1e-5, 10),  # L2 정규화\n"
     ]
    },
    {
     "name": "stdout",
     "output_type": "stream",
     "text": [
      "[LightGBM] [Warning] Found whitespace in feature_names, replace with underlines\n",
      "[LightGBM] [Info] Number of positive: 151978, number of negative: 151978\n",
      "[LightGBM] [Info] Auto-choosing row-wise multi-threading, the overhead of testing was 0.021546 seconds.\n",
      "You can set `force_row_wise=true` to remove the overhead.\n",
      "And if memory is not enough, you can set `force_col_wise=true`.\n",
      "[LightGBM] [Info] Total Bins 1101\n",
      "[LightGBM] [Info] Number of data points in the train set: 303956, number of used features: 28\n",
      "[LightGBM] [Info] [binary:BoostFromScore]: pavg=0.500000 -> initscore=0.000000\n"
     ]
    },
    {
     "name": "stderr",
     "output_type": "stream",
     "text": [
      "[I 2025-02-25 23:22:52,319] Trial 58 finished with value: 0.7202490059393286 and parameters: {'learning_rate': 0.019465764382788353, 'num_leaves': 44, 'n_estimators': 177, 'subsample': 0.8468306842084926, 'colsample_bytree': 0.7976427653004677, 'max_bin': 143, 'min_child_samples': 38, 'reg_alpha': 0.07978322668131527, 'reg_lambda': 0.03770263693210223}. Best is trial 54 with value: 0.721842506860565.\n",
      "C:\\Users\\USER\\AppData\\Local\\Temp\\ipykernel_8636\\4147431200.py:19: FutureWarning: suggest_loguniform has been deprecated in v3.0.0. This feature will be removed in v6.0.0. See https://github.com/optuna/optuna/releases/tag/v3.0.0. Use suggest_float(..., log=True) instead.\n",
      "  'learning_rate': trial.suggest_loguniform('learning_rate', 0.01, 0.1),  # 더 작은 학습률\n",
      "C:\\Users\\USER\\AppData\\Local\\Temp\\ipykernel_8636\\4147431200.py:26: FutureWarning: suggest_loguniform has been deprecated in v3.0.0. This feature will be removed in v6.0.0. See https://github.com/optuna/optuna/releases/tag/v3.0.0. Use suggest_float(..., log=True) instead.\n",
      "  'reg_alpha': trial.suggest_loguniform('reg_alpha', 1e-5, 10),  # L1 정규화\n",
      "C:\\Users\\USER\\AppData\\Local\\Temp\\ipykernel_8636\\4147431200.py:27: FutureWarning: suggest_loguniform has been deprecated in v3.0.0. This feature will be removed in v6.0.0. See https://github.com/optuna/optuna/releases/tag/v3.0.0. Use suggest_float(..., log=True) instead.\n",
      "  'reg_lambda': trial.suggest_loguniform('reg_lambda', 1e-5, 10),  # L2 정규화\n"
     ]
    },
    {
     "name": "stdout",
     "output_type": "stream",
     "text": [
      "[LightGBM] [Warning] Found whitespace in feature_names, replace with underlines\n",
      "[LightGBM] [Info] Number of positive: 151978, number of negative: 151978\n",
      "[LightGBM] [Info] Auto-choosing row-wise multi-threading, the overhead of testing was 0.037314 seconds.\n",
      "You can set `force_row_wise=true` to remove the overhead.\n",
      "And if memory is not enough, you can set `force_col_wise=true`.\n",
      "[LightGBM] [Info] Total Bins 957\n",
      "[LightGBM] [Info] Number of data points in the train set: 303956, number of used features: 28\n",
      "[LightGBM] [Info] [binary:BoostFromScore]: pavg=0.500000 -> initscore=0.000000\n"
     ]
    },
    {
     "name": "stderr",
     "output_type": "stream",
     "text": [
      "[I 2025-02-25 23:22:56,070] Trial 59 finished with value: 0.7196457529607017 and parameters: {'learning_rate': 0.03385101656703643, 'num_leaves': 34, 'n_estimators': 135, 'subsample': 0.7989154085253295, 'colsample_bytree': 0.8926251368122149, 'max_bin': 122, 'min_child_samples': 64, 'reg_alpha': 0.22077432109104161, 'reg_lambda': 0.5029299724059831}. Best is trial 54 with value: 0.721842506860565.\n",
      "C:\\Users\\USER\\AppData\\Local\\Temp\\ipykernel_8636\\4147431200.py:19: FutureWarning: suggest_loguniform has been deprecated in v3.0.0. This feature will be removed in v6.0.0. See https://github.com/optuna/optuna/releases/tag/v3.0.0. Use suggest_float(..., log=True) instead.\n",
      "  'learning_rate': trial.suggest_loguniform('learning_rate', 0.01, 0.1),  # 더 작은 학습률\n",
      "C:\\Users\\USER\\AppData\\Local\\Temp\\ipykernel_8636\\4147431200.py:26: FutureWarning: suggest_loguniform has been deprecated in v3.0.0. This feature will be removed in v6.0.0. See https://github.com/optuna/optuna/releases/tag/v3.0.0. Use suggest_float(..., log=True) instead.\n",
      "  'reg_alpha': trial.suggest_loguniform('reg_alpha', 1e-5, 10),  # L1 정규화\n",
      "C:\\Users\\USER\\AppData\\Local\\Temp\\ipykernel_8636\\4147431200.py:27: FutureWarning: suggest_loguniform has been deprecated in v3.0.0. This feature will be removed in v6.0.0. See https://github.com/optuna/optuna/releases/tag/v3.0.0. Use suggest_float(..., log=True) instead.\n",
      "  'reg_lambda': trial.suggest_loguniform('reg_lambda', 1e-5, 10),  # L2 정규화\n"
     ]
    },
    {
     "name": "stdout",
     "output_type": "stream",
     "text": [
      "[LightGBM] [Warning] Found whitespace in feature_names, replace with underlines\n",
      "[LightGBM] [Info] Number of positive: 151978, number of negative: 151978\n",
      "[LightGBM] [Info] Auto-choosing row-wise multi-threading, the overhead of testing was 0.026899 seconds.\n",
      "You can set `force_row_wise=true` to remove the overhead.\n",
      "And if memory is not enough, you can set `force_col_wise=true`.\n",
      "[LightGBM] [Info] Total Bins 852\n",
      "[LightGBM] [Info] Number of data points in the train set: 303956, number of used features: 28\n",
      "[LightGBM] [Info] [binary:BoostFromScore]: pavg=0.500000 -> initscore=0.000000\n"
     ]
    },
    {
     "name": "stderr",
     "output_type": "stream",
     "text": [
      "[I 2025-02-25 23:23:01,616] Trial 60 finished with value: 0.7157107532551945 and parameters: {'learning_rate': 0.028661717114259466, 'num_leaves': 39, 'n_estimators': 316, 'subsample': 0.7717034477462702, 'colsample_bytree': 0.7414491914633831, 'max_bin': 107, 'min_child_samples': 50, 'reg_alpha': 0.00011362285798270958, 'reg_lambda': 0.004133512263574676}. Best is trial 54 with value: 0.721842506860565.\n",
      "C:\\Users\\USER\\AppData\\Local\\Temp\\ipykernel_8636\\4147431200.py:19: FutureWarning: suggest_loguniform has been deprecated in v3.0.0. This feature will be removed in v6.0.0. See https://github.com/optuna/optuna/releases/tag/v3.0.0. Use suggest_float(..., log=True) instead.\n",
      "  'learning_rate': trial.suggest_loguniform('learning_rate', 0.01, 0.1),  # 더 작은 학습률\n",
      "C:\\Users\\USER\\AppData\\Local\\Temp\\ipykernel_8636\\4147431200.py:26: FutureWarning: suggest_loguniform has been deprecated in v3.0.0. This feature will be removed in v6.0.0. See https://github.com/optuna/optuna/releases/tag/v3.0.0. Use suggest_float(..., log=True) instead.\n",
      "  'reg_alpha': trial.suggest_loguniform('reg_alpha', 1e-5, 10),  # L1 정규화\n",
      "C:\\Users\\USER\\AppData\\Local\\Temp\\ipykernel_8636\\4147431200.py:27: FutureWarning: suggest_loguniform has been deprecated in v3.0.0. This feature will be removed in v6.0.0. See https://github.com/optuna/optuna/releases/tag/v3.0.0. Use suggest_float(..., log=True) instead.\n",
      "  'reg_lambda': trial.suggest_loguniform('reg_lambda', 1e-5, 10),  # L2 정규화\n"
     ]
    },
    {
     "name": "stdout",
     "output_type": "stream",
     "text": [
      "[LightGBM] [Warning] Found whitespace in feature_names, replace with underlines\n",
      "[LightGBM] [Info] Number of positive: 151978, number of negative: 151978\n",
      "[LightGBM] [Info] Auto-choosing row-wise multi-threading, the overhead of testing was 0.020767 seconds.\n",
      "You can set `force_row_wise=true` to remove the overhead.\n",
      "And if memory is not enough, you can set `force_col_wise=true`.\n",
      "[LightGBM] [Info] Total Bins 983\n",
      "[LightGBM] [Info] Number of data points in the train set: 303956, number of used features: 28\n",
      "[LightGBM] [Info] [binary:BoostFromScore]: pavg=0.500000 -> initscore=0.000000\n"
     ]
    },
    {
     "name": "stderr",
     "output_type": "stream",
     "text": [
      "[I 2025-02-25 23:23:04,434] Trial 61 finished with value: 0.7208748496853161 and parameters: {'learning_rate': 0.021812993118878483, 'num_leaves': 47, 'n_estimators': 121, 'subsample': 0.7456989903673641, 'colsample_bytree': 0.7717468406615422, 'max_bin': 126, 'min_child_samples': 69, 'reg_alpha': 0.0005198283257166694, 'reg_lambda': 0.09923142924137057}. Best is trial 54 with value: 0.721842506860565.\n",
      "C:\\Users\\USER\\AppData\\Local\\Temp\\ipykernel_8636\\4147431200.py:19: FutureWarning: suggest_loguniform has been deprecated in v3.0.0. This feature will be removed in v6.0.0. See https://github.com/optuna/optuna/releases/tag/v3.0.0. Use suggest_float(..., log=True) instead.\n",
      "  'learning_rate': trial.suggest_loguniform('learning_rate', 0.01, 0.1),  # 더 작은 학습률\n",
      "C:\\Users\\USER\\AppData\\Local\\Temp\\ipykernel_8636\\4147431200.py:26: FutureWarning: suggest_loguniform has been deprecated in v3.0.0. This feature will be removed in v6.0.0. See https://github.com/optuna/optuna/releases/tag/v3.0.0. Use suggest_float(..., log=True) instead.\n",
      "  'reg_alpha': trial.suggest_loguniform('reg_alpha', 1e-5, 10),  # L1 정규화\n",
      "C:\\Users\\USER\\AppData\\Local\\Temp\\ipykernel_8636\\4147431200.py:27: FutureWarning: suggest_loguniform has been deprecated in v3.0.0. This feature will be removed in v6.0.0. See https://github.com/optuna/optuna/releases/tag/v3.0.0. Use suggest_float(..., log=True) instead.\n",
      "  'reg_lambda': trial.suggest_loguniform('reg_lambda', 1e-5, 10),  # L2 정규화\n"
     ]
    },
    {
     "name": "stdout",
     "output_type": "stream",
     "text": [
      "[LightGBM] [Warning] Found whitespace in feature_names, replace with underlines\n",
      "[LightGBM] [Info] Number of positive: 151978, number of negative: 151978\n",
      "[LightGBM] [Info] Auto-choosing row-wise multi-threading, the overhead of testing was 0.022760 seconds.\n",
      "You can set `force_row_wise=true` to remove the overhead.\n",
      "And if memory is not enough, you can set `force_col_wise=true`.\n",
      "[LightGBM] [Info] Total Bins 1033\n",
      "[LightGBM] [Info] Number of data points in the train set: 303956, number of used features: 28\n",
      "[LightGBM] [Info] [binary:BoostFromScore]: pavg=0.500000 -> initscore=0.000000\n"
     ]
    },
    {
     "name": "stderr",
     "output_type": "stream",
     "text": [
      "[I 2025-02-25 23:23:07,389] Trial 62 finished with value: 0.7215592854255278 and parameters: {'learning_rate': 0.016511657756896555, 'num_leaves': 31, 'n_estimators': 173, 'subsample': 0.7603463264784664, 'colsample_bytree': 0.8610805953950599, 'max_bin': 133, 'min_child_samples': 66, 'reg_alpha': 0.00016857988837330797, 'reg_lambda': 0.08108720461492265}. Best is trial 54 with value: 0.721842506860565.\n",
      "C:\\Users\\USER\\AppData\\Local\\Temp\\ipykernel_8636\\4147431200.py:19: FutureWarning: suggest_loguniform has been deprecated in v3.0.0. This feature will be removed in v6.0.0. See https://github.com/optuna/optuna/releases/tag/v3.0.0. Use suggest_float(..., log=True) instead.\n",
      "  'learning_rate': trial.suggest_loguniform('learning_rate', 0.01, 0.1),  # 더 작은 학습률\n",
      "C:\\Users\\USER\\AppData\\Local\\Temp\\ipykernel_8636\\4147431200.py:26: FutureWarning: suggest_loguniform has been deprecated in v3.0.0. This feature will be removed in v6.0.0. See https://github.com/optuna/optuna/releases/tag/v3.0.0. Use suggest_float(..., log=True) instead.\n",
      "  'reg_alpha': trial.suggest_loguniform('reg_alpha', 1e-5, 10),  # L1 정규화\n",
      "C:\\Users\\USER\\AppData\\Local\\Temp\\ipykernel_8636\\4147431200.py:27: FutureWarning: suggest_loguniform has been deprecated in v3.0.0. This feature will be removed in v6.0.0. See https://github.com/optuna/optuna/releases/tag/v3.0.0. Use suggest_float(..., log=True) instead.\n",
      "  'reg_lambda': trial.suggest_loguniform('reg_lambda', 1e-5, 10),  # L2 정규화\n"
     ]
    },
    {
     "name": "stdout",
     "output_type": "stream",
     "text": [
      "[LightGBM] [Warning] Found whitespace in feature_names, replace with underlines\n",
      "[LightGBM] [Info] Number of positive: 151978, number of negative: 151978\n",
      "[LightGBM] [Info] Auto-choosing row-wise multi-threading, the overhead of testing was 0.024532 seconds.\n",
      "You can set `force_row_wise=true` to remove the overhead.\n",
      "And if memory is not enough, you can set `force_col_wise=true`.\n",
      "[LightGBM] [Info] Total Bins 1067\n",
      "[LightGBM] [Info] Number of data points in the train set: 303956, number of used features: 28\n",
      "[LightGBM] [Info] [binary:BoostFromScore]: pavg=0.500000 -> initscore=0.000000\n"
     ]
    },
    {
     "name": "stderr",
     "output_type": "stream",
     "text": [
      "[I 2025-02-25 23:23:11,490] Trial 63 finished with value: 0.720572556617574 and parameters: {'learning_rate': 0.016232959903393455, 'num_leaves': 31, 'n_estimators': 245, 'subsample': 0.7631139098046739, 'colsample_bytree': 0.8621448454367683, 'max_bin': 138, 'min_child_samples': 58, 'reg_alpha': 0.00016872849569907775, 'reg_lambda': 0.06722108824946267}. Best is trial 54 with value: 0.721842506860565.\n",
      "C:\\Users\\USER\\AppData\\Local\\Temp\\ipykernel_8636\\4147431200.py:19: FutureWarning: suggest_loguniform has been deprecated in v3.0.0. This feature will be removed in v6.0.0. See https://github.com/optuna/optuna/releases/tag/v3.0.0. Use suggest_float(..., log=True) instead.\n",
      "  'learning_rate': trial.suggest_loguniform('learning_rate', 0.01, 0.1),  # 더 작은 학습률\n",
      "C:\\Users\\USER\\AppData\\Local\\Temp\\ipykernel_8636\\4147431200.py:26: FutureWarning: suggest_loguniform has been deprecated in v3.0.0. This feature will be removed in v6.0.0. See https://github.com/optuna/optuna/releases/tag/v3.0.0. Use suggest_float(..., log=True) instead.\n",
      "  'reg_alpha': trial.suggest_loguniform('reg_alpha', 1e-5, 10),  # L1 정규화\n",
      "C:\\Users\\USER\\AppData\\Local\\Temp\\ipykernel_8636\\4147431200.py:27: FutureWarning: suggest_loguniform has been deprecated in v3.0.0. This feature will be removed in v6.0.0. See https://github.com/optuna/optuna/releases/tag/v3.0.0. Use suggest_float(..., log=True) instead.\n",
      "  'reg_lambda': trial.suggest_loguniform('reg_lambda', 1e-5, 10),  # L2 정규화\n"
     ]
    },
    {
     "name": "stdout",
     "output_type": "stream",
     "text": [
      "[LightGBM] [Warning] Found whitespace in feature_names, replace with underlines\n",
      "[LightGBM] [Info] Number of positive: 151978, number of negative: 151978\n",
      "[LightGBM] [Info] Auto-choosing row-wise multi-threading, the overhead of testing was 0.022435 seconds.\n",
      "You can set `force_row_wise=true` to remove the overhead.\n",
      "And if memory is not enough, you can set `force_col_wise=true`.\n",
      "[LightGBM] [Info] Total Bins 1166\n",
      "[LightGBM] [Info] Number of data points in the train set: 303956, number of used features: 28\n",
      "[LightGBM] [Info] [binary:BoostFromScore]: pavg=0.500000 -> initscore=0.000000\n"
     ]
    },
    {
     "name": "stderr",
     "output_type": "stream",
     "text": [
      "[I 2025-02-25 23:23:14,518] Trial 64 finished with value: 0.7217275947311803 and parameters: {'learning_rate': 0.011988833273619747, 'num_leaves': 35, 'n_estimators': 186, 'subsample': 0.7937709533871966, 'colsample_bytree': 0.8825180788351741, 'max_bin': 154, 'min_child_samples': 71, 'reg_alpha': 4.464613108780281e-05, 'reg_lambda': 0.22328351617837358}. Best is trial 54 with value: 0.721842506860565.\n",
      "C:\\Users\\USER\\AppData\\Local\\Temp\\ipykernel_8636\\4147431200.py:19: FutureWarning: suggest_loguniform has been deprecated in v3.0.0. This feature will be removed in v6.0.0. See https://github.com/optuna/optuna/releases/tag/v3.0.0. Use suggest_float(..., log=True) instead.\n",
      "  'learning_rate': trial.suggest_loguniform('learning_rate', 0.01, 0.1),  # 더 작은 학습률\n",
      "C:\\Users\\USER\\AppData\\Local\\Temp\\ipykernel_8636\\4147431200.py:26: FutureWarning: suggest_loguniform has been deprecated in v3.0.0. This feature will be removed in v6.0.0. See https://github.com/optuna/optuna/releases/tag/v3.0.0. Use suggest_float(..., log=True) instead.\n",
      "  'reg_alpha': trial.suggest_loguniform('reg_alpha', 1e-5, 10),  # L1 정규화\n",
      "C:\\Users\\USER\\AppData\\Local\\Temp\\ipykernel_8636\\4147431200.py:27: FutureWarning: suggest_loguniform has been deprecated in v3.0.0. This feature will be removed in v6.0.0. See https://github.com/optuna/optuna/releases/tag/v3.0.0. Use suggest_float(..., log=True) instead.\n",
      "  'reg_lambda': trial.suggest_loguniform('reg_lambda', 1e-5, 10),  # L2 정규화\n"
     ]
    },
    {
     "name": "stdout",
     "output_type": "stream",
     "text": [
      "[LightGBM] [Warning] Found whitespace in feature_names, replace with underlines\n",
      "[LightGBM] [Info] Number of positive: 151978, number of negative: 151978\n",
      "[LightGBM] [Info] Auto-choosing row-wise multi-threading, the overhead of testing was 0.028229 seconds.\n",
      "You can set `force_row_wise=true` to remove the overhead.\n",
      "And if memory is not enough, you can set `force_col_wise=true`.\n",
      "[LightGBM] [Info] Total Bins 1226\n",
      "[LightGBM] [Info] Number of data points in the train set: 303956, number of used features: 28\n",
      "[LightGBM] [Info] [binary:BoostFromScore]: pavg=0.500000 -> initscore=0.000000\n"
     ]
    },
    {
     "name": "stderr",
     "output_type": "stream",
     "text": [
      "[I 2025-02-25 23:23:17,556] Trial 65 finished with value: 0.7217362817210693 and parameters: {'learning_rate': 0.011453680116967608, 'num_leaves': 35, 'n_estimators': 184, 'subsample': 0.7793173231972015, 'colsample_bytree': 0.8823855382001559, 'max_bin': 162, 'min_child_samples': 72, 'reg_alpha': 3.48372852719919e-05, 'reg_lambda': 0.23781003818971885}. Best is trial 54 with value: 0.721842506860565.\n",
      "C:\\Users\\USER\\AppData\\Local\\Temp\\ipykernel_8636\\4147431200.py:19: FutureWarning: suggest_loguniform has been deprecated in v3.0.0. This feature will be removed in v6.0.0. See https://github.com/optuna/optuna/releases/tag/v3.0.0. Use suggest_float(..., log=True) instead.\n",
      "  'learning_rate': trial.suggest_loguniform('learning_rate', 0.01, 0.1),  # 더 작은 학습률\n",
      "C:\\Users\\USER\\AppData\\Local\\Temp\\ipykernel_8636\\4147431200.py:26: FutureWarning: suggest_loguniform has been deprecated in v3.0.0. This feature will be removed in v6.0.0. See https://github.com/optuna/optuna/releases/tag/v3.0.0. Use suggest_float(..., log=True) instead.\n",
      "  'reg_alpha': trial.suggest_loguniform('reg_alpha', 1e-5, 10),  # L1 정규화\n",
      "C:\\Users\\USER\\AppData\\Local\\Temp\\ipykernel_8636\\4147431200.py:27: FutureWarning: suggest_loguniform has been deprecated in v3.0.0. This feature will be removed in v6.0.0. See https://github.com/optuna/optuna/releases/tag/v3.0.0. Use suggest_float(..., log=True) instead.\n",
      "  'reg_lambda': trial.suggest_loguniform('reg_lambda', 1e-5, 10),  # L2 정규화\n"
     ]
    },
    {
     "name": "stdout",
     "output_type": "stream",
     "text": [
      "[LightGBM] [Warning] Found whitespace in feature_names, replace with underlines\n",
      "[LightGBM] [Info] Number of positive: 151978, number of negative: 151978\n",
      "[LightGBM] [Info] Auto-choosing row-wise multi-threading, the overhead of testing was 0.021162 seconds.\n",
      "You can set `force_row_wise=true` to remove the overhead.\n",
      "And if memory is not enough, you can set `force_col_wise=true`.\n",
      "[LightGBM] [Info] Total Bins 1206\n",
      "[LightGBM] [Info] Number of data points in the train set: 303956, number of used features: 28\n",
      "[LightGBM] [Info] [binary:BoostFromScore]: pavg=0.500000 -> initscore=0.000000\n"
     ]
    },
    {
     "name": "stderr",
     "output_type": "stream",
     "text": [
      "[I 2025-02-25 23:23:21,089] Trial 66 finished with value: 0.7216183317915649 and parameters: {'learning_rate': 0.011293972394964581, 'num_leaves': 37, 'n_estimators': 199, 'subsample': 0.7891033517481222, 'colsample_bytree': 0.8818483684291055, 'max_bin': 159, 'min_child_samples': 70, 'reg_alpha': 3.569792984255904e-05, 'reg_lambda': 1.6328328979135893}. Best is trial 54 with value: 0.721842506860565.\n",
      "C:\\Users\\USER\\AppData\\Local\\Temp\\ipykernel_8636\\4147431200.py:19: FutureWarning: suggest_loguniform has been deprecated in v3.0.0. This feature will be removed in v6.0.0. See https://github.com/optuna/optuna/releases/tag/v3.0.0. Use suggest_float(..., log=True) instead.\n",
      "  'learning_rate': trial.suggest_loguniform('learning_rate', 0.01, 0.1),  # 더 작은 학습률\n",
      "C:\\Users\\USER\\AppData\\Local\\Temp\\ipykernel_8636\\4147431200.py:26: FutureWarning: suggest_loguniform has been deprecated in v3.0.0. This feature will be removed in v6.0.0. See https://github.com/optuna/optuna/releases/tag/v3.0.0. Use suggest_float(..., log=True) instead.\n",
      "  'reg_alpha': trial.suggest_loguniform('reg_alpha', 1e-5, 10),  # L1 정규화\n",
      "C:\\Users\\USER\\AppData\\Local\\Temp\\ipykernel_8636\\4147431200.py:27: FutureWarning: suggest_loguniform has been deprecated in v3.0.0. This feature will be removed in v6.0.0. See https://github.com/optuna/optuna/releases/tag/v3.0.0. Use suggest_float(..., log=True) instead.\n",
      "  'reg_lambda': trial.suggest_loguniform('reg_lambda', 1e-5, 10),  # L2 정규화\n"
     ]
    },
    {
     "name": "stdout",
     "output_type": "stream",
     "text": [
      "[LightGBM] [Warning] Found whitespace in feature_names, replace with underlines\n",
      "[LightGBM] [Info] Number of positive: 151978, number of negative: 151978\n",
      "[LightGBM] [Info] Auto-choosing row-wise multi-threading, the overhead of testing was 0.025076 seconds.\n",
      "You can set `force_row_wise=true` to remove the overhead.\n",
      "And if memory is not enough, you can set `force_col_wise=true`.\n",
      "[LightGBM] [Info] Total Bins 1213\n",
      "[LightGBM] [Info] Number of data points in the train set: 303956, number of used features: 28\n",
      "[LightGBM] [Info] [binary:BoostFromScore]: pavg=0.500000 -> initscore=0.000000\n"
     ]
    },
    {
     "name": "stderr",
     "output_type": "stream",
     "text": [
      "[I 2025-02-25 23:23:24,785] Trial 67 finished with value: 0.7212470121558141 and parameters: {'learning_rate': 0.011464241950621009, 'num_leaves': 36, 'n_estimators': 192, 'subsample': 0.7917604165830017, 'colsample_bytree': 0.91116167671754, 'max_bin': 160, 'min_child_samples': 72, 'reg_alpha': 3.962711030945802e-05, 'reg_lambda': 2.2771780235444177}. Best is trial 54 with value: 0.721842506860565.\n",
      "C:\\Users\\USER\\AppData\\Local\\Temp\\ipykernel_8636\\4147431200.py:19: FutureWarning: suggest_loguniform has been deprecated in v3.0.0. This feature will be removed in v6.0.0. See https://github.com/optuna/optuna/releases/tag/v3.0.0. Use suggest_float(..., log=True) instead.\n",
      "  'learning_rate': trial.suggest_loguniform('learning_rate', 0.01, 0.1),  # 더 작은 학습률\n",
      "C:\\Users\\USER\\AppData\\Local\\Temp\\ipykernel_8636\\4147431200.py:26: FutureWarning: suggest_loguniform has been deprecated in v3.0.0. This feature will be removed in v6.0.0. See https://github.com/optuna/optuna/releases/tag/v3.0.0. Use suggest_float(..., log=True) instead.\n",
      "  'reg_alpha': trial.suggest_loguniform('reg_alpha', 1e-5, 10),  # L1 정규화\n",
      "C:\\Users\\USER\\AppData\\Local\\Temp\\ipykernel_8636\\4147431200.py:27: FutureWarning: suggest_loguniform has been deprecated in v3.0.0. This feature will be removed in v6.0.0. See https://github.com/optuna/optuna/releases/tag/v3.0.0. Use suggest_float(..., log=True) instead.\n",
      "  'reg_lambda': trial.suggest_loguniform('reg_lambda', 1e-5, 10),  # L2 정규화\n"
     ]
    },
    {
     "name": "stdout",
     "output_type": "stream",
     "text": [
      "[LightGBM] [Warning] Found whitespace in feature_names, replace with underlines\n",
      "[LightGBM] [Info] Number of positive: 151978, number of negative: 151978\n",
      "[LightGBM] [Info] Auto-choosing row-wise multi-threading, the overhead of testing was 0.022150 seconds.\n",
      "You can set `force_row_wise=true` to remove the overhead.\n",
      "And if memory is not enough, you can set `force_col_wise=true`.\n",
      "[LightGBM] [Info] Total Bins 1275\n",
      "[LightGBM] [Info] Number of data points in the train set: 303956, number of used features: 28\n",
      "[LightGBM] [Info] [binary:BoostFromScore]: pavg=0.500000 -> initscore=0.000000\n"
     ]
    },
    {
     "name": "stderr",
     "output_type": "stream",
     "text": [
      "[I 2025-02-25 23:23:32,537] Trial 68 finished with value: 0.7194907951960097 and parameters: {'learning_rate': 0.010841499491697893, 'num_leaves': 41, 'n_estimators': 378, 'subsample': 0.8192839842351356, 'colsample_bytree': 0.8822750805868151, 'max_bin': 169, 'min_child_samples': 95, 'reg_alpha': 1.854874578613034e-05, 'reg_lambda': 0.5815772059359988}. Best is trial 54 with value: 0.721842506860565.\n",
      "C:\\Users\\USER\\AppData\\Local\\Temp\\ipykernel_8636\\4147431200.py:19: FutureWarning: suggest_loguniform has been deprecated in v3.0.0. This feature will be removed in v6.0.0. See https://github.com/optuna/optuna/releases/tag/v3.0.0. Use suggest_float(..., log=True) instead.\n",
      "  'learning_rate': trial.suggest_loguniform('learning_rate', 0.01, 0.1),  # 더 작은 학습률\n",
      "C:\\Users\\USER\\AppData\\Local\\Temp\\ipykernel_8636\\4147431200.py:26: FutureWarning: suggest_loguniform has been deprecated in v3.0.0. This feature will be removed in v6.0.0. See https://github.com/optuna/optuna/releases/tag/v3.0.0. Use suggest_float(..., log=True) instead.\n",
      "  'reg_alpha': trial.suggest_loguniform('reg_alpha', 1e-5, 10),  # L1 정규화\n",
      "C:\\Users\\USER\\AppData\\Local\\Temp\\ipykernel_8636\\4147431200.py:27: FutureWarning: suggest_loguniform has been deprecated in v3.0.0. This feature will be removed in v6.0.0. See https://github.com/optuna/optuna/releases/tag/v3.0.0. Use suggest_float(..., log=True) instead.\n",
      "  'reg_lambda': trial.suggest_loguniform('reg_lambda', 1e-5, 10),  # L2 정규화\n"
     ]
    },
    {
     "name": "stdout",
     "output_type": "stream",
     "text": [
      "[LightGBM] [Warning] Found whitespace in feature_names, replace with underlines\n",
      "[LightGBM] [Info] Number of positive: 151978, number of negative: 151978\n",
      "[LightGBM] [Info] Auto-choosing row-wise multi-threading, the overhead of testing was 0.023834 seconds.\n",
      "You can set `force_row_wise=true` to remove the overhead.\n",
      "And if memory is not enough, you can set `force_col_wise=true`.\n",
      "[LightGBM] [Info] Total Bins 1425\n",
      "[LightGBM] [Info] Number of data points in the train set: 303956, number of used features: 28\n",
      "[LightGBM] [Info] [binary:BoostFromScore]: pavg=0.500000 -> initscore=0.000000\n"
     ]
    },
    {
     "name": "stderr",
     "output_type": "stream",
     "text": [
      "[I 2025-02-25 23:23:37,427] Trial 69 finished with value: 0.720243650343654 and parameters: {'learning_rate': 0.012653438963164943, 'num_leaves': 39, 'n_estimators': 271, 'subsample': 0.8060631706403204, 'colsample_bytree': 0.8495818309471422, 'max_bin': 191, 'min_child_samples': 81, 'reg_alpha': 1.0151450975829505e-05, 'reg_lambda': 4.690336353722341}. Best is trial 54 with value: 0.721842506860565.\n",
      "C:\\Users\\USER\\AppData\\Local\\Temp\\ipykernel_8636\\4147431200.py:19: FutureWarning: suggest_loguniform has been deprecated in v3.0.0. This feature will be removed in v6.0.0. See https://github.com/optuna/optuna/releases/tag/v3.0.0. Use suggest_float(..., log=True) instead.\n",
      "  'learning_rate': trial.suggest_loguniform('learning_rate', 0.01, 0.1),  # 더 작은 학습률\n",
      "C:\\Users\\USER\\AppData\\Local\\Temp\\ipykernel_8636\\4147431200.py:26: FutureWarning: suggest_loguniform has been deprecated in v3.0.0. This feature will be removed in v6.0.0. See https://github.com/optuna/optuna/releases/tag/v3.0.0. Use suggest_float(..., log=True) instead.\n",
      "  'reg_alpha': trial.suggest_loguniform('reg_alpha', 1e-5, 10),  # L1 정규화\n",
      "C:\\Users\\USER\\AppData\\Local\\Temp\\ipykernel_8636\\4147431200.py:27: FutureWarning: suggest_loguniform has been deprecated in v3.0.0. This feature will be removed in v6.0.0. See https://github.com/optuna/optuna/releases/tag/v3.0.0. Use suggest_float(..., log=True) instead.\n",
      "  'reg_lambda': trial.suggest_loguniform('reg_lambda', 1e-5, 10),  # L2 정규화\n"
     ]
    },
    {
     "name": "stdout",
     "output_type": "stream",
     "text": [
      "[LightGBM] [Warning] Found whitespace in feature_names, replace with underlines\n",
      "[LightGBM] [Info] Number of positive: 151978, number of negative: 151978\n",
      "[LightGBM] [Info] Auto-choosing row-wise multi-threading, the overhead of testing was 0.023047 seconds.\n",
      "You can set `force_row_wise=true` to remove the overhead.\n",
      "And if memory is not enough, you can set `force_col_wise=true`.\n",
      "[LightGBM] [Info] Total Bins 1166\n",
      "[LightGBM] [Info] Number of data points in the train set: 303956, number of used features: 28\n",
      "[LightGBM] [Info] [binary:BoostFromScore]: pavg=0.500000 -> initscore=0.000000\n"
     ]
    },
    {
     "name": "stderr",
     "output_type": "stream",
     "text": [
      "[I 2025-02-25 23:23:45,401] Trial 70 finished with value: 0.7181978078028004 and parameters: {'learning_rate': 0.013788537943985773, 'num_leaves': 126, 'n_estimators': 217, 'subsample': 0.7784540854955867, 'colsample_bytree': 0.8736086188833919, 'max_bin': 154, 'min_child_samples': 77, 'reg_alpha': 1.736227995692087e-05, 'reg_lambda': 1.283023397748966}. Best is trial 54 with value: 0.721842506860565.\n",
      "C:\\Users\\USER\\AppData\\Local\\Temp\\ipykernel_8636\\4147431200.py:19: FutureWarning: suggest_loguniform has been deprecated in v3.0.0. This feature will be removed in v6.0.0. See https://github.com/optuna/optuna/releases/tag/v3.0.0. Use suggest_float(..., log=True) instead.\n",
      "  'learning_rate': trial.suggest_loguniform('learning_rate', 0.01, 0.1),  # 더 작은 학습률\n",
      "C:\\Users\\USER\\AppData\\Local\\Temp\\ipykernel_8636\\4147431200.py:26: FutureWarning: suggest_loguniform has been deprecated in v3.0.0. This feature will be removed in v6.0.0. See https://github.com/optuna/optuna/releases/tag/v3.0.0. Use suggest_float(..., log=True) instead.\n",
      "  'reg_alpha': trial.suggest_loguniform('reg_alpha', 1e-5, 10),  # L1 정규화\n",
      "C:\\Users\\USER\\AppData\\Local\\Temp\\ipykernel_8636\\4147431200.py:27: FutureWarning: suggest_loguniform has been deprecated in v3.0.0. This feature will be removed in v6.0.0. See https://github.com/optuna/optuna/releases/tag/v3.0.0. Use suggest_float(..., log=True) instead.\n",
      "  'reg_lambda': trial.suggest_loguniform('reg_lambda', 1e-5, 10),  # L2 정규화\n"
     ]
    },
    {
     "name": "stdout",
     "output_type": "stream",
     "text": [
      "[LightGBM] [Warning] Found whitespace in feature_names, replace with underlines\n",
      "[LightGBM] [Info] Number of positive: 151978, number of negative: 151978\n",
      "[LightGBM] [Info] Auto-choosing row-wise multi-threading, the overhead of testing was 0.021571 seconds.\n",
      "You can set `force_row_wise=true` to remove the overhead.\n",
      "And if memory is not enough, you can set `force_col_wise=true`.\n",
      "[LightGBM] [Info] Total Bins 1147\n",
      "[LightGBM] [Info] Number of data points in the train set: 303956, number of used features: 28\n",
      "[LightGBM] [Info] [binary:BoostFromScore]: pavg=0.500000 -> initscore=0.000000\n"
     ]
    },
    {
     "name": "stderr",
     "output_type": "stream",
     "text": [
      "[I 2025-02-25 23:23:47,981] Trial 71 finished with value: 0.7218253156281315 and parameters: {'learning_rate': 0.010271911077370629, 'num_leaves': 34, 'n_estimators': 165, 'subsample': 0.792243225946635, 'colsample_bytree': 0.897199119211196, 'max_bin': 151, 'min_child_samples': 72, 'reg_alpha': 4.4662508424234625e-05, 'reg_lambda': 0.19163752310176377}. Best is trial 54 with value: 0.721842506860565.\n",
      "C:\\Users\\USER\\AppData\\Local\\Temp\\ipykernel_8636\\4147431200.py:19: FutureWarning: suggest_loguniform has been deprecated in v3.0.0. This feature will be removed in v6.0.0. See https://github.com/optuna/optuna/releases/tag/v3.0.0. Use suggest_float(..., log=True) instead.\n",
      "  'learning_rate': trial.suggest_loguniform('learning_rate', 0.01, 0.1),  # 더 작은 학습률\n",
      "C:\\Users\\USER\\AppData\\Local\\Temp\\ipykernel_8636\\4147431200.py:26: FutureWarning: suggest_loguniform has been deprecated in v3.0.0. This feature will be removed in v6.0.0. See https://github.com/optuna/optuna/releases/tag/v3.0.0. Use suggest_float(..., log=True) instead.\n",
      "  'reg_alpha': trial.suggest_loguniform('reg_alpha', 1e-5, 10),  # L1 정규화\n",
      "C:\\Users\\USER\\AppData\\Local\\Temp\\ipykernel_8636\\4147431200.py:27: FutureWarning: suggest_loguniform has been deprecated in v3.0.0. This feature will be removed in v6.0.0. See https://github.com/optuna/optuna/releases/tag/v3.0.0. Use suggest_float(..., log=True) instead.\n",
      "  'reg_lambda': trial.suggest_loguniform('reg_lambda', 1e-5, 10),  # L2 정규화\n"
     ]
    },
    {
     "name": "stdout",
     "output_type": "stream",
     "text": [
      "[LightGBM] [Warning] Found whitespace in feature_names, replace with underlines\n",
      "[LightGBM] [Info] Number of positive: 151978, number of negative: 151978\n",
      "[LightGBM] [Info] Auto-choosing row-wise multi-threading, the overhead of testing was 0.020205 seconds.\n",
      "You can set `force_row_wise=true` to remove the overhead.\n",
      "And if memory is not enough, you can set `force_col_wise=true`.\n",
      "[LightGBM] [Info] Total Bins 1154\n",
      "[LightGBM] [Info] Number of data points in the train set: 303956, number of used features: 28\n",
      "[LightGBM] [Info] [binary:BoostFromScore]: pavg=0.500000 -> initscore=0.000000\n"
     ]
    },
    {
     "name": "stderr",
     "output_type": "stream",
     "text": [
      "[I 2025-02-25 23:23:50,821] Trial 72 finished with value: 0.7219003528861209 and parameters: {'learning_rate': 0.010081602704419722, 'num_leaves': 34, 'n_estimators': 174, 'subsample': 0.7970210048621958, 'colsample_bytree': 0.9050046295212102, 'max_bin': 152, 'min_child_samples': 73, 'reg_alpha': 3.7946026191748246e-05, 'reg_lambda': 0.24116304012863857}. Best is trial 72 with value: 0.7219003528861209.\n",
      "C:\\Users\\USER\\AppData\\Local\\Temp\\ipykernel_8636\\4147431200.py:19: FutureWarning: suggest_loguniform has been deprecated in v3.0.0. This feature will be removed in v6.0.0. See https://github.com/optuna/optuna/releases/tag/v3.0.0. Use suggest_float(..., log=True) instead.\n",
      "  'learning_rate': trial.suggest_loguniform('learning_rate', 0.01, 0.1),  # 더 작은 학습률\n",
      "C:\\Users\\USER\\AppData\\Local\\Temp\\ipykernel_8636\\4147431200.py:26: FutureWarning: suggest_loguniform has been deprecated in v3.0.0. This feature will be removed in v6.0.0. See https://github.com/optuna/optuna/releases/tag/v3.0.0. Use suggest_float(..., log=True) instead.\n",
      "  'reg_alpha': trial.suggest_loguniform('reg_alpha', 1e-5, 10),  # L1 정규화\n",
      "C:\\Users\\USER\\AppData\\Local\\Temp\\ipykernel_8636\\4147431200.py:27: FutureWarning: suggest_loguniform has been deprecated in v3.0.0. This feature will be removed in v6.0.0. See https://github.com/optuna/optuna/releases/tag/v3.0.0. Use suggest_float(..., log=True) instead.\n",
      "  'reg_lambda': trial.suggest_loguniform('reg_lambda', 1e-5, 10),  # L2 정규화\n"
     ]
    },
    {
     "name": "stdout",
     "output_type": "stream",
     "text": [
      "[LightGBM] [Warning] Found whitespace in feature_names, replace with underlines\n",
      "[LightGBM] [Info] Number of positive: 151978, number of negative: 151978\n",
      "[LightGBM] [Info] Auto-choosing row-wise multi-threading, the overhead of testing was 0.028021 seconds.\n",
      "You can set `force_row_wise=true` to remove the overhead.\n",
      "And if memory is not enough, you can set `force_col_wise=true`.\n",
      "[LightGBM] [Info] Total Bins 1327\n",
      "[LightGBM] [Info] Number of data points in the train set: 303956, number of used features: 28\n",
      "[LightGBM] [Info] [binary:BoostFromScore]: pavg=0.500000 -> initscore=0.000000\n"
     ]
    },
    {
     "name": "stderr",
     "output_type": "stream",
     "text": [
      "[I 2025-02-25 23:23:55,328] Trial 73 finished with value: 0.721511686233315 and parameters: {'learning_rate': 0.010000664367876458, 'num_leaves': 34, 'n_estimators': 244, 'subsample': 0.7933325624198827, 'colsample_bytree': 0.9061139261122753, 'max_bin': 177, 'min_child_samples': 74, 'reg_alpha': 4.174479728245931e-05, 'reg_lambda': 0.6763211960941148}. Best is trial 72 with value: 0.7219003528861209.\n",
      "C:\\Users\\USER\\AppData\\Local\\Temp\\ipykernel_8636\\4147431200.py:19: FutureWarning: suggest_loguniform has been deprecated in v3.0.0. This feature will be removed in v6.0.0. See https://github.com/optuna/optuna/releases/tag/v3.0.0. Use suggest_float(..., log=True) instead.\n",
      "  'learning_rate': trial.suggest_loguniform('learning_rate', 0.01, 0.1),  # 더 작은 학습률\n",
      "C:\\Users\\USER\\AppData\\Local\\Temp\\ipykernel_8636\\4147431200.py:26: FutureWarning: suggest_loguniform has been deprecated in v3.0.0. This feature will be removed in v6.0.0. See https://github.com/optuna/optuna/releases/tag/v3.0.0. Use suggest_float(..., log=True) instead.\n",
      "  'reg_alpha': trial.suggest_loguniform('reg_alpha', 1e-5, 10),  # L1 정규화\n",
      "C:\\Users\\USER\\AppData\\Local\\Temp\\ipykernel_8636\\4147431200.py:27: FutureWarning: suggest_loguniform has been deprecated in v3.0.0. This feature will be removed in v6.0.0. See https://github.com/optuna/optuna/releases/tag/v3.0.0. Use suggest_float(..., log=True) instead.\n",
      "  'reg_lambda': trial.suggest_loguniform('reg_lambda', 1e-5, 10),  # L2 정규화\n"
     ]
    },
    {
     "name": "stdout",
     "output_type": "stream",
     "text": [
      "[LightGBM] [Warning] Found whitespace in feature_names, replace with underlines\n",
      "[LightGBM] [Info] Number of positive: 151978, number of negative: 151978\n",
      "[LightGBM] [Info] Auto-choosing row-wise multi-threading, the overhead of testing was 0.030224 seconds.\n",
      "You can set `force_row_wise=true` to remove the overhead.\n",
      "And if memory is not enough, you can set `force_col_wise=true`.\n",
      "[LightGBM] [Info] Total Bins 1166\n",
      "[LightGBM] [Info] Number of data points in the train set: 303956, number of used features: 28\n",
      "[LightGBM] [Info] [binary:BoostFromScore]: pavg=0.500000 -> initscore=0.000000\n"
     ]
    },
    {
     "name": "stderr",
     "output_type": "stream",
     "text": [
      "[I 2025-02-25 23:23:59,832] Trial 74 finished with value: 0.7208085753122878 and parameters: {'learning_rate': 0.011864360446665192, 'num_leaves': 45, 'n_estimators': 210, 'subsample': 0.780263281479294, 'colsample_bytree': 0.9197233743825909, 'max_bin': 154, 'min_child_samples': 71, 'reg_alpha': 7.131514361657296e-05, 'reg_lambda': 0.24112209741272037}. Best is trial 72 with value: 0.7219003528861209.\n",
      "C:\\Users\\USER\\AppData\\Local\\Temp\\ipykernel_8636\\4147431200.py:19: FutureWarning: suggest_loguniform has been deprecated in v3.0.0. This feature will be removed in v6.0.0. See https://github.com/optuna/optuna/releases/tag/v3.0.0. Use suggest_float(..., log=True) instead.\n",
      "  'learning_rate': trial.suggest_loguniform('learning_rate', 0.01, 0.1),  # 더 작은 학습률\n",
      "C:\\Users\\USER\\AppData\\Local\\Temp\\ipykernel_8636\\4147431200.py:26: FutureWarning: suggest_loguniform has been deprecated in v3.0.0. This feature will be removed in v6.0.0. See https://github.com/optuna/optuna/releases/tag/v3.0.0. Use suggest_float(..., log=True) instead.\n",
      "  'reg_alpha': trial.suggest_loguniform('reg_alpha', 1e-5, 10),  # L1 정규화\n",
      "C:\\Users\\USER\\AppData\\Local\\Temp\\ipykernel_8636\\4147431200.py:27: FutureWarning: suggest_loguniform has been deprecated in v3.0.0. This feature will be removed in v6.0.0. See https://github.com/optuna/optuna/releases/tag/v3.0.0. Use suggest_float(..., log=True) instead.\n",
      "  'reg_lambda': trial.suggest_loguniform('reg_lambda', 1e-5, 10),  # L2 정규화\n"
     ]
    },
    {
     "name": "stdout",
     "output_type": "stream",
     "text": [
      "[LightGBM] [Warning] Found whitespace in feature_names, replace with underlines\n",
      "[LightGBM] [Info] Number of positive: 151978, number of negative: 151978\n",
      "[LightGBM] [Info] Auto-choosing row-wise multi-threading, the overhead of testing was 0.021046 seconds.\n",
      "You can set `force_row_wise=true` to remove the overhead.\n",
      "And if memory is not enough, you can set `force_col_wise=true`.\n",
      "[LightGBM] [Info] Total Bins 1252\n",
      "[LightGBM] [Info] Number of data points in the train set: 303956, number of used features: 28\n",
      "[LightGBM] [Info] [binary:BoostFromScore]: pavg=0.500000 -> initscore=0.000000\n"
     ]
    },
    {
     "name": "stderr",
     "output_type": "stream",
     "text": [
      "[I 2025-02-25 23:24:06,635] Trial 75 finished with value: 0.7192689449129 and parameters: {'learning_rate': 0.010631790690901147, 'num_leaves': 37, 'n_estimators': 416, 'subsample': 0.8342176404265335, 'colsample_bytree': 0.9303785839110102, 'max_bin': 166, 'min_child_samples': 87, 'reg_alpha': 0.00011618024793848362, 'reg_lambda': 0.14702854162716453}. Best is trial 72 with value: 0.7219003528861209.\n",
      "C:\\Users\\USER\\AppData\\Local\\Temp\\ipykernel_8636\\4147431200.py:19: FutureWarning: suggest_loguniform has been deprecated in v3.0.0. This feature will be removed in v6.0.0. See https://github.com/optuna/optuna/releases/tag/v3.0.0. Use suggest_float(..., log=True) instead.\n",
      "  'learning_rate': trial.suggest_loguniform('learning_rate', 0.01, 0.1),  # 더 작은 학습률\n",
      "C:\\Users\\USER\\AppData\\Local\\Temp\\ipykernel_8636\\4147431200.py:26: FutureWarning: suggest_loguniform has been deprecated in v3.0.0. This feature will be removed in v6.0.0. See https://github.com/optuna/optuna/releases/tag/v3.0.0. Use suggest_float(..., log=True) instead.\n",
      "  'reg_alpha': trial.suggest_loguniform('reg_alpha', 1e-5, 10),  # L1 정규화\n",
      "C:\\Users\\USER\\AppData\\Local\\Temp\\ipykernel_8636\\4147431200.py:27: FutureWarning: suggest_loguniform has been deprecated in v3.0.0. This feature will be removed in v6.0.0. See https://github.com/optuna/optuna/releases/tag/v3.0.0. Use suggest_float(..., log=True) instead.\n",
      "  'reg_lambda': trial.suggest_loguniform('reg_lambda', 1e-5, 10),  # L2 정규화\n"
     ]
    },
    {
     "name": "stdout",
     "output_type": "stream",
     "text": [
      "[LightGBM] [Warning] Found whitespace in feature_names, replace with underlines\n",
      "[LightGBM] [Info] Number of positive: 151978, number of negative: 151978\n",
      "[LightGBM] [Info] Auto-choosing row-wise multi-threading, the overhead of testing was 0.021617 seconds.\n",
      "You can set `force_row_wise=true` to remove the overhead.\n",
      "And if memory is not enough, you can set `force_col_wise=true`.\n",
      "[LightGBM] [Info] Total Bins 1124\n",
      "[LightGBM] [Info] Number of data points in the train set: 303956, number of used features: 28\n",
      "[LightGBM] [Info] [binary:BoostFromScore]: pavg=0.500000 -> initscore=0.000000\n"
     ]
    },
    {
     "name": "stderr",
     "output_type": "stream",
     "text": [
      "[I 2025-02-25 23:24:09,904] Trial 76 finished with value: 0.7217879572775454 and parameters: {'learning_rate': 0.012436508722521488, 'num_leaves': 35, 'n_estimators': 173, 'subsample': 0.8022741740219854, 'colsample_bytree': 0.8983028947243458, 'max_bin': 147, 'min_child_samples': 79, 'reg_alpha': 2.584400087486073e-05, 'reg_lambda': 0.3697178635285855}. Best is trial 72 with value: 0.7219003528861209.\n",
      "C:\\Users\\USER\\AppData\\Local\\Temp\\ipykernel_8636\\4147431200.py:19: FutureWarning: suggest_loguniform has been deprecated in v3.0.0. This feature will be removed in v6.0.0. See https://github.com/optuna/optuna/releases/tag/v3.0.0. Use suggest_float(..., log=True) instead.\n",
      "  'learning_rate': trial.suggest_loguniform('learning_rate', 0.01, 0.1),  # 더 작은 학습률\n",
      "C:\\Users\\USER\\AppData\\Local\\Temp\\ipykernel_8636\\4147431200.py:26: FutureWarning: suggest_loguniform has been deprecated in v3.0.0. This feature will be removed in v6.0.0. See https://github.com/optuna/optuna/releases/tag/v3.0.0. Use suggest_float(..., log=True) instead.\n",
      "  'reg_alpha': trial.suggest_loguniform('reg_alpha', 1e-5, 10),  # L1 정규화\n",
      "C:\\Users\\USER\\AppData\\Local\\Temp\\ipykernel_8636\\4147431200.py:27: FutureWarning: suggest_loguniform has been deprecated in v3.0.0. This feature will be removed in v6.0.0. See https://github.com/optuna/optuna/releases/tag/v3.0.0. Use suggest_float(..., log=True) instead.\n",
      "  'reg_lambda': trial.suggest_loguniform('reg_lambda', 1e-5, 10),  # L2 정규화\n"
     ]
    },
    {
     "name": "stdout",
     "output_type": "stream",
     "text": [
      "[LightGBM] [Warning] Found whitespace in feature_names, replace with underlines\n",
      "[LightGBM] [Info] Number of positive: 151978, number of negative: 151978\n",
      "[LightGBM] [Info] Auto-choosing row-wise multi-threading, the overhead of testing was 0.021229 seconds.\n",
      "You can set `force_row_wise=true` to remove the overhead.\n",
      "And if memory is not enough, you can set `force_col_wise=true`.\n",
      "[LightGBM] [Info] Total Bins 1134\n",
      "[LightGBM] [Info] Number of data points in the train set: 303956, number of used features: 28\n",
      "[LightGBM] [Info] [binary:BoostFromScore]: pavg=0.500000 -> initscore=0.000000\n"
     ]
    },
    {
     "name": "stderr",
     "output_type": "stream",
     "text": [
      "[I 2025-02-25 23:24:12,863] Trial 77 finished with value: 0.721892353944977 and parameters: {'learning_rate': 0.012337790242246084, 'num_leaves': 34, 'n_estimators': 168, 'subsample': 0.8251590236681269, 'colsample_bytree': 0.8941628731757916, 'max_bin': 149, 'min_child_samples': 79, 'reg_alpha': 1.3825503487486487e-05, 'reg_lambda': 0.41069109498280754}. Best is trial 72 with value: 0.7219003528861209.\n",
      "C:\\Users\\USER\\AppData\\Local\\Temp\\ipykernel_8636\\4147431200.py:19: FutureWarning: suggest_loguniform has been deprecated in v3.0.0. This feature will be removed in v6.0.0. See https://github.com/optuna/optuna/releases/tag/v3.0.0. Use suggest_float(..., log=True) instead.\n",
      "  'learning_rate': trial.suggest_loguniform('learning_rate', 0.01, 0.1),  # 더 작은 학습률\n",
      "C:\\Users\\USER\\AppData\\Local\\Temp\\ipykernel_8636\\4147431200.py:26: FutureWarning: suggest_loguniform has been deprecated in v3.0.0. This feature will be removed in v6.0.0. See https://github.com/optuna/optuna/releases/tag/v3.0.0. Use suggest_float(..., log=True) instead.\n",
      "  'reg_alpha': trial.suggest_loguniform('reg_alpha', 1e-5, 10),  # L1 정규화\n",
      "C:\\Users\\USER\\AppData\\Local\\Temp\\ipykernel_8636\\4147431200.py:27: FutureWarning: suggest_loguniform has been deprecated in v3.0.0. This feature will be removed in v6.0.0. See https://github.com/optuna/optuna/releases/tag/v3.0.0. Use suggest_float(..., log=True) instead.\n",
      "  'reg_lambda': trial.suggest_loguniform('reg_lambda', 1e-5, 10),  # L2 정규화\n"
     ]
    },
    {
     "name": "stdout",
     "output_type": "stream",
     "text": [
      "[LightGBM] [Warning] Found whitespace in feature_names, replace with underlines\n",
      "[LightGBM] [Info] Number of positive: 151978, number of negative: 151978\n",
      "[LightGBM] [Info] Auto-choosing row-wise multi-threading, the overhead of testing was 0.023875 seconds.\n",
      "You can set `force_row_wise=true` to remove the overhead.\n",
      "And if memory is not enough, you can set `force_col_wise=true`.\n",
      "[LightGBM] [Info] Total Bins 1118\n",
      "[LightGBM] [Info] Number of data points in the train set: 303956, number of used features: 28\n",
      "[LightGBM] [Info] [binary:BoostFromScore]: pavg=0.500000 -> initscore=0.000000\n"
     ]
    },
    {
     "name": "stderr",
     "output_type": "stream",
     "text": [
      "[I 2025-02-25 23:24:18,036] Trial 78 finished with value: 0.7198846077344229 and parameters: {'learning_rate': 0.012311820970389848, 'num_leaves': 35, 'n_estimators': 306, 'subsample': 0.823126438277966, 'colsample_bytree': 0.9514379553019134, 'max_bin': 146, 'min_child_samples': 79, 'reg_alpha': 1.6077141109204435e-05, 'reg_lambda': 0.8129065719399221}. Best is trial 72 with value: 0.7219003528861209.\n",
      "C:\\Users\\USER\\AppData\\Local\\Temp\\ipykernel_8636\\4147431200.py:19: FutureWarning: suggest_loguniform has been deprecated in v3.0.0. This feature will be removed in v6.0.0. See https://github.com/optuna/optuna/releases/tag/v3.0.0. Use suggest_float(..., log=True) instead.\n",
      "  'learning_rate': trial.suggest_loguniform('learning_rate', 0.01, 0.1),  # 더 작은 학습률\n",
      "C:\\Users\\USER\\AppData\\Local\\Temp\\ipykernel_8636\\4147431200.py:26: FutureWarning: suggest_loguniform has been deprecated in v3.0.0. This feature will be removed in v6.0.0. See https://github.com/optuna/optuna/releases/tag/v3.0.0. Use suggest_float(..., log=True) instead.\n",
      "  'reg_alpha': trial.suggest_loguniform('reg_alpha', 1e-5, 10),  # L1 정규화\n",
      "C:\\Users\\USER\\AppData\\Local\\Temp\\ipykernel_8636\\4147431200.py:27: FutureWarning: suggest_loguniform has been deprecated in v3.0.0. This feature will be removed in v6.0.0. See https://github.com/optuna/optuna/releases/tag/v3.0.0. Use suggest_float(..., log=True) instead.\n",
      "  'reg_lambda': trial.suggest_loguniform('reg_lambda', 1e-5, 10),  # L2 정규화\n"
     ]
    },
    {
     "name": "stdout",
     "output_type": "stream",
     "text": [
      "[LightGBM] [Warning] Found whitespace in feature_names, replace with underlines\n",
      "[LightGBM] [Info] Number of positive: 151978, number of negative: 151978\n",
      "[LightGBM] [Info] Auto-choosing row-wise multi-threading, the overhead of testing was 0.033332 seconds.\n",
      "You can set `force_row_wise=true` to remove the overhead.\n",
      "And if memory is not enough, you can set `force_col_wise=true`.\n",
      "[LightGBM] [Info] Total Bins 1147\n",
      "[LightGBM] [Info] Number of data points in the train set: 303956, number of used features: 28\n",
      "[LightGBM] [Info] [binary:BoostFromScore]: pavg=0.500000 -> initscore=0.000000\n"
     ]
    },
    {
     "name": "stderr",
     "output_type": "stream",
     "text": [
      "[I 2025-02-25 23:24:29,997] Trial 79 finished with value: 0.7163959769060884 and parameters: {'learning_rate': 0.013057985967093082, 'num_leaves': 100, 'n_estimators': 355, 'subsample': 0.8456630746445135, 'colsample_bytree': 0.8909439682777679, 'max_bin': 151, 'min_child_samples': 93, 'reg_alpha': 2.3434311697338092e-05, 'reg_lambda': 0.42468593606582566}. Best is trial 72 with value: 0.7219003528861209.\n",
      "C:\\Users\\USER\\AppData\\Local\\Temp\\ipykernel_8636\\4147431200.py:19: FutureWarning: suggest_loguniform has been deprecated in v3.0.0. This feature will be removed in v6.0.0. See https://github.com/optuna/optuna/releases/tag/v3.0.0. Use suggest_float(..., log=True) instead.\n",
      "  'learning_rate': trial.suggest_loguniform('learning_rate', 0.01, 0.1),  # 더 작은 학습률\n",
      "C:\\Users\\USER\\AppData\\Local\\Temp\\ipykernel_8636\\4147431200.py:26: FutureWarning: suggest_loguniform has been deprecated in v3.0.0. This feature will be removed in v6.0.0. See https://github.com/optuna/optuna/releases/tag/v3.0.0. Use suggest_float(..., log=True) instead.\n",
      "  'reg_alpha': trial.suggest_loguniform('reg_alpha', 1e-5, 10),  # L1 정규화\n",
      "C:\\Users\\USER\\AppData\\Local\\Temp\\ipykernel_8636\\4147431200.py:27: FutureWarning: suggest_loguniform has been deprecated in v3.0.0. This feature will be removed in v6.0.0. See https://github.com/optuna/optuna/releases/tag/v3.0.0. Use suggest_float(..., log=True) instead.\n",
      "  'reg_lambda': trial.suggest_loguniform('reg_lambda', 1e-5, 10),  # L2 정규화\n"
     ]
    },
    {
     "name": "stdout",
     "output_type": "stream",
     "text": [
      "[LightGBM] [Warning] Found whitespace in feature_names, replace with underlines\n",
      "[LightGBM] [Info] Number of positive: 151978, number of negative: 151978\n",
      "[LightGBM] [Info] Auto-choosing row-wise multi-threading, the overhead of testing was 0.030030 seconds.\n",
      "You can set `force_row_wise=true` to remove the overhead.\n",
      "And if memory is not enough, you can set `force_col_wise=true`.\n",
      "[LightGBM] [Info] Total Bins 1379\n",
      "[LightGBM] [Info] Number of data points in the train set: 303956, number of used features: 28\n",
      "[LightGBM] [Info] [binary:BoostFromScore]: pavg=0.500000 -> initscore=0.000000\n"
     ]
    },
    {
     "name": "stderr",
     "output_type": "stream",
     "text": [
      "[I 2025-02-25 23:24:35,470] Trial 80 finished with value: 0.7205583582473887 and parameters: {'learning_rate': 0.011843961230308448, 'num_leaves': 41, 'n_estimators': 262, 'subsample': 0.8103602349023186, 'colsample_bytree': 0.902509017496964, 'max_bin': 184, 'min_child_samples': 84, 'reg_alpha': 1.314403964159755e-05, 'reg_lambda': 0.31971543845990885}. Best is trial 72 with value: 0.7219003528861209.\n",
      "C:\\Users\\USER\\AppData\\Local\\Temp\\ipykernel_8636\\4147431200.py:19: FutureWarning: suggest_loguniform has been deprecated in v3.0.0. This feature will be removed in v6.0.0. See https://github.com/optuna/optuna/releases/tag/v3.0.0. Use suggest_float(..., log=True) instead.\n",
      "  'learning_rate': trial.suggest_loguniform('learning_rate', 0.01, 0.1),  # 더 작은 학습률\n",
      "C:\\Users\\USER\\AppData\\Local\\Temp\\ipykernel_8636\\4147431200.py:26: FutureWarning: suggest_loguniform has been deprecated in v3.0.0. This feature will be removed in v6.0.0. See https://github.com/optuna/optuna/releases/tag/v3.0.0. Use suggest_float(..., log=True) instead.\n",
      "  'reg_alpha': trial.suggest_loguniform('reg_alpha', 1e-5, 10),  # L1 정규화\n",
      "C:\\Users\\USER\\AppData\\Local\\Temp\\ipykernel_8636\\4147431200.py:27: FutureWarning: suggest_loguniform has been deprecated in v3.0.0. This feature will be removed in v6.0.0. See https://github.com/optuna/optuna/releases/tag/v3.0.0. Use suggest_float(..., log=True) instead.\n",
      "  'reg_lambda': trial.suggest_loguniform('reg_lambda', 1e-5, 10),  # L2 정규화\n"
     ]
    },
    {
     "name": "stdout",
     "output_type": "stream",
     "text": [
      "[LightGBM] [Warning] Found whitespace in feature_names, replace with underlines\n",
      "[LightGBM] [Info] Number of positive: 151978, number of negative: 151978\n",
      "[LightGBM] [Info] Auto-choosing row-wise multi-threading, the overhead of testing was 0.020909 seconds.\n",
      "You can set `force_row_wise=true` to remove the overhead.\n",
      "And if memory is not enough, you can set `force_col_wise=true`.\n",
      "[LightGBM] [Info] Total Bins 1246\n",
      "[LightGBM] [Info] Number of data points in the train set: 303956, number of used features: 28\n",
      "[LightGBM] [Info] [binary:BoostFromScore]: pavg=0.500000 -> initscore=0.000000\n"
     ]
    },
    {
     "name": "stderr",
     "output_type": "stream",
     "text": [
      "[I 2025-02-25 23:24:38,882] Trial 81 finished with value: 0.7218405126176854 and parameters: {'learning_rate': 0.010409070600945397, 'num_leaves': 34, 'n_estimators': 168, 'subsample': 0.8026593012766672, 'colsample_bytree': 0.8951952495955997, 'max_bin': 165, 'min_child_samples': 75, 'reg_alpha': 2.5012758398510513e-05, 'reg_lambda': 0.209917696614671}. Best is trial 72 with value: 0.7219003528861209.\n",
      "C:\\Users\\USER\\AppData\\Local\\Temp\\ipykernel_8636\\4147431200.py:19: FutureWarning: suggest_loguniform has been deprecated in v3.0.0. This feature will be removed in v6.0.0. See https://github.com/optuna/optuna/releases/tag/v3.0.0. Use suggest_float(..., log=True) instead.\n",
      "  'learning_rate': trial.suggest_loguniform('learning_rate', 0.01, 0.1),  # 더 작은 학습률\n",
      "C:\\Users\\USER\\AppData\\Local\\Temp\\ipykernel_8636\\4147431200.py:26: FutureWarning: suggest_loguniform has been deprecated in v3.0.0. This feature will be removed in v6.0.0. See https://github.com/optuna/optuna/releases/tag/v3.0.0. Use suggest_float(..., log=True) instead.\n",
      "  'reg_alpha': trial.suggest_loguniform('reg_alpha', 1e-5, 10),  # L1 정규화\n",
      "C:\\Users\\USER\\AppData\\Local\\Temp\\ipykernel_8636\\4147431200.py:27: FutureWarning: suggest_loguniform has been deprecated in v3.0.0. This feature will be removed in v6.0.0. See https://github.com/optuna/optuna/releases/tag/v3.0.0. Use suggest_float(..., log=True) instead.\n",
      "  'reg_lambda': trial.suggest_loguniform('reg_lambda', 1e-5, 10),  # L2 정규화\n"
     ]
    },
    {
     "name": "stdout",
     "output_type": "stream",
     "text": [
      "[LightGBM] [Warning] Found whitespace in feature_names, replace with underlines\n",
      "[LightGBM] [Info] Number of positive: 151978, number of negative: 151978\n",
      "[LightGBM] [Info] Auto-choosing row-wise multi-threading, the overhead of testing was 0.021886 seconds.\n",
      "You can set `force_row_wise=true` to remove the overhead.\n",
      "And if memory is not enough, you can set `force_col_wise=true`.\n",
      "[LightGBM] [Info] Total Bins 1258\n",
      "[LightGBM] [Info] Number of data points in the train set: 303956, number of used features: 28\n",
      "[LightGBM] [Info] [binary:BoostFromScore]: pavg=0.500000 -> initscore=0.000000\n"
     ]
    },
    {
     "name": "stderr",
     "output_type": "stream",
     "text": [
      "[I 2025-02-25 23:24:42,015] Trial 82 finished with value: 0.7219428381485462 and parameters: {'learning_rate': 0.010540712994132227, 'num_leaves': 34, 'n_estimators': 171, 'subsample': 0.8021482764635024, 'colsample_bytree': 0.8941596971661392, 'max_bin': 167, 'min_child_samples': 82, 'reg_alpha': 2.9977582889799054e-05, 'reg_lambda': 0.20341964486616235}. Best is trial 82 with value: 0.7219428381485462.\n",
      "C:\\Users\\USER\\AppData\\Local\\Temp\\ipykernel_8636\\4147431200.py:19: FutureWarning: suggest_loguniform has been deprecated in v3.0.0. This feature will be removed in v6.0.0. See https://github.com/optuna/optuna/releases/tag/v3.0.0. Use suggest_float(..., log=True) instead.\n",
      "  'learning_rate': trial.suggest_loguniform('learning_rate', 0.01, 0.1),  # 더 작은 학습률\n",
      "C:\\Users\\USER\\AppData\\Local\\Temp\\ipykernel_8636\\4147431200.py:26: FutureWarning: suggest_loguniform has been deprecated in v3.0.0. This feature will be removed in v6.0.0. See https://github.com/optuna/optuna/releases/tag/v3.0.0. Use suggest_float(..., log=True) instead.\n",
      "  'reg_alpha': trial.suggest_loguniform('reg_alpha', 1e-5, 10),  # L1 정규화\n",
      "C:\\Users\\USER\\AppData\\Local\\Temp\\ipykernel_8636\\4147431200.py:27: FutureWarning: suggest_loguniform has been deprecated in v3.0.0. This feature will be removed in v6.0.0. See https://github.com/optuna/optuna/releases/tag/v3.0.0. Use suggest_float(..., log=True) instead.\n",
      "  'reg_lambda': trial.suggest_loguniform('reg_lambda', 1e-5, 10),  # L2 정규화\n"
     ]
    },
    {
     "name": "stdout",
     "output_type": "stream",
     "text": [
      "[LightGBM] [Warning] Found whitespace in feature_names, replace with underlines\n",
      "[LightGBM] [Info] Number of positive: 151978, number of negative: 151978\n",
      "[LightGBM] [Info] Auto-choosing row-wise multi-threading, the overhead of testing was 0.022173 seconds.\n",
      "You can set `force_row_wise=true` to remove the overhead.\n",
      "And if memory is not enough, you can set `force_col_wise=true`.\n",
      "[LightGBM] [Info] Total Bins 1239\n",
      "[LightGBM] [Info] Number of data points in the train set: 303956, number of used features: 28\n",
      "[LightGBM] [Info] [binary:BoostFromScore]: pavg=0.500000 -> initscore=0.000000\n"
     ]
    },
    {
     "name": "stderr",
     "output_type": "stream",
     "text": [
      "[I 2025-02-25 23:24:45,001] Trial 83 finished with value: 0.7217024754595781 and parameters: {'learning_rate': 0.010499154818906453, 'num_leaves': 33, 'n_estimators': 166, 'subsample': 0.8301982817930499, 'colsample_bytree': 0.9265889359193462, 'max_bin': 164, 'min_child_samples': 88, 'reg_alpha': 2.7154463040422595e-05, 'reg_lambda': 0.1278252341115291}. Best is trial 82 with value: 0.7219428381485462.\n",
      "C:\\Users\\USER\\AppData\\Local\\Temp\\ipykernel_8636\\4147431200.py:19: FutureWarning: suggest_loguniform has been deprecated in v3.0.0. This feature will be removed in v6.0.0. See https://github.com/optuna/optuna/releases/tag/v3.0.0. Use suggest_float(..., log=True) instead.\n",
      "  'learning_rate': trial.suggest_loguniform('learning_rate', 0.01, 0.1),  # 더 작은 학습률\n",
      "C:\\Users\\USER\\AppData\\Local\\Temp\\ipykernel_8636\\4147431200.py:26: FutureWarning: suggest_loguniform has been deprecated in v3.0.0. This feature will be removed in v6.0.0. See https://github.com/optuna/optuna/releases/tag/v3.0.0. Use suggest_float(..., log=True) instead.\n",
      "  'reg_alpha': trial.suggest_loguniform('reg_alpha', 1e-5, 10),  # L1 정규화\n",
      "C:\\Users\\USER\\AppData\\Local\\Temp\\ipykernel_8636\\4147431200.py:27: FutureWarning: suggest_loguniform has been deprecated in v3.0.0. This feature will be removed in v6.0.0. See https://github.com/optuna/optuna/releases/tag/v3.0.0. Use suggest_float(..., log=True) instead.\n",
      "  'reg_lambda': trial.suggest_loguniform('reg_lambda', 1e-5, 10),  # L2 정규화\n"
     ]
    },
    {
     "name": "stdout",
     "output_type": "stream",
     "text": [
      "[LightGBM] [Warning] Found whitespace in feature_names, replace with underlines\n",
      "[LightGBM] [Info] Number of positive: 151978, number of negative: 151978\n",
      "[LightGBM] [Info] Auto-choosing row-wise multi-threading, the overhead of testing was 0.020358 seconds.\n",
      "You can set `force_row_wise=true` to remove the overhead.\n",
      "And if memory is not enough, you can set `force_col_wise=true`.\n",
      "[LightGBM] [Info] Total Bins 1323\n",
      "[LightGBM] [Info] Number of data points in the train set: 303956, number of used features: 28\n",
      "[LightGBM] [Info] [binary:BoostFromScore]: pavg=0.500000 -> initscore=0.000000\n"
     ]
    },
    {
     "name": "stderr",
     "output_type": "stream",
     "text": [
      "[I 2025-02-25 23:24:47,729] Trial 84 finished with value: 0.7214689303450408 and parameters: {'learning_rate': 0.010313814741997128, 'num_leaves': 39, 'n_estimators': 138, 'subsample': 0.816000381632765, 'colsample_bytree': 0.8942510746606157, 'max_bin': 176, 'min_child_samples': 82, 'reg_alpha': 6.938948099361192e-05, 'reg_lambda': 0.2887226369418876}. Best is trial 82 with value: 0.7219428381485462.\n",
      "C:\\Users\\USER\\AppData\\Local\\Temp\\ipykernel_8636\\4147431200.py:19: FutureWarning: suggest_loguniform has been deprecated in v3.0.0. This feature will be removed in v6.0.0. See https://github.com/optuna/optuna/releases/tag/v3.0.0. Use suggest_float(..., log=True) instead.\n",
      "  'learning_rate': trial.suggest_loguniform('learning_rate', 0.01, 0.1),  # 더 작은 학습률\n",
      "C:\\Users\\USER\\AppData\\Local\\Temp\\ipykernel_8636\\4147431200.py:26: FutureWarning: suggest_loguniform has been deprecated in v3.0.0. This feature will be removed in v6.0.0. See https://github.com/optuna/optuna/releases/tag/v3.0.0. Use suggest_float(..., log=True) instead.\n",
      "  'reg_alpha': trial.suggest_loguniform('reg_alpha', 1e-5, 10),  # L1 정규화\n",
      "C:\\Users\\USER\\AppData\\Local\\Temp\\ipykernel_8636\\4147431200.py:27: FutureWarning: suggest_loguniform has been deprecated in v3.0.0. This feature will be removed in v6.0.0. See https://github.com/optuna/optuna/releases/tag/v3.0.0. Use suggest_float(..., log=True) instead.\n",
      "  'reg_lambda': trial.suggest_loguniform('reg_lambda', 1e-5, 10),  # L2 정규화\n"
     ]
    },
    {
     "name": "stdout",
     "output_type": "stream",
     "text": [
      "[LightGBM] [Warning] Found whitespace in feature_names, replace with underlines\n",
      "[LightGBM] [Info] Number of positive: 151978, number of negative: 151978\n",
      "[LightGBM] [Info] Auto-choosing row-wise multi-threading, the overhead of testing was 0.022682 seconds.\n",
      "You can set `force_row_wise=true` to remove the overhead.\n",
      "And if memory is not enough, you can set `force_col_wise=true`.\n",
      "[LightGBM] [Info] Total Bins 1090\n",
      "[LightGBM] [Info] Number of data points in the train set: 303956, number of used features: 28\n",
      "[LightGBM] [Info] [binary:BoostFromScore]: pavg=0.500000 -> initscore=0.000000\n"
     ]
    },
    {
     "name": "stderr",
     "output_type": "stream",
     "text": [
      "[I 2025-02-25 23:24:52,055] Trial 85 finished with value: 0.7206525350441999 and parameters: {'learning_rate': 0.013319020076443469, 'num_leaves': 42, 'n_estimators': 229, 'subsample': 0.8037124662404626, 'colsample_bytree': 0.912360385036867, 'max_bin': 141, 'min_child_samples': 75, 'reg_alpha': 2.8960520815159297e-05, 'reg_lambda': 0.17619891768984983}. Best is trial 82 with value: 0.7219428381485462.\n",
      "C:\\Users\\USER\\AppData\\Local\\Temp\\ipykernel_8636\\4147431200.py:19: FutureWarning: suggest_loguniform has been deprecated in v3.0.0. This feature will be removed in v6.0.0. See https://github.com/optuna/optuna/releases/tag/v3.0.0. Use suggest_float(..., log=True) instead.\n",
      "  'learning_rate': trial.suggest_loguniform('learning_rate', 0.01, 0.1),  # 더 작은 학습률\n",
      "C:\\Users\\USER\\AppData\\Local\\Temp\\ipykernel_8636\\4147431200.py:26: FutureWarning: suggest_loguniform has been deprecated in v3.0.0. This feature will be removed in v6.0.0. See https://github.com/optuna/optuna/releases/tag/v3.0.0. Use suggest_float(..., log=True) instead.\n",
      "  'reg_alpha': trial.suggest_loguniform('reg_alpha', 1e-5, 10),  # L1 정규화\n",
      "C:\\Users\\USER\\AppData\\Local\\Temp\\ipykernel_8636\\4147431200.py:27: FutureWarning: suggest_loguniform has been deprecated in v3.0.0. This feature will be removed in v6.0.0. See https://github.com/optuna/optuna/releases/tag/v3.0.0. Use suggest_float(..., log=True) instead.\n",
      "  'reg_lambda': trial.suggest_loguniform('reg_lambda', 1e-5, 10),  # L2 정규화\n"
     ]
    },
    {
     "name": "stdout",
     "output_type": "stream",
     "text": [
      "[LightGBM] [Warning] Found whitespace in feature_names, replace with underlines\n",
      "[LightGBM] [Info] Number of positive: 151978, number of negative: 151978\n",
      "[LightGBM] [Info] Auto-choosing row-wise multi-threading, the overhead of testing was 0.022672 seconds.\n",
      "You can set `force_row_wise=true` to remove the overhead.\n",
      "And if memory is not enough, you can set `force_col_wise=true`.\n",
      "[LightGBM] [Info] Total Bins 1289\n",
      "[LightGBM] [Info] Number of data points in the train set: 303956, number of used features: 28\n",
      "[LightGBM] [Info] [binary:BoostFromScore]: pavg=0.500000 -> initscore=0.000000\n"
     ]
    },
    {
     "name": "stderr",
     "output_type": "stream",
     "text": [
      "[I 2025-02-25 23:24:55,079] Trial 86 finished with value: 0.7218123904976415 and parameters: {'learning_rate': 0.01088713410404545, 'num_leaves': 33, 'n_estimators': 153, 'subsample': 0.8051672658414414, 'colsample_bytree': 0.8702203981122374, 'max_bin': 171, 'min_child_samples': 83, 'reg_alpha': 1.5517076051699295e-05, 'reg_lambda': 0.10375721679983795}. Best is trial 82 with value: 0.7219428381485462.\n",
      "C:\\Users\\USER\\AppData\\Local\\Temp\\ipykernel_8636\\4147431200.py:19: FutureWarning: suggest_loguniform has been deprecated in v3.0.0. This feature will be removed in v6.0.0. See https://github.com/optuna/optuna/releases/tag/v3.0.0. Use suggest_float(..., log=True) instead.\n",
      "  'learning_rate': trial.suggest_loguniform('learning_rate', 0.01, 0.1),  # 더 작은 학습률\n",
      "C:\\Users\\USER\\AppData\\Local\\Temp\\ipykernel_8636\\4147431200.py:26: FutureWarning: suggest_loguniform has been deprecated in v3.0.0. This feature will be removed in v6.0.0. See https://github.com/optuna/optuna/releases/tag/v3.0.0. Use suggest_float(..., log=True) instead.\n",
      "  'reg_alpha': trial.suggest_loguniform('reg_alpha', 1e-5, 10),  # L1 정규화\n",
      "C:\\Users\\USER\\AppData\\Local\\Temp\\ipykernel_8636\\4147431200.py:27: FutureWarning: suggest_loguniform has been deprecated in v3.0.0. This feature will be removed in v6.0.0. See https://github.com/optuna/optuna/releases/tag/v3.0.0. Use suggest_float(..., log=True) instead.\n",
      "  'reg_lambda': trial.suggest_loguniform('reg_lambda', 1e-5, 10),  # L2 정규화\n"
     ]
    },
    {
     "name": "stdout",
     "output_type": "stream",
     "text": [
      "[LightGBM] [Warning] Found whitespace in feature_names, replace with underlines\n",
      "[LightGBM] [Info] Number of positive: 151978, number of negative: 151978\n",
      "[LightGBM] [Info] Auto-choosing row-wise multi-threading, the overhead of testing was 0.027123 seconds.\n",
      "You can set `force_row_wise=true` to remove the overhead.\n",
      "And if memory is not enough, you can set `force_col_wise=true`.\n",
      "[LightGBM] [Info] Total Bins 1289\n",
      "[LightGBM] [Info] Number of data points in the train set: 303956, number of used features: 28\n",
      "[LightGBM] [Info] [binary:BoostFromScore]: pavg=0.500000 -> initscore=0.000000\n"
     ]
    },
    {
     "name": "stderr",
     "output_type": "stream",
     "text": [
      "[I 2025-02-25 23:25:04,784] Trial 87 finished with value: 0.7178038734328243 and parameters: {'learning_rate': 0.011004954401600858, 'num_leaves': 46, 'n_estimators': 489, 'subsample': 0.8425989540843446, 'colsample_bytree': 0.8713245291498827, 'max_bin': 171, 'min_child_samples': 83, 'reg_alpha': 1.0096697860400333e-05, 'reg_lambda': 0.8266080157658234}. Best is trial 82 with value: 0.7219428381485462.\n",
      "C:\\Users\\USER\\AppData\\Local\\Temp\\ipykernel_8636\\4147431200.py:19: FutureWarning: suggest_loguniform has been deprecated in v3.0.0. This feature will be removed in v6.0.0. See https://github.com/optuna/optuna/releases/tag/v3.0.0. Use suggest_float(..., log=True) instead.\n",
      "  'learning_rate': trial.suggest_loguniform('learning_rate', 0.01, 0.1),  # 더 작은 학습률\n",
      "C:\\Users\\USER\\AppData\\Local\\Temp\\ipykernel_8636\\4147431200.py:26: FutureWarning: suggest_loguniform has been deprecated in v3.0.0. This feature will be removed in v6.0.0. See https://github.com/optuna/optuna/releases/tag/v3.0.0. Use suggest_float(..., log=True) instead.\n",
      "  'reg_alpha': trial.suggest_loguniform('reg_alpha', 1e-5, 10),  # L1 정규화\n",
      "C:\\Users\\USER\\AppData\\Local\\Temp\\ipykernel_8636\\4147431200.py:27: FutureWarning: suggest_loguniform has been deprecated in v3.0.0. This feature will be removed in v6.0.0. See https://github.com/optuna/optuna/releases/tag/v3.0.0. Use suggest_float(..., log=True) instead.\n",
      "  'reg_lambda': trial.suggest_loguniform('reg_lambda', 1e-5, 10),  # L2 정규화\n"
     ]
    },
    {
     "name": "stdout",
     "output_type": "stream",
     "text": [
      "[LightGBM] [Warning] Found whitespace in feature_names, replace with underlines\n",
      "[LightGBM] [Info] Number of positive: 151978, number of negative: 151978\n",
      "[LightGBM] [Info] Auto-choosing row-wise multi-threading, the overhead of testing was 0.025163 seconds.\n",
      "You can set `force_row_wise=true` to remove the overhead.\n",
      "And if memory is not enough, you can set `force_col_wise=true`.\n",
      "[LightGBM] [Info] Total Bins 1194\n",
      "[LightGBM] [Info] Number of data points in the train set: 303956, number of used features: 28\n",
      "[LightGBM] [Info] [binary:BoostFromScore]: pavg=0.500000 -> initscore=0.000000\n"
     ]
    },
    {
     "name": "stderr",
     "output_type": "stream",
     "text": [
      "[I 2025-02-25 23:25:07,770] Trial 88 finished with value: 0.7215053320182715 and parameters: {'learning_rate': 0.014485249769183568, 'num_leaves': 38, 'n_estimators': 153, 'subsample': 0.8063588224298261, 'colsample_bytree': 0.8540234613822034, 'max_bin': 158, 'min_child_samples': 77, 'reg_alpha': 1.4625441342491377e-05, 'reg_lambda': 0.42937817675601164}. Best is trial 82 with value: 0.7219428381485462.\n",
      "C:\\Users\\USER\\AppData\\Local\\Temp\\ipykernel_8636\\4147431200.py:19: FutureWarning: suggest_loguniform has been deprecated in v3.0.0. This feature will be removed in v6.0.0. See https://github.com/optuna/optuna/releases/tag/v3.0.0. Use suggest_float(..., log=True) instead.\n",
      "  'learning_rate': trial.suggest_loguniform('learning_rate', 0.01, 0.1),  # 더 작은 학습률\n",
      "C:\\Users\\USER\\AppData\\Local\\Temp\\ipykernel_8636\\4147431200.py:26: FutureWarning: suggest_loguniform has been deprecated in v3.0.0. This feature will be removed in v6.0.0. See https://github.com/optuna/optuna/releases/tag/v3.0.0. Use suggest_float(..., log=True) instead.\n",
      "  'reg_alpha': trial.suggest_loguniform('reg_alpha', 1e-5, 10),  # L1 정규화\n",
      "C:\\Users\\USER\\AppData\\Local\\Temp\\ipykernel_8636\\4147431200.py:27: FutureWarning: suggest_loguniform has been deprecated in v3.0.0. This feature will be removed in v6.0.0. See https://github.com/optuna/optuna/releases/tag/v3.0.0. Use suggest_float(..., log=True) instead.\n",
      "  'reg_lambda': trial.suggest_loguniform('reg_lambda', 1e-5, 10),  # L2 정규화\n"
     ]
    },
    {
     "name": "stdout",
     "output_type": "stream",
     "text": [
      "[LightGBM] [Warning] Found whitespace in feature_names, replace with underlines\n",
      "[LightGBM] [Info] Number of positive: 151978, number of negative: 151978\n",
      "[LightGBM] [Info] Auto-choosing row-wise multi-threading, the overhead of testing was 0.026775 seconds.\n",
      "You can set `force_row_wise=true` to remove the overhead.\n",
      "And if memory is not enough, you can set `force_col_wise=true`.\n",
      "[LightGBM] [Info] Total Bins 1379\n",
      "[LightGBM] [Info] Number of data points in the train set: 303956, number of used features: 28\n",
      "[LightGBM] [Info] [binary:BoostFromScore]: pavg=0.500000 -> initscore=0.000000\n"
     ]
    },
    {
     "name": "stderr",
     "output_type": "stream",
     "text": [
      "[I 2025-02-25 23:25:18,854] Trial 89 finished with value: 0.7177787281971184 and parameters: {'learning_rate': 0.010082889217597375, 'num_leaves': 33, 'n_estimators': 655, 'subsample': 0.8550404735529026, 'colsample_bytree': 0.8987349982708293, 'max_bin': 184, 'min_child_samples': 80, 'reg_alpha': 2.2309192210853028e-05, 'reg_lambda': 0.10475822932601143}. Best is trial 82 with value: 0.7219428381485462.\n",
      "C:\\Users\\USER\\AppData\\Local\\Temp\\ipykernel_8636\\4147431200.py:19: FutureWarning: suggest_loguniform has been deprecated in v3.0.0. This feature will be removed in v6.0.0. See https://github.com/optuna/optuna/releases/tag/v3.0.0. Use suggest_float(..., log=True) instead.\n",
      "  'learning_rate': trial.suggest_loguniform('learning_rate', 0.01, 0.1),  # 더 작은 학습률\n",
      "C:\\Users\\USER\\AppData\\Local\\Temp\\ipykernel_8636\\4147431200.py:26: FutureWarning: suggest_loguniform has been deprecated in v3.0.0. This feature will be removed in v6.0.0. See https://github.com/optuna/optuna/releases/tag/v3.0.0. Use suggest_float(..., log=True) instead.\n",
      "  'reg_alpha': trial.suggest_loguniform('reg_alpha', 1e-5, 10),  # L1 정규화\n",
      "C:\\Users\\USER\\AppData\\Local\\Temp\\ipykernel_8636\\4147431200.py:27: FutureWarning: suggest_loguniform has been deprecated in v3.0.0. This feature will be removed in v6.0.0. See https://github.com/optuna/optuna/releases/tag/v3.0.0. Use suggest_float(..., log=True) instead.\n",
      "  'reg_lambda': trial.suggest_loguniform('reg_lambda', 1e-5, 10),  # L2 정규화\n"
     ]
    },
    {
     "name": "stdout",
     "output_type": "stream",
     "text": [
      "[LightGBM] [Warning] Found whitespace in feature_names, replace with underlines\n",
      "[LightGBM] [Info] Number of positive: 151978, number of negative: 151978\n",
      "[LightGBM] [Info] Auto-choosing row-wise multi-threading, the overhead of testing was 0.022086 seconds.\n",
      "You can set `force_row_wise=true` to remove the overhead.\n",
      "And if memory is not enough, you can set `force_col_wise=true`.\n",
      "[LightGBM] [Info] Total Bins 1246\n",
      "[LightGBM] [Info] Number of data points in the train set: 303956, number of used features: 28\n",
      "[LightGBM] [Info] [binary:BoostFromScore]: pavg=0.500000 -> initscore=0.000000\n"
     ]
    },
    {
     "name": "stderr",
     "output_type": "stream",
     "text": [
      "[I 2025-02-25 23:25:22,172] Trial 90 finished with value: 0.72188473947229 and parameters: {'learning_rate': 0.011532756688060686, 'num_leaves': 33, 'n_estimators': 168, 'subsample': 0.8252729816460759, 'colsample_bytree': 0.8856766482476061, 'max_bin': 165, 'min_child_samples': 74, 'reg_alpha': 5.006407861742876e-05, 'reg_lambda': 1.0463976682409544}. Best is trial 82 with value: 0.7219428381485462.\n",
      "C:\\Users\\USER\\AppData\\Local\\Temp\\ipykernel_8636\\4147431200.py:19: FutureWarning: suggest_loguniform has been deprecated in v3.0.0. This feature will be removed in v6.0.0. See https://github.com/optuna/optuna/releases/tag/v3.0.0. Use suggest_float(..., log=True) instead.\n",
      "  'learning_rate': trial.suggest_loguniform('learning_rate', 0.01, 0.1),  # 더 작은 학습률\n",
      "C:\\Users\\USER\\AppData\\Local\\Temp\\ipykernel_8636\\4147431200.py:26: FutureWarning: suggest_loguniform has been deprecated in v3.0.0. This feature will be removed in v6.0.0. See https://github.com/optuna/optuna/releases/tag/v3.0.0. Use suggest_float(..., log=True) instead.\n",
      "  'reg_alpha': trial.suggest_loguniform('reg_alpha', 1e-5, 10),  # L1 정규화\n",
      "C:\\Users\\USER\\AppData\\Local\\Temp\\ipykernel_8636\\4147431200.py:27: FutureWarning: suggest_loguniform has been deprecated in v3.0.0. This feature will be removed in v6.0.0. See https://github.com/optuna/optuna/releases/tag/v3.0.0. Use suggest_float(..., log=True) instead.\n",
      "  'reg_lambda': trial.suggest_loguniform('reg_lambda', 1e-5, 10),  # L2 정규화\n"
     ]
    },
    {
     "name": "stdout",
     "output_type": "stream",
     "text": [
      "[LightGBM] [Warning] Found whitespace in feature_names, replace with underlines\n",
      "[LightGBM] [Info] Number of positive: 151978, number of negative: 151978\n",
      "[LightGBM] [Info] Auto-choosing row-wise multi-threading, the overhead of testing was 0.025678 seconds.\n",
      "You can set `force_row_wise=true` to remove the overhead.\n",
      "And if memory is not enough, you can set `force_col_wise=true`.\n",
      "[LightGBM] [Info] Total Bins 1252\n",
      "[LightGBM] [Info] Number of data points in the train set: 303956, number of used features: 28\n",
      "[LightGBM] [Info] [binary:BoostFromScore]: pavg=0.500000 -> initscore=0.000000\n"
     ]
    },
    {
     "name": "stderr",
     "output_type": "stream",
     "text": [
      "[I 2025-02-25 23:25:24,343] Trial 91 finished with value: 0.7218147931758427 and parameters: {'learning_rate': 0.011526046342802174, 'num_leaves': 34, 'n_estimators': 124, 'subsample': 0.7997173275178743, 'colsample_bytree': 0.8868609895970097, 'max_bin': 166, 'min_child_samples': 85, 'reg_alpha': 4.961547135396218e-05, 'reg_lambda': 2.7295813270019846}. Best is trial 82 with value: 0.7219428381485462.\n",
      "C:\\Users\\USER\\AppData\\Local\\Temp\\ipykernel_8636\\4147431200.py:19: FutureWarning: suggest_loguniform has been deprecated in v3.0.0. This feature will be removed in v6.0.0. See https://github.com/optuna/optuna/releases/tag/v3.0.0. Use suggest_float(..., log=True) instead.\n",
      "  'learning_rate': trial.suggest_loguniform('learning_rate', 0.01, 0.1),  # 더 작은 학습률\n",
      "C:\\Users\\USER\\AppData\\Local\\Temp\\ipykernel_8636\\4147431200.py:26: FutureWarning: suggest_loguniform has been deprecated in v3.0.0. This feature will be removed in v6.0.0. See https://github.com/optuna/optuna/releases/tag/v3.0.0. Use suggest_float(..., log=True) instead.\n",
      "  'reg_alpha': trial.suggest_loguniform('reg_alpha', 1e-5, 10),  # L1 정규화\n",
      "C:\\Users\\USER\\AppData\\Local\\Temp\\ipykernel_8636\\4147431200.py:27: FutureWarning: suggest_loguniform has been deprecated in v3.0.0. This feature will be removed in v6.0.0. See https://github.com/optuna/optuna/releases/tag/v3.0.0. Use suggest_float(..., log=True) instead.\n",
      "  'reg_lambda': trial.suggest_loguniform('reg_lambda', 1e-5, 10),  # L2 정규화\n"
     ]
    },
    {
     "name": "stdout",
     "output_type": "stream",
     "text": [
      "[LightGBM] [Warning] Found whitespace in feature_names, replace with underlines\n",
      "[LightGBM] [Info] Number of positive: 151978, number of negative: 151978\n",
      "[LightGBM] [Info] Auto-choosing row-wise multi-threading, the overhead of testing was 0.030159 seconds.\n",
      "You can set `force_row_wise=true` to remove the overhead.\n",
      "And if memory is not enough, you can set `force_col_wise=true`.\n",
      "[LightGBM] [Info] Total Bins 1268\n",
      "[LightGBM] [Info] Number of data points in the train set: 303956, number of used features: 28\n",
      "[LightGBM] [Info] [binary:BoostFromScore]: pavg=0.500000 -> initscore=0.000000\n"
     ]
    },
    {
     "name": "stderr",
     "output_type": "stream",
     "text": [
      "[I 2025-02-25 23:25:29,277] Trial 92 finished with value: 0.7201043219707026 and parameters: {'learning_rate': 0.012365040532788111, 'num_leaves': 106, 'n_estimators': 122, 'subsample': 0.8254975137875137, 'colsample_bytree': 0.8871742993877166, 'max_bin': 168, 'min_child_samples': 86, 'reg_alpha': 5.4995279736456436e-05, 'reg_lambda': 5.050754348673812}. Best is trial 82 with value: 0.7219428381485462.\n",
      "C:\\Users\\USER\\AppData\\Local\\Temp\\ipykernel_8636\\4147431200.py:19: FutureWarning: suggest_loguniform has been deprecated in v3.0.0. This feature will be removed in v6.0.0. See https://github.com/optuna/optuna/releases/tag/v3.0.0. Use suggest_float(..., log=True) instead.\n",
      "  'learning_rate': trial.suggest_loguniform('learning_rate', 0.01, 0.1),  # 더 작은 학습률\n",
      "C:\\Users\\USER\\AppData\\Local\\Temp\\ipykernel_8636\\4147431200.py:26: FutureWarning: suggest_loguniform has been deprecated in v3.0.0. This feature will be removed in v6.0.0. See https://github.com/optuna/optuna/releases/tag/v3.0.0. Use suggest_float(..., log=True) instead.\n",
      "  'reg_alpha': trial.suggest_loguniform('reg_alpha', 1e-5, 10),  # L1 정규화\n",
      "C:\\Users\\USER\\AppData\\Local\\Temp\\ipykernel_8636\\4147431200.py:27: FutureWarning: suggest_loguniform has been deprecated in v3.0.0. This feature will be removed in v6.0.0. See https://github.com/optuna/optuna/releases/tag/v3.0.0. Use suggest_float(..., log=True) instead.\n",
      "  'reg_lambda': trial.suggest_loguniform('reg_lambda', 1e-5, 10),  # L2 정규화\n"
     ]
    },
    {
     "name": "stdout",
     "output_type": "stream",
     "text": [
      "[LightGBM] [Warning] Found whitespace in feature_names, replace with underlines\n",
      "[LightGBM] [Info] Number of positive: 151978, number of negative: 151978\n",
      "[LightGBM] [Info] Auto-choosing row-wise multi-threading, the overhead of testing was 0.031379 seconds.\n",
      "You can set `force_row_wise=true` to remove the overhead.\n",
      "And if memory is not enough, you can set `force_col_wise=true`.\n",
      "[LightGBM] [Info] Total Bins 1310\n",
      "[LightGBM] [Info] Number of data points in the train set: 303956, number of used features: 28\n",
      "[LightGBM] [Info] [binary:BoostFromScore]: pavg=0.500000 -> initscore=0.000000\n"
     ]
    },
    {
     "name": "stderr",
     "output_type": "stream",
     "text": [
      "[I 2025-02-25 23:25:32,564] Trial 93 finished with value: 0.7217796687367847 and parameters: {'learning_rate': 0.010751965155546335, 'num_leaves': 33, 'n_estimators': 162, 'subsample': 0.7990913532249855, 'colsample_bytree': 0.8747753253760585, 'max_bin': 174, 'min_child_samples': 91, 'reg_alpha': 8.984958230651133e-05, 'reg_lambda': 2.957650174447394}. Best is trial 82 with value: 0.7219428381485462.\n",
      "C:\\Users\\USER\\AppData\\Local\\Temp\\ipykernel_8636\\4147431200.py:19: FutureWarning: suggest_loguniform has been deprecated in v3.0.0. This feature will be removed in v6.0.0. See https://github.com/optuna/optuna/releases/tag/v3.0.0. Use suggest_float(..., log=True) instead.\n",
      "  'learning_rate': trial.suggest_loguniform('learning_rate', 0.01, 0.1),  # 더 작은 학습률\n",
      "C:\\Users\\USER\\AppData\\Local\\Temp\\ipykernel_8636\\4147431200.py:26: FutureWarning: suggest_loguniform has been deprecated in v3.0.0. This feature will be removed in v6.0.0. See https://github.com/optuna/optuna/releases/tag/v3.0.0. Use suggest_float(..., log=True) instead.\n",
      "  'reg_alpha': trial.suggest_loguniform('reg_alpha', 1e-5, 10),  # L1 정규화\n",
      "C:\\Users\\USER\\AppData\\Local\\Temp\\ipykernel_8636\\4147431200.py:27: FutureWarning: suggest_loguniform has been deprecated in v3.0.0. This feature will be removed in v6.0.0. See https://github.com/optuna/optuna/releases/tag/v3.0.0. Use suggest_float(..., log=True) instead.\n",
      "  'reg_lambda': trial.suggest_loguniform('reg_lambda', 1e-5, 10),  # L2 정규화\n"
     ]
    },
    {
     "name": "stdout",
     "output_type": "stream",
     "text": [
      "[LightGBM] [Warning] Found whitespace in feature_names, replace with underlines\n",
      "[LightGBM] [Info] Number of positive: 151978, number of negative: 151978\n",
      "[LightGBM] [Info] Auto-choosing row-wise multi-threading, the overhead of testing was 0.030510 seconds.\n",
      "You can set `force_row_wise=true` to remove the overhead.\n",
      "And if memory is not enough, you can set `force_col_wise=true`.\n",
      "[LightGBM] [Info] Total Bins 1425\n",
      "[LightGBM] [Info] Number of data points in the train set: 303956, number of used features: 28\n",
      "[LightGBM] [Info] [binary:BoostFromScore]: pavg=0.500000 -> initscore=0.000000\n"
     ]
    },
    {
     "name": "stderr",
     "output_type": "stream",
     "text": [
      "[I 2025-02-25 23:25:34,923] Trial 94 finished with value: 0.7216668756777005 and parameters: {'learning_rate': 0.014435409180044875, 'num_leaves': 40, 'n_estimators': 101, 'subsample': 0.8180243628941655, 'colsample_bytree': 0.909587068274248, 'max_bin': 191, 'min_child_samples': 80, 'reg_alpha': 0.00013353673479888037, 'reg_lambda': 1.164834380170682}. Best is trial 82 with value: 0.7219428381485462.\n",
      "C:\\Users\\USER\\AppData\\Local\\Temp\\ipykernel_8636\\4147431200.py:19: FutureWarning: suggest_loguniform has been deprecated in v3.0.0. This feature will be removed in v6.0.0. See https://github.com/optuna/optuna/releases/tag/v3.0.0. Use suggest_float(..., log=True) instead.\n",
      "  'learning_rate': trial.suggest_loguniform('learning_rate', 0.01, 0.1),  # 더 작은 학습률\n",
      "C:\\Users\\USER\\AppData\\Local\\Temp\\ipykernel_8636\\4147431200.py:26: FutureWarning: suggest_loguniform has been deprecated in v3.0.0. This feature will be removed in v6.0.0. See https://github.com/optuna/optuna/releases/tag/v3.0.0. Use suggest_float(..., log=True) instead.\n",
      "  'reg_alpha': trial.suggest_loguniform('reg_alpha', 1e-5, 10),  # L1 정규화\n",
      "C:\\Users\\USER\\AppData\\Local\\Temp\\ipykernel_8636\\4147431200.py:27: FutureWarning: suggest_loguniform has been deprecated in v3.0.0. This feature will be removed in v6.0.0. See https://github.com/optuna/optuna/releases/tag/v3.0.0. Use suggest_float(..., log=True) instead.\n",
      "  'reg_lambda': trial.suggest_loguniform('reg_lambda', 1e-5, 10),  # L2 정규화\n"
     ]
    },
    {
     "name": "stdout",
     "output_type": "stream",
     "text": [
      "[LightGBM] [Warning] Found whitespace in feature_names, replace with underlines\n",
      "[LightGBM] [Info] Number of positive: 151978, number of negative: 151978\n",
      "[LightGBM] [Info] Auto-choosing row-wise multi-threading, the overhead of testing was 0.024820 seconds.\n",
      "You can set `force_row_wise=true` to remove the overhead.\n",
      "And if memory is not enough, you can set `force_col_wise=true`.\n",
      "[LightGBM] [Info] Total Bins 1147\n",
      "[LightGBM] [Info] Number of data points in the train set: 303956, number of used features: 28\n",
      "[LightGBM] [Info] [binary:BoostFromScore]: pavg=0.500000 -> initscore=0.000000\n"
     ]
    },
    {
     "name": "stderr",
     "output_type": "stream",
     "text": [
      "[I 2025-02-25 23:25:37,877] Trial 95 finished with value: 0.7215460467285559 and parameters: {'learning_rate': 0.012935539230048452, 'num_leaves': 37, 'n_estimators': 136, 'subsample': 0.8372234158729932, 'colsample_bytree': 0.8666275280522373, 'max_bin': 151, 'min_child_samples': 78, 'reg_alpha': 4.77580973970572e-05, 'reg_lambda': 6.139583806575115}. Best is trial 82 with value: 0.7219428381485462.\n",
      "C:\\Users\\USER\\AppData\\Local\\Temp\\ipykernel_8636\\4147431200.py:19: FutureWarning: suggest_loguniform has been deprecated in v3.0.0. This feature will be removed in v6.0.0. See https://github.com/optuna/optuna/releases/tag/v3.0.0. Use suggest_float(..., log=True) instead.\n",
      "  'learning_rate': trial.suggest_loguniform('learning_rate', 0.01, 0.1),  # 더 작은 학습률\n",
      "C:\\Users\\USER\\AppData\\Local\\Temp\\ipykernel_8636\\4147431200.py:26: FutureWarning: suggest_loguniform has been deprecated in v3.0.0. This feature will be removed in v6.0.0. See https://github.com/optuna/optuna/releases/tag/v3.0.0. Use suggest_float(..., log=True) instead.\n",
      "  'reg_alpha': trial.suggest_loguniform('reg_alpha', 1e-5, 10),  # L1 정규화\n",
      "C:\\Users\\USER\\AppData\\Local\\Temp\\ipykernel_8636\\4147431200.py:27: FutureWarning: suggest_loguniform has been deprecated in v3.0.0. This feature will be removed in v6.0.0. See https://github.com/optuna/optuna/releases/tag/v3.0.0. Use suggest_float(..., log=True) instead.\n",
      "  'reg_lambda': trial.suggest_loguniform('reg_lambda', 1e-5, 10),  # L2 정규화\n"
     ]
    },
    {
     "name": "stdout",
     "output_type": "stream",
     "text": [
      "[LightGBM] [Warning] Found whitespace in feature_names, replace with underlines\n",
      "[LightGBM] [Info] Number of positive: 151978, number of negative: 151978\n",
      "[LightGBM] [Info] Auto-choosing row-wise multi-threading, the overhead of testing was 0.029406 seconds.\n",
      "You can set `force_row_wise=true` to remove the overhead.\n",
      "And if memory is not enough, you can set `force_col_wise=true`.\n",
      "[LightGBM] [Info] Total Bins 1118\n",
      "[LightGBM] [Info] Number of data points in the train set: 303956, number of used features: 28\n",
      "[LightGBM] [Info] [binary:BoostFromScore]: pavg=0.500000 -> initscore=0.000000\n"
     ]
    },
    {
     "name": "stderr",
     "output_type": "stream",
     "text": [
      "[I 2025-02-25 23:25:42,839] Trial 96 finished with value: 0.7207527005613659 and parameters: {'learning_rate': 0.011748664577014059, 'num_leaves': 43, 'n_estimators': 226, 'subsample': 0.7863535096131511, 'colsample_bytree': 0.9191154384595517, 'max_bin': 146, 'min_child_samples': 83, 'reg_alpha': 7.251271752307553e-05, 'reg_lambda': 2.6352834540631123}. Best is trial 82 with value: 0.7219428381485462.\n",
      "C:\\Users\\USER\\AppData\\Local\\Temp\\ipykernel_8636\\4147431200.py:19: FutureWarning: suggest_loguniform has been deprecated in v3.0.0. This feature will be removed in v6.0.0. See https://github.com/optuna/optuna/releases/tag/v3.0.0. Use suggest_float(..., log=True) instead.\n",
      "  'learning_rate': trial.suggest_loguniform('learning_rate', 0.01, 0.1),  # 더 작은 학습률\n",
      "C:\\Users\\USER\\AppData\\Local\\Temp\\ipykernel_8636\\4147431200.py:26: FutureWarning: suggest_loguniform has been deprecated in v3.0.0. This feature will be removed in v6.0.0. See https://github.com/optuna/optuna/releases/tag/v3.0.0. Use suggest_float(..., log=True) instead.\n",
      "  'reg_alpha': trial.suggest_loguniform('reg_alpha', 1e-5, 10),  # L1 정규화\n",
      "C:\\Users\\USER\\AppData\\Local\\Temp\\ipykernel_8636\\4147431200.py:27: FutureWarning: suggest_loguniform has been deprecated in v3.0.0. This feature will be removed in v6.0.0. See https://github.com/optuna/optuna/releases/tag/v3.0.0. Use suggest_float(..., log=True) instead.\n",
      "  'reg_lambda': trial.suggest_loguniform('reg_lambda', 1e-5, 10),  # L2 정규화\n"
     ]
    },
    {
     "name": "stdout",
     "output_type": "stream",
     "text": [
      "[LightGBM] [Warning] Found whitespace in feature_names, replace with underlines\n",
      "[LightGBM] [Info] Number of positive: 151978, number of negative: 151978\n",
      "[LightGBM] [Info] Auto-choosing row-wise multi-threading, the overhead of testing was 0.030826 seconds.\n",
      "You can set `force_row_wise=true` to remove the overhead.\n",
      "And if memory is not enough, you can set `force_col_wise=true`.\n",
      "[LightGBM] [Info] Total Bins 1499\n",
      "[LightGBM] [Info] Number of data points in the train set: 303956, number of used features: 28\n",
      "[LightGBM] [Info] [binary:BoostFromScore]: pavg=0.500000 -> initscore=0.000000\n"
     ]
    },
    {
     "name": "stderr",
     "output_type": "stream",
     "text": [
      "[I 2025-02-25 23:25:46,944] Trial 97 finished with value: 0.7217634281899902 and parameters: {'learning_rate': 0.010901437730913507, 'num_leaves': 33, 'n_estimators': 203, 'subsample': 0.8116582679204771, 'colsample_bytree': 0.8989627674566687, 'max_bin': 202, 'min_child_samples': 99, 'reg_alpha': 2.2068222051359084e-05, 'reg_lambda': 0.6000147530964207}. Best is trial 82 with value: 0.7219428381485462.\n",
      "C:\\Users\\USER\\AppData\\Local\\Temp\\ipykernel_8636\\4147431200.py:19: FutureWarning: suggest_loguniform has been deprecated in v3.0.0. This feature will be removed in v6.0.0. See https://github.com/optuna/optuna/releases/tag/v3.0.0. Use suggest_float(..., log=True) instead.\n",
      "  'learning_rate': trial.suggest_loguniform('learning_rate', 0.01, 0.1),  # 더 작은 학습률\n",
      "C:\\Users\\USER\\AppData\\Local\\Temp\\ipykernel_8636\\4147431200.py:26: FutureWarning: suggest_loguniform has been deprecated in v3.0.0. This feature will be removed in v6.0.0. See https://github.com/optuna/optuna/releases/tag/v3.0.0. Use suggest_float(..., log=True) instead.\n",
      "  'reg_alpha': trial.suggest_loguniform('reg_alpha', 1e-5, 10),  # L1 정규화\n",
      "C:\\Users\\USER\\AppData\\Local\\Temp\\ipykernel_8636\\4147431200.py:27: FutureWarning: suggest_loguniform has been deprecated in v3.0.0. This feature will be removed in v6.0.0. See https://github.com/optuna/optuna/releases/tag/v3.0.0. Use suggest_float(..., log=True) instead.\n",
      "  'reg_lambda': trial.suggest_loguniform('reg_lambda', 1e-5, 10),  # L2 정규화\n"
     ]
    },
    {
     "name": "stdout",
     "output_type": "stream",
     "text": [
      "[LightGBM] [Warning] Found whitespace in feature_names, replace with underlines\n",
      "[LightGBM] [Info] Number of positive: 151978, number of negative: 151978\n",
      "[LightGBM] [Info] Auto-choosing row-wise multi-threading, the overhead of testing was 0.024562 seconds.\n",
      "You can set `force_row_wise=true` to remove the overhead.\n",
      "And if memory is not enough, you can set `force_col_wise=true`.\n",
      "[LightGBM] [Info] Total Bins 1347\n",
      "[LightGBM] [Info] Number of data points in the train set: 303956, number of used features: 28\n",
      "[LightGBM] [Info] [binary:BoostFromScore]: pavg=0.500000 -> initscore=0.000000\n"
     ]
    },
    {
     "name": "stderr",
     "output_type": "stream",
     "text": [
      "[I 2025-02-25 23:26:07,238] Trial 98 finished with value: 0.7127385374624167 and parameters: {'learning_rate': 0.010410488800419714, 'num_leaves': 82, 'n_estimators': 800, 'subsample': 0.862709813146058, 'colsample_bytree': 0.8882301413253253, 'max_bin': 180, 'min_child_samples': 74, 'reg_alpha': 3.4337558414757265e-05, 'reg_lambda': 1.4347921963884998}. Best is trial 82 with value: 0.7219428381485462.\n",
      "C:\\Users\\USER\\AppData\\Local\\Temp\\ipykernel_8636\\4147431200.py:19: FutureWarning: suggest_loguniform has been deprecated in v3.0.0. This feature will be removed in v6.0.0. See https://github.com/optuna/optuna/releases/tag/v3.0.0. Use suggest_float(..., log=True) instead.\n",
      "  'learning_rate': trial.suggest_loguniform('learning_rate', 0.01, 0.1),  # 더 작은 학습률\n",
      "C:\\Users\\USER\\AppData\\Local\\Temp\\ipykernel_8636\\4147431200.py:26: FutureWarning: suggest_loguniform has been deprecated in v3.0.0. This feature will be removed in v6.0.0. See https://github.com/optuna/optuna/releases/tag/v3.0.0. Use suggest_float(..., log=True) instead.\n",
      "  'reg_alpha': trial.suggest_loguniform('reg_alpha', 1e-5, 10),  # L1 정규화\n",
      "C:\\Users\\USER\\AppData\\Local\\Temp\\ipykernel_8636\\4147431200.py:27: FutureWarning: suggest_loguniform has been deprecated in v3.0.0. This feature will be removed in v6.0.0. See https://github.com/optuna/optuna/releases/tag/v3.0.0. Use suggest_float(..., log=True) instead.\n",
      "  'reg_lambda': trial.suggest_loguniform('reg_lambda', 1e-5, 10),  # L2 정규화\n"
     ]
    },
    {
     "name": "stdout",
     "output_type": "stream",
     "text": [
      "[LightGBM] [Warning] Found whitespace in feature_names, replace with underlines\n",
      "[LightGBM] [Info] Number of positive: 151978, number of negative: 151978\n",
      "[LightGBM] [Info] Auto-choosing row-wise multi-threading, the overhead of testing was 0.029141 seconds.\n",
      "You can set `force_row_wise=true` to remove the overhead.\n",
      "And if memory is not enough, you can set `force_col_wise=true`.\n",
      "[LightGBM] [Info] Total Bins 1101\n",
      "[LightGBM] [Info] Number of data points in the train set: 303956, number of used features: 28\n",
      "[LightGBM] [Info] [binary:BoostFromScore]: pavg=0.500000 -> initscore=0.000000\n"
     ]
    },
    {
     "name": "stderr",
     "output_type": "stream",
     "text": [
      "[I 2025-02-25 23:26:22,162] Trial 99 finished with value: 0.7131687976105515 and parameters: {'learning_rate': 0.013822961192437155, 'num_leaves': 38, 'n_estimators': 995, 'subsample': 0.828278238745106, 'colsample_bytree': 0.8571843978006639, 'max_bin': 143, 'min_child_samples': 88, 'reg_alpha': 1.301704072417137e-05, 'reg_lambda': 0.16931809334689527}. Best is trial 82 with value: 0.7219428381485462.\n"
     ]
    },
    {
     "name": "stdout",
     "output_type": "stream",
     "text": [
      "Best Trial: {'learning_rate': 0.010540712994132227, 'num_leaves': 34, 'n_estimators': 171, 'subsample': 0.8021482764635024, 'colsample_bytree': 0.8941596971661392, 'max_bin': 167, 'min_child_samples': 82, 'reg_alpha': 2.9977582889799054e-05, 'reg_lambda': 0.20341964486616235}\n",
      "Best ROC-AUC Score: 0.7219428381485462\n",
      "[LightGBM] [Warning] Found whitespace in feature_names, replace with underlines\n",
      "[LightGBM] [Info] Number of positive: 66228, number of negative: 190123\n",
      "[LightGBM] [Info] Auto-choosing row-wise multi-threading, the overhead of testing was 0.018550 seconds.\n",
      "You can set `force_row_wise=true` to remove the overhead.\n",
      "And if memory is not enough, you can set `force_col_wise=true`.\n",
      "[LightGBM] [Info] Total Bins 303\n",
      "[LightGBM] [Info] Number of data points in the train set: 256351, number of used features: 28\n",
      "[LightGBM] [Info] [binary:BoostFromScore]: pavg=0.258349 -> initscore=-1.054568\n",
      "[LightGBM] [Info] Start training from score -1.054568\n",
      "✅ 최종 예측 완료! 결과 저장됨: final_submission.csv\n"
     ]
    }
   ],
   "source": [
    "import optuna\n",
    "import lightgbm as lgb\n",
    "from sklearn.model_selection import train_test_split\n",
    "from sklearn.metrics import roc_auc_score\n",
    "import pandas as pd\n",
    "from imblearn.over_sampling import SMOTE  # SMOTE 임포트\n",
    "\n",
    "# 데이터 분할\n",
    "X_train, X_valid, y_train, y_valid = train_test_split(X, y, test_size=0.2, random_state=42)\n",
    "\n",
    "# SMOTE 적용\n",
    "smote = SMOTE(random_state=42)\n",
    "X_train_resampled, y_train_resampled = smote.fit_resample(X_train, y_train)\n",
    "\n",
    "# Optuna 하이퍼파라미터 튜닝을 위한 목적 함수\n",
    "def objective(trial):\n",
    "    # LightGBM 하이퍼파라미터 설정\n",
    "    lgb_param = {\n",
    "        'learning_rate': trial.suggest_loguniform('learning_rate', 0.01, 0.1),  # 더 작은 학습률\n",
    "        'num_leaves': trial.suggest_int('num_leaves', 31, 127),  # 더 넓은 범위\n",
    "        'n_estimators': trial.suggest_int('n_estimators', 100, 1000),  # 더 넓은 범위\n",
    "        'subsample': trial.suggest_float('subsample', 0.7, 1.0),  # 데이터 샘플링 비율\n",
    "        'colsample_bytree': trial.suggest_float('colsample_bytree', 0.7, 1.0),  # 특성 샘플링 비율\n",
    "        'max_bin': trial.suggest_int('max_bin', 100, 300),  # 최대 bin 개수 증가\n",
    "        'min_child_samples': trial.suggest_int('min_child_samples', 10, 100),  # 과적합 방지를 위한 최소 샘플 수\n",
    "        'reg_alpha': trial.suggest_loguniform('reg_alpha', 1e-5, 10),  # L1 정규화\n",
    "        'reg_lambda': trial.suggest_loguniform('reg_lambda', 1e-5, 10),  # L2 정규화\n",
    "        'random_state': 42\n",
    "    }\n",
    "\n",
    "    # LightGBM 모델 학습\n",
    "    lgb_clf = lgb.LGBMClassifier(**lgb_param)\n",
    "    lgb_clf.fit(X_train_resampled, y_train_resampled)\n",
    "\n",
    "    # 예측 (ROC-AUC 계산)\n",
    "    y_pred = lgb_clf.predict_proba(X_valid)[:, 1]\n",
    "    score = roc_auc_score(y_valid, y_pred)\n",
    "\n",
    "    return score\n",
    "\n",
    "# Optuna 최적화\n",
    "study = optuna.create_study(direction='maximize')\n",
    "study.optimize(objective, n_trials=100)  # n_trials를 100으로 늘려서 더 많은 실험을 시도\n",
    "\n",
    "# 최적 하이퍼파라미터 출력\n",
    "print(f\"Best Trial: {study.best_trial.params}\")\n",
    "print(f\"Best ROC-AUC Score: {study.best_value}\")\n",
    "\n",
    "# 최적 하이퍼파라미터로 LightGBM 모델 학습\n",
    "best_lgb_params = study.best_trial.params\n",
    "lgb_clf_final = lgb.LGBMClassifier(**best_lgb_params)\n",
    "\n",
    "# 전체 데이터로 학습\n",
    "lgb_clf_final.fit(X, y)\n",
    "\n",
    "# test 데이터 예측\n",
    "pred_proba = lgb_clf_final.predict_proba(test)[:, 1]\n",
    "\n",
    "# 결과 저장\n",
    "sample_submission = pd.read_csv('./sample_submission.csv')\n",
    "sample_submission['probability'] = pred_proba\n",
    "sample_submission.to_csv('./final_submission.csv', index=False)\n",
    "\n",
    "print(\"✅ 최종 예측 완료! 결과 저장됨: final_submission.csv\")"
   ]
  },
  {
   "cell_type": "markdown",
   "id": "ed0dc008-59c4-4e8d-8b95-fe441a561019",
   "metadata": {
    "id": "ed0dc008-59c4-4e8d-8b95-fe441a561019"
   },
   "source": [
    "# 학습"
   ]
  }
 ],
 "metadata": {
  "colab": {
   "include_colab_link": true,
   "provenance": []
  },
  "kernelspec": {
   "display_name": "Python [conda env:base] *",
   "language": "python",
   "name": "conda-base-py"
  },
  "language_info": {
   "codemirror_mode": {
    "name": "ipython",
    "version": 3
   },
   "file_extension": ".py",
   "mimetype": "text/x-python",
   "name": "python",
   "nbconvert_exporter": "python",
   "pygments_lexer": "ipython3",
   "version": "3.12.7"
  }
 },
 "nbformat": 4,
 "nbformat_minor": 5
}
