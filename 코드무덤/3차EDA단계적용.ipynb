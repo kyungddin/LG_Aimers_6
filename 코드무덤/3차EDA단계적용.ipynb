{
 "cells": [
  {
   "cell_type": "markdown",
   "id": "b2a9cf80-967a-49e5-b4f8-715de9cddb5a",
   "metadata": {},
   "source": [
    "# import+CSV"
   ]
  },
  {
   "cell_type": "code",
   "execution_count": 1,
   "id": "fb16a7d8-2586-419c-a368-fd67a7851b88",
   "metadata": {},
   "outputs": [],
   "source": [
    "import pandas as pd\n",
    "import numpy as np\n",
    "import matplotlib.pyplot as plt\n",
    "import seaborn as sns\n",
    "import prince\n",
    "\n",
    "from sklearn.preprocessing import  OrdinalEncoder\n",
    "from sklearn.ensemble import ExtraTreesClassifier\n",
    "\n",
    "train = pd.read_csv('./train.csv').drop(columns=['ID'])\n",
    "test = pd.read_csv('./test.csv').drop(columns=['ID'])"
   ]
  },
  {
   "cell_type": "markdown",
   "id": "c2fded77-15d0-4108-9776-1c5f8f12e105",
   "metadata": {},
   "source": [
    "****"
   ]
  },
  {
   "cell_type": "markdown",
   "id": "f69ecc2b-e585-4d2f-9999-b320ceed45f1",
   "metadata": {},
   "source": [
    "# 여기서부터 EDA 단계 적용 드간다"
   ]
  },
  {
   "cell_type": "markdown",
   "id": "ba5f51a9-9e81-48e1-b7d9-f80516727426",
   "metadata": {},
   "source": [
    "### 0. 미적용"
   ]
  },
  {
   "cell_type": "markdown",
   "id": "9ceea957-0897-4ec7-8344-06567982d5f1",
   "metadata": {},
   "source": [
    "#### ROC score: 0.7360660526"
   ]
  },
  {
   "cell_type": "markdown",
   "id": "985354a2-f7a8-4a4e-84fe-9e7a896acd66",
   "metadata": {},
   "source": [
    "### 1. 시술 시기 코드 단순 drop"
   ]
  },
  {
   "cell_type": "code",
   "execution_count": 8,
   "id": "0774bedc-d534-49c3-a6f5-5af5d36e6dc9",
   "metadata": {},
   "outputs": [],
   "source": [
    "#'시술 시기 코드' 열 제거\n",
    "train = train.drop(columns=['시술 시기 코드'])\n",
    "test = test.drop(columns=['시술 시기 코드'])"
   ]
  },
  {
   "cell_type": "markdown",
   "id": "22b688c2-d54f-4f1c-9f6e-be1f7dacb2a7",
   "metadata": {},
   "source": [
    "ROC score: 0.7357871588 (down)"
   ]
  },
  {
   "cell_type": "markdown",
   "id": "a9da8e4e-a1c0-45ca-98f6-9ef95dd2952f",
   "metadata": {},
   "source": [
    "### 2. 임신 시도 또는 마지막 경과 연수 단순 drop"
   ]
  },
  {
   "cell_type": "code",
   "execution_count": 11,
   "id": "e4a19b00-fd20-4595-a1ae-3a5fdc54af28",
   "metadata": {},
   "outputs": [],
   "source": [
    "#'임신 시도 또는 마지막 임신 경과 연수' 열 제거\n",
    "train = train.drop(columns=['임신 시도 또는 마지막 임신 경과 연수'])\n",
    "test = test.drop(columns=['임신 시도 또는 마지막 임신 경과 연수'])"
   ]
  },
  {
   "cell_type": "markdown",
   "id": "f82a74d0-dd14-48a0-b08a-8aee25292f6c",
   "metadata": {},
   "source": [
    "ROC score: 0.7358534404 (up)"
   ]
  },
  {
   "cell_type": "markdown",
   "id": "37212be7-a9e7-4459-b275-b679d9e2e999",
   "metadata": {},
   "source": [
    "### 3. 시술 유형 단순 drop"
   ]
  },
  {
   "cell_type": "code",
   "execution_count": 14,
   "id": "86d3f89f-c33c-4048-8958-056993c9c2fb",
   "metadata": {},
   "outputs": [],
   "source": [
    "train = train.drop(columns=['시술 유형'])\n",
    "test = test.drop(columns=['시술 유형'])"
   ]
  },
  {
   "cell_type": "markdown",
   "id": "a806051e-a05d-4ca9-828c-ec28d3f082e9",
   "metadata": {},
   "source": [
    "ROC score: 0.7358534404 (stay)"
   ]
  },
  {
   "cell_type": "markdown",
   "id": "554f81a9-384f-4b8d-ba94-daa865fed6a0",
   "metadata": {},
   "source": [
    "### 4. 특정 시술 유형 그룹화"
   ]
  },
  {
   "cell_type": "code",
   "execution_count": 17,
   "id": "d29ab7bb-7551-44cd-a53c-674c31b201e1",
   "metadata": {},
   "outputs": [],
   "source": [
    "#'특정 시술 유형' 그룹화\n",
    "def categorize_treatment(treatment):\n",
    "    if pd.isna(treatment) or \"Unknown\" in treatment:\n",
    "        return \"Unknown\"\n",
    "    elif \"IVF\" in treatment:\n",
    "        return \"IVF 기반\"\n",
    "    elif \"ICSI\" in treatment:\n",
    "        return \"ICSI 기반\"\n",
    "    else:\n",
    "        return \"기타\"\n",
    "\n",
    "# 새로운 그룹 컬럼 생성\n",
    "train[\"특정 시술 유형\"] = train[\"특정 시술 유형\"].apply(categorize_treatment)"
   ]
  },
  {
   "cell_type": "markdown",
   "id": "f51c4520-e17b-42f1-aff5-6059f9ff5369",
   "metadata": {},
   "source": [
    "ROC score: 0.7357619732 (down)"
   ]
  },
  {
   "cell_type": "markdown",
   "id": "38ae5f34-65df-4b2c-ace8-a5ad5ae62d48",
   "metadata": {},
   "source": [
    "### 5. 배란 유도 단순 drop"
   ]
  },
  {
   "cell_type": "code",
   "execution_count": 20,
   "id": "956e3e3e-49f6-4d9b-81d8-da11678f7237",
   "metadata": {},
   "outputs": [],
   "source": [
    "train = train.drop(columns=['배란 유도 유형'])\n",
    "test = test.drop(columns=['배란 유도 유형'])"
   ]
  },
  {
   "cell_type": "markdown",
   "id": "0fce814c-acc5-4293-8fd1-b3fa068d75b7",
   "metadata": {},
   "source": [
    "ROC score: 0.7355531316 (down)"
   ]
  },
  {
   "cell_type": "markdown",
   "id": "9373ea98-4df7-4537-9196-c0c3deddb124",
   "metadata": {},
   "source": [
    "### 6. 착상 전 유전 검사 사용 여부 단순 drop"
   ]
  },
  {
   "cell_type": "code",
   "execution_count": 23,
   "id": "7a76ec6b-de64-4154-930f-1b5eecb4ef6d",
   "metadata": {},
   "outputs": [],
   "source": [
    "train = train.drop(columns=['착상 전 유전 검사 사용 여부'])\n",
    "test = test.drop(columns=['착상 전 유전 검사 사용 여부'])"
   ]
  },
  {
   "cell_type": "markdown",
   "id": "bb9551e0-dcdf-462d-9b74-30b55883ba64",
   "metadata": {},
   "source": [
    "ROC score: 0.7360661494 (up)"
   ]
  },
  {
   "cell_type": "markdown",
   "id": "83da904e-fcf9-4366-a2b0-0d76883ab1fc",
   "metadata": {},
   "source": [
    "### 7. 남성 요인 정리"
   ]
  },
  {
   "cell_type": "code",
   "execution_count": 26,
   "id": "e273ae72-4070-479e-bf9f-bf957a379142",
   "metadata": {},
   "outputs": [],
   "source": [
    "# 정자 면역학적 요인 drop\n",
    "train = train.drop('불임 원인 - 정자 면역학적 요인', axis=1)\n",
    "test = test.drop('불임 원인 - 정자 면역학적 요인', axis=1)\n",
    "\n",
    "# 남성 요인 MCA\n",
    "features_male = [\"불임 원인 - 남성 요인\", \"불임 원인 - 정자 농도\", \"불임 원인 - 정자 운동성\", \"불임 원인 - 정자 형태\"]\n",
    "subset_train = train[features_male].copy()  # 선택한 feature만 사용\n",
    "subset_test = test[features_male].copy()\n",
    "\n",
    "# prince 라이브러리로 MCA 모델 훈련 (n_components=1로 차원 축소)\n",
    "mca = prince.MCA(n_components=1)\n",
    "\n",
    "# MCA 모델을 훈련시키고 차원 축소된 데이터 얻기\n",
    "mca_result_train = mca.fit_transform(subset_train)\n",
    "mca_result_test = mca.fit_transform(subset_test)\n",
    "\n",
    "# 기존 남성 요인 feature 삭제\n",
    "train = train.drop(columns=features_male)\n",
    "test = test.drop(columns=features_male)\n",
    "\n",
    "# 차원 축소된 데이터를 원본 데이터에 새로운 열로 추가\n",
    "train[\"불임 원인 - 남성 요인\"] = mca_result_train\n",
    "test[\"불임 원인 - 남성 요인\"] = mca_result_test"
   ]
  },
  {
   "cell_type": "markdown",
   "id": "5b1ac2df-18d0-4755-a1d4-ad48a270a1d1",
   "metadata": {},
   "source": [
    "ROC score: 0.7360762308 (up)"
   ]
  },
  {
   "cell_type": "markdown",
   "id": "36f7d050-6efd-4d73-b615-6c82bdff7a31",
   "metadata": {},
   "source": [
    "### 8. 여성 요인 정리"
   ]
  },
  {
   "cell_type": "code",
   "execution_count": 2,
   "id": "8da975ec-f5bf-4e5c-a9fa-d5a66d766ceb",
   "metadata": {},
   "outputs": [],
   "source": [
    "# 여성 요인 OR 진행\n",
    "train['불임 원인 - 여성 요인'] = train[['불임 원인 - 난관 질환', '불임 원인 - 배란 장애', '불임 원인 - 자궁경부 문제', '불임 원인 - 자궁내막증']].any(axis=1).astype(int)\n",
    "test['불임 원인 - 여성 요인'] = test[['불임 원인 - 난관 질환', '불임 원인 - 배란 장애', '불임 원인 - 자궁경부 문제', '불임 원인 - 자궁내막증']].any(axis=1).astype(int)\n",
    "\n",
    "# 나머지 여성 feature drop\n",
    "features_fe = ['불임 원인 - 난관 질환', '불임 원인 - 배란 장애', '불임 원인 - 자궁경부 문제', '불임 원인 - 자궁내막증']\n",
    "train = train.drop(columns = features_fe)\n",
    "test = test.drop(columns = features_fe)"
   ]
  },
  {
   "cell_type": "markdown",
   "id": "a0d4a1d2-3ed4-4091-9820-ae3037cefa00",
   "metadata": {},
   "source": [
    "ROC score: 0.7355203536 (down)"
   ]
  },
  {
   "cell_type": "markdown",
   "id": "a3a8e924-655c-428a-9f9c-a80c8fce7baa",
   "metadata": {},
   "source": [
    "### 9. 배아 생성 주요 이유 처리"
   ]
  },
  {
   "cell_type": "code",
   "execution_count": 32,
   "id": "38f8b710-5d6c-40ef-9b6b-9ac86a938f19",
   "metadata": {},
   "outputs": [],
   "source": [
    "train[\"배아 생성 주요 이유\"] = train[\"배아 생성 주요 이유\"].apply(lambda x: 1 if isinstance(x, str) and \"현재 시술용\" in x else 0)\n",
    "test[\"배아 생성 주요 이유\"] = test[\"배아 생성 주요 이유\"].apply(lambda x: 1 if isinstance(x, str) and \"현재 시술용\" in x else 0)"
   ]
  },
  {
   "cell_type": "markdown",
   "id": "261314e9-8c16-4503-adea-af62aed26069",
   "metadata": {},
   "source": [
    "ROC score: 0.7353978877 (down)"
   ]
  },
  {
   "cell_type": "markdown",
   "id": "3f618325-9833-4b6d-90af-8abf40e4b5e1",
   "metadata": {},
   "source": [
    "### 10. 'IVF 임신 횟수', 'IVF 출산 횟수', '클리닉 내 총 시술 횟수', 'IVF 시술 횟수' 동시 drop"
   ]
  },
  {
   "cell_type": "code",
   "execution_count": 35,
   "id": "9c7eaa75-a75c-4dcc-8ad1-88d44267304a",
   "metadata": {},
   "outputs": [],
   "source": [
    "train = train.drop(columns=['IVF 임신 횟수', 'IVF 출산 횟수', '클리닉 내 총 시술 횟수', 'IVF 시술 횟수'])\n",
    "test = test.drop(columns=['IVF 임신 횟수', 'IVF 출산 횟수', '클리닉 내 총 시술 횟수', 'IVF 시술 횟수'])"
   ]
  },
  {
   "cell_type": "markdown",
   "id": "84e559bf-7871-48a5-bf15-0882aabbe178",
   "metadata": {},
   "source": [
    "ROC score: 0.7357451318 (up)"
   ]
  },
  {
   "cell_type": "markdown",
   "id": "4045b353-36fe-4768-bef7-b2ac4e4f23bd",
   "metadata": {},
   "source": [
    "### 11. 일단 행 제거 작업은 skip (저번처럼 고려할 사항이 있으니..)"
   ]
  },
  {
   "cell_type": "markdown",
   "id": "5ec08e39-a66e-4c9d-bbc5-4f0ad6cdef83",
   "metadata": {},
   "source": [
    "### 12. 난자 기증자 나이 drop"
   ]
  },
  {
   "cell_type": "code",
   "execution_count": 39,
   "id": "8249909b-b78f-4e77-8878-ee8dc9355564",
   "metadata": {},
   "outputs": [],
   "source": [
    "train.drop(['난자 기증자 나이'], axis=1, inplace=True)\n",
    "test.drop(['난자 기증자 나이'], axis=1, inplace=True)"
   ]
  },
  {
   "cell_type": "markdown",
   "id": "d9f357c1-fc52-4508-ae0b-02acfec8a11a",
   "metadata": {},
   "source": [
    "ROC score: 0.7355639281 (down)"
   ]
  },
  {
   "cell_type": "markdown",
   "id": "575fb069-b77e-4f27-a276-e057627efee5",
   "metadata": {},
   "source": [
    "### 13. 정자 기증자 나이 drop"
   ]
  },
  {
   "cell_type": "code",
   "execution_count": 42,
   "id": "232c50d2-2631-4ec3-aa05-552a3d5419d0",
   "metadata": {},
   "outputs": [],
   "source": [
    "train.drop(['정자 기증자 나이'], axis=1, inplace=True)\n",
    "test.drop(['정자 기증자 나이'], axis=1, inplace=True)"
   ]
  },
  {
   "cell_type": "markdown",
   "id": "d203eb8a-b818-43b1-a1f0-af484e39f7d2",
   "metadata": {},
   "source": [
    "ROC score: 0.7354077151 (down)"
   ]
  },
  {
   "cell_type": "markdown",
   "id": "3136bbe7-0dc4-416f-82f6-edbfdba6b3de",
   "metadata": {},
   "source": [
    "### 14. 신선 배아 사용 여부 drop"
   ]
  },
  {
   "cell_type": "code",
   "execution_count": 45,
   "id": "5b1c18d8-2783-44c3-a1c3-c216d54517c0",
   "metadata": {},
   "outputs": [],
   "source": [
    "train.drop(['신선 배아 사용 여부'], axis=1, inplace=True)\n",
    "test.drop(['신선 배아 사용 여부'], axis=1, inplace=True)"
   ]
  },
  {
   "cell_type": "markdown",
   "id": "ed76b17d-852d-459c-8e49-e6a4e395c1fe",
   "metadata": {},
   "source": [
    "ROC score: 0.7353982768 (down)"
   ]
  },
  {
   "cell_type": "markdown",
   "id": "77a6afbf-f307-4301-883e-682e03d22467",
   "metadata": {},
   "source": [
    "### 15. 기증 배아 사용 여부 drop"
   ]
  },
  {
   "cell_type": "code",
   "execution_count": 48,
   "id": "f703b645-e046-4c5e-bb2f-5ec4ffc8f620",
   "metadata": {},
   "outputs": [],
   "source": [
    "train.drop(['기증 배아 사용 여부'], axis=1, inplace=True)\n",
    "test.drop(['기증 배아 사용 여부'], axis=1, inplace=True)"
   ]
  },
  {
   "cell_type": "markdown",
   "id": "8ef5bec0-5030-4d46-800a-3a195a749211",
   "metadata": {},
   "source": [
    "ROC score: 0.7355376481 (up)"
   ]
  },
  {
   "cell_type": "markdown",
   "id": "979f27b4-4526-49bb-904e-1c8256dd6ce5",
   "metadata": {},
   "source": [
    "### 16. 대리모 여부 drop"
   ]
  },
  {
   "cell_type": "code",
   "execution_count": 2,
   "id": "c1158b5d-0127-4fe6-80dd-6577cca0bf3f",
   "metadata": {},
   "outputs": [],
   "source": [
    "train.drop(['대리모 여부'], axis=1, inplace=True)\n",
    "test.drop(['대리모 여부'], axis=1, inplace=True)"
   ]
  },
  {
   "cell_type": "markdown",
   "id": "1aae6475-669f-43b8-a8a3-90bd6269aaf4",
   "metadata": {},
   "source": [
    "ROC score: 0.7353852653 (down)"
   ]
  },
  {
   "cell_type": "markdown",
   "id": "7b6618f8-4c58-4529-b267-463088b6a773",
   "metadata": {},
   "source": [
    "단독으로 처리 시 ROC score: 0.7362567071로 오히려 오르는데.. 다른 feature와 뭔가 있나?"
   ]
  },
  {
   "cell_type": "markdown",
   "id": "e1b58b7d-9a7e-426e-9e0c-cf35609dc5a1",
   "metadata": {},
   "source": [
    "### 17. PGD 시술 여부 drop"
   ]
  },
  {
   "cell_type": "code",
   "execution_count": 54,
   "id": "f22851d6-3b4b-4f55-b2f7-e686948efac7",
   "metadata": {},
   "outputs": [],
   "source": [
    "train.drop(['PGD 시술 여부'], axis=1, inplace=True)\n",
    "test.drop(['PGD 시술 여부'], axis=1, inplace=True)"
   ]
  },
  {
   "cell_type": "markdown",
   "id": "ef6230d5-7d49-41fe-b994-4466d6cb2f4b",
   "metadata": {},
   "source": [
    "ROC score: 0.7352059773 (down)"
   ]
  },
  {
   "cell_type": "markdown",
   "id": "405ec8e5-c75e-4a9d-b883-32cfe40366c1",
   "metadata": {},
   "source": [
    "### 18. PGS 시술 여부 drop"
   ]
  },
  {
   "cell_type": "code",
   "execution_count": 57,
   "id": "74799af0-292a-44b0-b4e1-adaf5b85a8a1",
   "metadata": {},
   "outputs": [],
   "source": [
    "train.drop(['PGS 시술 여부'], axis=1, inplace=True)\n",
    "test.drop(['PGS 시술 여부'], axis=1, inplace=True)"
   ]
  },
  {
   "cell_type": "markdown",
   "id": "dbedee00-1b7e-49f8-80ca-0e447820d683",
   "metadata": {},
   "source": [
    "ROC score: 0.7353120696 (up)"
   ]
  },
  {
   "cell_type": "markdown",
   "id": "29268ef8-c83e-4a32-a633-e1183833c38e",
   "metadata": {},
   "source": [
    "### 19. 난자 채취 경과일 drop"
   ]
  },
  {
   "cell_type": "code",
   "execution_count": 60,
   "id": "c64317aa-07cc-4404-aad6-fd2d76068326",
   "metadata": {},
   "outputs": [],
   "source": [
    "# '난자 채취 경과일' 열 제거\n",
    "train = train.drop(columns=['난자 채취 경과일'])\n",
    "test = test.drop(columns=['난자 채취 경과일'])"
   ]
  },
  {
   "cell_type": "markdown",
   "id": "3886b84d-3a08-4411-8c44-8944efbf94ad",
   "metadata": {},
   "source": [
    "ROC score: 0.7353120696 (stay)"
   ]
  },
  {
   "cell_type": "markdown",
   "id": "b78cbbcf-d002-4a32-9ed1-839806417387",
   "metadata": {},
   "source": [
    "### 20. 난자 해동 경과일 drop"
   ]
  },
  {
   "cell_type": "code",
   "execution_count": 3,
   "id": "7084550b-04fc-40cb-b111-d0fbe5d659a8",
   "metadata": {},
   "outputs": [],
   "source": [
    "# '난자 해동 경과일' 열 제거\n",
    "train = train.drop(columns=['난자 해동 경과일'])\n",
    "test = test.drop(columns=['난자 해동 경과일'])"
   ]
  },
  {
   "cell_type": "markdown",
   "id": "3f5cd55c-d325-4d0c-b210-aa326588b57f",
   "metadata": {},
   "source": [
    "ROC score: 0.7353120696 (stay)"
   ]
  },
  {
   "cell_type": "markdown",
   "id": "15d4a7a9-bd08-447f-a0bf-e374ed62358e",
   "metadata": {},
   "source": [
    "### 21. 난자 혼합 경과일 drop"
   ]
  },
  {
   "cell_type": "code",
   "execution_count": 66,
   "id": "bffcb25a-b35f-4c75-8634-d47da68e4dba",
   "metadata": {},
   "outputs": [],
   "source": [
    "# '난자 혼합 경과일' 열 제거\n",
    "train = train.drop(columns=['난자 혼합 경과일'])\n",
    "test = test.drop(columns=['난자 혼합 경과일'])"
   ]
  },
  {
   "cell_type": "markdown",
   "id": "5fd487bd-3a89-4220-bc0d-79960e453b15",
   "metadata": {},
   "source": [
    "ROC score: 0.7352737793 (down)"
   ]
  },
  {
   "cell_type": "markdown",
   "id": "a3b579ce-bec2-459c-b7d3-68f5e547f41a",
   "metadata": {},
   "source": [
    "### 22. 배아 이식 경과일 결측치를 평균값으로 대체"
   ]
  },
  {
   "cell_type": "code",
   "execution_count": 69,
   "id": "cfccf1fd-5282-49df-8130-231a2661313e",
   "metadata": {},
   "outputs": [
    {
     "name": "stderr",
     "output_type": "stream",
     "text": [
      "C:\\Users\\USER\\AppData\\Local\\Temp\\ipykernel_3836\\1232264662.py:5: FutureWarning: A value is trying to be set on a copy of a DataFrame or Series through chained assignment using an inplace method.\n",
      "The behavior will change in pandas 3.0. This inplace method will never work because the intermediate object on which we are setting values always behaves as a copy.\n",
      "\n",
      "For example, when doing 'df[col].method(value, inplace=True)', try using 'df.method({col: value}, inplace=True)' or df[col] = df[col].method(value) instead, to perform the operation inplace on the original object.\n",
      "\n",
      "\n",
      "  train['배아 이식 경과일'].fillna(mean_value, inplace=True)\n"
     ]
    }
   ],
   "source": [
    "# '배아 이식 경과일'의 평균값 계산 (결측치는 제외한 값으로 평균 계산), 반올림 처리\n",
    "mean_value = round(train['배아 이식 경과일'].mean())  # 반올림 처리\n",
    "\n",
    "# 결측치를 평균값으로 대체\n",
    "train['배아 이식 경과일'].fillna(mean_value, inplace=True)"
   ]
  },
  {
   "cell_type": "markdown",
   "id": "c56ded5e-ffd9-40e9-aca6-fb90f5d3272d",
   "metadata": {},
   "source": [
    "ROC score: 0.7349541145 (down)"
   ]
  },
  {
   "cell_type": "markdown",
   "id": "ad2591ad-f21e-49a9-a00b-d299e2866781",
   "metadata": {},
   "source": [
    "### 23. 배아 해동 경과일 결측치 처리"
   ]
  },
  {
   "cell_type": "code",
   "execution_count": 72,
   "id": "ba6b8fa3-d720-4df2-9e31-db4dd80b649d",
   "metadata": {},
   "outputs": [],
   "source": [
    "# '배아 해동 경과일'별 데이터 개수 세기\n",
    "total_counts_5 = train['배아 해동 경과일'].value_counts()\n",
    "test_total_counts_5 = test['배아 해동 경과일'].value_counts()\n",
    "\n",
    "# 특정 컬럼의 결측치 개수 계산\n",
    "missing_count = train['배아 해동 경과일'].isna().sum()\n",
    "test_missing_count = test['배아 해동 경과일'].isna().sum()\n",
    "\n",
    "# 원본 데이터의 비율 계산\n",
    "value_ratios = total_counts_5 / total_counts_5.sum()\n",
    "test_value_ratios = test_total_counts_5 / test_total_counts_5.sum()\n",
    "\n",
    "# 각 값에 대해 채울 개수 계산\n",
    "fill_counts = (value_ratios * missing_count).round().astype(int)\n",
    "test_fill_counts = (test_value_ratios * test_missing_count).round().astype(int)\n",
    "\n",
    "# 결측치 샘플링\n",
    "filled_values = np.concatenate([\n",
    "    np.full(count, value) for value, count in fill_counts.items()\n",
    "]) if len(fill_counts) > 0 else np.array([])\n",
    "\n",
    "test_filled_values = np.concatenate([\n",
    "    np.full(count, value) for value, count in test_fill_counts.items()\n",
    "]) if len(test_fill_counts) > 0 else np.array([])\n",
    "\n",
    "# 배열을 섞어 랜덤 배치\n",
    "np.random.shuffle(filled_values)\n",
    "np.random.shuffle(test_filled_values)\n",
    "\n",
    "# 결측치 채우기\n",
    "train.loc[train['배아 해동 경과일'].isna(), '배아 해동 경과일'] = filled_values\n",
    "test.loc[test['배아 해동 경과일'].isna(), '배아 해동 경과일'] = test_filled_values"
   ]
  },
  {
   "cell_type": "markdown",
   "id": "ef6878a4-a591-4eb8-80c1-ad569c043a2f",
   "metadata": {},
   "source": [
    "ROC score: 0.7348759723 (down)"
   ]
  },
  {
   "cell_type": "markdown",
   "id": "b04242c5-e3b9-40cf-8b7f-f81873802f41",
   "metadata": {},
   "source": [
    "### 24. 난자 수 / 배아 수 관련 drop"
   ]
  },
  {
   "cell_type": "code",
   "execution_count": 75,
   "id": "05e4cef8-40a6-42fd-997e-b3c7e77301cf",
   "metadata": {},
   "outputs": [],
   "source": [
    "#난자 수, 배아수 관련 drop할 column들\n",
    "columns_to_drop = [\n",
    "    '미세주입된 난자 수', '미세주입 배아 이식 수', '저장된 배아 수', '미세주입 후 저장된 배아 수',\n",
    "    '해동된 배아 수', '해동 난자 수', '수집된 신선 난자 수', '저장된 신선 난자 수',\n",
    "    '혼합된 난자 수', '파트너 정자와 혼합된 난자 수', '기증자 정자와 혼합된 난자 수'\n",
    "]\n",
    "\n",
    "train = train.drop(columns=columns_to_drop)\n",
    "test = test.drop(columns=columns_to_drop)"
   ]
  },
  {
   "cell_type": "markdown",
   "id": "9f28b4cd-11a5-433c-9986-7b610ff02422",
   "metadata": {},
   "source": [
    "ROC score: 0.7292932104 (down)"
   ]
  },
  {
   "cell_type": "markdown",
   "id": "f38fa6b0-62cb-477c-ad61-a089bffeb0f1",
   "metadata": {},
   "source": [
    "# 내가 새로 해보는 EDA"
   ]
  },
  {
   "cell_type": "code",
   "execution_count": 3,
   "id": "04c19e5f-e98b-4068-ad5a-e9a24fa087d0",
   "metadata": {},
   "outputs": [],
   "source": [
    "import numpy as np\n",
    "import pandas as pd\n",
    "\n",
    "def infertility_cause(row):\n",
    "    if row['부부 주 불임 원인']:\n",
    "        return 'Both'\n",
    "    elif row['남성 주 불임 원인']:\n",
    "        return 'Male'\n",
    "    elif row['여성 주 불임 원인']:\n",
    "        return 'Female'\n",
    "    else:\n",
    "        return 'Unknown'\n",
    "\n",
    "train['Infertility_Cause'] = train.apply(infertility_cause, axis=1)\n",
    "test['Infertility_Cause'] = test.apply(infertility_cause, axis=1)\n",
    "\n",
    "# 기존 컬럼 제거\n",
    "train = train.drop(columns=['남성 주 불임 원인', '여성 주 불임 원인', '부부 주 불임 원인'])\n",
    "test = test.drop(columns=['남성 주 불임 원인', '여성 주 불임 원인', '부부 주 불임 원인'])\n",
    "\n",
    "# Label Encoding 또는 One-Hot Encoding 적용\n",
    "train = pd.get_dummies(train, columns=['Infertility_Cause'])\n",
    "test = pd.get_dummies(test, columns=['Infertility_Cause'])"
   ]
  },
  {
   "cell_type": "markdown",
   "id": "a1b98ba7-074a-4e41-bc97-ba4b1428f5a3",
   "metadata": {},
   "source": [
    "단독 시행 시 ROC score: 0.7359530996 (약간 down)"
   ]
  },
  {
   "cell_type": "code",
   "execution_count": 3,
   "id": "7e65bde9-3b26-4120-b9fe-78f076ef7da8",
   "metadata": {},
   "outputs": [],
   "source": [
    "import numpy as np\n",
    "import pandas as pd\n",
    "\n",
    "# 불임 원인 관련 feature 개수 카운트\n",
    "male_causes = ['남성 주 불임 원인']\n",
    "female_causes = ['여성 주 불임 원인']\n",
    "couple_causes = ['부부 주 불임 원인']\n",
    "\n",
    "train['남성 불임 원인 개수'] = train[male_causes].sum(axis=1)\n",
    "test['남성 불임 원인 개수'] = test[male_causes].sum(axis=1)\n",
    "\n",
    "train['여성 불임 원인 개수'] = train[female_causes].sum(axis=1)\n",
    "test['여성 불임 원인 개수'] = test[female_causes].sum(axis=1)\n",
    "\n",
    "train['부부 불임 원인 개수'] = train[couple_causes].sum(axis=1)\n",
    "test['부부 불임 원인 개수'] = test[couple_causes].sum(axis=1)\n",
    "\n",
    "# 기존 feature 제거\n",
    "train = train.drop(columns=['남성 주 불임 원인', '여성 주 불임 원인', '부부 주 불임 원인'])\n",
    "test = test.drop(columns=['남성 주 불임 원인', '여성 주 불임 원인', '부부 주 불임 원인'])\n",
    "\n",
    "# 이제 각 데이터셋은 '남성 불임 원인 개수', '여성 불임 원인 개수', '부부 불임 원인 개수' 컬럼을 포함하게 됩니다."
   ]
  },
  {
   "cell_type": "markdown",
   "id": "5919524c-6385-4fd1-86bd-958b80bc818b",
   "metadata": {},
   "source": [
    "count 방식을 하면 아주 약간만 떨어지네 ROC score: 0.7360638931"
   ]
  },
  {
   "cell_type": "code",
   "execution_count": 2,
   "id": "1d03308a-2d3a-4b91-81f2-30ba472f23e6",
   "metadata": {},
   "outputs": [],
   "source": [
    "import numpy as np\n",
    "import pandas as pd\n",
    "\n",
    "def infertility_cause(row):\n",
    "    if row['부부 부 불임 원인']:\n",
    "        return 'Both'\n",
    "    elif row['남성 부 불임 원인']:\n",
    "        return 'Male'\n",
    "    elif row['여성 부 불임 원인']:\n",
    "        return 'Female'\n",
    "    else:\n",
    "        return 'Unknown'\n",
    "\n",
    "train['Infertility_Cause'] = train.apply(infertility_cause, axis=1)\n",
    "test['Infertility_Cause'] = test.apply(infertility_cause, axis=1)\n",
    "\n",
    "# 기존 컬럼 제거\n",
    "train = train.drop(columns=['남성 부 불임 원인', '여성 부 불임 원인', '부부 부 불임 원인'])\n",
    "test = test.drop(columns=['남성 부 불임 원인', '여성 부 불임 원인', '부부 부 불임 원인'])\n",
    "\n",
    "# Label Encoding 또는 One-Hot Encoding 적용\n",
    "train = pd.get_dummies(train, columns=['Infertility_Cause'])\n",
    "test = pd.get_dummies(test, columns=['Infertility_Cause'])\n"
   ]
  },
  {
   "cell_type": "markdown",
   "id": "81691250-e09a-429e-b846-edbebe9f6b14",
   "metadata": {},
   "source": [
    "오 올랐다! ROC score: 0.7362900531"
   ]
  },
  {
   "cell_type": "code",
   "execution_count": 3,
   "id": "4f3164c6-afe1-4276-bc18-840d5055b847",
   "metadata": {},
   "outputs": [],
   "source": [
    "import numpy as np\n",
    "import pandas as pd\n",
    "\n",
    "# 불임 원인 관련 feature 개수 카운트\n",
    "male_causes = ['남성 부 불임 원인']\n",
    "female_causes = ['여성 부 불임 원인']\n",
    "couple_causes = ['부부 부 불임 원인']\n",
    "\n",
    "train['남성 불임 원인 개수'] = train[male_causes].sum(axis=1)\n",
    "test['남성 불임 원인 개수'] = test[male_causes].sum(axis=1)\n",
    "\n",
    "train['여성 불임 원인 개수'] = train[female_causes].sum(axis=1)\n",
    "test['여성 불임 원인 개수'] = test[female_causes].sum(axis=1)\n",
    "\n",
    "train['부부 불임 원인 개수'] = train[couple_causes].sum(axis=1)\n",
    "test['부부 불임 원인 개수'] = test[couple_causes].sum(axis=1)\n",
    "\n",
    "# 기존 feature 제거\n",
    "train = train.drop(columns=['남성 부 불임 원인', '여성 부 불임 원인', '부부 부 불임 원인'])\n",
    "test = test.drop(columns=['남성 부 불임 원인', '여성 부 불임 원인', '부부 부 불임 원인'])\n",
    "\n",
    "# 이제 각 데이터셋은 '남성 불임 원인 개수', '여성 불임 원인 개수', '부부 불임 원인 개수' 컬럼을 포함하게 됩니다."
   ]
  },
  {
   "cell_type": "markdown",
   "id": "3f8ee740-fff9-40de-a0bd-f36b7eee7476",
   "metadata": {},
   "source": [
    "이건 count 방식을 부에 적용 ROC score: 0.7360660526 (stay)"
   ]
  },
  {
   "cell_type": "code",
   "execution_count": 3,
   "id": "69f58145-9ff0-42d3-9040-7ed16ebbbb2f",
   "metadata": {},
   "outputs": [],
   "source": [
    "# 여성 불임 관련 feature 개수 카운트\n",
    "female_causes = ['불임 원인 - 난관 질환', '불임 원인 - 배란 장애', '불임 원인 - 자궁경부 문제', '불임 원인 - 자궁내막증']\n",
    "train['여성 불임 원인 개수'] = train[female_causes].sum(axis=1)\n",
    "test['여성 불임 원인 개수'] = test[female_causes].sum(axis=1)\n",
    "\n",
    "# 기존 feature 유지 여부에 따라 선택적으로 제거 가능\n",
    "train = train.drop(columns=['불임 원인 - 여성 요인'])\n",
    "test = test.drop(columns=['불임 원인 - 여성 요인'])"
   ]
  },
  {
   "cell_type": "markdown",
   "id": "d6ee8c34-9671-4686-b034-b1243d69cc92",
   "metadata": {},
   "source": [
    "올랐다! ROC score: 0.7362948071\n",
    "그렇다면 기존의 불임 원인까지 제거해보자!"
   ]
  },
  {
   "cell_type": "code",
   "execution_count": 3,
   "id": "b5f7c706-da40-491a-ba39-305a876e43db",
   "metadata": {},
   "outputs": [],
   "source": [
    "# 여성 불임 관련 feature 개수 카운트\n",
    "female_causes = ['불임 원인 - 난관 질환', '불임 원인 - 배란 장애', '불임 원인 - 자궁경부 문제', '불임 원인 - 자궁내막증']\n",
    "train['여성 불임 원인 개수'] = train[female_causes].sum(axis=1)\n",
    "test['여성 불임 원인 개수'] = test[female_causes].sum(axis=1)\n",
    "\n",
    "# 기존 feature 유지 여부에 따라 선택적으로 제거 가능\n",
    "train = train.drop(columns=['불임 원인 - 난관 질환', '불임 원인 - 배란 장애', '불임 원인 - 자궁경부 문제', '불임 원인 - 자궁내막증'])\n",
    "test = test.drop(columns=['불임 원인 - 난관 질환', '불임 원인 - 배란 장애', '불임 원인 - 자궁경부 문제', '불임 원인 - 자궁내막증'])"
   ]
  },
  {
   "cell_type": "markdown",
   "id": "b73899d6-d9de-4e16-8044-51911e71792d",
   "metadata": {},
   "source": [
    "ROC score: 0.7361827384 올랐다! 이게 더 나아보이는데.."
   ]
  },
  {
   "cell_type": "code",
   "execution_count": 2,
   "id": "b3c533ed-b11b-4ca8-8ee9-afb598d34bbb",
   "metadata": {},
   "outputs": [],
   "source": [
    "# 불명확 불임 원인 떨궈보자\n",
    "train = train.drop(columns=['불명확 불임 원인'])\n",
    "test = test.drop(columns=['불명확 불임 원인'])"
   ]
  },
  {
   "cell_type": "markdown",
   "id": "773f2173-d4ef-45ef-9c88-d9a8d3978cac",
   "metadata": {},
   "source": [
    "ROC score: 0.7360874068 (아주 약간 오르네)"
   ]
  },
  {
   "cell_type": "code",
   "execution_count": 3,
   "id": "0ff397ad-34f6-4777-ae8e-c8464905a369",
   "metadata": {},
   "outputs": [],
   "source": [
    "# 배아 해동 경과일 떨궈보자\n",
    "train = train.drop(columns=['배아 해동 경과일'])\n",
    "test = test.drop(columns=['배아 해동 경과일'])"
   ]
  },
  {
   "cell_type": "markdown",
   "id": "0136bed8-e3bc-42b6-87fc-2a6dd294be53",
   "metadata": {},
   "source": [
    "ROC score: 0.7359153466 (down)"
   ]
  },
  {
   "cell_type": "code",
   "execution_count": 3,
   "id": "9a3e0512-acd2-46ea-8c2a-7f37f8676566",
   "metadata": {},
   "outputs": [],
   "source": [
    "hhh = train.loc[train['시술 유형'] == 'DI']\n",
    "# 'hhh'에서 모든 값이 NaN인 열 찾기\n",
    "missing_features = hhh.columns[hhh.isna().all()].tolist()\n",
    "\n",
    "# 'DI' 시술 유형인 데이터에서 결측치가 모두 있는 열을 -1로 대체\n",
    "train[missing_features] = train[missing_features].fillna(-5)"
   ]
  },
  {
   "cell_type": "code",
   "execution_count": 3,
   "id": "ae0aa9a7-ba15-4237-8a67-9e77f6d08244",
   "metadata": {},
   "outputs": [],
   "source": [
    "train = train.drop(columns=['미세주입된 난자 수'])\n",
    "test = test.drop(columns=['미세주입된 난자 수'])"
   ]
  },
  {
   "cell_type": "code",
   "execution_count": 5,
   "id": "ceebf258-4026-4aef-94e1-67b920161fb9",
   "metadata": {},
   "outputs": [],
   "source": [
    "train = train.drop(columns=['미세주입에서 생성된 배아 수'])\n",
    "test = test.drop(columns=['미세주입에서 생성된 배아 수'])"
   ]
  },
  {
   "cell_type": "code",
   "execution_count": 7,
   "id": "77d43a2a-d21d-4ea8-a5a3-d2882c885115",
   "metadata": {},
   "outputs": [],
   "source": [
    "train = train.drop(columns=['미세주입 배아 이식 수'])\n",
    "test = test.drop(columns=['미세주입 배아 이식 수'])"
   ]
  },
  {
   "cell_type": "code",
   "execution_count": 9,
   "id": "dab33793-63e6-450f-a9d5-51ede998a628",
   "metadata": {},
   "outputs": [],
   "source": [
    "train = train.drop(columns=['미세주입 후 저장된 배아 수'])\n",
    "test = test.drop(columns=['미세주입 후 저장된 배아 수'])"
   ]
  },
  {
   "cell_type": "markdown",
   "id": "e8c2e5f5-a870-40dc-8e5d-73c129a10442",
   "metadata": {},
   "source": [
    "ROC score: 0.7366839022"
   ]
  },
  {
   "cell_type": "code",
   "execution_count": 12,
   "id": "517463c8-216d-48fe-9948-9203d9ffc4be",
   "metadata": {},
   "outputs": [],
   "source": [
    "train[\"총 배아 수\"] = train[\"해동된 배아 수\"].fillna(0) + train[\"총 생성 배아 수\"].fillna(0)\n",
    "\n",
    "# 기존 feature 삭제\n",
    "train.drop(columns=[\"해동된 배아 수\", \"총 생성 배아 수\"], inplace=True)"
   ]
  },
  {
   "cell_type": "markdown",
   "id": "48d79e3c-1e0e-4e70-89ee-63248c7f5c0f",
   "metadata": {},
   "source": [
    "ROC score: 0.7366364178 (조금 down)"
   ]
  },
  {
   "cell_type": "code",
   "execution_count": 15,
   "id": "d7ab3480-48ec-49b4-ae3b-ff328b2daf19",
   "metadata": {},
   "outputs": [],
   "source": [
    "train = train.drop(columns=['해동 난자 수'])\n",
    "test = test.drop(columns=['해동 난자 수'])\n",
    "\n",
    "train = train.drop(columns=['수집된 신선 난자 수'])\n",
    "test = test.drop(columns=['수집된 신선 난자 수'])\n",
    "\n",
    "train = train.drop(columns=['저장된 신선 난자 수'])\n",
    "test = test.drop(columns=['저장된 신선 난자 수'])\n",
    "\n",
    "train = train.drop(columns=['혼합된 난자 수'])\n",
    "test = test.drop(columns=['혼합된 난자 수'])\n",
    "\n",
    "train = train.drop(columns=['파트너 정자와 혼합된 난자 수'])\n",
    "test = test.drop(columns=['파트너 정자와 혼합된 난자 수'])\n",
    "\n",
    "train = train.drop(columns=['기증자 정자와 혼합된 난자 수'])\n",
    "test = test.drop(columns=['기증자 정자와 혼합된 난자 수'])"
   ]
  },
  {
   "cell_type": "markdown",
   "id": "67fce3f5-332c-45d2-8552-09a9e77ad101",
   "metadata": {},
   "source": [
    "ROC score: 0.7368204848"
   ]
  },
  {
   "cell_type": "markdown",
   "id": "2483b5a5-590d-4bdd-aafa-666fb1be9612",
   "metadata": {},
   "source": [
    "****"
   ]
  },
  {
   "cell_type": "markdown",
   "id": "a44688be-0467-4e95-ba97-02bace9faa2d",
   "metadata": {},
   "source": [
    "# data 후처리"
   ]
  },
  {
   "cell_type": "code",
   "execution_count": 19,
   "id": "841af7c7-78e5-4b8f-bd6c-31af7f0888cf",
   "metadata": {},
   "outputs": [],
   "source": [
    "X = train.drop('임신 성공 여부', axis=1)\n",
    "y = train['임신 성공 여부']\n",
    "\n",
    "# 범주형 컬럼과 수치형 컬럼 자동 추출\n",
    "categorical_columns = X.select_dtypes(include=['object']).columns.tolist()\n",
    "numeric_columns = X.select_dtypes(include=['number']).columns.tolist()\n",
    "\n",
    "# 범주형 데이터의 모든 자료형을 문자열로 변환\n",
    "for col in categorical_columns:\n",
    "    X[col] = X[col].astype(str)\n",
    "    test[col] = test[col].astype(str)\n",
    "\n",
    "# 범주의 정수화 (by sklearn 전처리)\n",
    "ordinal_encoder = OrdinalEncoder(handle_unknown='use_encoded_value', unknown_value=-1)\n",
    "\n",
    "X_train_encoded = X.copy()\n",
    "X_train_encoded[categorical_columns] = ordinal_encoder.fit_transform(X[categorical_columns])\n",
    "\n",
    "X_test_encoded = test.copy()\n",
    "X_test_encoded[categorical_columns] = ordinal_encoder.transform(test[categorical_columns])\n",
    "\n",
    "# 결측치 처리\n",
    "##X_test_encoded[numeric_columns] = X_test_encoded[numeric_columns].fillna(0)"
   ]
  },
  {
   "cell_type": "markdown",
   "id": "741a6c0b-268e-439d-87cf-307a04878392",
   "metadata": {},
   "source": [
    "# XGboost를 통해 K-Fold"
   ]
  },
  {
   "cell_type": "code",
   "execution_count": 21,
   "id": "378db0a3-d899-4957-8506-2fe5fd2ab879",
   "metadata": {},
   "outputs": [
    {
     "name": "stderr",
     "output_type": "stream",
     "text": [
      "C:\\Users\\USER\\anaconda3\\Lib\\site-packages\\xgboost\\core.py:158: UserWarning: [15:46:40] WARNING: C:\\b\\abs_90_bwj_86a\\croot\\xgboost-split_1724073762025\\work\\src\\learner.cc:740: \n",
      "Parameters: { \"use_label_encoder\" } are not used.\n",
      "\n",
      "  warnings.warn(smsg, UserWarning)\n",
      "C:\\Users\\USER\\anaconda3\\Lib\\site-packages\\xgboost\\core.py:158: UserWarning: [15:46:42] WARNING: C:\\b\\abs_90_bwj_86a\\croot\\xgboost-split_1724073762025\\work\\src\\learner.cc:740: \n",
      "Parameters: { \"use_label_encoder\" } are not used.\n",
      "\n",
      "  warnings.warn(smsg, UserWarning)\n",
      "C:\\Users\\USER\\anaconda3\\Lib\\site-packages\\xgboost\\core.py:158: UserWarning: [15:46:44] WARNING: C:\\b\\abs_90_bwj_86a\\croot\\xgboost-split_1724073762025\\work\\src\\learner.cc:740: \n",
      "Parameters: { \"use_label_encoder\" } are not used.\n",
      "\n",
      "  warnings.warn(smsg, UserWarning)\n",
      "C:\\Users\\USER\\anaconda3\\Lib\\site-packages\\xgboost\\core.py:158: UserWarning: [15:46:45] WARNING: C:\\b\\abs_90_bwj_86a\\croot\\xgboost-split_1724073762025\\work\\src\\learner.cc:740: \n",
      "Parameters: { \"use_label_encoder\" } are not used.\n",
      "\n",
      "  warnings.warn(smsg, UserWarning)\n",
      "C:\\Users\\USER\\anaconda3\\Lib\\site-packages\\xgboost\\core.py:158: UserWarning: [15:46:47] WARNING: C:\\b\\abs_90_bwj_86a\\croot\\xgboost-split_1724073762025\\work\\src\\learner.cc:740: \n",
      "Parameters: { \"use_label_encoder\" } are not used.\n",
      "\n",
      "  warnings.warn(smsg, UserWarning)\n"
     ]
    },
    {
     "name": "stdout",
     "output_type": "stream",
     "text": [
      "ROC score: 0.7368204848\n"
     ]
    }
   ],
   "source": [
    "# 1. 라이브러리 import\n",
    "from sklearn.model_selection import StratifiedKFold\n",
    "from sklearn.metrics import roc_auc_score\n",
    "import xgboost as xgb\n",
    "import numpy as np\n",
    "\n",
    "# 2. Stratified K-Fold 설정 (데이터 불균형 고려)\n",
    "kf = StratifiedKFold(n_splits=5, shuffle=True, random_state=42)\n",
    "auc_scores = []\n",
    "\n",
    "# 3. XGBoost 모델 학습\n",
    "model = xgb.XGBClassifier(random_state=42, use_label_encoder=False, eval_metric='logloss')\n",
    "\n",
    "# 4. Cross Validation 수행 \n",
    "# 사용법: for문의 X_train_encoded에 train data set, y에 target 넣기!!\n",
    "for train_idx, val_idx in kf.split(X_train_encoded, y):\n",
    "    X_train_part, X_val = X_train_encoded.iloc[train_idx], X_train_encoded.iloc[val_idx]\n",
    "    y_train_part, y_val = y.iloc[train_idx], y.iloc[val_idx]\n",
    "    \n",
    "    # 모델 학습\n",
    "    model.fit(X_train_part, y_train_part)\n",
    "    \n",
    "    # Validation 데이터 예측 확률\n",
    "    val_pred_proba = model.predict_proba(X_val)[:, 1]\n",
    "    \n",
    "    # ROC-AUC 점수 계산\n",
    "    roc_auc = roc_auc_score(y_val, val_pred_proba)\n",
    "    auc_scores.append(roc_auc)\n",
    "\n",
    "# 5. 평균 ROC-AUC 점수 출력\n",
    "mean_auc = np.mean(auc_scores)\n",
    "print(f\"ROC score: {mean_auc:.10f}\") # dacon과 같이 소수점 10자리 출력!"
   ]
  },
  {
   "cell_type": "code",
   "execution_count": null,
   "id": "11045972-d1b2-4d13-8337-f755f83d847f",
   "metadata": {},
   "outputs": [],
   "source": []
  }
 ],
 "metadata": {
  "kernelspec": {
   "display_name": "Python [conda env:base] *",
   "language": "python",
   "name": "conda-base-py"
  },
  "language_info": {
   "codemirror_mode": {
    "name": "ipython",
    "version": 3
   },
   "file_extension": ".py",
   "mimetype": "text/x-python",
   "name": "python",
   "nbconvert_exporter": "python",
   "pygments_lexer": "ipython3",
   "version": "3.12.7"
  }
 },
 "nbformat": 4,
 "nbformat_minor": 5
}
